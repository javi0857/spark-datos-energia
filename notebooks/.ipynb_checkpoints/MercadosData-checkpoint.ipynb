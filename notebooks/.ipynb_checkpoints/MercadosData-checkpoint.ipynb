{
 "cells": [
  {
   "cell_type": "code",
   "execution_count": 30,
   "metadata": {},
   "outputs": [
    {
     "data": {
      "text/plain": [
       "\u001b[32mimport \u001b[39m\u001b[36m$ivy.$                                  \n",
       "\n",
       "\n",
       "\u001b[39m\n",
       "\u001b[32mimport \u001b[39m\u001b[36morg.apache.spark.sql._\n",
       "\u001b[39m\n",
       "\u001b[32mimport \u001b[39m\u001b[36morg.apache.spark.sql.functions._\n",
       "\n",
       "\n",
       "//Reducir numero logs\n",
       "\u001b[39m\n",
       "\u001b[32mimport \u001b[39m\u001b[36morg.apache.log4j.{Level, Logger}\n",
       "\u001b[39m\n",
       "\u001b[32mimport \u001b[39m\u001b[36m$ivy.$                                                                        \n",
       "\u001b[39m\n",
       "\u001b[32mimport \u001b[39m\u001b[36msttp.client.quick.{quickRequest, UriContext, backend}\n",
       "\u001b[39m\n",
       "\u001b[32mimport \u001b[39m\u001b[36msttp.client.asynchttpclient.monix._\n",
       "\n",
       "\n",
       "//Sttp para realizar request\n",
       "\u001b[39m\n",
       "\u001b[32mimport \u001b[39m\u001b[36m$ivy.$                                                                        \n",
       "\u001b[39m\n",
       "\u001b[32mimport \u001b[39m\u001b[36msttp.client.quick.{quickRequest, UriContext, backend}\n",
       "\u001b[39m\n",
       "\u001b[32mimport \u001b[39m\u001b[36msttp.client.asynchttpclient.monix._\n",
       "\u001b[39m\n",
       "\u001b[32mimport \u001b[39m\u001b[36msttp.client.basicRequest\n",
       "\n",
       "//For adding extra dependenies\n",
       "\u001b[39m\n",
       "\u001b[32mimport \u001b[39m\u001b[36m$ivy.$                               \n",
       "\n",
       "//Plotly\n",
       "\u001b[39m\n",
       "\u001b[32mimport \u001b[39m\u001b[36m$ivy.$                                      \n",
       "\u001b[39m\n",
       "\u001b[32mimport \u001b[39m\u001b[36mplotly._, plotly.element._, plotly.layout._, plotly.Almond._\u001b[39m"
      ]
     },
     "execution_count": 30,
     "metadata": {},
     "output_type": "execute_result"
    }
   ],
   "source": [
    "import $ivy.`org.apache.spark::spark-sql:2.4.3`\n",
    "\n",
    "\n",
    "import org.apache.spark.sql._\n",
    "import org.apache.spark.sql.functions._\n",
    "\n",
    "\n",
    "//Reducir numero logs\n",
    "import org.apache.log4j.{Level, Logger}\n",
    "Logger.getLogger(\"org\").setLevel(Level.OFF)\n",
    "\n",
    "\n",
    "//Circe para trabajar con JSON\n",
    "import $ivy.`com.softwaremill.sttp.client::async-http-client-backend-monix:2.0.0-RC2`\n",
    "import sttp.client.quick.{quickRequest, UriContext, backend}\n",
    "import sttp.client.asynchttpclient.monix._\n",
    "\n",
    "\n",
    "//Sttp para realizar request\n",
    "import $ivy.`com.softwaremill.sttp.client::async-http-client-backend-monix:2.0.0-RC2`\n",
    "import sttp.client.quick.{quickRequest, UriContext, backend}\n",
    "import sttp.client.asynchttpclient.monix._\n",
    "import sttp.client.basicRequest\n",
    "\n",
    "//For adding extra dependenies\n",
    "import $ivy.`org.typelevel::cats-core:1.6.0`\n",
    "\n",
    "//Plotly\n",
    "import $ivy.`org.plotly-scala::plotly-almond:0.7.1`\n",
    "import plotly._, plotly.element._, plotly.layout._, plotly.Almond._"
   ]
  },
  {
   "cell_type": "code",
   "execution_count": 35,
   "metadata": {},
   "outputs": [
    {
     "name": "stdout",
     "output_type": "stream",
     "text": [
      "Getting spark JARs\n",
      "Creating SparkSession\n"
     ]
    },
    {
     "data": {
      "text/html": [
       "<a href=\"http://1b362bbb2ad2:4040\">Spark UI</a>"
      ]
     },
     "metadata": {},
     "output_type": "display_data"
    },
    {
     "data": {
      "text/plain": [
       "\u001b[36mspark\u001b[39m: \u001b[32mSparkSession\u001b[39m = org.apache.spark.sql.SparkSession@4da3bb9f"
      ]
     },
     "execution_count": 35,
     "metadata": {},
     "output_type": "execute_result"
    }
   ],
   "source": [
    "val spark = {\n",
    "  NotebookSparkSession.builder()\n",
    "    .master(\"local[*]\")\n",
    "    .getOrCreate()\n",
    "}"
   ]
  },
  {
   "cell_type": "markdown",
   "metadata": {},
   "source": [
    "# DATASET MERCADOS\n",
    "\n",
    "Lo primero vamos a hacer un ejemplo construyendo la api, haciedo la llamada y pintando un grafico simple."
   ]
  },
  {
   "cell_type": "code",
   "execution_count": 4,
   "metadata": {},
   "outputs": [
    {
     "name": "stdout",
     "output_type": "stream",
     "text": [
      "https://apidatos.ree.es/es/datos/mercados/componentes-precio?start_date=2023-01-01T00:00&geo_limits=ccaa&end_date=2023-12-31T23:59&ids=13&time_trunc=month\n"
     ]
    },
    {
     "data": {
      "text/plain": [
       "defined \u001b[32mfunction\u001b[39m \u001b[36mcreateApiUri\u001b[39m\n",
       "\u001b[36mcategory\u001b[39m: \u001b[32mString\u001b[39m = \u001b[32m\"mercados\"\u001b[39m\n",
       "\u001b[36mwidget\u001b[39m: \u001b[32mString\u001b[39m = \u001b[32m\"componentes-precio\"\u001b[39m\n",
       "\u001b[36mstart_date\u001b[39m: \u001b[32mString\u001b[39m = \u001b[32m\"2023-01-01T00:00\"\u001b[39m\n",
       "\u001b[36mend_date\u001b[39m: \u001b[32mString\u001b[39m = \u001b[32m\"2023-12-31T23:59\"\u001b[39m\n",
       "\u001b[36mtime_trunc\u001b[39m: \u001b[32mString\u001b[39m = \u001b[32m\"month\"\u001b[39m\n",
       "\u001b[36mlang\u001b[39m: \u001b[32mString\u001b[39m = \u001b[32m\"es\"\u001b[39m\n",
       "\u001b[36mgeo_limits\u001b[39m: \u001b[32mString\u001b[39m = \u001b[32m\"ccaa\"\u001b[39m\n",
       "\u001b[36mids\u001b[39m: \u001b[32mString\u001b[39m = \u001b[32m\"13\"\u001b[39m\n",
       "\u001b[36murlMercados23\u001b[39m: \u001b[32mString\u001b[39m = \u001b[32m\"https://apidatos.ree.es/es/datos/mercados/componentes-precio?start_date=2023-01-01T00:00&geo_limits=ccaa&end_date=2023-12-31T23:59&ids=13&time_trunc=month\"\u001b[39m"
      ]
     },
     "execution_count": 4,
     "metadata": {},
     "output_type": "execute_result"
    }
   ],
   "source": [
    "//Crear URL\n",
    "def createApiUri(category: String, widget: String, start_date: String, end_date: String, time_trunc: String, lang: String, geo_limits: String, ids: String) = {\n",
    "    val baseUrl = s\"https://apidatos.ree.es/$lang/datos/$category/$widget\"\n",
    "    val params = Map(\n",
    "        \"start_date\" -> start_date,\n",
    "        \"end_date\" -> end_date,\n",
    "        \"time_trunc\" -> time_trunc,\n",
    "        \"geo_limits\" -> geo_limits,\n",
    "        \"ids\" -> ids\n",
    "    ).map { case(k,v) => s\"$k=$v\"}.mkString(\"&\")\n",
    "  \n",
    "    s\"$baseUrl?$params\"\n",
    "}\n",
    "def createApiUri(category: String, widget: String, start_date: String, end_date: String, time_trunc: String, lang: String, \n",
    "                 geo_limits: Option[String] = None, ids: Option[String] = None): String = {\n",
    "  val baseUrl = s\"https://apidatos.ree.es/$lang/datos/$category/$widget\"\n",
    "  \n",
    "  // Crear un mapa con los parámetros obligatorios y opcionales\n",
    "  val params = Map(\n",
    "    \"start_date\" -> Some(start_date),\n",
    "    \"end_date\" -> Some(end_date),\n",
    "    \"time_trunc\" -> Some(time_trunc),\n",
    "    \"geo_limits\" -> geo_limits,\n",
    "    \"ids\" -> ids\n",
    "  ).collect { case (k, Some(v)) => s\"$k=$v\" } // Filtrar los parámetros que son Some(v) y convertir a cadena\n",
    "\n",
    "  // Unir los parámetros en una cadena\n",
    "  val queryString = params.mkString(\"&\")\n",
    "  \n",
    "  s\"$baseUrl?$queryString\"\n",
    "}\n",
    "\n",
    "val category = \"mercados\"\n",
    "val widget = \"componentes-precio\"\n",
    "val start_date = \"2023-01-01T00:00\"\n",
    "val end_date = \"2023-12-31T23:59\"\n",
    "val time_trunc = \"month\"\n",
    "val lang = \"es\"\n",
    "val geo_limits = \"ccaa\"\n",
    "val ids = \"13\"\n",
    "\n",
    "val urlMercados23 = createApiUri(category, widget, start_date, end_date, time_trunc, lang, geo_limits, ids)\n",
    "println(apiUrl)"
   ]
  },
  {
   "cell_type": "code",
   "execution_count": 60,
   "metadata": {},
   "outputs": [
    {
     "data": {
      "text/plain": [
       "defined \u001b[32mfunction\u001b[39m \u001b[36mgetDataApi\u001b[39m\n",
       "\u001b[36mmercadosJson23\u001b[39m: \u001b[32mEither\u001b[39m[\u001b[32mString\u001b[39m, \u001b[32mString\u001b[39m] = \u001b[33mRight\u001b[39m(\n",
       "  \u001b[32m\"{\\\"data\\\":{\\\"type\\\":\\\"Componentes del precio final mensual\\\",\\\"id\\\":\\\"mer2\\\",\\\"attributes\\\":{\\\"title\\\":\\\"Componentes del precio final mensual\\\",\\\"last-update\\\":\\\"2024-06-25T08:01:00.000+02:00\\\",\\\"description\\\":null},\\\"meta\\\":{\\\"cache-control\\\":{\\\"cache\\\":\\\"MISS\\\"}}},\\\"included\\\":[{\\\"type\\\":\\\"Mercado diario\\\",\\\"id\\\":\\\"883\\\",\\\"groupId\\\":\\\"Precio total (\\\\u20ac\\\\/MWh)\\\",\\\"attributes\\\":{\\\"title\\\":\\\"Mercado diario\\\",\\\"description\\\":null,\\\"color\\\":\\\"#006699\\\",\\\"type\\\":null,\\\"magnitude\\\":\\\"price\\\",\\\"composite\\\":false,\\\"last-update\\\":\\\"2024-06-25T08:01:00.000+02:00\\\",\\\"values\\\":[{\\\"value\\\":73.17,\\\"percentage\\\":0.9942927028128822,\\\"datetime\\\":\\\"2023-01-01T00:00:00.000+01:00\\\"},{\\\"value\\\":135.5,\\\"percentage\\\":0.996836607077172,\\\"datetime\\\":\\\"2023-02-01T00:00:00.000+01:00\\\"},{\\\"value\\\":92.01,\\\"percentage\\\":0.9955637307942005,\\\"datetime\\\":\\\"2023-03-01T00:00:00.000+01:00\\\"},{\\\"value\\\":74.31,\\\"percentage\\\":0.9942467219694944,\\\"datetime\\\":\\\"2023-04-01T00:00:00.000+02:00\\\"},{\\\"value\\\":74.34,\\\"percentage\\\":0.9962476547842402,\\\"datetime\\\":\\\"2023-05-01T00:00:00.000+02:00\\\"},{\\\"value\\\":93.68,\\\"percentage\\\":0.9974446337308348,\\\"datetime\\\":\\\"2023-06-01T00:00:00.000+02:00\\\"},{\\\"value\\\":90.93,\\\"percentage\\\":0.99562027811234,\\\"datetime\\\":\\\"2023-07-01T00:00:00.000+02:00\\\"},{\\\"value\\\":96.87,\\\"percentage\\\":0.9974258649093904,\\\"datetime\\\":\\\"2023-08-01T00:00:00.000+02:00\\\"},{\\\"value\\\":104,\\\"percentage\\\":0.9974105687158339,\\\"datetime\\\":\\\"2023-09-01T00:00:00.000+02:00\\\"},{\\\"value\\\":90.67,\\\"percentage\\\":0.9968117854001758,\\\"datetime\\\":\\\"2023-10-01T00:00:00.000+02:00\\\"},{\\\"value\\\":66.01,\\\"percentage\\\":0.9954757955059569,\\\"datetime\\\":\\\"2023-11-01T00:00:00.000+01:00\\\"},{\\\"value\\\":74.41,\\\"percentage\\\":0.9949191068324643,\\\"datetime\\\":\\\"2023-12-01T00:00:00.000+01:00\\\"}]}},{\\\"type\\\":\\\"Mercado intradiario (subastas MIBEL y continuo)\\\",\\\"id\\\":\\\"886\\\",\\\"groupId\\\":\\\"Precio total (\\\\u20ac\\\\/MWh)\\\",\\\"attributes\\\":{\\\"title\\\":\\\"Mercado intradiario (subastas MIBEL y continuo)\\\",\\\"description\\\":null,\\\"color\\\":\\\"#d90000\\\",\\\"type\\\":null,\\\"magnitude\\\":\\\"price\\\",\\\"composite\\\":false,\\\"last-update\\\":\\\"2024-06-25T08:01:00.000+02:00\\\",\\\"values\\\":[{\\\"value\\\":-0.08,\\\"percentage\\\":0.001087104226117679,\\\"datetime\\\":\\\"2023-01-01T00:00:00.000+01:00\\\"},{\\\"value\\\":-0.08,\\\"percentage\\\":0.0005885382182005444,\\\"datetime\\\":\\\"2023-02-01T00:00:00.000+01:00\\\"},{\\\"value\\\":-0.17,\\\"percentage\\\":0.0018394286950876434,\\\"datetime\\\":\\\"2023-03-01T00:00:00.000+01:00\\\"},{\\\"value\\\":-0.27,\\\"percentage\\\":0.003612523414503613,\\\"datetime\\\":\\\"2023-04-01T00:00:00.000+02:00\\\"},{\\\"value\\\":-0.11,\\\"percentage\\\":0.0014741356204770839,\\\"datetime\\\":\\\"2023-05-01T00:00:00.000+02:00\\\"},{\\\"value\\\":-0.05,\\\"percentage\\\":0.0005323679727427598,\\\"datetime\\\":\\\"2023-06-01T00:00:00.000+02:00\\\"},{\\\"value\\\":-0.07,\\\"percentage\\\":0.0007664513303405235,\\\"datetime\\\":\\\"2023-07-01T00:00:00.000+02:00\\\"},{\\\"value\\\":-0.05,\\\"percentage\\\":0.000514827018121911,\\\"datetime\\\":\\\"2023-08-01T00:00:00.000+02:00\\\"},{\\\"value\\\":-0.08,\\\"percentage\\\":0.00076723889901218,\\\"datetime\\\":\\\"2023-09-01T00:00:00.000+02:00\\\u001b[39m..."
      ]
     },
     "execution_count": 60,
     "metadata": {},
     "output_type": "execute_result"
    }
   ],
   "source": [
    "//Lanzar llamada y obtener guardar datos\n",
    "def getDataApi(apiUrl: String): Either[String, String] = {\n",
    " \n",
    "    val newRequest = basicRequest.get(uri\"$apiUrl\")\n",
    "    val response = newRequest.send()\n",
    "  \n",
    "  response.body match {\n",
    "    case Right(body) => \n",
    "      Right(body)\n",
    "      \n",
    "    case Left(error) => \n",
    "      Left(s\"Error fetching data: $error\")\n",
    "  }\n",
    "}\n",
    "\n",
    "val mercadosJson23 = getDataApi(urlMercados23)"
   ]
  },
  {
   "cell_type": "code",
   "execution_count": 61,
   "metadata": {},
   "outputs": [
    {
     "data": {
      "text/html": [
       "<div>\n",
       "  <span style=\"float: left;\">json at cmd60.sc:5</span>\n",
       "</div>\n"
      ]
     },
     "metadata": {},
     "output_type": "display_data"
    },
    {
     "data": {
      "text/html": [
       "<div class=\"progress\">\n",
       "  <div class=\"progress-bar\" role=\"progressbar\" style=\"background-color: blue; width: 100%; word-wrap: normal; white-space: nowrap; text-align: center; color: white\" aria-valuenow=\"100\" aria-valuemin=\"0\" aria-valuemax=\"100\">\n",
       "    8 / 8\n",
       "  </div>\n",
       "  <div class=\"progress-bar\" role=\"progressbar\" style=\"background-color: red; width: 0%\" aria-valuenow=\"0\" aria-valuemin=\"0\" aria-valuemax=\"100\"></div>\n",
       "</div>\n"
      ]
     },
     "metadata": {},
     "output_type": "display_data"
    },
    {
     "data": {
      "text/html": [
       "<div>\n",
       "  <span style=\"float: left;\">json at cmd60.sc:5</span>\n",
       "</div>\n"
      ]
     },
     "metadata": {},
     "output_type": "display_data"
    },
    {
     "data": {
      "text/html": [
       "<div class=\"progress\">\n",
       "  <div class=\"progress-bar\" role=\"progressbar\" style=\"background-color: blue; width: 100%; word-wrap: normal; white-space: nowrap; text-align: center; color: white\" aria-valuenow=\"100\" aria-valuemin=\"0\" aria-valuemax=\"100\">\n",
       "    8 / 8\n",
       "  </div>\n",
       "  <div class=\"progress-bar\" role=\"progressbar\" style=\"background-color: red; width: 0%\" aria-valuenow=\"0\" aria-valuemin=\"0\" aria-valuemax=\"100\"></div>\n",
       "</div>\n"
      ]
     },
     "metadata": {},
     "output_type": "display_data"
    },
    {
     "data": {
      "text/html": [
       "<div>\n",
       "  <span style=\"float: left;\">json at cmd60.sc:5</span>\n",
       "</div>\n"
      ]
     },
     "metadata": {},
     "output_type": "display_data"
    },
    {
     "data": {
      "text/html": [
       "<div class=\"progress\">\n",
       "  <div class=\"progress-bar\" role=\"progressbar\" style=\"background-color: blue; width: 100%; word-wrap: normal; white-space: nowrap; text-align: center; color: white\" aria-valuenow=\"100\" aria-valuemin=\"0\" aria-valuemax=\"100\">\n",
       "    8 / 8\n",
       "  </div>\n",
       "  <div class=\"progress-bar\" role=\"progressbar\" style=\"background-color: red; width: 0%\" aria-valuenow=\"0\" aria-valuemin=\"0\" aria-valuemax=\"100\"></div>\n",
       "</div>\n"
      ]
     },
     "metadata": {},
     "output_type": "display_data"
    },
    {
     "data": {
      "text/plain": [
       "defined \u001b[32mfunction\u001b[39m \u001b[36mresponseToDF\u001b[39m\n",
       "\u001b[36mmercados23df\u001b[39m: \u001b[32mDataFrame\u001b[39m = [data: struct<attributes: struct<description: string, last-update: string ... 1 more field>, id: string ... 2 more fields>, included: array<struct<attributes:struct<color:string,composite:boolean,description:string,last-update:string,magnitude:string,title:string,type:string,values:array<struct<datetime:string,percentage:double,value:double>>>,groupId:string,id:string,type:string>>]"
      ]
     },
     "execution_count": 61,
     "metadata": {},
     "output_type": "execute_result"
    }
   ],
   "source": [
    "// Transformar response a DataFrame\n",
    "def responseToDF(response: Either[String, String]): DataFrame = {\n",
    "    response match {\n",
    "    case Right(body) => \n",
    "        val rdd = spark.sparkContext.parallelize(Seq(body))\n",
    "        spark.read.json(rdd)\n",
    "    case Left(error) => \n",
    "        println(error)\n",
    "        spark.emptyDataFrame\n",
    "    }\n",
    "}\n",
    "\n",
    "val mercados23df = responseToDF(mercadosJson23)\n"
   ]
  },
  {
   "cell_type": "markdown",
   "metadata": {},
   "source": [
    "### Pintar gráfico de barras con librería plotly"
   ]
  },
  {
   "cell_type": "code",
   "execution_count": 32,
   "metadata": {},
   "outputs": [
    {
     "data": {
      "text/html": [
       "<div>\n",
       "  <span style=\"float: left;\">collect at cmd31.sc:7</span>\n",
       "</div>\n"
      ]
     },
     "metadata": {},
     "output_type": "display_data"
    },
    {
     "data": {
      "text/html": [
       "<div class=\"progress\">\n",
       "  <div class=\"progress-bar\" role=\"progressbar\" style=\"background-color: blue; width: 100%; word-wrap: normal; white-space: nowrap; text-align: center; color: white\" aria-valuenow=\"100\" aria-valuemin=\"0\" aria-valuemax=\"100\">\n",
       "    8 / 8\n",
       "  </div>\n",
       "  <div class=\"progress-bar\" role=\"progressbar\" style=\"background-color: red; width: 0%\" aria-valuenow=\"0\" aria-valuemin=\"0\" aria-valuemax=\"100\"></div>\n",
       "</div>\n"
      ]
     },
     "metadata": {},
     "output_type": "display_data"
    },
    {
     "data": {
      "text/html": [
       "<div>\n",
       "  <span style=\"float: left;\">collect at cmd31.sc:7</span>\n",
       "</div>\n"
      ]
     },
     "metadata": {},
     "output_type": "display_data"
    },
    {
     "data": {
      "text/html": [
       "<div class=\"progress\">\n",
       "  <div class=\"progress-bar\" role=\"progressbar\" style=\"background-color: blue; width: 100%; word-wrap: normal; white-space: nowrap; text-align: center; color: white\" aria-valuenow=\"100\" aria-valuemin=\"0\" aria-valuemax=\"100\">\n",
       "    8 / 8\n",
       "  </div>\n",
       "  <div class=\"progress-bar\" role=\"progressbar\" style=\"background-color: red; width: 0%\" aria-valuenow=\"0\" aria-valuemin=\"0\" aria-valuemax=\"100\"></div>\n",
       "</div>\n"
      ]
     },
     "metadata": {},
     "output_type": "display_data"
    },
    {
     "data": {
      "text/html": [
       "<div>\n",
       "  <span style=\"float: left;\">collect at cmd31.sc:8</span>\n",
       "</div>\n"
      ]
     },
     "metadata": {},
     "output_type": "display_data"
    },
    {
     "data": {
      "text/html": [
       "<div class=\"progress\">\n",
       "  <div class=\"progress-bar\" role=\"progressbar\" style=\"background-color: blue; width: 100%; word-wrap: normal; white-space: nowrap; text-align: center; color: white\" aria-valuenow=\"100\" aria-valuemin=\"0\" aria-valuemax=\"100\">\n",
       "    8 / 8\n",
       "  </div>\n",
       "  <div class=\"progress-bar\" role=\"progressbar\" style=\"background-color: red; width: 0%\" aria-valuenow=\"0\" aria-valuemin=\"0\" aria-valuemax=\"100\"></div>\n",
       "</div>\n"
      ]
     },
     "metadata": {},
     "output_type": "display_data"
    },
    {
     "data": {
      "text/html": [
       "<div>\n",
       "  <span style=\"float: left;\">collect at cmd31.sc:8</span>\n",
       "</div>\n"
      ]
     },
     "metadata": {},
     "output_type": "display_data"
    },
    {
     "data": {
      "text/html": [
       "<div class=\"progress\">\n",
       "  <div class=\"progress-bar\" role=\"progressbar\" style=\"background-color: blue; width: 100%; word-wrap: normal; white-space: nowrap; text-align: center; color: white\" aria-valuenow=\"100\" aria-valuemin=\"0\" aria-valuemax=\"100\">\n",
       "    8 / 8\n",
       "  </div>\n",
       "  <div class=\"progress-bar\" role=\"progressbar\" style=\"background-color: red; width: 0%\" aria-valuenow=\"0\" aria-valuemin=\"0\" aria-valuemax=\"100\"></div>\n",
       "</div>\n"
      ]
     },
     "metadata": {},
     "output_type": "display_data"
    },
    {
     "data": {
      "application/vnd.plotly.v1+json": {
       "data": [
        {
         "type": "bar",
         "x": [
          "2023-01-01T00:00:00.000+01:00",
          "2023-02-01T00:00:00.000+01:00",
          "2023-03-01T00:00:00.000+01:00",
          "2023-04-01T00:00:00.000+02:00",
          "2023-05-01T00:00:00.000+02:00",
          "2023-06-01T00:00:00.000+02:00",
          "2023-07-01T00:00:00.000+02:00",
          "2023-08-01T00:00:00.000+02:00",
          "2023-09-01T00:00:00.000+02:00",
          "2023-10-01T00:00:00.000+02:00",
          "2023-11-01T00:00:00.000+01:00",
          "2023-12-01T00:00:00.000+01:00"
         ],
         "y": [
          86.80000000000001,
          143.73,
          102.89,
          84.63,
          84.23,
          101.88000000000001,
          98.44000000000001,
          104.51,
          112.42999999999999,
          104.45,
          80.44000000000001,
          85.58
         ]
        }
       ],
       "layout": {
        "autosize": true,
        "xaxis": {
         "autorange": true,
         "range": [
          "2022-12-18",
          "2023-12-15"
         ],
         "type": "date"
        },
        "yaxis": {
         "autorange": true,
         "range": [
          0,
          151.29473684210524
         ],
         "type": "linear"
        }
       }
      },
      "image/png": "[encoded data removed]",
      "text/html": [
       "<div class=\"chart\" id=\"plot-da54ac7f-a8c8-47c4-9746-0103545d1c1d\"></div>\n",
       "<script>require(['plotly'], function(Plotly) {\n",
       "  (function () {\n",
       "  var data0 = {\"x\":[\"2023-01-01T00:00:00.000+01:00\",\"2023-02-01T00:00:00.000+01:00\",\"2023-03-01T00:00:00.000+01:00\",\"2023-04-01T00:00:00.000+02:00\",\"2023-05-01T00:00:00.000+02:00\",\"2023-06-01T00:00:00.000+02:00\",\"2023-07-01T00:00:00.000+02:00\",\"2023-08-01T00:00:00.000+02:00\",\"2023-09-01T00:00:00.000+02:00\",\"2023-10-01T00:00:00.000+02:00\",\"2023-11-01T00:00:00.000+01:00\",\"2023-12-01T00:00:00.000+01:00\"],\"y\":[86.80000000000001,143.73,102.89,84.63,84.23,101.88000000000001,98.44000000000001,104.51,112.42999999999999,104.45,80.44000000000001,85.58],\"type\":\"bar\"};\n",
       "\n",
       "  var data = [data0];\n",
       "  var layout = {};\n",
       "\n",
       "  Plotly.plot('plot-da54ac7f-a8c8-47c4-9746-0103545d1c1d', data, layout);\n",
       "})();\n",
       "});\n",
       "      </script>\n",
       "           "
      ]
     },
     "metadata": {},
     "output_type": "display_data"
    },
    {
     "data": {
      "text/plain": [
       "\u001b[36mmercados23\u001b[39m: \u001b[32mDataFrame\u001b[39m = [datetime: string, percentage: double ... 1 more field]\n",
       "\u001b[36mfecha\u001b[39m: \u001b[32mSeq\u001b[39m[\u001b[32mString\u001b[39m] = \u001b[33mWrappedArray\u001b[39m(\n",
       "  \u001b[32m\"2023-01-01T00:00:00.000+01:00\"\u001b[39m,\n",
       "  \u001b[32m\"2023-02-01T00:00:00.000+01:00\"\u001b[39m,\n",
       "  \u001b[32m\"2023-03-01T00:00:00.000+01:00\"\u001b[39m,\n",
       "  \u001b[32m\"2023-04-01T00:00:00.000+02:00\"\u001b[39m,\n",
       "  \u001b[32m\"2023-05-01T00:00:00.000+02:00\"\u001b[39m,\n",
       "  \u001b[32m\"2023-06-01T00:00:00.000+02:00\"\u001b[39m,\n",
       "  \u001b[32m\"2023-07-01T00:00:00.000+02:00\"\u001b[39m,\n",
       "  \u001b[32m\"2023-08-01T00:00:00.000+02:00\"\u001b[39m,\n",
       "  \u001b[32m\"2023-09-01T00:00:00.000+02:00\"\u001b[39m,\n",
       "  \u001b[32m\"2023-10-01T00:00:00.000+02:00\"\u001b[39m,\n",
       "  \u001b[32m\"2023-11-01T00:00:00.000+01:00\"\u001b[39m,\n",
       "  \u001b[32m\"2023-12-01T00:00:00.000+01:00\"\u001b[39m\n",
       ")\n",
       "\u001b[36mprecio\u001b[39m: \u001b[32mSeq\u001b[39m[\u001b[32mDouble\u001b[39m] = \u001b[33mWrappedArray\u001b[39m(\n",
       "  \u001b[32m86.80000000000001\u001b[39m,\n",
       "  \u001b[32m143.73\u001b[39m,\n",
       "  \u001b[32m102.89\u001b[39m,\n",
       "  \u001b[32m84.63\u001b[39m,\n",
       "  \u001b[32m84.23\u001b[39m,\n",
       "  \u001b[32m101.88000000000001\u001b[39m,\n",
       "  \u001b[32m98.44000000000001\u001b[39m,\n",
       "  \u001b[32m104.51\u001b[39m,\n",
       "  \u001b[32m112.42999999999999\u001b[39m,\n",
       "  \u001b[32m104.45\u001b[39m,\n",
       "  \u001b[32m80.44000000000001\u001b[39m,\n",
       "  \u001b[32m85.58\u001b[39m\n",
       ")\n",
       "\u001b[36mdata\u001b[39m: \u001b[32mSeq\u001b[39m[\u001b[32mBar\u001b[39m] = \u001b[33mList\u001b[39m(\n",
       "  \u001b[33mBar\u001b[39m(\n",
       "    \u001b[33mStrings\u001b[39m(\n",
       "      \u001b[33mWrappedArray\u001b[39m(\n",
       "        \u001b[32m\"2023-01-01T00:00:00.000+01:00\"\u001b[39m,\n",
       "        \u001b[32m\"2023-02-01T00:00:00.000+01:00\"\u001b[39m,\n",
       "        \u001b[32m\"2023-03-01T00:00:00.000+01:00\"\u001b[39m,\n",
       "        \u001b[32m\"2023-04-01T00:00:00.000+02:00\"\u001b[39m,\n",
       "        \u001b[32m\"2023-05-01T00:00:00.000+02:00\"\u001b[39m,\n",
       "        \u001b[32m\"2023-06-01T00:00:00.000+02:00\"\u001b[39m,\n",
       "        \u001b[32m\"2023-07-01T00:00:00.000+02:00\"\u001b[39m,\n",
       "        \u001b[32m\"2023-08-01T00:00:00.000+02:00\"\u001b[39m,\n",
       "        \u001b[32m\"2023-09-01T00:00:00.000+02:00\"\u001b[39m,\n",
       "        \u001b[32m\"2023-10-01T00:00:00.000+02:00\"\u001b[39m,\n",
       "        \u001b[32m\"2023-11-01T00:00:00.000+01:00\"\u001b[39m,\n",
       "        \u001b[32m\"2023-12-01T00:00:00.000+01:00\"\u001b[39m\n",
       "      )\n",
       "    ),\n",
       "    \u001b[33mDoubles\u001b[39m(\n",
       "      \u001b[33mWrappedArray\u001b[39m(\n",
       "        \u001b[32m86.80000000000001\u001b[39m,\n",
       "        \u001b[32m143.73\u001b[39m,\n",
       "        \u001b[32m102.89\u001b[39m,\n",
       "        \u001b[32m84.63\u001b[39m,\n",
       "        \u001b[32m84.23\u001b[39m,\n",
       "        \u001b[32m101.88000000000001\u001b[39m,\n",
       "        \u001b[32m98.44000000000001\u001b[39m,\n",
       "        \u001b[32m104.51\u001b[39m,\n",
       "        \u001b[32m112.42999999999999\u001b[39m,\n",
       "        \u001b[32m104.45\u001b[39m,\n",
       "        \u001b[32m80.44000000000001\u001b[39m,\n",
       "        \u001b[32m85.58\u001b[39m\n",
       "      )\n",
       "    ),\n",
       "    \u001b[32mNone\u001b[39m,\n",
       "    \u001b[32mNone\u001b[39m,\n",
       "    \u001b[32mNone\u001b[39m,\n",
       "    \u001b[32mNone\u001b[39m,\n",
       "    \u001b[32mNone\u001b[39m,\n",
       "...\n",
       "\u001b[36mres31_4\u001b[39m: \u001b[32mString\u001b[39m = \u001b[32m\"plot-da54ac7f-a8c8-47c4-9746-0103545d1c1d\"\u001b[39m"
      ]
     },
     "execution_count": 32,
     "metadata": {},
     "output_type": "execute_result"
    }
   ],
   "source": [
    "val mercados23 = mercados23df\n",
    "    .withColumn(\"included\", explode($\"included\"))\n",
    "    .withColumn(\"valores\", explode($\"included.attributes.values\"))\n",
    "    .filter($\"included.type\" === \"distinct\")\n",
    "    .select(\"valores.*\")\n",
    "\n",
    "val fecha = mercados23.select($\"datetime\").as[String].collect.toSeq\n",
    "val precio = mercados23.select($\"value\").as[Double].collect.toSeq\n",
    "\n",
    "val data = Seq(\n",
    "  Bar(\n",
    "    fecha,\n",
    "    precio\n",
    "  )\n",
    ")\n",
    "\n",
    "plot(data)"
   ]
  },
  {
   "cell_type": "markdown",
   "metadata": {},
   "source": [
    "# Crear Dataframe con varios años"
   ]
  },
  {
   "cell_type": "code",
   "execution_count": 64,
   "metadata": {},
   "outputs": [
    {
     "data": {
      "text/html": [
       "<div>\n",
       "  <span style=\"float: left;\">json at cmd60.sc:5</span>\n",
       "</div>\n"
      ]
     },
     "metadata": {},
     "output_type": "display_data"
    },
    {
     "data": {
      "text/html": [
       "<div class=\"progress\">\n",
       "  <div class=\"progress-bar\" role=\"progressbar\" style=\"background-color: blue; width: 100%; word-wrap: normal; white-space: nowrap; text-align: center; color: white\" aria-valuenow=\"100\" aria-valuemin=\"0\" aria-valuemax=\"100\">\n",
       "    8 / 8\n",
       "  </div>\n",
       "  <div class=\"progress-bar\" role=\"progressbar\" style=\"background-color: red; width: 0%\" aria-valuenow=\"0\" aria-valuemin=\"0\" aria-valuemax=\"100\"></div>\n",
       "</div>\n"
      ]
     },
     "metadata": {},
     "output_type": "display_data"
    },
    {
     "data": {
      "text/html": [
       "<div>\n",
       "  <span style=\"float: left;\">json at cmd60.sc:5</span>\n",
       "</div>\n"
      ]
     },
     "metadata": {},
     "output_type": "display_data"
    },
    {
     "data": {
      "text/html": [
       "<div class=\"progress\">\n",
       "  <div class=\"progress-bar\" role=\"progressbar\" style=\"background-color: blue; width: 100%; word-wrap: normal; white-space: nowrap; text-align: center; color: white\" aria-valuenow=\"100\" aria-valuemin=\"0\" aria-valuemax=\"100\">\n",
       "    8 / 8\n",
       "  </div>\n",
       "  <div class=\"progress-bar\" role=\"progressbar\" style=\"background-color: red; width: 0%\" aria-valuenow=\"0\" aria-valuemin=\"0\" aria-valuemax=\"100\"></div>\n",
       "</div>\n"
      ]
     },
     "metadata": {},
     "output_type": "display_data"
    },
    {
     "data": {
      "text/html": [
       "<div>\n",
       "  <span style=\"float: left;\">json at cmd60.sc:5</span>\n",
       "</div>\n"
      ]
     },
     "metadata": {},
     "output_type": "display_data"
    },
    {
     "data": {
      "text/html": [
       "<div class=\"progress\">\n",
       "  <div class=\"progress-bar\" role=\"progressbar\" style=\"background-color: blue; width: 100%; word-wrap: normal; white-space: nowrap; text-align: center; color: white\" aria-valuenow=\"100\" aria-valuemin=\"0\" aria-valuemax=\"100\">\n",
       "    8 / 8\n",
       "  </div>\n",
       "  <div class=\"progress-bar\" role=\"progressbar\" style=\"background-color: red; width: 0%\" aria-valuenow=\"0\" aria-valuemin=\"0\" aria-valuemax=\"100\"></div>\n",
       "</div>\n"
      ]
     },
     "metadata": {},
     "output_type": "display_data"
    },
    {
     "data": {
      "text/html": [
       "<div>\n",
       "  <span style=\"float: left;\">json at cmd60.sc:5</span>\n",
       "</div>\n"
      ]
     },
     "metadata": {},
     "output_type": "display_data"
    },
    {
     "data": {
      "text/html": [
       "<div class=\"progress\">\n",
       "  <div class=\"progress-bar\" role=\"progressbar\" style=\"background-color: blue; width: 100%; word-wrap: normal; white-space: nowrap; text-align: center; color: white\" aria-valuenow=\"100\" aria-valuemin=\"0\" aria-valuemax=\"100\">\n",
       "    8 / 8\n",
       "  </div>\n",
       "  <div class=\"progress-bar\" role=\"progressbar\" style=\"background-color: red; width: 0%\" aria-valuenow=\"0\" aria-valuemin=\"0\" aria-valuemax=\"100\"></div>\n",
       "</div>\n"
      ]
     },
     "metadata": {},
     "output_type": "display_data"
    },
    {
     "data": {
      "text/html": [
       "<div>\n",
       "  <span style=\"float: left;\">json at cmd60.sc:5</span>\n",
       "</div>\n"
      ]
     },
     "metadata": {},
     "output_type": "display_data"
    },
    {
     "data": {
      "text/html": [
       "<div class=\"progress\">\n",
       "  <div class=\"progress-bar\" role=\"progressbar\" style=\"background-color: blue; width: 100%; word-wrap: normal; white-space: nowrap; text-align: center; color: white\" aria-valuenow=\"100\" aria-valuemin=\"0\" aria-valuemax=\"100\">\n",
       "    8 / 8\n",
       "  </div>\n",
       "  <div class=\"progress-bar\" role=\"progressbar\" style=\"background-color: red; width: 0%\" aria-valuenow=\"0\" aria-valuemin=\"0\" aria-valuemax=\"100\"></div>\n",
       "</div>\n"
      ]
     },
     "metadata": {},
     "output_type": "display_data"
    },
    {
     "data": {
      "text/html": [
       "<div>\n",
       "  <span style=\"float: left;\">json at cmd60.sc:5</span>\n",
       "</div>\n"
      ]
     },
     "metadata": {},
     "output_type": "display_data"
    },
    {
     "data": {
      "text/html": [
       "<div class=\"progress\">\n",
       "  <div class=\"progress-bar\" role=\"progressbar\" style=\"background-color: blue; width: 100%; word-wrap: normal; white-space: nowrap; text-align: center; color: white\" aria-valuenow=\"100\" aria-valuemin=\"0\" aria-valuemax=\"100\">\n",
       "    8 / 8\n",
       "  </div>\n",
       "  <div class=\"progress-bar\" role=\"progressbar\" style=\"background-color: red; width: 0%\" aria-valuenow=\"0\" aria-valuemin=\"0\" aria-valuemax=\"100\"></div>\n",
       "</div>\n"
      ]
     },
     "metadata": {},
     "output_type": "display_data"
    },
    {
     "data": {
      "text/html": [
       "<div>\n",
       "  <span style=\"float: left;\">json at cmd60.sc:5</span>\n",
       "</div>\n"
      ]
     },
     "metadata": {},
     "output_type": "display_data"
    },
    {
     "data": {
      "text/html": [
       "<div class=\"progress\">\n",
       "  <div class=\"progress-bar\" role=\"progressbar\" style=\"background-color: blue; width: 100%; word-wrap: normal; white-space: nowrap; text-align: center; color: white\" aria-valuenow=\"100\" aria-valuemin=\"0\" aria-valuemax=\"100\">\n",
       "    8 / 8\n",
       "  </div>\n",
       "  <div class=\"progress-bar\" role=\"progressbar\" style=\"background-color: red; width: 0%\" aria-valuenow=\"0\" aria-valuemin=\"0\" aria-valuemax=\"100\"></div>\n",
       "</div>\n"
      ]
     },
     "metadata": {},
     "output_type": "display_data"
    },
    {
     "data": {
      "text/html": [
       "<div>\n",
       "  <span style=\"float: left;\">json at cmd60.sc:5</span>\n",
       "</div>\n"
      ]
     },
     "metadata": {},
     "output_type": "display_data"
    },
    {
     "data": {
      "text/html": [
       "<div class=\"progress\">\n",
       "  <div class=\"progress-bar\" role=\"progressbar\" style=\"background-color: blue; width: 100%; word-wrap: normal; white-space: nowrap; text-align: center; color: white\" aria-valuenow=\"100\" aria-valuemin=\"0\" aria-valuemax=\"100\">\n",
       "    8 / 8\n",
       "  </div>\n",
       "  <div class=\"progress-bar\" role=\"progressbar\" style=\"background-color: red; width: 0%\" aria-valuenow=\"0\" aria-valuemin=\"0\" aria-valuemax=\"100\"></div>\n",
       "</div>\n"
      ]
     },
     "metadata": {},
     "output_type": "display_data"
    },
    {
     "data": {
      "text/html": [
       "<div>\n",
       "  <span style=\"float: left;\">json at cmd60.sc:5</span>\n",
       "</div>\n"
      ]
     },
     "metadata": {},
     "output_type": "display_data"
    },
    {
     "data": {
      "text/html": [
       "<div class=\"progress\">\n",
       "  <div class=\"progress-bar\" role=\"progressbar\" style=\"background-color: blue; width: 100%; word-wrap: normal; white-space: nowrap; text-align: center; color: white\" aria-valuenow=\"100\" aria-valuemin=\"0\" aria-valuemax=\"100\">\n",
       "    8 / 8\n",
       "  </div>\n",
       "  <div class=\"progress-bar\" role=\"progressbar\" style=\"background-color: red; width: 0%\" aria-valuenow=\"0\" aria-valuemin=\"0\" aria-valuemax=\"100\"></div>\n",
       "</div>\n"
      ]
     },
     "metadata": {},
     "output_type": "display_data"
    },
    {
     "data": {
      "text/html": [
       "<div>\n",
       "  <span style=\"float: left;\">json at cmd60.sc:5</span>\n",
       "</div>\n"
      ]
     },
     "metadata": {},
     "output_type": "display_data"
    },
    {
     "data": {
      "text/html": [
       "<div class=\"progress\">\n",
       "  <div class=\"progress-bar\" role=\"progressbar\" style=\"background-color: blue; width: 100%; word-wrap: normal; white-space: nowrap; text-align: center; color: white\" aria-valuenow=\"100\" aria-valuemin=\"0\" aria-valuemax=\"100\">\n",
       "    8 / 8\n",
       "  </div>\n",
       "  <div class=\"progress-bar\" role=\"progressbar\" style=\"background-color: red; width: 0%\" aria-valuenow=\"0\" aria-valuemin=\"0\" aria-valuemax=\"100\"></div>\n",
       "</div>\n"
      ]
     },
     "metadata": {},
     "output_type": "display_data"
    },
    {
     "data": {
      "text/html": [
       "<div>\n",
       "  <span style=\"float: left;\">json at cmd60.sc:5</span>\n",
       "</div>\n"
      ]
     },
     "metadata": {},
     "output_type": "display_data"
    },
    {
     "data": {
      "text/html": [
       "<div class=\"progress\">\n",
       "  <div class=\"progress-bar\" role=\"progressbar\" style=\"background-color: blue; width: 100%; word-wrap: normal; white-space: nowrap; text-align: center; color: white\" aria-valuenow=\"100\" aria-valuemin=\"0\" aria-valuemax=\"100\">\n",
       "    8 / 8\n",
       "  </div>\n",
       "  <div class=\"progress-bar\" role=\"progressbar\" style=\"background-color: red; width: 0%\" aria-valuenow=\"0\" aria-valuemin=\"0\" aria-valuemax=\"100\"></div>\n",
       "</div>\n"
      ]
     },
     "metadata": {},
     "output_type": "display_data"
    },
    {
     "data": {
      "text/html": [
       "<div>\n",
       "  <span style=\"float: left;\">json at cmd60.sc:5</span>\n",
       "</div>\n"
      ]
     },
     "metadata": {},
     "output_type": "display_data"
    },
    {
     "data": {
      "text/html": [
       "<div class=\"progress\">\n",
       "  <div class=\"progress-bar\" role=\"progressbar\" style=\"background-color: blue; width: 100%; word-wrap: normal; white-space: nowrap; text-align: center; color: white\" aria-valuenow=\"100\" aria-valuemin=\"0\" aria-valuemax=\"100\">\n",
       "    8 / 8\n",
       "  </div>\n",
       "  <div class=\"progress-bar\" role=\"progressbar\" style=\"background-color: red; width: 0%\" aria-valuenow=\"0\" aria-valuemin=\"0\" aria-valuemax=\"100\"></div>\n",
       "</div>\n"
      ]
     },
     "metadata": {},
     "output_type": "display_data"
    },
    {
     "data": {
      "text/html": [
       "<div>\n",
       "  <span style=\"float: left;\">json at cmd60.sc:5</span>\n",
       "</div>\n"
      ]
     },
     "metadata": {},
     "output_type": "display_data"
    },
    {
     "data": {
      "text/html": [
       "<div class=\"progress\">\n",
       "  <div class=\"progress-bar\" role=\"progressbar\" style=\"background-color: blue; width: 100%; word-wrap: normal; white-space: nowrap; text-align: center; color: white\" aria-valuenow=\"100\" aria-valuemin=\"0\" aria-valuemax=\"100\">\n",
       "    8 / 8\n",
       "  </div>\n",
       "  <div class=\"progress-bar\" role=\"progressbar\" style=\"background-color: red; width: 0%\" aria-valuenow=\"0\" aria-valuemin=\"0\" aria-valuemax=\"100\"></div>\n",
       "</div>\n"
      ]
     },
     "metadata": {},
     "output_type": "display_data"
    },
    {
     "data": {
      "text/html": [
       "<div>\n",
       "  <span style=\"float: left;\">json at cmd60.sc:5</span>\n",
       "</div>\n"
      ]
     },
     "metadata": {},
     "output_type": "display_data"
    },
    {
     "data": {
      "text/html": [
       "<div class=\"progress\">\n",
       "  <div class=\"progress-bar\" role=\"progressbar\" style=\"background-color: blue; width: 100%; word-wrap: normal; white-space: nowrap; text-align: center; color: white\" aria-valuenow=\"100\" aria-valuemin=\"0\" aria-valuemax=\"100\">\n",
       "    8 / 8\n",
       "  </div>\n",
       "  <div class=\"progress-bar\" role=\"progressbar\" style=\"background-color: red; width: 0%\" aria-valuenow=\"0\" aria-valuemin=\"0\" aria-valuemax=\"100\"></div>\n",
       "</div>\n"
      ]
     },
     "metadata": {},
     "output_type": "display_data"
    },
    {
     "data": {
      "text/html": [
       "<div>\n",
       "  <span style=\"float: left;\">json at cmd60.sc:5</span>\n",
       "</div>\n"
      ]
     },
     "metadata": {},
     "output_type": "display_data"
    },
    {
     "data": {
      "text/html": [
       "<div class=\"progress\">\n",
       "  <div class=\"progress-bar\" role=\"progressbar\" style=\"background-color: blue; width: 100%; word-wrap: normal; white-space: nowrap; text-align: center; color: white\" aria-valuenow=\"100\" aria-valuemin=\"0\" aria-valuemax=\"100\">\n",
       "    8 / 8\n",
       "  </div>\n",
       "  <div class=\"progress-bar\" role=\"progressbar\" style=\"background-color: red; width: 0%\" aria-valuenow=\"0\" aria-valuemin=\"0\" aria-valuemax=\"100\"></div>\n",
       "</div>\n"
      ]
     },
     "metadata": {},
     "output_type": "display_data"
    },
    {
     "data": {
      "text/html": [
       "<div>\n",
       "  <span style=\"float: left;\">json at cmd60.sc:5</span>\n",
       "</div>\n"
      ]
     },
     "metadata": {},
     "output_type": "display_data"
    },
    {
     "data": {
      "text/html": [
       "<div class=\"progress\">\n",
       "  <div class=\"progress-bar\" role=\"progressbar\" style=\"background-color: blue; width: 100%; word-wrap: normal; white-space: nowrap; text-align: center; color: white\" aria-valuenow=\"100\" aria-valuemin=\"0\" aria-valuemax=\"100\">\n",
       "    8 / 8\n",
       "  </div>\n",
       "  <div class=\"progress-bar\" role=\"progressbar\" style=\"background-color: red; width: 0%\" aria-valuenow=\"0\" aria-valuemin=\"0\" aria-valuemax=\"100\"></div>\n",
       "</div>\n"
      ]
     },
     "metadata": {},
     "output_type": "display_data"
    },
    {
     "data": {
      "text/html": [
       "<div>\n",
       "  <span style=\"float: left;\">json at cmd60.sc:5</span>\n",
       "</div>\n"
      ]
     },
     "metadata": {},
     "output_type": "display_data"
    },
    {
     "data": {
      "text/html": [
       "<div class=\"progress\">\n",
       "  <div class=\"progress-bar\" role=\"progressbar\" style=\"background-color: blue; width: 100%; word-wrap: normal; white-space: nowrap; text-align: center; color: white\" aria-valuenow=\"100\" aria-valuemin=\"0\" aria-valuemax=\"100\">\n",
       "    8 / 8\n",
       "  </div>\n",
       "  <div class=\"progress-bar\" role=\"progressbar\" style=\"background-color: red; width: 0%\" aria-valuenow=\"0\" aria-valuemin=\"0\" aria-valuemax=\"100\"></div>\n",
       "</div>\n"
      ]
     },
     "metadata": {},
     "output_type": "display_data"
    },
    {
     "data": {
      "text/html": [
       "<div>\n",
       "  <span style=\"float: left;\">json at cmd60.sc:5</span>\n",
       "</div>\n"
      ]
     },
     "metadata": {},
     "output_type": "display_data"
    },
    {
     "data": {
      "text/html": [
       "<div class=\"progress\">\n",
       "  <div class=\"progress-bar\" role=\"progressbar\" style=\"background-color: blue; width: 100%; word-wrap: normal; white-space: nowrap; text-align: center; color: white\" aria-valuenow=\"100\" aria-valuemin=\"0\" aria-valuemax=\"100\">\n",
       "    8 / 8\n",
       "  </div>\n",
       "  <div class=\"progress-bar\" role=\"progressbar\" style=\"background-color: red; width: 0%\" aria-valuenow=\"0\" aria-valuemin=\"0\" aria-valuemax=\"100\"></div>\n",
       "</div>\n"
      ]
     },
     "metadata": {},
     "output_type": "display_data"
    },
    {
     "data": {
      "text/html": [
       "<div>\n",
       "  <span style=\"float: left;\">json at cmd60.sc:5</span>\n",
       "</div>\n"
      ]
     },
     "metadata": {},
     "output_type": "display_data"
    },
    {
     "data": {
      "text/html": [
       "<div class=\"progress\">\n",
       "  <div class=\"progress-bar\" role=\"progressbar\" style=\"background-color: blue; width: 100%; word-wrap: normal; white-space: nowrap; text-align: center; color: white\" aria-valuenow=\"100\" aria-valuemin=\"0\" aria-valuemax=\"100\">\n",
       "    8 / 8\n",
       "  </div>\n",
       "  <div class=\"progress-bar\" role=\"progressbar\" style=\"background-color: red; width: 0%\" aria-valuenow=\"0\" aria-valuemin=\"0\" aria-valuemax=\"100\"></div>\n",
       "</div>\n"
      ]
     },
     "metadata": {},
     "output_type": "display_data"
    },
    {
     "data": {
      "text/html": [
       "<div>\n",
       "  <span style=\"float: left;\">json at cmd60.sc:5</span>\n",
       "</div>\n"
      ]
     },
     "metadata": {},
     "output_type": "display_data"
    },
    {
     "data": {
      "text/html": [
       "<div class=\"progress\">\n",
       "  <div class=\"progress-bar\" role=\"progressbar\" style=\"background-color: blue; width: 100%; word-wrap: normal; white-space: nowrap; text-align: center; color: white\" aria-valuenow=\"100\" aria-valuemin=\"0\" aria-valuemax=\"100\">\n",
       "    8 / 8\n",
       "  </div>\n",
       "  <div class=\"progress-bar\" role=\"progressbar\" style=\"background-color: red; width: 0%\" aria-valuenow=\"0\" aria-valuemin=\"0\" aria-valuemax=\"100\"></div>\n",
       "</div>\n"
      ]
     },
     "metadata": {},
     "output_type": "display_data"
    },
    {
     "data": {
      "text/html": [
       "<div>\n",
       "  <span style=\"float: left;\">json at cmd60.sc:5</span>\n",
       "</div>\n"
      ]
     },
     "metadata": {},
     "output_type": "display_data"
    },
    {
     "data": {
      "text/html": [
       "<div class=\"progress\">\n",
       "  <div class=\"progress-bar\" role=\"progressbar\" style=\"background-color: blue; width: 100%; word-wrap: normal; white-space: nowrap; text-align: center; color: white\" aria-valuenow=\"100\" aria-valuemin=\"0\" aria-valuemax=\"100\">\n",
       "    8 / 8\n",
       "  </div>\n",
       "  <div class=\"progress-bar\" role=\"progressbar\" style=\"background-color: red; width: 0%\" aria-valuenow=\"0\" aria-valuemin=\"0\" aria-valuemax=\"100\"></div>\n",
       "</div>\n"
      ]
     },
     "metadata": {},
     "output_type": "display_data"
    },
    {
     "data": {
      "text/html": [
       "<div>\n",
       "  <span style=\"float: left;\">json at cmd60.sc:5</span>\n",
       "</div>\n"
      ]
     },
     "metadata": {},
     "output_type": "display_data"
    },
    {
     "data": {
      "text/html": [
       "<div class=\"progress\">\n",
       "  <div class=\"progress-bar\" role=\"progressbar\" style=\"background-color: blue; width: 100%; word-wrap: normal; white-space: nowrap; text-align: center; color: white\" aria-valuenow=\"100\" aria-valuemin=\"0\" aria-valuemax=\"100\">\n",
       "    8 / 8\n",
       "  </div>\n",
       "  <div class=\"progress-bar\" role=\"progressbar\" style=\"background-color: red; width: 0%\" aria-valuenow=\"0\" aria-valuemin=\"0\" aria-valuemax=\"100\"></div>\n",
       "</div>\n"
      ]
     },
     "metadata": {},
     "output_type": "display_data"
    },
    {
     "data": {
      "text/html": [
       "<div>\n",
       "  <span style=\"float: left;\">json at cmd60.sc:5</span>\n",
       "</div>\n"
      ]
     },
     "metadata": {},
     "output_type": "display_data"
    },
    {
     "data": {
      "text/html": [
       "<div class=\"progress\">\n",
       "  <div class=\"progress-bar\" role=\"progressbar\" style=\"background-color: blue; width: 100%; word-wrap: normal; white-space: nowrap; text-align: center; color: white\" aria-valuenow=\"100\" aria-valuemin=\"0\" aria-valuemax=\"100\">\n",
       "    8 / 8\n",
       "  </div>\n",
       "  <div class=\"progress-bar\" role=\"progressbar\" style=\"background-color: red; width: 0%\" aria-valuenow=\"0\" aria-valuemin=\"0\" aria-valuemax=\"100\"></div>\n",
       "</div>\n"
      ]
     },
     "metadata": {},
     "output_type": "display_data"
    },
    {
     "data": {
      "text/html": [
       "<div>\n",
       "  <span style=\"float: left;\">json at cmd60.sc:5</span>\n",
       "</div>\n"
      ]
     },
     "metadata": {},
     "output_type": "display_data"
    },
    {
     "data": {
      "text/html": [
       "<div class=\"progress\">\n",
       "  <div class=\"progress-bar\" role=\"progressbar\" style=\"background-color: blue; width: 100%; word-wrap: normal; white-space: nowrap; text-align: center; color: white\" aria-valuenow=\"100\" aria-valuemin=\"0\" aria-valuemax=\"100\">\n",
       "    8 / 8\n",
       "  </div>\n",
       "  <div class=\"progress-bar\" role=\"progressbar\" style=\"background-color: red; width: 0%\" aria-valuenow=\"0\" aria-valuemin=\"0\" aria-valuemax=\"100\"></div>\n",
       "</div>\n"
      ]
     },
     "metadata": {},
     "output_type": "display_data"
    },
    {
     "data": {
      "text/html": [
       "<div>\n",
       "  <span style=\"float: left;\">json at cmd60.sc:5</span>\n",
       "</div>\n"
      ]
     },
     "metadata": {},
     "output_type": "display_data"
    },
    {
     "data": {
      "text/html": [
       "<div class=\"progress\">\n",
       "  <div class=\"progress-bar\" role=\"progressbar\" style=\"background-color: blue; width: 100%; word-wrap: normal; white-space: nowrap; text-align: center; color: white\" aria-valuenow=\"100\" aria-valuemin=\"0\" aria-valuemax=\"100\">\n",
       "    8 / 8\n",
       "  </div>\n",
       "  <div class=\"progress-bar\" role=\"progressbar\" style=\"background-color: red; width: 0%\" aria-valuenow=\"0\" aria-valuemin=\"0\" aria-valuemax=\"100\"></div>\n",
       "</div>\n"
      ]
     },
     "metadata": {},
     "output_type": "display_data"
    },
    {
     "data": {
      "text/html": [
       "<div>\n",
       "  <span style=\"float: left;\">json at cmd60.sc:5</span>\n",
       "</div>\n"
      ]
     },
     "metadata": {},
     "output_type": "display_data"
    },
    {
     "data": {
      "text/html": [
       "<div class=\"progress\">\n",
       "  <div class=\"progress-bar\" role=\"progressbar\" style=\"background-color: blue; width: 100%; word-wrap: normal; white-space: nowrap; text-align: center; color: white\" aria-valuenow=\"100\" aria-valuemin=\"0\" aria-valuemax=\"100\">\n",
       "    8 / 8\n",
       "  </div>\n",
       "  <div class=\"progress-bar\" role=\"progressbar\" style=\"background-color: red; width: 0%\" aria-valuenow=\"0\" aria-valuemin=\"0\" aria-valuemax=\"100\"></div>\n",
       "</div>\n"
      ]
     },
     "metadata": {},
     "output_type": "display_data"
    },
    {
     "data": {
      "text/html": [
       "<div>\n",
       "  <span style=\"float: left;\">json at cmd60.sc:5</span>\n",
       "</div>\n"
      ]
     },
     "metadata": {},
     "output_type": "display_data"
    },
    {
     "data": {
      "text/html": [
       "<div class=\"progress\">\n",
       "  <div class=\"progress-bar\" role=\"progressbar\" style=\"background-color: blue; width: 100%; word-wrap: normal; white-space: nowrap; text-align: center; color: white\" aria-valuenow=\"100\" aria-valuemin=\"0\" aria-valuemax=\"100\">\n",
       "    8 / 8\n",
       "  </div>\n",
       "  <div class=\"progress-bar\" role=\"progressbar\" style=\"background-color: red; width: 0%\" aria-valuenow=\"0\" aria-valuemin=\"0\" aria-valuemax=\"100\"></div>\n",
       "</div>\n"
      ]
     },
     "metadata": {},
     "output_type": "display_data"
    },
    {
     "data": {
      "text/html": [
       "<div>\n",
       "  <span style=\"float: left;\">show at cmd63.sc:18</span>\n",
       "</div>\n"
      ]
     },
     "metadata": {},
     "output_type": "display_data"
    },
    {
     "data": {
      "text/html": [
       "<div class=\"progress\">\n",
       "  <div class=\"progress-bar\" role=\"progressbar\" style=\"background-color: blue; width: 100%; word-wrap: normal; white-space: nowrap; text-align: center; color: white\" aria-valuenow=\"100\" aria-valuemin=\"0\" aria-valuemax=\"100\">\n",
       "    1 / 1\n",
       "  </div>\n",
       "  <div class=\"progress-bar\" role=\"progressbar\" style=\"background-color: red; width: 0%\" aria-valuenow=\"0\" aria-valuemin=\"0\" aria-valuemax=\"100\"></div>\n",
       "</div>\n"
      ]
     },
     "metadata": {},
     "output_type": "display_data"
    },
    {
     "data": {
      "text/html": [
       "<div>\n",
       "  <span style=\"float: left;\">show at cmd63.sc:18</span>\n",
       "</div>\n"
      ]
     },
     "metadata": {},
     "output_type": "display_data"
    },
    {
     "data": {
      "text/html": [
       "<div class=\"progress\">\n",
       "  <div class=\"progress-bar\" role=\"progressbar\" style=\"background-color: blue; width: 100%; word-wrap: normal; white-space: nowrap; text-align: center; color: white\" aria-valuenow=\"100\" aria-valuemin=\"0\" aria-valuemax=\"100\">\n",
       "    1 / 1\n",
       "  </div>\n",
       "  <div class=\"progress-bar\" role=\"progressbar\" style=\"background-color: red; width: 0%\" aria-valuenow=\"0\" aria-valuemin=\"0\" aria-valuemax=\"100\"></div>\n",
       "</div>\n"
      ]
     },
     "metadata": {},
     "output_type": "display_data"
    },
    {
     "data": {
      "text/html": [
       "<div>\n",
       "  <span style=\"float: left;\">show at cmd63.sc:18</span>\n",
       "</div>\n"
      ]
     },
     "metadata": {},
     "output_type": "display_data"
    },
    {
     "data": {
      "text/html": [
       "<div class=\"progress\">\n",
       "  <div class=\"progress-bar\" role=\"progressbar\" style=\"background-color: blue; width: 100%; word-wrap: normal; white-space: nowrap; text-align: center; color: white\" aria-valuenow=\"100\" aria-valuemin=\"0\" aria-valuemax=\"100\">\n",
       "    1 / 1\n",
       "  </div>\n",
       "  <div class=\"progress-bar\" role=\"progressbar\" style=\"background-color: red; width: 0%\" aria-valuenow=\"0\" aria-valuemin=\"0\" aria-valuemax=\"100\"></div>\n",
       "</div>\n"
      ]
     },
     "metadata": {},
     "output_type": "display_data"
    },
    {
     "data": {
      "text/html": [
       "<div>\n",
       "  <span style=\"float: left;\">show at cmd63.sc:18</span>\n",
       "</div>\n"
      ]
     },
     "metadata": {},
     "output_type": "display_data"
    },
    {
     "data": {
      "text/html": [
       "<div class=\"progress\">\n",
       "  <div class=\"progress-bar\" role=\"progressbar\" style=\"background-color: blue; width: 100%; word-wrap: normal; white-space: nowrap; text-align: center; color: white\" aria-valuenow=\"100\" aria-valuemin=\"0\" aria-valuemax=\"100\">\n",
       "    4 / 4\n",
       "  </div>\n",
       "  <div class=\"progress-bar\" role=\"progressbar\" style=\"background-color: red; width: 0%\" aria-valuenow=\"0\" aria-valuemin=\"0\" aria-valuemax=\"100\"></div>\n",
       "</div>\n"
      ]
     },
     "metadata": {},
     "output_type": "display_data"
    },
    {
     "data": {
      "text/html": [
       "<div>\n",
       "  <span style=\"float: left;\">show at cmd63.sc:18</span>\n",
       "</div>\n"
      ]
     },
     "metadata": {},
     "output_type": "display_data"
    },
    {
     "data": {
      "text/html": [
       "<div class=\"progress\">\n",
       "  <div class=\"progress-bar\" role=\"progressbar\" style=\"background-color: blue; width: 100%; word-wrap: normal; white-space: nowrap; text-align: center; color: white\" aria-valuenow=\"100\" aria-valuemin=\"0\" aria-valuemax=\"100\">\n",
       "    4 / 4\n",
       "  </div>\n",
       "  <div class=\"progress-bar\" role=\"progressbar\" style=\"background-color: red; width: 0%\" aria-valuenow=\"0\" aria-valuemin=\"0\" aria-valuemax=\"100\"></div>\n",
       "</div>\n"
      ]
     },
     "metadata": {},
     "output_type": "display_data"
    },
    {
     "data": {
      "text/html": [
       "<div>\n",
       "  <span style=\"float: left;\">show at cmd63.sc:18</span>\n",
       "</div>\n"
      ]
     },
     "metadata": {},
     "output_type": "display_data"
    },
    {
     "data": {
      "text/html": [
       "<div class=\"progress\">\n",
       "  <div class=\"progress-bar\" role=\"progressbar\" style=\"background-color: blue; width: 100%; word-wrap: normal; white-space: nowrap; text-align: center; color: white\" aria-valuenow=\"100\" aria-valuemin=\"0\" aria-valuemax=\"100\">\n",
       "    4 / 4\n",
       "  </div>\n",
       "  <div class=\"progress-bar\" role=\"progressbar\" style=\"background-color: red; width: 0%\" aria-valuenow=\"0\" aria-valuemin=\"0\" aria-valuemax=\"100\"></div>\n",
       "</div>\n"
      ]
     },
     "metadata": {},
     "output_type": "display_data"
    },
    {
     "data": {
      "text/html": [
       "<div>\n",
       "  <span style=\"float: left;\">show at cmd63.sc:18</span>\n",
       "</div>\n"
      ]
     },
     "metadata": {},
     "output_type": "display_data"
    },
    {
     "data": {
      "text/html": [
       "<div class=\"progress\">\n",
       "  <div class=\"progress-bar\" role=\"progressbar\" style=\"background-color: blue; width: 100%; word-wrap: normal; white-space: nowrap; text-align: center; color: white\" aria-valuenow=\"100\" aria-valuemin=\"0\" aria-valuemax=\"100\">\n",
       "    20 / 20\n",
       "  </div>\n",
       "  <div class=\"progress-bar\" role=\"progressbar\" style=\"background-color: red; width: 0%\" aria-valuenow=\"0\" aria-valuemin=\"0\" aria-valuemax=\"100\"></div>\n",
       "</div>\n"
      ]
     },
     "metadata": {},
     "output_type": "display_data"
    },
    {
     "data": {
      "text/html": [
       "<div>\n",
       "  <span style=\"float: left;\">show at cmd63.sc:18</span>\n",
       "</div>\n"
      ]
     },
     "metadata": {},
     "output_type": "display_data"
    },
    {
     "data": {
      "text/html": [
       "<div class=\"progress\">\n",
       "  <div class=\"progress-bar\" role=\"progressbar\" style=\"background-color: blue; width: 100%; word-wrap: normal; white-space: nowrap; text-align: center; color: white\" aria-valuenow=\"100\" aria-valuemin=\"0\" aria-valuemax=\"100\">\n",
       "    20 / 20\n",
       "  </div>\n",
       "  <div class=\"progress-bar\" role=\"progressbar\" style=\"background-color: red; width: 0%\" aria-valuenow=\"0\" aria-valuemin=\"0\" aria-valuemax=\"100\"></div>\n",
       "</div>\n"
      ]
     },
     "metadata": {},
     "output_type": "display_data"
    },
    {
     "data": {
      "text/html": [
       "<div>\n",
       "  <span style=\"float: left;\">show at cmd63.sc:18</span>\n",
       "</div>\n"
      ]
     },
     "metadata": {},
     "output_type": "display_data"
    },
    {
     "data": {
      "text/html": [
       "<div class=\"progress\">\n",
       "  <div class=\"progress-bar\" role=\"progressbar\" style=\"background-color: blue; width: 100%; word-wrap: normal; white-space: nowrap; text-align: center; color: white\" aria-valuenow=\"100\" aria-valuemin=\"0\" aria-valuemax=\"100\">\n",
       "    20 / 20\n",
       "  </div>\n",
       "  <div class=\"progress-bar\" role=\"progressbar\" style=\"background-color: red; width: 0%\" aria-valuenow=\"0\" aria-valuemin=\"0\" aria-valuemax=\"100\"></div>\n",
       "</div>\n"
      ]
     },
     "metadata": {},
     "output_type": "display_data"
    },
    {
     "name": "stdout",
     "output_type": "stream",
     "text": [
      "+--------------------+----------+------------------+\n",
      "|            datetime|percentage|             value|\n",
      "+--------------------+----------+------------------+\n",
      "|2014-01-01T00:00:...|       1.0|50.410000000000004|\n",
      "|2014-02-01T00:00:...|       1.0|             33.41|\n",
      "|2014-03-01T00:00:...|       1.0|             40.33|\n",
      "|2014-04-01T00:00:...|       1.0|              40.5|\n",
      "|2014-05-01T00:00:...|       1.0|             53.21|\n",
      "|2014-06-01T00:00:...|       1.0|             61.49|\n",
      "|2014-07-01T00:00:...|       1.0|59.480000000000004|\n",
      "|2014-08-01T00:00:...|       1.0|59.529999999999994|\n",
      "|2014-09-01T00:00:...|       1.0|             70.18|\n",
      "|2014-10-01T00:00:...|       1.0|             68.25|\n",
      "|2014-11-01T00:00:...|       1.0|60.190000000000005|\n",
      "|2014-12-01T00:00:...|       1.0|             62.01|\n",
      "|2015-01-01T00:00:...|       1.0|             67.46|\n",
      "|2015-02-01T00:00:...|       1.0|59.010000000000005|\n",
      "|2015-03-01T00:00:...|       1.0|56.800000000000004|\n",
      "|2015-04-01T00:00:...|       1.0|             59.44|\n",
      "|2015-05-01T00:00:...|       1.0|             57.97|\n",
      "|2015-06-01T00:00:...|       1.0|             66.94|\n",
      "|2015-07-01T00:00:...|       1.0|             72.45|\n",
      "|2015-08-01T00:00:...|       1.0|             65.05|\n",
      "+--------------------+----------+------------------+\n",
      "only showing top 20 rows\n",
      "\n"
     ]
    },
    {
     "data": {
      "text/plain": [
       "\u001b[36mrango\u001b[39m: \u001b[32mcollection\u001b[39m.\u001b[32mimmutable\u001b[39m.\u001b[32mIndexedSeq\u001b[39m[(\u001b[32mString\u001b[39m, \u001b[32mString\u001b[39m)] = \u001b[33mVector\u001b[39m(\n",
       "  (\u001b[32m\"2014-01-01T00:00\"\u001b[39m, \u001b[32m\"2014-12-31T23:59\"\u001b[39m),\n",
       "  (\u001b[32m\"2015-01-01T00:00\"\u001b[39m, \u001b[32m\"2015-12-31T23:59\"\u001b[39m),\n",
       "  (\u001b[32m\"2016-01-01T00:00\"\u001b[39m, \u001b[32m\"2016-12-31T23:59\"\u001b[39m),\n",
       "  (\u001b[32m\"2017-01-01T00:00\"\u001b[39m, \u001b[32m\"2017-12-31T23:59\"\u001b[39m),\n",
       "  (\u001b[32m\"2018-01-01T00:00\"\u001b[39m, \u001b[32m\"2018-12-31T23:59\"\u001b[39m),\n",
       "  (\u001b[32m\"2019-01-01T00:00\"\u001b[39m, \u001b[32m\"2019-12-31T23:59\"\u001b[39m),\n",
       "  (\u001b[32m\"2020-01-01T00:00\"\u001b[39m, \u001b[32m\"2020-12-31T23:59\"\u001b[39m),\n",
       "  (\u001b[32m\"2021-01-01T00:00\"\u001b[39m, \u001b[32m\"2021-12-31T23:59\"\u001b[39m),\n",
       "  (\u001b[32m\"2022-01-01T00:00\"\u001b[39m, \u001b[32m\"2022-12-31T23:59\"\u001b[39m)\n",
       ")\n",
       "\u001b[36murisRango\u001b[39m: \u001b[32mcollection\u001b[39m.\u001b[32mimmutable\u001b[39m.\u001b[32mIndexedSeq\u001b[39m[\u001b[32mString\u001b[39m] = \u001b[33mVector\u001b[39m(\n",
       "  \u001b[32m\"https://apidatos.ree.es/es/datos/mercados/componentes-precio?start_date=2014-01-01T00:00&geo_limits=ccaa&end_date=2014-12-31T23:59&ids=13&time_trunc=month\"\u001b[39m,\n",
       "  \u001b[32m\"https://apidatos.ree.es/es/datos/mercados/componentes-precio?start_date=2015-01-01T00:00&geo_limits=ccaa&end_date=2015-12-31T23:59&ids=13&time_trunc=month\"\u001b[39m,\n",
       "  \u001b[32m\"https://apidatos.ree.es/es/datos/mercados/componentes-precio?start_date=2016-01-01T00:00&geo_limits=ccaa&end_date=2016-12-31T23:59&ids=13&time_trunc=month\"\u001b[39m,\n",
       "  \u001b[32m\"https://apidatos.ree.es/es/datos/mercados/componentes-precio?start_date=2017-01-01T00:00&geo_limits=ccaa&end_date=2017-12-31T23:59&ids=13&time_trunc=month\"\u001b[39m,\n",
       "  \u001b[32m\"https://apidatos.ree.es/es/datos/mercados/componentes-precio?start_date=2018-01-01T00:00&geo_limits=ccaa&end_date=2018-12-31T23:59&ids=13&time_trunc=month\"\u001b[39m,\n",
       "  \u001b[32m\"https://apidatos.ree.es/es/datos/mercados/componentes-precio?start_date=2019-01-01T00:00&geo_limits=ccaa&end_date=2019-12-31T23:59&ids=13&time_trunc=month\"\u001b[39m,\n",
       "  \u001b[32m\"https://apidatos.ree.es/es/datos/mercados/componentes-precio?start_date=2020-01-01T00:00&geo_limits=ccaa&end_date=2020-12-31T23:59&ids=13&time_trunc=month\"\u001b[39m,\n",
       "  \u001b[32m\"https://apidatos.ree.es/es/datos/mercados/componentes-precio?start_date=2021-01-01T00:00&geo_limits=ccaa&end_date=2021-12-31T23:59&ids=13&time_trunc=month\"\u001b[39m,\n",
       "  \u001b[32m\"https://apidatos.ree.es/es/datos/mercados/componentes-precio?start_date=2022-01-01T00:00&geo_limits=ccaa&end_date=2022-12-31T23:59&ids=13&time_trunc=month\"\u001b[39m\n",
       ")\n",
       "\u001b[36mlistMercadosjson\u001b[39m: \u001b[32mcollection\u001b[39m.\u001b[32mimmutable\u001b[39m.\u001b[32mIndexedSeq\u001b[39m[\u001b[32mEither\u001b[39m[\u001b[32mString\u001b[39m, \u001b[32mString\u001b[39m]] = \u001b[33mVector\u001b[39m(\n",
       "  \u001b[33mRight\u001b[39m(\n",
       "    \u001b[32m\"{\\\"data\\\":{\\\"type\\\":\\\"Componentes del precio final mensual\\\",\\\"id\\\":\\\"mer2\\\",\\\"attributes\\\":{\\\"title\\\":\\\"Componentes del precio final mensual\\\",\\\"last-update\\\":\\\"2016-04-27T08:16:21.000+02:00\\\",\\\"description\\\":null},\\\"meta\\\":{\\\"cache-control\\\":{\\\"cache\\\":\\\"MISS\\\"}}},\\\"included\\\":[{\\\"type\\\":\\\"Mercado diario\\\",\\\"id\\\":\\\"883\\\",\\\"groupId\\\":\\\"Precio total (\\\\u20ac\\\\/MWh)\\\",\\\"attributes\\\":{\\\"title\\\":\\\"Mercado diario\\\",\\\"description\\\":null,\\\"color\\\":\\\"#006699\\\",\\\"type\\\":null,\\\"magnitude\\\":\\\"price\\\",\\\"composite\\\":false,\\\"last-update\\\":\\\"2016-04-27T08:16:21.000+02:00\\\",\\\"values\\\":[{\\\"value\\\":36.39,\\\"percentage\\\":0.8371290545203589,\\\"datetime\\\":\\\"2014-01-01T00:00:00.000+01:00\\\"},{\\\"value\\\":18.77,\\\"percentage\\\":0.7280837858805275,\\\"datetime\\\":\\\"2014-02-01T00:00:00.000+01:00\\\"},{\\\"value\\\":27.9,\\\"percentage\\\":0.8345797188154352,\\\"datetime\\\":\\\"2014-03-01T00:00:00.000+01:00\\\"},{\\\"value\\\":27.26,\\\"percentage\\\":0.8359398957375039,\\\"datetime\\\":\\\"2014-04-01T00:00:00.000+02:00\\\"},{\\\"value\\\":43.18,\\\"percentage\\\":0.8936258278145696,\\\"datetime\\\":\\\"2014-05-01T00:00:00.000+02:00\\\"},{\\\"value\\\":51.92,\\\"percentage\\\":0.8937855052504734,\\\"datetime\\\":\\\"2014-06-01T00:00:00.000+02:00\\\"},{\\\"value\\\":49.09,\\\"percentage\\\":0.8719360568383658,\\\"datetime\\\":\\\"2014-07-01T00:00:00.000+02:00\\\"},{\\\"value\\\":50.71,\\\"percentage\\\":0.9138583528563705,\\\"datetime\\\":\\\"2014-08-01T00:00:00.000+02:00\\\"},{\\\"value\\\":59.9,\\\"percentage\\\":0.9159021406727827,\\\"datetime\\\":\\\"2014-09-01T00:00:00.000+02:00\\\"},{\\\"value\\\":56.84,\\\"percentage\\\":0.9144144144144144,\\\"datetime\\\":\\\"2014-10-01T00:00:00.000+02:00\\\"},{\\\"value\\\":48.68,\\\"percentage\\\":0.8991503509420022,\\\"datetime\\\":\\\"2014-11-01T00:00:00.000+01:00\\\"},{\\\"value\\\":49.43,\\\"percentage\\\":0.8778192150594921,\\\"datetime\\\":\\\"2014-12-01T00:00:00.000+01:00\\\"}]}},{\\\"type\\\":\\\"Mercado intradiario (subastas MIBEL y continuo)\\\",\\\"id\\\":\\\"886\\\",\\\"groupId\\\":\\\"Precio total (\\\\u20ac\\\\/MWh)\\\",\\\"attributes\\\":{\\\"title\\\":\\\"Mercado intradiario (subastas MIBEL y continuo)\\\",\\\"description\\\":null,\\\"color\\\":\\\"#d90000\\\",\\\"type\\\":null,\\\"magnitude\\\":\\\"price\\\",\\\"composite\\\":false,\\\"last-update\\\":\\\"2016-04-27T08:16:21.000+02:00\\\",\\\"values\\\":[{\\\"value\\\":-0.08,\\\"percentage\\\":0.0018403496664366231,\\\"datetime\\\":\\\"2014-01-01T00:00:00.000+01:00\\\"},{\\\"value\\\":-0.12,\\\"percentage\\\":0.004654771140418929,\\\"datetime\\\":\\\"2014-02-01T00:00:00.000+01:00\\\"},{\\\"value\\\":-0.07,\\\"percentage\\\":0.0020939276099312,\\\"datetime\\\":\\\"2014-03-01T00:00:00.000+01:00\\\"},{\\\"value\\\":-0.06,\\\"percentage\\\":0.0018399264029438822,\\\"datetime\\\":\\\"2014-04-01T00:00:00.000+02:00\\\"},{\\\"value\\\":0,\\\"percentage\\\":0,\\\"datetime\\\":\\\"2014-05-01T00:00:00.000+02:00\\\"},{\\\"value\\\":-0.03,\\\"percentage\\\":0.0005164400068858667,\\\"datetime\\\":\\\"2014-06-01T00:00:00.000+02:00\\\"},{\\\"value\\\":-0.04,\\\"percentage\\\":0.0007104795737122557,\\\"datetime\\\":\\\"2014-07-01T00:00:00.000+02:00\\\"},{\\\"value\\\":-0.02,\\\"percentage\\\":0.0003604253018561903,\\\"datetime\\\":\\\"2014-08-01T00:00:00.000+02:00\\\"},{\\\"value\\\":0.03,\\\"percentage\\\":0.0004\u001b[39m...\n",
       "\u001b[36mlistMercadosdf\u001b[39m: \u001b[32mcollection\u001b[39m.\u001b[32mimmutable\u001b[39m.\u001b[32mIndexedSeq\u001b[39m[\u001b[32mDataFrame\u001b[39m] = \u001b[33mVector\u001b[39m(\n",
       "  [datetime: string, percentage: double ... 1 more field],\n",
       "  [datetime: string, percentage: double ... 1 more field],\n",
       "  [datetime: string, percentage: double ... 1 more field],\n",
       "  [datetime: string, percentage: double ... 1 more field],\n",
       "  [datetime: string, percentage: double ... 1 more field],\n",
       "  [datetime: string, percentage: double ... 1 more field],\n",
       "  [datetime: string, percentage: double ... 1 more field],\n",
       "  [datetime: string, percentage: double ... 1 more field],\n",
       "  [datetime: string, percentage: double ... 1 more field]\n",
       ")\n",
       "\u001b[36munionDataFrameMercados\u001b[39m: \u001b[32mDataFrame\u001b[39m = [datetime: string, percentage: double ... 1 more field]"
      ]
     },
     "execution_count": 64,
     "metadata": {},
     "output_type": "execute_result"
    }
   ],
   "source": [
    "//Creamos un rango con los años que queremos y con un map le damos formato datetime\n",
    "\n",
    "val rango = (2014 to 2022).map( year => (year + \"-01-01T00:00\", year + \"-12-31T23:59\"))\n",
    "\n",
    "val urisRango = rango.map {\n",
    "    case (inicio, fin) => createApiUri(category, widget, inicio, fin, time_trunc, lang, geo_limits, ids)\n",
    "    }\n",
    "\n",
    "val listMercadosjson = urisRango.map(getDataApi(_))\n",
    "\n",
    "val listMercadosdf = listMercadosjson.map{\n",
    "    responseToDF(_)\n",
    "    .withColumn(\"included\", explode($\"included\"))\n",
    "    .withColumn(\"valores\", explode($\"included.attributes.values\"))\n",
    "    .filter($\"included.type\" === \"distinct\")\n",
    "    .select(\"valores.*\")\n",
    "}\n",
    "\n",
    "val unionDataFrameMercados = listMercadosdf.reduce(_ union _)\n",
    "unionDataFrameMercados.show()"
   ]
  },
  {
   "cell_type": "markdown",
   "metadata": {},
   "source": [
    "### Pintar gráfico unión"
   ]
  },
  {
   "cell_type": "code",
   "execution_count": 65,
   "metadata": {},
   "outputs": [
    {
     "data": {
      "text/html": [
       "<div>\n",
       "  <span style=\"float: left;\">collect at cmd64.sc:1</span>\n",
       "</div>\n"
      ]
     },
     "metadata": {},
     "output_type": "display_data"
    },
    {
     "data": {
      "text/html": [
       "<div class=\"progress\">\n",
       "  <div class=\"progress-bar\" role=\"progressbar\" style=\"background-color: blue; width: 100%; word-wrap: normal; white-space: nowrap; text-align: center; color: white\" aria-valuenow=\"100\" aria-valuemin=\"0\" aria-valuemax=\"100\">\n",
       "    72 / 72\n",
       "  </div>\n",
       "  <div class=\"progress-bar\" role=\"progressbar\" style=\"background-color: red; width: 0%\" aria-valuenow=\"0\" aria-valuemin=\"0\" aria-valuemax=\"100\"></div>\n",
       "</div>\n"
      ]
     },
     "metadata": {},
     "output_type": "display_data"
    },
    {
     "data": {
      "text/html": [
       "<div>\n",
       "  <span style=\"float: left;\">collect at cmd64.sc:1</span>\n",
       "</div>\n"
      ]
     },
     "metadata": {},
     "output_type": "display_data"
    },
    {
     "data": {
      "text/html": [
       "<div class=\"progress\">\n",
       "  <div class=\"progress-bar\" role=\"progressbar\" style=\"background-color: blue; width: 100%; word-wrap: normal; white-space: nowrap; text-align: center; color: white\" aria-valuenow=\"100\" aria-valuemin=\"0\" aria-valuemax=\"100\">\n",
       "    72 / 72\n",
       "  </div>\n",
       "  <div class=\"progress-bar\" role=\"progressbar\" style=\"background-color: red; width: 0%\" aria-valuenow=\"0\" aria-valuemin=\"0\" aria-valuemax=\"100\"></div>\n",
       "</div>\n"
      ]
     },
     "metadata": {},
     "output_type": "display_data"
    },
    {
     "data": {
      "text/html": [
       "<div>\n",
       "  <span style=\"float: left;\">collect at cmd64.sc:1</span>\n",
       "</div>\n"
      ]
     },
     "metadata": {},
     "output_type": "display_data"
    },
    {
     "data": {
      "text/html": [
       "<div class=\"progress\">\n",
       "  <div class=\"progress-bar\" role=\"progressbar\" style=\"background-color: blue; width: 100%; word-wrap: normal; white-space: nowrap; text-align: center; color: white\" aria-valuenow=\"100\" aria-valuemin=\"0\" aria-valuemax=\"100\">\n",
       "    72 / 72\n",
       "  </div>\n",
       "  <div class=\"progress-bar\" role=\"progressbar\" style=\"background-color: red; width: 0%\" aria-valuenow=\"0\" aria-valuemin=\"0\" aria-valuemax=\"100\"></div>\n",
       "</div>\n"
      ]
     },
     "metadata": {},
     "output_type": "display_data"
    },
    {
     "data": {
      "text/html": [
       "<div>\n",
       "  <span style=\"float: left;\">collect at cmd64.sc:2</span>\n",
       "</div>\n"
      ]
     },
     "metadata": {},
     "output_type": "display_data"
    },
    {
     "data": {
      "text/html": [
       "<div class=\"progress\">\n",
       "  <div class=\"progress-bar\" role=\"progressbar\" style=\"background-color: blue; width: 100%; word-wrap: normal; white-space: nowrap; text-align: center; color: white\" aria-valuenow=\"100\" aria-valuemin=\"0\" aria-valuemax=\"100\">\n",
       "    72 / 72\n",
       "  </div>\n",
       "  <div class=\"progress-bar\" role=\"progressbar\" style=\"background-color: red; width: 0%\" aria-valuenow=\"0\" aria-valuemin=\"0\" aria-valuemax=\"100\"></div>\n",
       "</div>\n"
      ]
     },
     "metadata": {},
     "output_type": "display_data"
    },
    {
     "data": {
      "text/html": [
       "<div>\n",
       "  <span style=\"float: left;\">collect at cmd64.sc:2</span>\n",
       "</div>\n"
      ]
     },
     "metadata": {},
     "output_type": "display_data"
    },
    {
     "data": {
      "text/html": [
       "<div class=\"progress\">\n",
       "  <div class=\"progress-bar\" role=\"progressbar\" style=\"background-color: blue; width: 100%; word-wrap: normal; white-space: nowrap; text-align: center; color: white\" aria-valuenow=\"100\" aria-valuemin=\"0\" aria-valuemax=\"100\">\n",
       "    72 / 72\n",
       "  </div>\n",
       "  <div class=\"progress-bar\" role=\"progressbar\" style=\"background-color: red; width: 0%\" aria-valuenow=\"0\" aria-valuemin=\"0\" aria-valuemax=\"100\"></div>\n",
       "</div>\n"
      ]
     },
     "metadata": {},
     "output_type": "display_data"
    },
    {
     "data": {
      "text/html": [
       "<div>\n",
       "  <span style=\"float: left;\">collect at cmd64.sc:2</span>\n",
       "</div>\n"
      ]
     },
     "metadata": {},
     "output_type": "display_data"
    },
    {
     "data": {
      "text/html": [
       "<div class=\"progress\">\n",
       "  <div class=\"progress-bar\" role=\"progressbar\" style=\"background-color: blue; width: 100%; word-wrap: normal; white-space: nowrap; text-align: center; color: white\" aria-valuenow=\"100\" aria-valuemin=\"0\" aria-valuemax=\"100\">\n",
       "    72 / 72\n",
       "  </div>\n",
       "  <div class=\"progress-bar\" role=\"progressbar\" style=\"background-color: red; width: 0%\" aria-valuenow=\"0\" aria-valuemin=\"0\" aria-valuemax=\"100\"></div>\n",
       "</div>\n"
      ]
     },
     "metadata": {},
     "output_type": "display_data"
    },
    {
     "data": {
      "application/vnd.plotly.v1+json": {
       "data": [
        {
         "type": "scatter",
         "x": [
          "2014-01-01T00:00:00.000+01:00",
          "2014-02-01T00:00:00.000+01:00",
          "2014-03-01T00:00:00.000+01:00",
          "2014-04-01T00:00:00.000+02:00",
          "2014-05-01T00:00:00.000+02:00",
          "2014-06-01T00:00:00.000+02:00",
          "2014-07-01T00:00:00.000+02:00",
          "2014-08-01T00:00:00.000+02:00",
          "2014-09-01T00:00:00.000+02:00",
          "2014-10-01T00:00:00.000+02:00",
          "2014-11-01T00:00:00.000+01:00",
          "2014-12-01T00:00:00.000+01:00",
          "2015-01-01T00:00:00.000+01:00",
          "2015-02-01T00:00:00.000+01:00",
          "2015-03-01T00:00:00.000+01:00",
          "2015-04-01T00:00:00.000+02:00",
          "2015-05-01T00:00:00.000+02:00",
          "2015-06-01T00:00:00.000+02:00",
          "2015-07-01T00:00:00.000+02:00",
          "2015-08-01T00:00:00.000+02:00",
          "2015-09-01T00:00:00.000+02:00",
          "2015-10-01T00:00:00.000+02:00",
          "2015-11-01T00:00:00.000+01:00",
          "2015-12-01T00:00:00.000+01:00",
          "2016-01-01T00:00:00.000+01:00",
          "2016-02-01T00:00:00.000+01:00",
          "2016-03-01T00:00:00.000+01:00",
          "2016-04-01T00:00:00.000+02:00",
          "2016-05-01T00:00:00.000+02:00",
          "2016-06-01T00:00:00.000+02:00",
          "2016-07-01T00:00:00.000+02:00",
          "2016-08-01T00:00:00.000+02:00",
          "2016-09-01T00:00:00.000+02:00",
          "2016-10-01T00:00:00.000+02:00",
          "2016-11-01T00:00:00.000+01:00",
          "2016-12-01T00:00:00.000+01:00",
          "2017-01-01T00:00:00.000+01:00",
          "2017-02-01T00:00:00.000+01:00",
          "2017-03-01T00:00:00.000+01:00",
          "2017-04-01T00:00:00.000+02:00",
          "2017-05-01T00:00:00.000+02:00",
          "2017-06-01T00:00:00.000+02:00",
          "2017-07-01T00:00:00.000+02:00",
          "2017-08-01T00:00:00.000+02:00",
          "2017-09-01T00:00:00.000+02:00",
          "2017-10-01T00:00:00.000+02:00",
          "2017-11-01T00:00:00.000+01:00",
          "2017-12-01T00:00:00.000+01:00",
          "2018-01-01T00:00:00.000+01:00",
          "2018-02-01T00:00:00.000+01:00",
          "2018-03-01T00:00:00.000+01:00",
          "2018-04-01T00:00:00.000+02:00",
          "2018-05-01T00:00:00.000+02:00",
          "2018-06-01T00:00:00.000+02:00",
          "2018-07-01T00:00:00.000+02:00",
          "2018-08-01T00:00:00.000+02:00",
          "2018-09-01T00:00:00.000+02:00",
          "2018-10-01T00:00:00.000+02:00",
          "2018-11-01T00:00:00.000+01:00",
          "2018-12-01T00:00:00.000+01:00",
          "2019-01-01T00:00:00.000+01:00",
          "2019-02-01T00:00:00.000+01:00",
          "2019-03-01T00:00:00.000+01:00",
          "2019-04-01T00:00:00.000+02:00",
          "2019-05-01T00:00:00.000+02:00",
          "2019-06-01T00:00:00.000+02:00",
          "2019-07-01T00:00:00.000+02:00",
          "2019-08-01T00:00:00.000+02:00",
          "2019-09-01T00:00:00.000+02:00",
          "2019-10-01T00:00:00.000+02:00",
          "2019-11-01T00:00:00.000+01:00",
          "2019-12-01T00:00:00.000+01:00",
          "2020-01-01T00:00:00.000+01:00",
          "2020-02-01T00:00:00.000+01:00",
          "2020-03-01T00:00:00.000+01:00",
          "2020-04-01T00:00:00.000+02:00",
          "2020-05-01T00:00:00.000+02:00",
          "2020-06-01T00:00:00.000+02:00",
          "2020-07-01T00:00:00.000+02:00",
          "2020-08-01T00:00:00.000+02:00",
          "2020-09-01T00:00:00.000+02:00",
          "2020-10-01T00:00:00.000+02:00",
          "2020-11-01T00:00:00.000+01:00",
          "2020-12-01T00:00:00.000+01:00",
          "2021-01-01T00:00:00.000+01:00",
          "2021-02-01T00:00:00.000+01:00",
          "2021-03-01T00:00:00.000+01:00",
          "2021-04-01T00:00:00.000+02:00",
          "2021-05-01T00:00:00.000+02:00",
          "2021-06-01T00:00:00.000+02:00",
          "2021-07-01T00:00:00.000+02:00",
          "2021-08-01T00:00:00.000+02:00",
          "2021-09-01T00:00:00.000+02:00",
          "2021-10-01T00:00:00.000+02:00",
          "2021-11-01T00:00:00.000+01:00",
          "2021-12-01T00:00:00.000+01:00",
          "2022-01-01T00:00:00.000+01:00",
          "2022-02-01T00:00:00.000+01:00",
          "2022-03-01T00:00:00.000+01:00",
          "2022-04-01T00:00:00.000+02:00",
          "2022-05-01T00:00:00.000+02:00",
          "2022-06-01T00:00:00.000+02:00",
          "2022-07-01T00:00:00.000+02:00",
          "2022-08-01T00:00:00.000+02:00",
          "2022-09-01T00:00:00.000+02:00",
          "2022-10-01T00:00:00.000+02:00",
          "2022-11-01T00:00:00.000+01:00",
          "2022-12-01T00:00:00.000+01:00"
         ],
         "y": [
          50.410000000000004,
          33.41,
          40.33,
          40.5,
          53.21,
          61.49,
          59.480000000000004,
          59.529999999999994,
          70.18,
          68.25,
          60.190000000000005,
          62.01,
          67.46,
          59.010000000000005,
          56.800000000000004,
          59.44,
          57.97,
          66.94,
          72.45,
          65.05,
          60.910000000000004,
          60.230000000000004,
          61.93,
          63.400000000000006,
          47.29,
          38.01,
          37.61,
          33.35,
          35.51,
          46.65,
          48.120000000000005,
          48.06,
          51.06,
          61.17,
          63.81,
          68.87,
          81.51,
          61.08,
          51.580000000000005,
          52.040000000000006,
          54.169999999999995,
          56.86000000000001,
          55.86,
          54.620000000000005,
          56.21,
          64.76,
          66.75999999999999,
          67.22000000000001,
          58.17000000000001,
          61.910000000000004,
          49.790000000000006,
          51.199999999999996,
          62.03,
          64.80999999999999,
          68.41,
          71.10000000000001,
          77.53999999999999,
          71.44,
          67.63000000000001,
          67.91,
          67.91,
          59.79,
          54.08,
          56.540000000000006,
          53.71,
          52.11000000000001,
          56.65,
          49.15,
          46.76000000000001,
          52.17,
          48.23,
          41.120000000000005,
          46.87,
          41.339999999999996,
          33.13,
          25.18,
          27.279999999999994,
          35.98,
          39.97,
          41.00000000000001,
          47.41,
          42.63,
          48.08,
          48.91,
          70.10000000000001,
          36.69,
          51.92,
          71.42,
          73.89,
          87.11,
          96.28999999999999,
          111.28999999999999,
          160.48,
          209.08999999999997,
          203.70000000000002,
          251.53000000000003,
          209.76000000000002,
          205.53999999999996,
          294.19,
          202.73000000000002,
          195.45999999999998,
          175.34,
          149.38000000000002,
          161.76,
          151.33999999999997,
          138.66000000000003,
          124.53,
          113.80000000000001
         ]
        }
       ],
       "layout": {
        "autosize": true,
        "xaxis": {
         "autorange": true,
         "range": [
          "2014-01-01",
          "2022-12-01"
         ],
         "type": "date"
        },
        "yaxis": {
         "autorange": true,
         "range": [
          10.235,
          309.135
         ],
         "type": "linear"
        }
       }
      },
      "image/png": "[encoded data removed]",
      "text/html": [
       "<div class=\"chart\" id=\"plot-868ef9fd-23dc-4dfe-bc4f-05df046bbe67\"></div>\n",
       "<script>require(['plotly'], function(Plotly) {\n",
       "  (function () {\n",
       "  var data0 = {\"x\":[\"2014-01-01T00:00:00.000+01:00\",\"2014-02-01T00:00:00.000+01:00\",\"2014-03-01T00:00:00.000+01:00\",\"2014-04-01T00:00:00.000+02:00\",\"2014-05-01T00:00:00.000+02:00\",\"2014-06-01T00:00:00.000+02:00\",\"2014-07-01T00:00:00.000+02:00\",\"2014-08-01T00:00:00.000+02:00\",\"2014-09-01T00:00:00.000+02:00\",\"2014-10-01T00:00:00.000+02:00\",\"2014-11-01T00:00:00.000+01:00\",\"2014-12-01T00:00:00.000+01:00\",\"2015-01-01T00:00:00.000+01:00\",\"2015-02-01T00:00:00.000+01:00\",\"2015-03-01T00:00:00.000+01:00\",\"2015-04-01T00:00:00.000+02:00\",\"2015-05-01T00:00:00.000+02:00\",\"2015-06-01T00:00:00.000+02:00\",\"2015-07-01T00:00:00.000+02:00\",\"2015-08-01T00:00:00.000+02:00\",\"2015-09-01T00:00:00.000+02:00\",\"2015-10-01T00:00:00.000+02:00\",\"2015-11-01T00:00:00.000+01:00\",\"2015-12-01T00:00:00.000+01:00\",\"2016-01-01T00:00:00.000+01:00\",\"2016-02-01T00:00:00.000+01:00\",\"2016-03-01T00:00:00.000+01:00\",\"2016-04-01T00:00:00.000+02:00\",\"2016-05-01T00:00:00.000+02:00\",\"2016-06-01T00:00:00.000+02:00\",\"2016-07-01T00:00:00.000+02:00\",\"2016-08-01T00:00:00.000+02:00\",\"2016-09-01T00:00:00.000+02:00\",\"2016-10-01T00:00:00.000+02:00\",\"2016-11-01T00:00:00.000+01:00\",\"2016-12-01T00:00:00.000+01:00\",\"2017-01-01T00:00:00.000+01:00\",\"2017-02-01T00:00:00.000+01:00\",\"2017-03-01T00:00:00.000+01:00\",\"2017-04-01T00:00:00.000+02:00\",\"2017-05-01T00:00:00.000+02:00\",\"2017-06-01T00:00:00.000+02:00\",\"2017-07-01T00:00:00.000+02:00\",\"2017-08-01T00:00:00.000+02:00\",\"2017-09-01T00:00:00.000+02:00\",\"2017-10-01T00:00:00.000+02:00\",\"2017-11-01T00:00:00.000+01:00\",\"2017-12-01T00:00:00.000+01:00\",\"2018-01-01T00:00:00.000+01:00\",\"2018-02-01T00:00:00.000+01:00\",\"2018-03-01T00:00:00.000+01:00\",\"2018-04-01T00:00:00.000+02:00\",\"2018-05-01T00:00:00.000+02:00\",\"2018-06-01T00:00:00.000+02:00\",\"2018-07-01T00:00:00.000+02:00\",\"2018-08-01T00:00:00.000+02:00\",\"2018-09-01T00:00:00.000+02:00\",\"2018-10-01T00:00:00.000+02:00\",\"2018-11-01T00:00:00.000+01:00\",\"2018-12-01T00:00:00.000+01:00\",\"2019-01-01T00:00:00.000+01:00\",\"2019-02-01T00:00:00.000+01:00\",\"2019-03-01T00:00:00.000+01:00\",\"2019-04-01T00:00:00.000+02:00\",\"2019-05-01T00:00:00.000+02:00\",\"2019-06-01T00:00:00.000+02:00\",\"2019-07-01T00:00:00.000+02:00\",\"2019-08-01T00:00:00.000+02:00\",\"2019-09-01T00:00:00.000+02:00\",\"2019-10-01T00:00:00.000+02:00\",\"2019-11-01T00:00:00.000+01:00\",\"2019-12-01T00:00:00.000+01:00\",\"2020-01-01T00:00:00.000+01:00\",\"2020-02-01T00:00:00.000+01:00\",\"2020-03-01T00:00:00.000+01:00\",\"2020-04-01T00:00:00.000+02:00\",\"2020-05-01T00:00:00.000+02:00\",\"2020-06-01T00:00:00.000+02:00\",\"2020-07-01T00:00:00.000+02:00\",\"2020-08-01T00:00:00.000+02:00\",\"2020-09-01T00:00:00.000+02:00\",\"2020-10-01T00:00:00.000+02:00\",\"2020-11-01T00:00:00.000+01:00\",\"2020-12-01T00:00:00.000+01:00\",\"2021-01-01T00:00:00.000+01:00\",\"2021-02-01T00:00:00.000+01:00\",\"2021-03-01T00:00:00.000+01:00\",\"2021-04-01T00:00:00.000+02:00\",\"2021-05-01T00:00:00.000+02:00\",\"2021-06-01T00:00:00.000+02:00\",\"2021-07-01T00:00:00.000+02:00\",\"2021-08-01T00:00:00.000+02:00\",\"2021-09-01T00:00:00.000+02:00\",\"2021-10-01T00:00:00.000+02:00\",\"2021-11-01T00:00:00.000+01:00\",\"2021-12-01T00:00:00.000+01:00\",\"2022-01-01T00:00:00.000+01:00\",\"2022-02-01T00:00:00.000+01:00\",\"2022-03-01T00:00:00.000+01:00\",\"2022-04-01T00:00:00.000+02:00\",\"2022-05-01T00:00:00.000+02:00\",\"2022-06-01T00:00:00.000+02:00\",\"2022-07-01T00:00:00.000+02:00\",\"2022-08-01T00:00:00.000+02:00\",\"2022-09-01T00:00:00.000+02:00\",\"2022-10-01T00:00:00.000+02:00\",\"2022-11-01T00:00:00.000+01:00\",\"2022-12-01T00:00:00.000+01:00\"],\"y\":[50.410000000000004,33.41,40.33,40.5,53.21,61.49,59.480000000000004,59.529999999999994,70.18,68.25,60.190000000000005,62.01,67.46,59.010000000000005,56.800000000000004,59.44,57.97,66.94,72.45,65.05,60.910000000000004,60.230000000000004,61.93,63.400000000000006,47.29,38.01,37.61,33.35,35.51,46.65,48.120000000000005,48.06,51.06,61.17,63.81,68.87,81.51,61.08,51.580000000000005,52.040000000000006,54.169999999999995,56.86000000000001,55.86,54.620000000000005,56.21,64.76,66.75999999999999,67.22000000000001,58.17000000000001,61.910000000000004,49.790000000000006,51.199999999999996,62.03,64.80999999999999,68.41,71.10000000000001,77.53999999999999,71.44,67.63000000000001,67.91,67.91,59.79,54.08,56.540000000000006,53.71,52.11000000000001,56.65,49.15,46.76000000000001,52.17,48.23,41.120000000000005,46.87,41.339999999999996,33.13,25.18,27.279999999999994,35.98,39.97,41.00000000000001,47.41,42.63,48.08,48.91,70.10000000000001,36.69,51.92,71.42,73.89,87.11,96.28999999999999,111.28999999999999,160.48,209.08999999999997,203.70000000000002,251.53000000000003,209.76000000000002,205.53999999999996,294.19,202.73000000000002,195.45999999999998,175.34,149.38000000000002,161.76,151.33999999999997,138.66000000000003,124.53,113.80000000000001],\"type\":\"scatter\"};\n",
       "\n",
       "  var data = [data0];\n",
       "  var layout = {};\n",
       "\n",
       "  Plotly.plot('plot-868ef9fd-23dc-4dfe-bc4f-05df046bbe67', data, layout);\n",
       "})();\n",
       "});\n",
       "      </script>\n",
       "           "
      ]
     },
     "metadata": {},
     "output_type": "display_data"
    },
    {
     "data": {
      "text/plain": [
       "\u001b[36mfecha\u001b[39m: \u001b[32mSeq\u001b[39m[\u001b[32mString\u001b[39m] = \u001b[33mWrappedArray\u001b[39m(\n",
       "  \u001b[32m\"2014-01-01T00:00:00.000+01:00\"\u001b[39m,\n",
       "  \u001b[32m\"2014-02-01T00:00:00.000+01:00\"\u001b[39m,\n",
       "  \u001b[32m\"2014-03-01T00:00:00.000+01:00\"\u001b[39m,\n",
       "  \u001b[32m\"2014-04-01T00:00:00.000+02:00\"\u001b[39m,\n",
       "  \u001b[32m\"2014-05-01T00:00:00.000+02:00\"\u001b[39m,\n",
       "  \u001b[32m\"2014-06-01T00:00:00.000+02:00\"\u001b[39m,\n",
       "  \u001b[32m\"2014-07-01T00:00:00.000+02:00\"\u001b[39m,\n",
       "  \u001b[32m\"2014-08-01T00:00:00.000+02:00\"\u001b[39m,\n",
       "  \u001b[32m\"2014-09-01T00:00:00.000+02:00\"\u001b[39m,\n",
       "  \u001b[32m\"2014-10-01T00:00:00.000+02:00\"\u001b[39m,\n",
       "  \u001b[32m\"2014-11-01T00:00:00.000+01:00\"\u001b[39m,\n",
       "  \u001b[32m\"2014-12-01T00:00:00.000+01:00\"\u001b[39m,\n",
       "  \u001b[32m\"2015-01-01T00:00:00.000+01:00\"\u001b[39m,\n",
       "  \u001b[32m\"2015-02-01T00:00:00.000+01:00\"\u001b[39m,\n",
       "  \u001b[32m\"2015-03-01T00:00:00.000+01:00\"\u001b[39m,\n",
       "  \u001b[32m\"2015-04-01T00:00:00.000+02:00\"\u001b[39m,\n",
       "  \u001b[32m\"2015-05-01T00:00:00.000+02:00\"\u001b[39m,\n",
       "  \u001b[32m\"2015-06-01T00:00:00.000+02:00\"\u001b[39m,\n",
       "  \u001b[32m\"2015-07-01T00:00:00.000+02:00\"\u001b[39m,\n",
       "  \u001b[32m\"2015-08-01T00:00:00.000+02:00\"\u001b[39m,\n",
       "  \u001b[32m\"2015-09-01T00:00:00.000+02:00\"\u001b[39m,\n",
       "  \u001b[32m\"2015-10-01T00:00:00.000+02:00\"\u001b[39m,\n",
       "  \u001b[32m\"2015-11-01T00:00:00.000+01:00\"\u001b[39m,\n",
       "  \u001b[32m\"2015-12-01T00:00:00.000+01:00\"\u001b[39m,\n",
       "  \u001b[32m\"2016-01-01T00:00:00.000+01:00\"\u001b[39m,\n",
       "  \u001b[32m\"2016-02-01T00:00:00.000+01:00\"\u001b[39m,\n",
       "  \u001b[32m\"2016-03-01T00:00:00.000+01:00\"\u001b[39m,\n",
       "  \u001b[32m\"2016-04-01T00:00:00.000+02:00\"\u001b[39m,\n",
       "  \u001b[32m\"2016-05-01T00:00:00.000+02:00\"\u001b[39m,\n",
       "  \u001b[32m\"2016-06-01T00:00:00.000+02:00\"\u001b[39m,\n",
       "  \u001b[32m\"2016-07-01T00:00:00.000+02:00\"\u001b[39m,\n",
       "  \u001b[32m\"2016-08-01T00:00:00.000+02:00\"\u001b[39m,\n",
       "  \u001b[32m\"2016-09-01T00:00:00.000+02:00\"\u001b[39m,\n",
       "  \u001b[32m\"2016-10-01T00:00:00.000+02:00\"\u001b[39m,\n",
       "  \u001b[32m\"2016-11-01T00:00:00.000+01:00\"\u001b[39m,\n",
       "  \u001b[32m\"2016-12-01T00:00:00.000+01:00\"\u001b[39m,\n",
       "  \u001b[32m\"2017-01-01T00:00:00.000+01:00\"\u001b[39m,\n",
       "  \u001b[32m\"2017-02-01T00:00:00.000+01:00\"\u001b[39m,\n",
       "...\n",
       "\u001b[36mprecio\u001b[39m: \u001b[32mSeq\u001b[39m[\u001b[32mDouble\u001b[39m] = \u001b[33mWrappedArray\u001b[39m(\n",
       "  \u001b[32m50.410000000000004\u001b[39m,\n",
       "  \u001b[32m33.41\u001b[39m,\n",
       "  \u001b[32m40.33\u001b[39m,\n",
       "  \u001b[32m40.5\u001b[39m,\n",
       "  \u001b[32m53.21\u001b[39m,\n",
       "  \u001b[32m61.49\u001b[39m,\n",
       "  \u001b[32m59.480000000000004\u001b[39m,\n",
       "  \u001b[32m59.529999999999994\u001b[39m,\n",
       "  \u001b[32m70.18\u001b[39m,\n",
       "  \u001b[32m68.25\u001b[39m,\n",
       "  \u001b[32m60.190000000000005\u001b[39m,\n",
       "  \u001b[32m62.01\u001b[39m,\n",
       "  \u001b[32m67.46\u001b[39m,\n",
       "  \u001b[32m59.010000000000005\u001b[39m,\n",
       "  \u001b[32m56.800000000000004\u001b[39m,\n",
       "  \u001b[32m59.44\u001b[39m,\n",
       "  \u001b[32m57.97\u001b[39m,\n",
       "  \u001b[32m66.94\u001b[39m,\n",
       "  \u001b[32m72.45\u001b[39m,\n",
       "  \u001b[32m65.05\u001b[39m,\n",
       "  \u001b[32m60.910000000000004\u001b[39m,\n",
       "  \u001b[32m60.230000000000004\u001b[39m,\n",
       "  \u001b[32m61.93\u001b[39m,\n",
       "  \u001b[32m63.400000000000006\u001b[39m,\n",
       "  \u001b[32m47.29\u001b[39m,\n",
       "  \u001b[32m38.01\u001b[39m,\n",
       "  \u001b[32m37.61\u001b[39m,\n",
       "  \u001b[32m33.35\u001b[39m,\n",
       "  \u001b[32m35.51\u001b[39m,\n",
       "  \u001b[32m46.65\u001b[39m,\n",
       "  \u001b[32m48.120000000000005\u001b[39m,\n",
       "  \u001b[32m48.06\u001b[39m,\n",
       "  \u001b[32m51.06\u001b[39m,\n",
       "  \u001b[32m61.17\u001b[39m,\n",
       "  \u001b[32m63.81\u001b[39m,\n",
       "  \u001b[32m68.87\u001b[39m,\n",
       "  \u001b[32m81.51\u001b[39m,\n",
       "  \u001b[32m61.08\u001b[39m,\n",
       "...\n",
       "\u001b[36mPrecioEnergia\u001b[39m: \u001b[32mScatter\u001b[39m = \u001b[33mScatter\u001b[39m(\n",
       "  \u001b[33mSome\u001b[39m(\n",
       "    \u001b[33mStrings\u001b[39m(\n",
       "      \u001b[33mWrappedArray\u001b[39m(\n",
       "        \u001b[32m\"2014-01-01T00:00:00.000+01:00\"\u001b[39m,\n",
       "        \u001b[32m\"2014-02-01T00:00:00.000+01:00\"\u001b[39m,\n",
       "        \u001b[32m\"2014-03-01T00:00:00.000+01:00\"\u001b[39m,\n",
       "        \u001b[32m\"2014-04-01T00:00:00.000+02:00\"\u001b[39m,\n",
       "        \u001b[32m\"2014-05-01T00:00:00.000+02:00\"\u001b[39m,\n",
       "        \u001b[32m\"2014-06-01T00:00:00.000+02:00\"\u001b[39m,\n",
       "        \u001b[32m\"2014-07-01T00:00:00.000+02:00\"\u001b[39m,\n",
       "        \u001b[32m\"2014-08-01T00:00:00.000+02:00\"\u001b[39m,\n",
       "        \u001b[32m\"2014-09-01T00:00:00.000+02:00\"\u001b[39m,\n",
       "        \u001b[32m\"2014-10-01T00:00:00.000+02:00\"\u001b[39m,\n",
       "        \u001b[32m\"2014-11-01T00:00:00.000+01:00\"\u001b[39m,\n",
       "        \u001b[32m\"2014-12-01T00:00:00.000+01:00\"\u001b[39m,\n",
       "        \u001b[32m\"2015-01-01T00:00:00.000+01:00\"\u001b[39m,\n",
       "        \u001b[32m\"2015-02-01T00:00:00.000+01:00\"\u001b[39m,\n",
       "        \u001b[32m\"2015-03-01T00:00:00.000+01:00\"\u001b[39m,\n",
       "        \u001b[32m\"2015-04-01T00:00:00.000+02:00\"\u001b[39m,\n",
       "        \u001b[32m\"2015-05-01T00:00:00.000+02:00\"\u001b[39m,\n",
       "        \u001b[32m\"2015-06-01T00:00:00.000+02:00\"\u001b[39m,\n",
       "        \u001b[32m\"2015-07-01T00:00:00.000+02:00\"\u001b[39m,\n",
       "        \u001b[32m\"2015-08-01T00:00:00.000+02:00\"\u001b[39m,\n",
       "        \u001b[32m\"2015-09-01T00:00:00.000+02:00\"\u001b[39m,\n",
       "        \u001b[32m\"2015-10-01T00:00:00.000+02:00\"\u001b[39m,\n",
       "        \u001b[32m\"2015-11-01T00:00:00.000+01:00\"\u001b[39m,\n",
       "        \u001b[32m\"2015-12-01T00:00:00.000+01:00\"\u001b[39m,\n",
       "        \u001b[32m\"2016-01-01T00:00:00.000+01:00\"\u001b[39m,\n",
       "        \u001b[32m\"2016-02-01T00:00:00.000+01:00\"\u001b[39m,\n",
       "        \u001b[32m\"2016-03-01T00:00:00.000+01:00\"\u001b[39m,\n",
       "        \u001b[32m\"2016-04-01T00:00:00.000+02:00\"\u001b[39m,\n",
       "        \u001b[32m\"2016-05-01T00:00:00.000+02:00\"\u001b[39m,\n",
       "        \u001b[32m\"2016-06-01T00:00:00.000+02:00\"\u001b[39m,\n",
       "        \u001b[32m\"2016-07-01T00:00:00.000+02:00\"\u001b[39m,\n",
       "        \u001b[32m\"2016-08-01T00:00:00.000+02:00\"\u001b[39m,\n",
       "        \u001b[32m\"2016-09-01T00:00:00.000+02:00\"\u001b[39m,\n",
       "        \u001b[32m\"2016-10-01T00:00:00.000+02:00\"\u001b[39m,\n",
       "        \u001b[32m\"2016-11-01T00:00:00.000+01:00\"\u001b[39m,\n",
       "...\n",
       "\u001b[36mdata\u001b[39m: \u001b[32mSeq\u001b[39m[\u001b[32mScatter\u001b[39m] = \u001b[33mList\u001b[39m(\n",
       "  \u001b[33mScatter\u001b[39m(\n",
       "    \u001b[33mSome\u001b[39m(\n",
       "      \u001b[33mStrings\u001b[39m(\n",
       "        \u001b[33mWrappedArray\u001b[39m(\n",
       "          \u001b[32m\"2014-01-01T00:00:00.000+01:00\"\u001b[39m,\n",
       "          \u001b[32m\"2014-02-01T00:00:00.000+01:00\"\u001b[39m,\n",
       "          \u001b[32m\"2014-03-01T00:00:00.000+01:00\"\u001b[39m,\n",
       "          \u001b[32m\"2014-04-01T00:00:00.000+02:00\"\u001b[39m,\n",
       "          \u001b[32m\"2014-05-01T00:00:00.000+02:00\"\u001b[39m,\n",
       "          \u001b[32m\"2014-06-01T00:00:00.000+02:00\"\u001b[39m,\n",
       "          \u001b[32m\"2014-07-01T00:00:00.000+02:00\"\u001b[39m,\n",
       "          \u001b[32m\"2014-08-01T00:00:00.000+02:00\"\u001b[39m,\n",
       "          \u001b[32m\"2014-09-01T00:00:00.000+02:00\"\u001b[39m,\n",
       "          \u001b[32m\"2014-10-01T00:00:00.000+02:00\"\u001b[39m,\n",
       "          \u001b[32m\"2014-11-01T00:00:00.000+01:00\"\u001b[39m,\n",
       "          \u001b[32m\"2014-12-01T00:00:00.000+01:00\"\u001b[39m,\n",
       "          \u001b[32m\"2015-01-01T00:00:00.000+01:00\"\u001b[39m,\n",
       "          \u001b[32m\"2015-02-01T00:00:00.000+01:00\"\u001b[39m,\n",
       "          \u001b[32m\"2015-03-01T00:00:00.000+01:00\"\u001b[39m,\n",
       "          \u001b[32m\"2015-04-01T00:00:00.000+02:00\"\u001b[39m,\n",
       "          \u001b[32m\"2015-05-01T00:00:00.000+02:00\"\u001b[39m,\n",
       "          \u001b[32m\"2015-06-01T00:00:00.000+02:00\"\u001b[39m,\n",
       "          \u001b[32m\"2015-07-01T00:00:00.000+02:00\"\u001b[39m,\n",
       "          \u001b[32m\"2015-08-01T00:00:00.000+02:00\"\u001b[39m,\n",
       "          \u001b[32m\"2015-09-01T00:00:00.000+02:00\"\u001b[39m,\n",
       "          \u001b[32m\"2015-10-01T00:00:00.000+02:00\"\u001b[39m,\n",
       "          \u001b[32m\"2015-11-01T00:00:00.000+01:00\"\u001b[39m,\n",
       "          \u001b[32m\"2015-12-01T00:00:00.000+01:00\"\u001b[39m,\n",
       "          \u001b[32m\"2016-01-01T00:00:00.000+01:00\"\u001b[39m,\n",
       "          \u001b[32m\"2016-02-01T00:00:00.000+01:00\"\u001b[39m,\n",
       "          \u001b[32m\"2016-03-01T00:00:00.000+01:00\"\u001b[39m,\n",
       "          \u001b[32m\"2016-04-01T00:00:00.000+02:00\"\u001b[39m,\n",
       "          \u001b[32m\"2016-05-01T00:00:00.000+02:00\"\u001b[39m,\n",
       "          \u001b[32m\"2016-06-01T00:00:00.000+02:00\"\u001b[39m,\n",
       "          \u001b[32m\"2016-07-01T00:00:00.000+02:00\"\u001b[39m,\n",
       "          \u001b[32m\"2016-08-01T00:00:00.000+02:00\"\u001b[39m,\n",
       "          \u001b[32m\"2016-09-01T00:00:00.000+02:00\"\u001b[39m,\n",
       "          \u001b[32m\"2016-10-01T00:00:00.000+02:00\"\u001b[39m,\n",
       "...\n",
       "\u001b[36mres64_4\u001b[39m: \u001b[32mString\u001b[39m = \u001b[32m\"plot-868ef9fd-23dc-4dfe-bc4f-05df046bbe67\"\u001b[39m"
      ]
     },
     "execution_count": 65,
     "metadata": {},
     "output_type": "execute_result"
    }
   ],
   "source": [
    "val fecha = unionDataFrameMercados.select($\"datetime\").as[String].collect.toSeq\n",
    "val precio = unionDataFrameMercados.select($\"value\").as[Double].collect.toSeq\n",
    "\n",
    "val PrecioEnergia = Scatter(\n",
    "  fecha,\n",
    "  precio\n",
    ")\n",
    "\n",
    "val data = Seq(PrecioEnergia)\n",
    "\n",
    "plot(data)"
   ]
  },
  {
   "cell_type": "code",
   "execution_count": null,
   "metadata": {},
   "outputs": [],
   "source": []
  }
 ],
 "metadata": {
  "kernelspec": {
   "display_name": "Scala 2.12",
   "language": "scala",
   "name": "scala212"
  },
  "language_info": {
   "codemirror_mode": "text/x-scala",
   "file_extension": ".scala",
   "mimetype": "text/x-scala",
   "name": "scala",
   "nbconvert_exporter": "script",
   "version": "2.12.10"
  }
 },
 "nbformat": 4,
 "nbformat_minor": 4
}
