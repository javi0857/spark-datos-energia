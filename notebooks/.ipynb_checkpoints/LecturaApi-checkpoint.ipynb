{
 "cells": [
  {
   "cell_type": "code",
   "execution_count": 31,
   "metadata": {},
   "outputs": [
    {
     "name": "stdout",
     "output_type": "stream",
     "text": [
      "Getting spark JARs\n",
      "Creating SparkSession\n"
     ]
    },
    {
     "data": {
      "text/html": [
       "<a href=\"http://ec1543848c7b:4041\">Spark UI</a>"
      ]
     },
     "metadata": {},
     "output_type": "display_data"
    },
    {
     "data": {
      "text/plain": [
       "\u001b[32mimport \u001b[39m\u001b[36m$ivy.$                                   // Or use any other 2.x version here\n",
       "// import $ivy.`sh.almond::almond-spark:_` // Added automatically on importing Spark\n",
       "\n",
       "\u001b[39m\n",
       "\u001b[32mimport \u001b[39m\u001b[36morg.apache.spark.sql._\n",
       "\n",
       "\n",
       "\u001b[39m\n",
       "\u001b[32mimport \u001b[39m\u001b[36morg.apache.log4j.{Level, Logger}\n",
       "\u001b[39m\n",
       "\u001b[36mspark\u001b[39m: \u001b[32mSparkSession\u001b[39m = org.apache.spark.sql.SparkSession@51511aea"
      ]
     },
     "execution_count": 31,
     "metadata": {},
     "output_type": "execute_result"
    }
   ],
   "source": [
    "import $ivy.`org.apache.spark::spark-sql:2.4.3` // Or use any other 2.x version here\n",
    "// import $ivy.`sh.almond::almond-spark:_` // Added automatically on importing Spark\n",
    "\n",
    "import org.apache.spark.sql._\n",
    "\n",
    "\n",
    "import org.apache.log4j.{Level, Logger}\n",
    "Logger.getLogger(\"org\").setLevel(Level.OFF)\n",
    "\n",
    "val spark = {\n",
    "  NotebookSparkSession.builder()\n",
    "    .master(\"local[*]\")\n",
    "    .getOrCreate()\n",
    "}"
   ]
  },
  {
   "cell_type": "code",
   "execution_count": 33,
   "metadata": {},
   "outputs": [
    {
     "data": {
      "text/plain": [
       "\u001b[32mimport \u001b[39m\u001b[36m$ivy.$                                                                        \n",
       "\u001b[39m\n",
       "\u001b[32mimport \u001b[39m\u001b[36msttp.client.asynchttpclient.monix._\n",
       "\n",
       "\u001b[39m\n",
       "\u001b[36msttpBackend\u001b[39m: \u001b[32mmonix\u001b[39m.\u001b[32meval\u001b[39m.\u001b[32mTask\u001b[39m[\u001b[32mSttpBackend\u001b[39m[\u001b[32mmonix\u001b[39m.\u001b[32meval\u001b[39m.\u001b[32mTask\u001b[39m, \u001b[32mmonix\u001b[39m.\u001b[32mreactive\u001b[39m.\u001b[32mObservable\u001b[39m[\u001b[32mjava\u001b[39m.\u001b[32mnio\u001b[39m.\u001b[32mByteBuffer\u001b[39m], \u001b[32msttp\u001b[39m.\u001b[32mclient\u001b[39m.\u001b[32masynchttpclient\u001b[39m.\u001b[32mWebSocketHandler\u001b[39m]] = \u001b[33mEval\u001b[39m(\n",
       "  sttp.client.asynchttpclient.monix.AsyncHttpClientMonixBackend$$$Lambda$3804/1971313630@62d39b80\n",
       ")\n",
       "\u001b[32mimport \u001b[39m\u001b[36msttp.client.basicRequest\n",
       "\n",
       "\u001b[39m\n",
       "\u001b[36mresponse\u001b[39m: \u001b[32mIdentity\u001b[39m[\u001b[32mResponse\u001b[39m[\u001b[32mEither\u001b[39m[\u001b[32mString\u001b[39m, \u001b[32mString\u001b[39m]]] = \u001b[33mResponse\u001b[39m(\n",
       "  \u001b[33mRight\u001b[39m(\n",
       "    \u001b[32m\"{\\\"data\\\":{\\\"type\\\":\\\"Balance de energ\\\\u00eda el\\\\u00e9ctrica\\\",\\\"id\\\":\\\"bal1\\\",\\\"attributes\\\":{\\\"title\\\":\\\"Balance de energ\\\\u00eda el\\\\u00e9ctrica\\\",\\\"last-update\\\":\\\"2020-01-10T08:15:41.000+01:00\\\",\\\"description\\\":\\\"Balance el\\\\u00e9ctrico: asignaci\\\\u00f3n de unidades de producci\\\\u00f3n seg\\\\u00fan combustible principal. La producci\\\\u00f3n neta de las instalaciones no renovables e hidr\\\\u00e1ulicas UGH tiene descontados los consumos propios de las instalaciones. En dichos tipos de producci\\\\u00f3n una generaci\\\\u00f3n negativa indica que la electricidad horaria consumida para los usos de las plantas excede la producci\\\\u00f3n horaria de las instalaciones.\\\"},\\\"meta\\\":{\\\"cache-control\\\":{\\\"cache\\\":\\\"HIT\\\",\\\"expireAt\\\":\\\"2024-07-24T09:14:23\\\"}}},\\\"included\\\":[{\\\"type\\\":\\\"Renovable\\\",\\\"id\\\":\\\"Renovable\\\",\\\"attributes\\\":{\\\"title\\\":\\\"Renovable\\\",\\\"last-update\\\":\\\"2020-01-10T08:15:21.000+01:00\\\",\\\"description\\\":null,\\\"magnitude\\\":null,\\\"content\\\":[{\\\"type\\\":\\\"Hidr\\\\u00e1ulica\\\",\\\"id\\\":\\\"10288\\\",\\\"groupId\\\":\\\"Renovable\\\",\\\"attributes\\\":{\\\"title\\\":\\\"Hidr\\\\u00e1ulica\\\",\\\"description\\\":\\\"10288\\\",\\\"color\\\":\\\"#0090d1\\\",\\\"type\\\":\\\"distinct\\\",\\\"magnitude\\\":null,\\\"composite\\\":false,\\\"last-update\\\":\\\"2020-01-10T08:15:21.000+01:00\\\",\\\"values\\\":[{\\\"value\\\":53722.12,\\\"percentage\\\":0.31722207661963636,\\\"datetime\\\":\\\"2019-01-01T00:00:00.000+01:00\\\"},{\\\"value\\\":61294.768,\\\"percentage\\\":0.20827477009671783,\\\"datetime\\\":\\\"2019-01-02T00:00:00.000+01:00\\\"},{\\\"value\\\":82981.951,\\\"percentage\\\":0.3622758196846154,\\\"datetime\\\":\\\"2019-01-03T00:00:00.000+01:00\\\"},{\\\"value\\\":94301.94,\\\"percentage\\\":0.4482532404733024,\\\"datetime\\\":\\\"2019-01-04T00:00:00.000+01:00\\\"},{\\\"value\\\":58822.692,\\\"percentage\\\":0.27465081477001124,\\\"datetime\\\":\\\"2019-01-05T00:00:00.000+01:00\\\"},{\\\"value\\\":42064.747,\\\"percentage\\\":0.17106178088210705,\\\"datetime\\\":\\\"2019-01-06T00:00:00.000+01:00\\\"},{\\\"value\\\":66708.373,\\\"percentage\\\":0.24833323377363647,\\\"datetime\\\":\\\"2019-01-07T00:00:00.000+01:00\\\"},{\\\"value\\\":68044.833,\\\"percentage\\\":0.2492374449117323,\\\"datetime\\\":\\\"2019-01-08T00:00:00.000+01:00\\\"},{\\\"value\\\":48716.673,\\\"percentage\\\":0.14329189289680183,\\\"datetime\\\":\\\"2019-01-09T00:00:00.000+01:00\\\"},{\\\"value\\\":62288.159,\\\"percentage\\\":0.1714621846413327,\\\"datetime\\\":\\\"2019-01-10T00:00:00.000+01:00\\\"},{\\\"value\\\":64303.769,\\\"percentage\\\":0.19457994738049603,\\\"datetime\\\":\\\"2019-01-11T00:00:00.000+01:00\\\"},{\\\"value\\\":36415.318,\\\"percentage\\\":0.13181366565222308,\\\"datetime\\\":\\\"2019-01-12T00:00:00.000+01:00\\\"},{\\\"value\\\":42369.957,\\\"percentage\\\":0.15760790945959877,\\\"datetime\\\":\\\"2019-01-13T00:00:00.000+01:00\\\"},{\\\"value\\\":53598.566,\\\"percentage\\\":0.1943905859009404,\\\"datetime\\\":\\\"2019-01-14T00:00:00.000+01:00\\\"},{\\\"value\\\":81267.421,\\\"percentage\\\":0.4697994613806879,\\\"datetime\\\":\\\"2019-01-15T00:00:00.000+01:00\\\"},{\\\"value\\\":82944.481,\\\"percentage\\\":0.46463283297076724,\\\"datetime\\\":\\\"2019-01-16T00:00:00.000+01:00\\\"},{\\\"value\\\":72981.884,\\\"percentage\\\":0.401562\u001b[39m..."
      ]
     },
     "execution_count": 33,
     "metadata": {},
     "output_type": "execute_result"
    }
   ],
   "source": [
    "import $ivy.`com.softwaremill.sttp.client::async-http-client-backend-monix:2.0.0-RC2`\n",
    "import sttp.client.asynchttpclient.monix._\n",
    "\n",
    "implicit val sttpBackend = AsyncHttpClientMonixBackend()\n",
    "import sttp.client.basicRequest\n",
    "\n",
    "val response = basicRequest.get(uri\"https://apidatos.ree.es/es/datos/balance/balance-electrico?start_date=2019-01-01T00:00&end_date=2019-01-31T23:59&time_trunc=day\").send()\n",
    "\n",
    "//val response = quickRequest.get(uri\"https://apidatos.ree.es/es/datos/balance/balance-electrico?start_date=2019-01-01T00:00&end_date=2019-01-31T23:59&time_trunc=day\").send()"
   ]
  },
  {
   "cell_type": "code",
   "execution_count": 34,
   "metadata": {},
   "outputs": [
    {
     "data": {
      "text/plain": [
       "\u001b[36mresponseBody\u001b[39m: \u001b[32mString\u001b[39m = \u001b[32m\"{\\\"data\\\":{\\\"type\\\":\\\"Balance de energ\\\\u00eda el\\\\u00e9ctrica\\\",\\\"id\\\":\\\"bal1\\\",\\\"attributes\\\":{\\\"title\\\":\\\"Balance de energ\\\\u00eda el\\\\u00e9ctrica\\\",\\\"last-update\\\":\\\"2020-01-10T08:15:41.000+01:00\\\",\\\"description\\\":\\\"Balance el\\\\u00e9ctrico: asignaci\\\\u00f3n de unidades de producci\\\\u00f3n seg\\\\u00fan combustible principal. La producci\\\\u00f3n neta de las instalaciones no renovables e hidr\\\\u00e1ulicas UGH tiene descontados los consumos propios de las instalaciones. En dichos tipos de producci\\\\u00f3n una generaci\\\\u00f3n negativa indica que la electricidad horaria consumida para los usos de las plantas excede la producci\\\\u00f3n horaria de las instalaciones.\\\"},\\\"meta\\\":{\\\"cache-control\\\":{\\\"cache\\\":\\\"HIT\\\",\\\"expireAt\\\":\\\"2024-07-24T09:14:23\\\"}}},\\\"included\\\":[{\\\"type\\\":\\\"Renovable\\\",\\\"id\\\":\\\"Renovable\\\",\\\"attributes\\\":{\\\"title\\\":\\\"Renovable\\\",\\\"last-update\\\":\\\"2020-01-10T08:15:21.000+01:00\\\",\\\"description\\\":null,\\\"magnitude\\\":null,\\\"content\\\":[{\\\"type\\\":\\\"Hidr\\\\u00e1ulica\\\",\\\"id\\\":\\\"10288\\\",\\\"groupId\\\":\\\"Renovable\\\",\\\"attributes\\\":{\\\"title\\\":\\\"Hidr\\\\u00e1ulica\\\",\\\"description\\\":\\\"10288\\\",\\\"color\\\":\\\"#0090d1\\\",\\\"type\\\":\\\"distinct\\\",\\\"magnitude\\\":null,\\\"composite\\\":false,\\\"last-update\\\":\\\"2020-01-10T08:15:21.000+01:00\\\",\\\"values\\\":[{\\\"value\\\":53722.12,\\\"percentage\\\":0.31722207661963636,\\\"datetime\\\":\\\"2019-01-01T00:00:00.000+01:00\\\"},{\\\"value\\\":61294.768,\\\"percentage\\\":0.20827477009671783,\\\"datetime\\\":\\\"2019-01-02T00:00:00.000+01:00\\\"},{\\\"value\\\":82981.951,\\\"percentage\\\":0.3622758196846154,\\\"datetime\\\":\\\"2019-01-03T00:00:00.000+01:00\\\"},{\\\"value\\\":94301.94,\\\"percentage\\\":0.4482532404733024,\\\"datetime\\\":\\\"2019-01-04T00:00:00.000+01:00\\\"},{\\\"value\\\":58822.692,\\\"percentage\\\":0.27465081477001124,\\\"datetime\\\":\\\"2019-01-05T00:00:00.000+01:00\\\"},{\\\"value\\\":42064.747,\\\"percentage\\\":0.17106178088210705,\\\"datetime\\\":\\\"2019-01-06T00:00:00.000+01:00\\\"},{\\\"value\\\":66708.373,\\\"percentage\\\":0.24833323377363647,\\\"datetime\\\":\\\"2019-01-07T00:00:00.000+01:00\\\"},{\\\"value\\\":68044.833,\\\"percentage\\\":0.2492374449117323,\\\"datetime\\\":\\\"2019-01-08T00:00:00.000+01:00\\\"},{\\\"value\\\":48716.673,\\\"percentage\\\":0.14329189289680183,\\\"datetime\\\":\\\"2019-01-09T00:00:00.000+01:00\\\"},{\\\"value\\\":62288.159,\\\"percentage\\\":0.1714621846413327,\\\"datetime\\\":\\\"2019-01-10T00:00:00.000+01:00\\\"},{\\\"value\\\":64303.769,\\\"percentage\\\":0.19457994738049603,\\\"datetime\\\":\\\"2019-01-11T00:00:00.000+01:00\\\"},{\\\"value\\\":36415.318,\\\"percentage\\\":0.13181366565222308,\\\"datetime\\\":\\\"2019-01-12T00:00:00.000+01:00\\\"},{\\\"value\\\":42369.957,\\\"percentage\\\":0.15760790945959877,\\\"datetime\\\":\\\"2019-01-13T00:00:00.000+01:00\\\"},{\\\"value\\\":53598.566,\\\"percentage\\\":0.1943905859009404,\\\"datetime\\\":\\\"2019-01-14T00:00:00.000+01:00\\\"},{\\\"value\\\":81267.421,\\\"percentage\\\":0.4697994613806879,\\\"datetime\\\":\\\"2019-01-15T00:00:00.000+01:00\\\"},{\\\"value\\\":82944.481,\\\"percentage\\\":0.46463283297076724,\\\"datetime\\\":\\\"2019-01-16T00:00:00.000+01:00\\\"},{\\\"value\\\":72981.884,\\\"percentage\\\":0.40156237846541815,\\\"datetime\\\":\\\"2019-01-17T00:00:00.000+01:00\\\"},{\\\"value\\\":101622.441,\\\"percentage\\\":0.49057039850178125,\\\"datetime\\\":\\\"2019-01-18T00:00:00.000+01:00\\\"}\u001b[39m..."
      ]
     },
     "execution_count": 34,
     "metadata": {},
     "output_type": "execute_result"
    }
   ],
   "source": [
    "// Verificar el estado de la respuesta y obtener el cuerpo como string\n",
    "val responseBody = response.body match {\n",
    "  case Right(body) => body\n",
    "  case Left(error) => throw new RuntimeException(s\"Failed to fetch data: $error\")\n",
    "}"
   ]
  },
  {
   "cell_type": "code",
   "execution_count": 35,
   "metadata": {},
   "outputs": [
    {
     "data": {
      "text/plain": [
       "\u001b[36mjsonData\u001b[39m: \u001b[32mio\u001b[39m.\u001b[32mcirce\u001b[39m.\u001b[32mJson\u001b[39m = \u001b[33mJObject\u001b[39m(\n",
       "  object[data -> {\n",
       "  \"type\" : \"Balance de energía eléctrica\",\n",
       "  \"id\" : \"bal1\",\n",
       "  \"attributes\" : {\n",
       "    \"title\" : \"Balance de energía eléctrica\",\n",
       "    \"last-update\" : \"2020-01-10T08:15:41.000+01:00\",\n",
       "    \"description\" : \"Balance eléctrico: asignación de unidades de producción según combustible principal. La producción neta de las instalaciones no renovables e hidráulicas UGH tiene descontados los consumos propios de las instalaciones. En dichos tipos de producción una generación negativa indica que la electricidad horaria consumida para los usos de las plantas excede la producción horaria de las instalaciones.\"\n",
       "  },\n",
       "  \"meta\" : {\n",
       "    \"cache-control\" : {\n",
       "      \"cache\" : \"HIT\",\n",
       "      \"expireAt\" : \"2024-07-24T09:14:23\"\n",
       "    }\n",
       "  }\n",
       "},included -> [\n",
       "  {\n",
       "    \"type\" : \"Renovable\",\n",
       "    \"id\" : \"Renovable\",\n",
       "    \"attributes\" : {\n",
       "      \"title\" : \"Renovable\",\n",
       "      \"last-update\" : \"2020-01-10T08:15:21.000+01:00\",\n",
       "      \"description\" : null,\n",
       "      \"magnitude\" : null,\n",
       "      \"content\" : [\n",
       "        {\n",
       "          \"type\" : \"Hidráulica\",\n",
       "          \"id\" : \"10288\",\n",
       "          \"groupId\" : \"Renovable\",\n",
       "          \"attributes\" : {\n",
       "            \"title\" : \"Hidráulica\",\n",
       "            \"description\" : \"10288\",\n",
       "            \"color\" : \"#0090d1\",\n",
       "            \"type\" : \"distinct\",\n",
       "..."
      ]
     },
     "execution_count": 35,
     "metadata": {},
     "output_type": "execute_result"
    }
   ],
   "source": [
    "// Parsear la respuesta JSON usando Circe\n",
    "val jsonData = parse(responseBody) match {\n",
    "  case Right(json) => json\n",
    "  case Left(parsingError) => throw new RuntimeException(s\"Failed to parse JSON: $parsingError\")\n",
    "}"
   ]
  },
  {
   "cell_type": "code",
   "execution_count": 36,
   "metadata": {},
   "outputs": [
    {
     "data": {
      "text/plain": [
       "\u001b[36mincludedData\u001b[39m: \u001b[32mIterable\u001b[39m[\u001b[32mio\u001b[39m.\u001b[32mcirce\u001b[39m.\u001b[32mJson\u001b[39m] = \u001b[33mVector\u001b[39m(\n",
       "  \u001b[33mJObject\u001b[39m(\n",
       "    object[type -> \"Renovable\",id -> \"Renovable\",attributes -> {\n",
       "  \"title\" : \"Renovable\",\n",
       "  \"last-update\" : \"2020-01-10T08:15:21.000+01:00\",\n",
       "  \"description\" : null,\n",
       "  \"magnitude\" : null,\n",
       "  \"content\" : [\n",
       "    {\n",
       "      \"type\" : \"Hidráulica\",\n",
       "      \"id\" : \"10288\",\n",
       "      \"groupId\" : \"Renovable\",\n",
       "      \"attributes\" : {\n",
       "        \"title\" : \"Hidráulica\",\n",
       "        \"description\" : \"10288\",\n",
       "        \"color\" : \"#0090d1\",\n",
       "        \"type\" : \"distinct\",\n",
       "        \"magnitude\" : null,\n",
       "        \"composite\" : false,\n",
       "        \"last-update\" : \"2020-01-10T08:15:21.000+01:00\",\n",
       "        \"values\" : [\n",
       "          {\n",
       "            \"value\" : 53722.12,\n",
       "            \"percentage\" : 0.31722207661963636,\n",
       "            \"datetime\" : \"2019-01-01T00:00:00.000+01:00\"\n",
       "          },\n",
       "          {\n",
       "            \"value\" : 61294.768,\n",
       "            \"percentage\" : 0.20827477009671783,\n",
       "            \"datetime\" : \"2019-01-02T00:00:00.000+01:00\"\n",
       "          },\n",
       "          {\n",
       "            \"value\" : 82981.951,\n",
       "            \"percentage\" : 0.3622758196846154,\n",
       "            \"datetime\" : \"2019-01-03T00:00:00.000+01:00\"\n",
       "          },\n",
       "          {\n",
       "            \"value\" : 94301.94,\n",
       "            \"percentage\" : 0.4482532404733024,\n",
       "..."
      ]
     },
     "execution_count": 36,
     "metadata": {},
     "output_type": "execute_result"
    }
   ],
   "source": [
    "// Extraer los datos necesarios del JSON\n",
    "val includedData = jsonData.hcursor.downField(\"included\").values match {\n",
    "  case Some(values) => values\n",
    "  case None => throw new RuntimeException(\"No 'included' field found in JSON\")\n",
    "}\n"
   ]
  },
  {
   "cell_type": "code",
   "execution_count": 38,
   "metadata": {},
   "outputs": [
    {
     "data": {
      "text/plain": [
       "\u001b[36mincludedJson\u001b[39m: \u001b[32mString\u001b[39m = \u001b[32m\"[{\\\"type\\\":\\\"Renovable\\\",\\\"id\\\":\\\"Renovable\\\",\\\"attributes\\\":{\\\"title\\\":\\\"Renovable\\\",\\\"last-update\\\":\\\"2020-01-10T08:15:21.000+01:00\\\",\\\"description\\\":null,\\\"magnitude\\\":null,\\\"content\\\":[{\\\"type\\\":\\\"Hidr\\u00e1ulica\\\",\\\"id\\\":\\\"10288\\\",\\\"groupId\\\":\\\"Renovable\\\",\\\"attributes\\\":{\\\"title\\\":\\\"Hidr\\u00e1ulica\\\",\\\"description\\\":\\\"10288\\\",\\\"color\\\":\\\"#0090d1\\\",\\\"type\\\":\\\"distinct\\\",\\\"magnitude\\\":null,\\\"composite\\\":false,\\\"last-update\\\":\\\"2020-01-10T08:15:21.000+01:00\\\",\\\"values\\\":[{\\\"value\\\":53722.12,\\\"percentage\\\":0.31722207661963636,\\\"datetime\\\":\\\"2019-01-01T00:00:00.000+01:00\\\"},{\\\"value\\\":61294.768,\\\"percentage\\\":0.20827477009671783,\\\"datetime\\\":\\\"2019-01-02T00:00:00.000+01:00\\\"},{\\\"value\\\":82981.951,\\\"percentage\\\":0.3622758196846154,\\\"datetime\\\":\\\"2019-01-03T00:00:00.000+01:00\\\"},{\\\"value\\\":94301.94,\\\"percentage\\\":0.4482532404733024,\\\"datetime\\\":\\\"2019-01-04T00:00:00.000+01:00\\\"},{\\\"value\\\":58822.692,\\\"percentage\\\":0.27465081477001124,\\\"datetime\\\":\\\"2019-01-05T00:00:00.000+01:00\\\"},{\\\"value\\\":42064.747,\\\"percentage\\\":0.17106178088210705,\\\"datetime\\\":\\\"2019-01-06T00:00:00.000+01:00\\\"},{\\\"value\\\":66708.373,\\\"percentage\\\":0.24833323377363647,\\\"datetime\\\":\\\"2019-01-07T00:00:00.000+01:00\\\"},{\\\"value\\\":68044.833,\\\"percentage\\\":0.2492374449117323,\\\"datetime\\\":\\\"2019-01-08T00:00:00.000+01:00\\\"},{\\\"value\\\":48716.673,\\\"percentage\\\":0.14329189289680183,\\\"datetime\\\":\\\"2019-01-09T00:00:00.000+01:00\\\"},{\\\"value\\\":62288.159,\\\"percentage\\\":0.1714621846413327,\\\"datetime\\\":\\\"2019-01-10T00:00:00.000+01:00\\\"},{\\\"value\\\":64303.769,\\\"percentage\\\":0.19457994738049603,\\\"datetime\\\":\\\"2019-01-11T00:00:00.000+01:00\\\"},{\\\"value\\\":36415.318,\\\"percentage\\\":0.13181366565222308,\\\"datetime\\\":\\\"2019-01-12T00:00:00.000+01:00\\\"},{\\\"value\\\":42369.957,\\\"percentage\\\":0.15760790945959877,\\\"datetime\\\":\\\"2019-01-13T00:00:00.000+01:00\\\"},{\\\"value\\\":53598.566,\\\"percentage\\\":0.1943905859009404,\\\"datetime\\\":\\\"2019-01-14T00:00:00.000+01:00\\\"},{\\\"value\\\":81267.421,\\\"percentage\\\":0.4697994613806879,\\\"datetime\\\":\\\"2019-01-15T00:00:00.000+01:00\\\"},{\\\"value\\\":82944.481,\\\"percentage\\\":0.46463283297076724,\\\"datetime\\\":\\\"2019-01-16T00:00:00.000+01:00\\\"},{\\\"value\\\":72981.884,\\\"percentage\\\":0.40156237846541815,\\\"datetime\\\":\\\"2019-01-17T00:00:00.000+01:00\\\"},{\\\"value\\\":101622.441,\\\"percentage\\\":0.49057039850178125,\\\"datetime\\\":\\\"2019-01-18T00:00:00.000+01:00\\\"},{\\\"value\\\":69273.204,\\\"percentage\\\":0.2974081850082373,\\\"datetime\\\":\\\"2019-01-19T00:00:00.000+01:00\\\"},{\\\"value\\\":47734.816,\\\"percentage\\\":0.1693353400697924,\\\"datetime\\\":\\\"2019-01-20T00:00:00.000+01:00\\\"},{\\\"value\\\":91299.463,\\\"percentage\\\":0.30880999909793455,\\\"datetime\\\":\\\"2019-01-21T00:00:00.000+01:00\\\"},{\\\"value\\\":76301.055,\\\"percentage\\\":0.2188840318948352,\\\"datetime\\\":\\\"2019-01-22T00:00:00.000+01:00\\\"},{\\\"value\\\":64317.281,\\\"percentage\\\":0.13806840187265804,\\\"datetime\\\":\\\"2019-01-23T00:00:00.000+01:00\\\"},{\\\"value\\\":71281.067,\\\"percentage\\\":0.17841027416951166,\\\"datetime\\\":\\\"2019-01-24T00:00:00.000+01:00\\\"},{\\\"value\\\":76711.708,\\\"percentage\\\":0.212731463321017,\\\"datetime\\\":\\\"2019-01-25T00:00:00.000+01:00\\\"},{\\\"value\\\":68907.867,\\\"percentage\\\":0.29769269356526\u001b[39m..."
      ]
     },
     "execution_count": 38,
     "metadata": {},
     "output_type": "execute_result"
    }
   ],
   "source": [
    "// Convertir los datos extraídos a una cadena JSON\n",
    "val includedJson = includedData.map(_.noSpaces).mkString(\"[\", \",\", \"]\")"
   ]
  },
  {
   "cell_type": "code",
   "execution_count": 40,
   "metadata": {},
   "outputs": [
    {
     "name": "stderr",
     "output_type": "stream",
     "text": [
      "cmd40.sc:2: value toDS is not a member of Seq[String]\n",
      "val df1 = spark.read.json(Seq(includedJson).toDS())\n",
      "                                            ^Compilation Failed"
     ]
    },
    {
     "ename": "",
     "evalue": "",
     "output_type": "error",
     "traceback": [
      "Compilation Failed"
     ]
    }
   ],
   "source": [
    "// Convertir la cadena JSON a un DataFrame de Spark\n",
    "import spark.implicits._\n",
    "val df = spark.read.json(Seq(includedJson).toDS())"
   ]
  },
  {
   "cell_type": "code",
   "execution_count": 39,
   "metadata": {},
   "outputs": [
    {
     "name": "stdout",
     "output_type": "stream",
     "text": [
      "root\n",
      " |-- attributes: struct (nullable = true)\n",
      " |    |-- content: array (nullable = true)\n",
      " |    |    |-- element: struct (containsNull = true)\n",
      " |    |    |    |-- attributes: struct (nullable = true)\n",
      " |    |    |    |    |-- color: string (nullable = true)\n",
      " |    |    |    |    |-- composite: boolean (nullable = true)\n",
      " |    |    |    |    |-- description: string (nullable = true)\n",
      " |    |    |    |    |-- last-update: string (nullable = true)\n",
      " |    |    |    |    |-- magnitude: string (nullable = true)\n",
      " |    |    |    |    |-- title: string (nullable = true)\n",
      " |    |    |    |    |-- total: double (nullable = true)\n",
      " |    |    |    |    |-- type: string (nullable = true)\n",
      " |    |    |    |    |-- values: array (nullable = true)\n",
      " |    |    |    |    |    |-- element: struct (containsNull = true)\n",
      " |    |    |    |    |    |    |-- datetime: string (nullable = true)\n",
      " |    |    |    |    |    |    |-- percentage: double (nullable = true)\n",
      " |    |    |    |    |    |    |-- value: double (nullable = true)\n",
      " |    |    |    |-- groupId: string (nullable = true)\n",
      " |    |    |    |-- id: string (nullable = true)\n",
      " |    |    |    |-- type: string (nullable = true)\n",
      " |    |-- description: string (nullable = true)\n",
      " |    |-- last-update: string (nullable = true)\n",
      " |    |-- magnitude: string (nullable = true)\n",
      " |    |-- title: string (nullable = true)\n",
      " |-- id: string (nullable = true)\n",
      " |-- type: string (nullable = true)\n",
      "\n"
     ]
    }
   ],
   "source": [
    "// Mostrar el esquema del DataFrame para verificar los datos\n",
    "df.printSchema()\n"
   ]
  },
  {
   "cell_type": "code",
   "execution_count": 44,
   "metadata": {},
   "outputs": [
    {
     "data": {
      "text/html": [
       "<div>\n",
       "  <span style=\"float: left;\">show at cmd43.sc:1</span>\n",
       "</div>\n"
      ]
     },
     "metadata": {},
     "output_type": "display_data"
    },
    {
     "data": {
      "text/html": [
       "<div class=\"progress\">\n",
       "  <div class=\"progress-bar\" role=\"progressbar\" style=\"background-color: blue; width: 100%; word-wrap: normal; white-space: nowrap; text-align: center; color: white\" aria-valuenow=\"100\" aria-valuemin=\"0\" aria-valuemax=\"100\">\n",
       "    1 / 1\n",
       "  </div>\n",
       "  <div class=\"progress-bar\" role=\"progressbar\" style=\"background-color: red; width: 0%\" aria-valuenow=\"0\" aria-valuemin=\"0\" aria-valuemax=\"100\"></div>\n",
       "</div>\n"
      ]
     },
     "metadata": {},
     "output_type": "display_data"
    },
    {
     "data": {
      "text/html": [
       "<div>\n",
       "  <span style=\"float: left;\">show at cmd43.sc:1</span>\n",
       "</div>\n"
      ]
     },
     "metadata": {},
     "output_type": "display_data"
    },
    {
     "data": {
      "text/html": [
       "<div class=\"progress\">\n",
       "  <div class=\"progress-bar\" role=\"progressbar\" style=\"background-color: blue; width: 100%; word-wrap: normal; white-space: nowrap; text-align: center; color: white\" aria-valuenow=\"100\" aria-valuemin=\"0\" aria-valuemax=\"100\">\n",
       "    1 / 1\n",
       "  </div>\n",
       "  <div class=\"progress-bar\" role=\"progressbar\" style=\"background-color: red; width: 0%\" aria-valuenow=\"0\" aria-valuemin=\"0\" aria-valuemax=\"100\"></div>\n",
       "</div>\n"
      ]
     },
     "metadata": {},
     "output_type": "display_data"
    },
    {
     "data": {
      "text/html": [
       "<div>\n",
       "  <span style=\"float: left;\">show at cmd43.sc:1</span>\n",
       "</div>\n"
      ]
     },
     "metadata": {},
     "output_type": "display_data"
    },
    {
     "data": {
      "text/html": [
       "<div class=\"progress\">\n",
       "  <div class=\"progress-bar\" role=\"progressbar\" style=\"background-color: blue; width: 100%; word-wrap: normal; white-space: nowrap; text-align: center; color: white\" aria-valuenow=\"100\" aria-valuemin=\"0\" aria-valuemax=\"100\">\n",
       "    1 / 1\n",
       "  </div>\n",
       "  <div class=\"progress-bar\" role=\"progressbar\" style=\"background-color: red; width: 0%\" aria-valuenow=\"0\" aria-valuemin=\"0\" aria-valuemax=\"100\"></div>\n",
       "</div>\n"
      ]
     },
     "metadata": {},
     "output_type": "display_data"
    },
    {
     "name": "stdout",
     "output_type": "stream",
     "text": [
      "+--------------------+---------------+------------+\n",
      "|          attributes|             id|        type|\n",
      "+--------------------+---------------+------------+\n",
      "|[[[[#0090d1, fals...|      Renovable|   Renovable|\n",
      "|[[[[#007cf9, fals...|   No-Renovable|No-Renovable|\n",
      "|[[[[#4f81bd, fals...|Demanda en b.c.|     Demanda|\n",
      "+--------------------+---------------+------------+\n",
      "\n"
     ]
    }
   ],
   "source": [
    "// Mostrar los primeros registros del DataFrame\n",
    "df.show()"
   ]
  },
  {
   "cell_type": "code",
   "execution_count": 42,
   "metadata": {},
   "outputs": [
    {
     "data": {
      "text/plain": [
       "\u001b[36mres41\u001b[39m: \u001b[32mDataFrame\u001b[39m = [id: string]"
      ]
     },
     "execution_count": 42,
     "metadata": {},
     "output_type": "execute_result"
    }
   ],
   "source": [
    "df.select(\"id\")"
   ]
  },
  {
   "cell_type": "code",
   "execution_count": null,
   "metadata": {},
   "outputs": [],
   "source": []
  }
 ],
 "metadata": {
  "kernelspec": {
   "display_name": "Scala 2.12",
   "language": "scala",
   "name": "scala212"
  },
  "language_info": {
   "codemirror_mode": "text/x-scala",
   "file_extension": ".scala",
   "mimetype": "text/x-scala",
   "name": "scala",
   "nbconvert_exporter": "script",
   "version": "2.12.10"
  }
 },
 "nbformat": 4,
 "nbformat_minor": 4
}
