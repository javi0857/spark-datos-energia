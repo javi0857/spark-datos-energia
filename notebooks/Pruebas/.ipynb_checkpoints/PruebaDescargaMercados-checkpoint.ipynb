{
 "cells": [
  {
   "cell_type": "code",
   "execution_count": 2,
   "metadata": {},
   "outputs": [
    {
     "data": {
      "text/plain": [
       "\u001b[32mimport \u001b[39m\u001b[36m$ivy.$                                  \n",
       "\n",
       "\n",
       "\u001b[39m\n",
       "\u001b[32mimport \u001b[39m\u001b[36morg.apache.spark.sql._\n",
       "\u001b[39m\n",
       "\u001b[32mimport \u001b[39m\u001b[36morg.apache.spark.sql.functions._\n",
       "\n",
       "\n",
       "//Reducir numero logs\n",
       "\u001b[39m\n",
       "\u001b[32mimport \u001b[39m\u001b[36morg.apache.log4j.{Level, Logger}\n",
       "\u001b[39m\n",
       "\u001b[32mimport \u001b[39m\u001b[36m$ivy.$                                                                        \n",
       "\u001b[39m\n",
       "\u001b[32mimport \u001b[39m\u001b[36msttp.client.quick.{quickRequest, UriContext, backend}\n",
       "\u001b[39m\n",
       "\u001b[32mimport \u001b[39m\u001b[36msttp.client.asynchttpclient.monix._\n",
       "\n",
       "\n",
       "//Sttp para realizar request\n",
       "\u001b[39m\n",
       "\u001b[32mimport \u001b[39m\u001b[36m$ivy.$                                                                        \n",
       "\u001b[39m\n",
       "\u001b[32mimport \u001b[39m\u001b[36msttp.client.quick.{quickRequest, UriContext, backend}\n",
       "\u001b[39m\n",
       "\u001b[32mimport \u001b[39m\u001b[36msttp.client.asynchttpclient.monix._\n",
       "\u001b[39m\n",
       "\u001b[32mimport \u001b[39m\u001b[36msttp.client.basicRequest\n",
       "\n",
       "//For adding extra dependenies\n",
       "\u001b[39m\n",
       "\u001b[32mimport \u001b[39m\u001b[36m$ivy.$                               \n",
       "\n",
       "//Plotly\n",
       "\u001b[39m\n",
       "\u001b[32mimport \u001b[39m\u001b[36m$ivy.$                                      \n",
       "\u001b[39m\n",
       "\u001b[32mimport \u001b[39m\u001b[36mplotly._, plotly.element._, plotly.layout._, plotly.Almond._\u001b[39m"
      ]
     },
     "execution_count": 2,
     "metadata": {},
     "output_type": "execute_result"
    }
   ],
   "source": [
    "import $ivy.`org.apache.spark::spark-sql:2.4.3`\n",
    "\n",
    "\n",
    "import org.apache.spark.sql._\n",
    "import org.apache.spark.sql.functions._\n",
    "\n",
    "\n",
    "//Reducir numero logs\n",
    "import org.apache.log4j.{Level, Logger}\n",
    "Logger.getLogger(\"org\").setLevel(Level.OFF)\n",
    "\n",
    "\n",
    "//Circe para trabajar con JSON\n",
    "import $ivy.`com.softwaremill.sttp.client::async-http-client-backend-monix:2.0.0-RC2`\n",
    "import sttp.client.quick.{quickRequest, UriContext, backend}\n",
    "import sttp.client.asynchttpclient.monix._\n",
    "\n",
    "\n",
    "//Sttp para realizar request\n",
    "import $ivy.`com.softwaremill.sttp.client::async-http-client-backend-monix:2.0.0-RC2`\n",
    "import sttp.client.quick.{quickRequest, UriContext, backend}\n",
    "import sttp.client.asynchttpclient.monix._\n",
    "import sttp.client.basicRequest\n",
    "\n",
    "//For adding extra dependenies\n",
    "import $ivy.`org.typelevel::cats-core:1.6.0`\n",
    "\n",
    "//Plotly\n",
    "import $ivy.`org.plotly-scala::plotly-almond:0.7.1`\n",
    "import plotly._, plotly.element._, plotly.layout._, plotly.Almond._"
   ]
  },
  {
   "cell_type": "code",
   "execution_count": 3,
   "metadata": {},
   "outputs": [
    {
     "name": "stdout",
     "output_type": "stream",
     "text": [
      "Loading spark-stubs\n"
     ]
    },
    {
     "name": "stderr",
     "output_type": "stream",
     "text": [
      "Downloading https://repo1.maven.org/maven2/sh/almond/spark-stubs_24_2.12/0.7.2/spark-stubs_24_2.12-0.7.2.pom\n",
      "Downloaded https://repo1.maven.org/maven2/sh/almond/spark-stubs_24_2.12/0.7.2/spark-stubs_24_2.12-0.7.2.pom\n",
      "Downloading https://repo1.maven.org/maven2/sh/almond/spark-stubs_24_2.12/0.7.2/spark-stubs_24_2.12-0.7.2.jar\n",
      "Downloading https://repo1.maven.org/maven2/sh/almond/spark-stubs_24_2.12/0.7.2/spark-stubs_24_2.12-0.7.2-sources.jar\n",
      "Downloaded https://repo1.maven.org/maven2/sh/almond/spark-stubs_24_2.12/0.7.2/spark-stubs_24_2.12-0.7.2.jar\n",
      "Downloaded https://repo1.maven.org/maven2/sh/almond/spark-stubs_24_2.12/0.7.2/spark-stubs_24_2.12-0.7.2-sources.jar\n"
     ]
    },
    {
     "name": "stdout",
     "output_type": "stream",
     "text": [
      "Getting spark JARs\n",
      "Creating SparkSession\n"
     ]
    },
    {
     "name": "stderr",
     "output_type": "stream",
     "text": [
      "Using Spark's default log4j profile: org/apache/spark/log4j-defaults.properties\n"
     ]
    },
    {
     "data": {
      "text/html": [
       "<a href=\"http://e34a3d2b659c:4040\">Spark UI</a>"
      ]
     },
     "metadata": {},
     "output_type": "display_data"
    },
    {
     "data": {
      "text/plain": [
       "\u001b[36mspark\u001b[39m: \u001b[32mSparkSession\u001b[39m = org.apache.spark.sql.SparkSession@5abe4ff4\n",
       "\u001b[32mimport \u001b[39m\u001b[36mspark.implicits._\u001b[39m"
      ]
     },
     "execution_count": 3,
     "metadata": {},
     "output_type": "execute_result"
    }
   ],
   "source": [
    "//Iniciamos session de Spark\n",
    "val spark = {\n",
    "  NotebookSparkSession.builder()\n",
    "    .master(\"local[*]\")\n",
    "    .getOrCreate()\n",
    "}\n",
    "import spark.implicits._"
   ]
  },
  {
   "cell_type": "code",
   "execution_count": 4,
   "metadata": {},
   "outputs": [
    {
     "data": {
      "text/plain": [
       "defined \u001b[32mfunction\u001b[39m \u001b[36mcreateUri\u001b[39m\n",
       "defined \u001b[32mfunction\u001b[39m \u001b[36mgetDataApi\u001b[39m\n",
       "defined \u001b[32mfunction\u001b[39m \u001b[36mresponseToDF\u001b[39m"
      ]
     },
     "execution_count": 4,
     "metadata": {},
     "output_type": "execute_result"
    }
   ],
   "source": [
    "//Crear URL\n",
    "def createUri(category: String, widget: String, start_date: String, end_date: String, time_trunc: String, lang: String, \n",
    "              geo_trunc: String = \"\", geo_limit: String = \"\", geo_ids: String = \"\"): String = {\n",
    "  val baseUrl = s\"https://apidatos.ree.es/$lang/datos/$category/$widget\"\n",
    "  \n",
    "// Crear un mapa con los parámetros obligatorios y opcionales\n",
    "  val params = Map(\n",
    "    \"start_date\" -> start_date,\n",
    "    \"end_date\" -> end_date,\n",
    "    \"time_trunc\" -> time_trunc,\n",
    "    \"geo_trunc\" -> geo_trunc,\n",
    "    \"geo_limit\" -> geo_limit,\n",
    "    \"geo_ids\" -> geo_ids\n",
    "  ).filter { case (_, v) => v.nonEmpty } // Filtrar los parámetros que no están vacíos\n",
    "\n",
    "//Especifico el orden concreto de los paramtros ya que, Scala map no te garantiza el orden\n",
    "  val orderedKeys = Seq(\"start_date\", \"end_date\", \"time_trunc\", \"geo_trunc\", \"geo_limit\", \"geo_ids\")\n",
    "\n",
    "// Unir los parámetros en una cadena\n",
    "  val queryString = orderedKeys.flatMap(key => params.get(key).map(value => s\"$key=$value\")).mkString(\"&\")\n",
    "  \n",
    "  s\"$baseUrl?$queryString\"\n",
    "}\n",
    "//Lanzar llamada y obtener guardar datos\n",
    "def getDataApi(apiUrl: String): Either[String, String] = {\n",
    " \n",
    "    val newRequest = basicRequest.get(uri\"$apiUrl\")\n",
    "    val response = newRequest.send()\n",
    "  \n",
    "  response.body match {\n",
    "    case Right(body) => \n",
    "      Right(body)\n",
    "      \n",
    "    case Left(error) => \n",
    "      Left(s\"Error fetching data: $error\")\n",
    "  }\n",
    "}\n",
    "\n",
    "// Transformar response a DataFrame\n",
    "def responseToDF(response: Either[String, String]): DataFrame = {\n",
    "    response match {\n",
    "    case Right(body) => \n",
    "        val rdd = spark.sparkContext.parallelize(Seq(body))\n",
    "        spark.read.json(rdd)\n",
    "    case Left(error) => \n",
    "        println(error)\n",
    "        spark.emptyDataFrame\n",
    "    }\n",
    "}\n"
   ]
  },
  {
   "cell_type": "code",
   "execution_count": 5,
   "metadata": {},
   "outputs": [
    {
     "data": {
      "text/plain": [
       "\u001b[32mimport \u001b[39m\u001b[36mjava.time.format.DateTimeFormatter\n",
       "\u001b[39m\n",
       "\u001b[32mimport \u001b[39m\u001b[36mjava.time.LocalDate\n",
       "\n",
       "\u001b[39m\n",
       "\u001b[36mresponse\u001b[39m: \u001b[32mEither\u001b[39m[\u001b[32mString\u001b[39m, \u001b[32mString\u001b[39m] = \u001b[33mRight\u001b[39m(\n",
       "  \u001b[32m\"{\\\"data\\\":{\\\"type\\\":\\\"Precios mercado peninsular en tiempo real\\\",\\\"id\\\":\\\"mer13\\\",\\\"attributes\\\":{\\\"title\\\":\\\"Precios mercado peninsular en tiempo real\\\",\\\"last-update\\\":\\\"2024-01-30T20:46:11.000+01:00\\\",\\\"description\\\":null},\\\"meta\\\":{\\\"cache-control\\\":{\\\"cache\\\":\\\"MISS\\\"}}},\\\"included\\\":[{\\\"type\\\":\\\"PVPC (\\\\u20ac\\\\/MWh)\\\",\\\"id\\\":\\\"1001\\\",\\\"groupId\\\":null,\\\"attributes\\\":{\\\"title\\\":\\\"PVPC (\\\\u20ac\\\\/MWh)\\\",\\\"description\\\":null,\\\"color\\\":\\\"#ffcf09\\\",\\\"type\\\":null,\\\"magnitude\\\":\\\"price\\\",\\\"composite\\\":false,\\\"last-update\\\":\\\"2024-01-30T20:46:11.000+01:00\\\",\\\"values\\\":[{\\\"value\\\":123.83,\\\"percentage\\\":0.6616264159008335,\\\"datetime\\\":\\\"2024-01-01T00:00:00.000+01:00\\\"},{\\\"value\\\":111.11,\\\"percentage\\\":0.6892679900744417,\\\"datetime\\\":\\\"2024-01-01T01:00:00.000+01:00\\\"},{\\\"value\\\":110.77,\\\"percentage\\\":0.6998799519807923,\\\"datetime\\\":\\\"2024-01-01T02:00:00.000+01:00\\\"},{\\\"value\\\":109.28,\\\"percentage\\\":0.7152768687000917,\\\"datetime\\\":\\\"2024-01-01T03:00:00.000+01:00\\\"},{\\\"value\\\":110.16,\\\"percentage\\\":0.7216035634743875,\\\"datetime\\\":\\\"2024-01-01T04:00:00.000+01:00\\\"},{\\\"value\\\":111.47,\\\"percentage\\\":0.7259051836415733,\\\"datetime\\\":\\\"2024-01-01T05:00:00.000+01:00\\\"},{\\\"value\\\":109.95,\\\"percentage\\\":0.7212200721548049,\\\"datetime\\\":\\\"2024-01-01T06:00:00.000+01:00\\\"},{\\\"value\\\":106.89,\\\"percentage\\\":0.715078940326465,\\\"datetime\\\":\\\"2024-01-01T07:00:00.000+01:00\\\"},{\\\"value\\\":107.31,\\\"percentage\\\":0.7121714892487391,\\\"datetime\\\":\\\"2024-01-01T08:00:00.000+01:00\\\"},{\\\"value\\\":103.25,\\\"percentage\\\":0.7094269616600247,\\\"datetime\\\":\\\"2024-01-01T09:00:00.000+01:00\\\"},{\\\"value\\\":76.42,\\\"percentage\\\":0.7535002957996451,\\\"datetime\\\":\\\"2024-01-01T10:00:00.000+01:00\\\"},{\\\"value\\\":47.6,\\\"percentage\\\":0.9242718446601942,\\\"datetime\\\":\\\"2024-01-01T11:00:00.000+01:00\\\"},{\\\"value\\\":46.4,\\\"percentage\\\":0.9354838709677419,\\\"datetime\\\":\\\"2024-01-01T12:00:00.000+01:00\\\"},{\\\"value\\\":44.73,\\\"percentage\\\":0.9559734986108143,\\\"datetime\\\":\\\"2024-01-01T13:00:00.000+01:00\\\"},{\\\"value\\\":44.17,\\\"percentage\\\":0.9623093681917212,\\\"datetime\\\":\\\"2024-01-01T14:00:00.000+01:00\\\"},{\\\"value\\\":51.29,\\\"percentage\\\":0.899666725135941,\\\"datetime\\\":\\\"2024-01-01T15:00:00.000+01:00\\\"},{\\\"value\\\":68.26,\\\"percentage\\\":0.7868587896253603,\\\"datetime\\\":\\\"2024-01-01T16:00:00.000+01:00\\\"},{\\\"value\\\":88.6,\\\"percentage\\\":0.7054140127388535,\\\"datetime\\\":\\\"2024-01-01T17:00:00.000+01:00\\\"},{\\\"value\\\":96.15,\\\"percentage\\\":0.6693351896971806,\\\"datetime\\\":\\\"2024-01-01T18:00:00.000+01:00\\\"},{\\\"value\\\":103.34,\\\"percentage\\\":0.6527698818773293,\\\"datetime\\\":\\\"2024-01-01T19:00:00.000+01:00\\\"},{\\\"value\\\":110.1,\\\"percentage\\\":0.643859649122807,\\\"datetime\\\":\\\"2024-01-01T20:00:00.000+01:00\\\"},{\\\"value\\\":110.04,\\\"percentage\\\":0.6471418489767113,\\\"datetime\\\":\\\"2024-01-01T21:00:00.000+01:00\\\"},{\\\"value\\\":94.09,\\\"percentage\\\":0.664524330814323,\\\"datetime\\\":\\\"2024-01-01T22:00:00.000+01:00\\\"},{\\\"value\\\":88.48,\\\"percentage\\\":0.6776441755380257,\\\"datetime\\\":\\\"2024-01-01T23:00:00.000+01:00\\\"},{\\\"value\\\":91.46,\\\"percentage\\\":0.7075661457527465,\\\"datetime\\\":\\\"2024-01-02T00:00\u001b[39m..."
      ]
     },
     "execution_count": 5,
     "metadata": {},
     "output_type": "execute_result"
    }
   ],
   "source": [
    "import java.time.format.DateTimeFormatter\n",
    "import java.time.LocalDate\n",
    "\n",
    "val response = getDataApi(\"https://apidatos.ree.es/es/datos/mercados/precios-mercados-tiempo-real?start_date=2024-01-01T00:00&end_date=2024-01-31T23:59&time_trunc=hour\")"
   ]
  },
  {
   "cell_type": "code",
   "execution_count": 6,
   "metadata": {},
   "outputs": [
    {
     "data": {
      "text/html": [
       "<script>\n",
       "var comm = Jupyter.notebook.kernel.comm_manager.new_comm('cancel-stage-a0f793ad-83b4-49cf-8421-2e675e6e0171', {});\n",
       "\n",
       "function cancelStage(stageId) {\n",
       "  console.log('Cancelling stage ' + stageId);\n",
       "  comm.send({ 'stageId': stageId });\n",
       "}\n",
       "</script>\n",
       "          "
      ]
     },
     "metadata": {},
     "output_type": "display_data"
    },
    {
     "data": {
      "text/html": [
       "<div>\n",
       "  <span style=\"float: left;\">json at cmd3.sc:43</span>\n",
       "</div>\n"
      ]
     },
     "metadata": {},
     "output_type": "display_data"
    },
    {
     "data": {
      "text/html": [
       "<div class=\"progress\">\n",
       "  <div class=\"progress-bar\" role=\"progressbar\" style=\"background-color: blue; width: 100%; word-wrap: normal; white-space: nowrap; text-align: center; color: white\" aria-valuenow=\"100\" aria-valuemin=\"0\" aria-valuemax=\"100\">\n",
       "    16 / 16\n",
       "  </div>\n",
       "  <div class=\"progress-bar\" role=\"progressbar\" style=\"background-color: red; width: 0%\" aria-valuenow=\"0\" aria-valuemin=\"0\" aria-valuemax=\"100\"></div>\n",
       "</div>\n"
      ]
     },
     "metadata": {},
     "output_type": "display_data"
    },
    {
     "data": {
      "text/plain": [
       "\u001b[36mdf\u001b[39m: \u001b[32mDataFrame\u001b[39m = [data: struct<attributes: struct<description: string, last-update: string ... 1 more field>, id: string ... 2 more fields>, included: array<struct<attributes:struct<color:string,composite:boolean,description:string,last-update:string,magnitude:string,title:string,type:string,values:array<struct<datetime:string,percentage:double,value:double>>>,groupId:string,id:string,type:string>>]"
      ]
     },
     "execution_count": 6,
     "metadata": {},
     "output_type": "execute_result"
    }
   ],
   "source": [
    "val df = responseToDF(response)"
   ]
  },
  {
   "cell_type": "code",
   "execution_count": 7,
   "metadata": {},
   "outputs": [
    {
     "data": {
      "text/plain": [
       "defined \u001b[32mfunction\u001b[39m \u001b[36mtransformDataFrame\u001b[39m"
      ]
     },
     "execution_count": 7,
     "metadata": {},
     "output_type": "execute_result"
    }
   ],
   "source": [
    "def transformDataFrame(df: DataFrame): DataFrame = {\n",
    "    // Definir los tipos de energía de bajas emisiones\n",
    "    val transformedDF = df\n",
    "        .withColumn(\"included\", explode($\"included\"))\n",
    "        .withColumn(\"TipoMercado\", $\"included.type\")\n",
    "        .withColumn(\"Values\", explode($\"included.attributes.values\"))\n",
    "        .select(\n",
    "            $\"Values.datetime\".cast(\"timestamp\").as(\"Fecha\"),\n",
    "            $\"TipoMercado\",\n",
    "            $\"Values.value\".as(\"Valor\"),\n",
    "            $\"Values.percentage\".as(\"Porcentaje\")\n",
    "        )\n",
    "    //Agrupar y pivotar el dataframe\n",
    "    transformedDF\n",
    "    .groupBy(\"Fecha\")\n",
    "    .pivot(\"TipoMercado\")\n",
    "    .agg(\n",
    "            first(\"Valor\", ignoreNulls = true).as(\"Valor\"),\n",
    "            first(\"Porcentaje\", ignoreNulls = true).as(\"Porcentaje\")\n",
    "        )\n",
    "    .withColumnRenamed(\"PVPC (€/MWh)_Valor\", \"Valor_PVPC\")\n",
    "    .withColumnRenamed(\"PVPC (€/MWh)_Porcentaje\", \"Porcentaje_PVPC\")\n",
    "    .withColumnRenamed(\"Precio mercado spot (€/MWh)_Valor\", \"Valor_Mercado_Spot\")\n",
    "    .withColumnRenamed(\"Precio mercado spot (€/MWh)_Porcentaje\", \"Porcentaje_Mercado_Spot\")\n",
    "}"
   ]
  },
  {
   "cell_type": "code",
   "execution_count": 8,
   "metadata": {},
   "outputs": [
    {
     "data": {
      "text/plain": [
       "\u001b[36mmodel\u001b[39m: \u001b[32mDataFrame\u001b[39m = [Fecha: timestamp, TipoMercado: string ... 2 more fields]"
      ]
     },
     "execution_count": 8,
     "metadata": {},
     "output_type": "execute_result"
    }
   ],
   "source": [
    "val model =  df\n",
    "        .withColumn(\"included\", explode($\"included\"))\n",
    "        .withColumn(\"TipoMercado\", $\"included.type\")\n",
    "        .withColumn(\"Values\", explode($\"included.attributes.values\"))\n",
    "        .select(\n",
    "            $\"Values.datetime\".cast(\"timestamp\").as(\"Fecha\"),\n",
    "            $\"TipoMercado\",\n",
    "            $\"Values.value\".as(\"Valor\"),\n",
    "            $\"Values.percentage\".as(\"Porcentaje\")\n",
    "        )"
   ]
  },
  {
   "cell_type": "code",
   "execution_count": 9,
   "metadata": {},
   "outputs": [
    {
     "data": {
      "text/html": [
       "<div>\n",
       "  <span style=\"float: left;\">show at cmd8.sc:1</span>\n",
       "</div>\n"
      ]
     },
     "metadata": {},
     "output_type": "display_data"
    },
    {
     "data": {
      "text/html": [
       "<div class=\"progress\">\n",
       "  <div class=\"progress-bar\" role=\"progressbar\" style=\"background-color: blue; width: 100%; word-wrap: normal; white-space: nowrap; text-align: center; color: white\" aria-valuenow=\"100\" aria-valuemin=\"0\" aria-valuemax=\"100\">\n",
       "    1 / 1\n",
       "  </div>\n",
       "  <div class=\"progress-bar\" role=\"progressbar\" style=\"background-color: red; width: 0%\" aria-valuenow=\"0\" aria-valuemin=\"0\" aria-valuemax=\"100\"></div>\n",
       "</div>\n"
      ]
     },
     "metadata": {},
     "output_type": "display_data"
    },
    {
     "data": {
      "text/html": [
       "<div>\n",
       "  <span style=\"float: left;\">show at cmd8.sc:1</span>\n",
       "</div>\n"
      ]
     },
     "metadata": {},
     "output_type": "display_data"
    },
    {
     "data": {
      "text/html": [
       "<div class=\"progress\">\n",
       "  <div class=\"progress-bar\" role=\"progressbar\" style=\"background-color: blue; width: 100%; word-wrap: normal; white-space: nowrap; text-align: center; color: white\" aria-valuenow=\"100\" aria-valuemin=\"0\" aria-valuemax=\"100\">\n",
       "    4 / 4\n",
       "  </div>\n",
       "  <div class=\"progress-bar\" role=\"progressbar\" style=\"background-color: red; width: 0%\" aria-valuenow=\"0\" aria-valuemin=\"0\" aria-valuemax=\"100\"></div>\n",
       "</div>\n"
      ]
     },
     "metadata": {},
     "output_type": "display_data"
    },
    {
     "data": {
      "text/html": [
       "<div>\n",
       "  <span style=\"float: left;\">show at cmd8.sc:1</span>\n",
       "</div>\n"
      ]
     },
     "metadata": {},
     "output_type": "display_data"
    },
    {
     "data": {
      "text/html": [
       "<div class=\"progress\">\n",
       "  <div class=\"progress-bar\" role=\"progressbar\" style=\"background-color: blue; width: 100%; word-wrap: normal; white-space: nowrap; text-align: center; color: white\" aria-valuenow=\"100\" aria-valuemin=\"0\" aria-valuemax=\"100\">\n",
       "    11 / 11\n",
       "  </div>\n",
       "  <div class=\"progress-bar\" role=\"progressbar\" style=\"background-color: red; width: 0%\" aria-valuenow=\"0\" aria-valuemin=\"0\" aria-valuemax=\"100\"></div>\n",
       "</div>\n"
      ]
     },
     "metadata": {},
     "output_type": "display_data"
    },
    {
     "name": "stdout",
     "output_type": "stream",
     "text": [
      "+-------------------+------------+------+------------------+\n",
      "|              Fecha| TipoMercado| Valor|        Porcentaje|\n",
      "+-------------------+------------+------+------------------+\n",
      "|2023-12-31 23:00:00|PVPC (€/MWh)|123.83|0.6616264159008335|\n",
      "|2024-01-01 00:00:00|PVPC (€/MWh)|111.11|0.6892679900744417|\n",
      "|2024-01-01 01:00:00|PVPC (€/MWh)|110.77|0.6998799519807923|\n",
      "|2024-01-01 02:00:00|PVPC (€/MWh)|109.28|0.7152768687000917|\n",
      "|2024-01-01 03:00:00|PVPC (€/MWh)|110.16|0.7216035634743875|\n",
      "|2024-01-01 04:00:00|PVPC (€/MWh)|111.47|0.7259051836415733|\n",
      "|2024-01-01 05:00:00|PVPC (€/MWh)|109.95|0.7212200721548049|\n",
      "|2024-01-01 06:00:00|PVPC (€/MWh)|106.89| 0.715078940326465|\n",
      "|2024-01-01 07:00:00|PVPC (€/MWh)|107.31|0.7121714892487391|\n",
      "|2024-01-01 08:00:00|PVPC (€/MWh)|103.25|0.7094269616600247|\n",
      "|2024-01-01 09:00:00|PVPC (€/MWh)| 76.42|0.7535002957996451|\n",
      "|2024-01-01 10:00:00|PVPC (€/MWh)|  47.6|0.9242718446601942|\n",
      "|2024-01-01 11:00:00|PVPC (€/MWh)|  46.4|0.9354838709677419|\n",
      "|2024-01-01 12:00:00|PVPC (€/MWh)| 44.73|0.9559734986108143|\n",
      "|2024-01-01 13:00:00|PVPC (€/MWh)| 44.17|0.9623093681917212|\n",
      "|2024-01-01 14:00:00|PVPC (€/MWh)| 51.29| 0.899666725135941|\n",
      "|2024-01-01 15:00:00|PVPC (€/MWh)| 68.26|0.7868587896253603|\n",
      "|2024-01-01 16:00:00|PVPC (€/MWh)|  88.6|0.7054140127388535|\n",
      "|2024-01-01 17:00:00|PVPC (€/MWh)| 96.15|0.6693351896971806|\n",
      "|2024-01-01 18:00:00|PVPC (€/MWh)|103.34|0.6527698818773293|\n",
      "+-------------------+------------+------+------------------+\n",
      "only showing top 20 rows\n",
      "\n"
     ]
    }
   ],
   "source": [
    "model.show()"
   ]
  },
  {
   "cell_type": "code",
   "execution_count": 12,
   "metadata": {},
   "outputs": [
    {
     "data": {
      "text/html": [
       "<div>\n",
       "  <span style=\"float: left;\">count at cmd11.sc:1</span>\n",
       "</div>\n"
      ]
     },
     "metadata": {},
     "output_type": "display_data"
    },
    {
     "data": {
      "text/html": [
       "<div class=\"progress\">\n",
       "  <div class=\"progress-bar\" role=\"progressbar\" style=\"background-color: blue; width: 100%; word-wrap: normal; white-space: nowrap; text-align: center; color: white\" aria-valuenow=\"100\" aria-valuemin=\"0\" aria-valuemax=\"100\">\n",
       "    16 / 16\n",
       "  </div>\n",
       "  <div class=\"progress-bar\" role=\"progressbar\" style=\"background-color: red; width: 0%\" aria-valuenow=\"0\" aria-valuemin=\"0\" aria-valuemax=\"100\"></div>\n",
       "</div>\n"
      ]
     },
     "metadata": {},
     "output_type": "display_data"
    },
    {
     "data": {
      "text/html": [
       "<div>\n",
       "  <span style=\"float: left;\">count at cmd11.sc:1</span>\n",
       "</div>\n"
      ]
     },
     "metadata": {},
     "output_type": "display_data"
    },
    {
     "data": {
      "text/html": [
       "<div class=\"progress\">\n",
       "  <div class=\"progress-bar\" role=\"progressbar\" style=\"background-color: blue; width: 100%; word-wrap: normal; white-space: nowrap; text-align: center; color: white\" aria-valuenow=\"100\" aria-valuemin=\"0\" aria-valuemax=\"100\">\n",
       "    1 / 1\n",
       "  </div>\n",
       "  <div class=\"progress-bar\" role=\"progressbar\" style=\"background-color: red; width: 0%\" aria-valuenow=\"0\" aria-valuemin=\"0\" aria-valuemax=\"100\"></div>\n",
       "</div>\n"
      ]
     },
     "metadata": {},
     "output_type": "display_data"
    },
    {
     "data": {
      "text/plain": [
       "\u001b[36mres11\u001b[39m: \u001b[32mLong\u001b[39m = \u001b[32m0L\u001b[39m"
      ]
     },
     "execution_count": 12,
     "metadata": {},
     "output_type": "execute_result"
    }
   ],
   "source": [
    "model.filter(col(\"Valor\").isNull).count()"
   ]
  },
  {
   "cell_type": "code",
   "execution_count": 13,
   "metadata": {},
   "outputs": [
    {
     "data": {
      "text/html": [
       "<div>\n",
       "  <span style=\"float: left;\">pivot at cmd12.sc:3</span>\n",
       "</div>\n"
      ]
     },
     "metadata": {},
     "output_type": "display_data"
    },
    {
     "data": {
      "text/html": [
       "<div class=\"progress\">\n",
       "  <div class=\"progress-bar\" role=\"progressbar\" style=\"background-color: blue; width: 100%; word-wrap: normal; white-space: nowrap; text-align: center; color: white\" aria-valuenow=\"100\" aria-valuemin=\"0\" aria-valuemax=\"100\">\n",
       "    16 / 16\n",
       "  </div>\n",
       "  <div class=\"progress-bar\" role=\"progressbar\" style=\"background-color: red; width: 0%\" aria-valuenow=\"0\" aria-valuemin=\"0\" aria-valuemax=\"100\"></div>\n",
       "</div>\n"
      ]
     },
     "metadata": {},
     "output_type": "display_data"
    },
    {
     "data": {
      "text/html": [
       "<div>\n",
       "  <span style=\"float: left;\">pivot at cmd12.sc:3</span>\n",
       "</div>\n"
      ]
     },
     "metadata": {},
     "output_type": "display_data"
    },
    {
     "data": {
      "text/html": [
       "<div class=\"progress\">\n",
       "  <div class=\"progress-bar\" role=\"progressbar\" style=\"background-color: blue; width: 100%; word-wrap: normal; white-space: nowrap; text-align: center; color: white\" aria-valuenow=\"100\" aria-valuemin=\"0\" aria-valuemax=\"100\">\n",
       "    200 / 200\n",
       "  </div>\n",
       "  <div class=\"progress-bar\" role=\"progressbar\" style=\"background-color: red; width: 0%\" aria-valuenow=\"0\" aria-valuemin=\"0\" aria-valuemax=\"100\"></div>\n",
       "</div>\n"
      ]
     },
     "metadata": {},
     "output_type": "display_data"
    },
    {
     "data": {
      "text/html": [
       "<div>\n",
       "  <span style=\"float: left;\">pivot at cmd12.sc:3</span>\n",
       "</div>\n"
      ]
     },
     "metadata": {},
     "output_type": "display_data"
    },
    {
     "data": {
      "text/html": [
       "<div class=\"progress\">\n",
       "  <div class=\"progress-bar\" role=\"progressbar\" style=\"background-color: blue; width: 100%; word-wrap: normal; white-space: nowrap; text-align: center; color: white\" aria-valuenow=\"100\" aria-valuemin=\"0\" aria-valuemax=\"100\">\n",
       "    1 / 1\n",
       "  </div>\n",
       "  <div class=\"progress-bar\" role=\"progressbar\" style=\"background-color: red; width: 0%\" aria-valuenow=\"0\" aria-valuemin=\"0\" aria-valuemax=\"100\"></div>\n",
       "</div>\n"
      ]
     },
     "metadata": {},
     "output_type": "display_data"
    },
    {
     "data": {
      "text/plain": [
       "\u001b[36mfinalModel\u001b[39m: \u001b[32mDataFrame\u001b[39m = [Fecha: timestamp, Valor_PVPC: double ... 3 more fields]"
      ]
     },
     "execution_count": 13,
     "metadata": {},
     "output_type": "execute_result"
    }
   ],
   "source": [
    "val finalModel = model\n",
    "    .groupBy(\"Fecha\")\n",
    "    .pivot(\"TipoMercado\")\n",
    "    .agg(\n",
    "            sum(\"Valor\").as(\"Valor\"), \n",
    "            sum(\"Porcentaje\").as(\"Porcentaje\")\n",
    "        )\n",
    "    .withColumnRenamed(\"PVPC (€/MWh)_Valor\", \"Valor_PVPC\")\n",
    "    .withColumnRenamed(\"PVPC (€/MWh)_Porcentaje\", \"Porcentaje_PVPC\")\n",
    "    .withColumnRenamed(\"Precio mercado spot (€/MWh)_Valor\", \"Valor_Mercado_Spot\")\n",
    "    .withColumnRenamed(\"Precio mercado spot (€/MWh)_Porcentaje\", \"Porcentaje_Mercado_Spot\")"
   ]
  },
  {
   "cell_type": "code",
   "execution_count": 14,
   "metadata": {},
   "outputs": [
    {
     "data": {
      "text/html": [
       "<div>\n",
       "  <span style=\"float: left;\">show at cmd13.sc:1</span>\n",
       "</div>\n"
      ]
     },
     "metadata": {},
     "output_type": "display_data"
    },
    {
     "data": {
      "text/html": [
       "<div class=\"progress\">\n",
       "  <div class=\"progress-bar\" role=\"progressbar\" style=\"background-color: blue; width: 100%; word-wrap: normal; white-space: nowrap; text-align: center; color: white\" aria-valuenow=\"100\" aria-valuemin=\"0\" aria-valuemax=\"100\">\n",
       "    16 / 16\n",
       "  </div>\n",
       "  <div class=\"progress-bar\" role=\"progressbar\" style=\"background-color: red; width: 0%\" aria-valuenow=\"0\" aria-valuemin=\"0\" aria-valuemax=\"100\"></div>\n",
       "</div>\n"
      ]
     },
     "metadata": {},
     "output_type": "display_data"
    },
    {
     "data": {
      "text/html": [
       "<div>\n",
       "  <span style=\"float: left;\">show at cmd13.sc:1</span>\n",
       "</div>\n"
      ]
     },
     "metadata": {},
     "output_type": "display_data"
    },
    {
     "data": {
      "text/html": [
       "<div class=\"progress\">\n",
       "  <div class=\"progress-bar\" role=\"progressbar\" style=\"background-color: blue; width: 100%; word-wrap: normal; white-space: nowrap; text-align: center; color: white\" aria-valuenow=\"100\" aria-valuemin=\"0\" aria-valuemax=\"100\">\n",
       "    200 / 200\n",
       "  </div>\n",
       "  <div class=\"progress-bar\" role=\"progressbar\" style=\"background-color: red; width: 0%\" aria-valuenow=\"0\" aria-valuemin=\"0\" aria-valuemax=\"100\"></div>\n",
       "</div>\n"
      ]
     },
     "metadata": {},
     "output_type": "display_data"
    },
    {
     "data": {
      "text/html": [
       "<div>\n",
       "  <span style=\"float: left;\">show at cmd13.sc:1</span>\n",
       "</div>\n"
      ]
     },
     "metadata": {},
     "output_type": "display_data"
    },
    {
     "data": {
      "text/html": [
       "<div class=\"progress\">\n",
       "  <div class=\"progress-bar\" role=\"progressbar\" style=\"background-color: blue; width: 100%; word-wrap: normal; white-space: nowrap; text-align: center; color: white\" aria-valuenow=\"100\" aria-valuemin=\"0\" aria-valuemax=\"100\">\n",
       "    1 / 1\n",
       "  </div>\n",
       "  <div class=\"progress-bar\" role=\"progressbar\" style=\"background-color: red; width: 0%\" aria-valuenow=\"0\" aria-valuemin=\"0\" aria-valuemax=\"100\"></div>\n",
       "</div>\n"
      ]
     },
     "metadata": {},
     "output_type": "display_data"
    },
    {
     "data": {
      "text/html": [
       "<div>\n",
       "  <span style=\"float: left;\">show at cmd13.sc:1</span>\n",
       "</div>\n"
      ]
     },
     "metadata": {},
     "output_type": "display_data"
    },
    {
     "data": {
      "text/html": [
       "<div class=\"progress\">\n",
       "  <div class=\"progress-bar\" role=\"progressbar\" style=\"background-color: blue; width: 100%; word-wrap: normal; white-space: nowrap; text-align: center; color: white\" aria-valuenow=\"100\" aria-valuemin=\"0\" aria-valuemax=\"100\">\n",
       "    4 / 4\n",
       "  </div>\n",
       "  <div class=\"progress-bar\" role=\"progressbar\" style=\"background-color: red; width: 0%\" aria-valuenow=\"0\" aria-valuemin=\"0\" aria-valuemax=\"100\"></div>\n",
       "</div>\n"
      ]
     },
     "metadata": {},
     "output_type": "display_data"
    },
    {
     "data": {
      "text/html": [
       "<div>\n",
       "  <span style=\"float: left;\">show at cmd13.sc:1</span>\n",
       "</div>\n"
      ]
     },
     "metadata": {},
     "output_type": "display_data"
    },
    {
     "data": {
      "text/html": [
       "<div class=\"progress\">\n",
       "  <div class=\"progress-bar\" role=\"progressbar\" style=\"background-color: blue; width: 100%; word-wrap: normal; white-space: nowrap; text-align: center; color: white\" aria-valuenow=\"100\" aria-valuemin=\"0\" aria-valuemax=\"100\">\n",
       "    2 / 2\n",
       "  </div>\n",
       "  <div class=\"progress-bar\" role=\"progressbar\" style=\"background-color: red; width: 0%\" aria-valuenow=\"0\" aria-valuemin=\"0\" aria-valuemax=\"100\"></div>\n",
       "</div>\n"
      ]
     },
     "metadata": {},
     "output_type": "display_data"
    },
    {
     "name": "stdout",
     "output_type": "stream",
     "text": [
      "+-------------------+----------+------------------+------------------+-----------------------+\n",
      "|              Fecha|Valor_PVPC|   Porcentaje_PVPC|Valor_Mercado_Spot|Porcentaje_Mercado_Spot|\n",
      "+-------------------+----------+------------------+------------------+-----------------------+\n",
      "|2024-01-29 03:00:00|    101.89|0.6639082556851502|             51.58|     0.3360917443148498|\n",
      "|2024-01-09 01:00:00|    137.24|0.5823397123095855|             98.43|     0.4176602876904146|\n",
      "|2024-01-01 18:00:00|    103.34|0.6527698818773293|             54.97|     0.3472301181226707|\n",
      "|2024-01-26 21:00:00|    140.75|0.6524359152644509|             74.98|    0.34756408473554906|\n",
      "|2024-01-19 11:00:00|    192.91|0.7101417264862876|             78.74|     0.2898582735137125|\n",
      "|2024-01-10 11:00:00|    206.88|0.6741616971355948|             99.99|     0.3258383028644051|\n",
      "|2024-01-15 14:00:00|    155.09|0.6325298747909784|              90.1|    0.36747012520902156|\n",
      "|2024-01-29 08:00:00|    151.57|0.6316469411568595|             88.39|    0.36835305884314057|\n",
      "|2024-01-30 16:00:00|    152.59|0.6320520255156987|             88.83|    0.36794797448430117|\n",
      "|2024-01-05 23:00:00|    101.88|0.6599300427516518|              52.5|    0.34006995724834826|\n",
      "|2024-01-10 01:00:00|    125.13| 0.589846327896672|             87.01|    0.41015367210332804|\n",
      "|2024-01-27 23:00:00|     113.1|0.6458059727059898|             62.03|    0.35419402729401017|\n",
      "|2024-01-07 19:00:00|    142.91|0.5871163879873464|             100.5|    0.41288361201265356|\n",
      "|2024-01-25 18:00:00|    233.44|0.6738251933956818|             113.0|     0.3261748066043182|\n",
      "|2024-01-31 05:00:00|     126.3|0.5993166935560406|             84.44|    0.40068330644395933|\n",
      "|2024-01-01 11:00:00|      46.4|0.9354838709677419|               3.2|    0.06451612903225806|\n",
      "|2024-01-12 05:00:00|    126.13|0.5862966578347976|              89.0|    0.41370334216520244|\n",
      "|2024-01-24 08:00:00|    149.46|0.6267192217376719|             89.02|    0.37328077826232803|\n",
      "|2024-01-06 07:00:00|      92.9|0.6697909156452777|              45.8|     0.3302090843547224|\n",
      "|2024-01-05 19:00:00|    196.88|0.7112202875514775|             79.94|     0.2887797124485225|\n",
      "+-------------------+----------+------------------+------------------+-----------------------+\n",
      "only showing top 20 rows\n",
      "\n"
     ]
    }
   ],
   "source": [
    "finalModel.show()\n"
   ]
  },
  {
   "cell_type": "code",
   "execution_count": null,
   "metadata": {},
   "outputs": [],
   "source": []
  },
  {
   "cell_type": "code",
   "execution_count": null,
   "metadata": {},
   "outputs": [],
   "source": []
  }
 ],
 "metadata": {
  "kernelspec": {
   "display_name": "Scala 2.12",
   "language": "scala",
   "name": "scala212"
  },
  "language_info": {
   "codemirror_mode": "text/x-scala",
   "file_extension": ".scala",
   "mimetype": "text/x-scala",
   "name": "scala",
   "nbconvert_exporter": "script",
   "version": "2.12.10"
  }
 },
 "nbformat": 4,
 "nbformat_minor": 4
}
