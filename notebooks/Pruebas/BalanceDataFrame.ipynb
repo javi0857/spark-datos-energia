{
 "cells": [
  {
   "cell_type": "code",
   "execution_count": 2,
   "metadata": {},
   "outputs": [
    {
     "data": {
      "text/plain": [
       "\u001b[32mimport \u001b[39m\u001b[36m$file.$           \n",
       "\u001b[39m\n",
       "\u001b[32mimport \u001b[39m\u001b[36msparksession._\u001b[39m"
      ]
     },
     "execution_count": 2,
     "metadata": {},
     "output_type": "execute_result"
    }
   ],
   "source": [
    "import $file.sparksession\n",
    "import sparksession._"
   ]
  },
  {
   "cell_type": "markdown",
   "metadata": {},
   "source": [
    "# Lectura JSON"
   ]
  },
  {
   "cell_type": "markdown",
   "metadata": {},
   "source": [
    "Creamos un DataFrame con el JSON de Balance energético"
   ]
  },
  {
   "cell_type": "code",
   "execution_count": 2,
   "metadata": {},
   "outputs": [
    {
     "name": "stderr",
     "output_type": "stream",
     "text": [
      "cmd2.sc:1: not found: type DataFrame\n",
      "val balanceDF: DataFrame = spark.read\n",
      "               ^Compilation Failed"
     ]
    },
    {
     "ename": "",
     "evalue": "",
     "output_type": "error",
     "traceback": [
      "Compilation Failed"
     ]
    }
   ],
   "source": [
    "val balanceDF: DataFrame = spark.read\n",
    "        .option(\"multiline\",\"true\")\n",
    "        .json(\"data/Balance-mes-2023-2024.json\")"
   ]
  },
  {
   "cell_type": "code",
   "execution_count": 2,
   "metadata": {},
   "outputs": [
    {
     "name": "stderr",
     "output_type": "stream",
     "text": [
      "cmd2.sc:1: not found: type Dataset\n",
      "val balanceDs: Dataset[Row] = balanceDF\n",
      "               ^cmd2.sc:1: not found: value balanceDF\n",
      "val balanceDs: Dataset[Row] = balanceDF\n",
      "                              ^Compilation Failed"
     ]
    },
    {
     "ename": "",
     "evalue": "",
     "output_type": "error",
     "traceback": [
      "Compilation Failed"
     ]
    }
   ],
   "source": [
    "val balanceDs: Dataset[Row] = balanceDF"
   ]
  },
  {
   "cell_type": "code",
   "execution_count": 3,
   "metadata": {},
   "outputs": [
    {
     "name": "stderr",
     "output_type": "stream",
     "text": [
      "cmd3.sc:1: not found: value balanceDF\n",
      "val res3_0 = balanceDF.schema\n",
      "             ^cmd3.sc:2: not found: value balanceDF\n",
      "val res3_1 = balanceDF.printSchema\n",
      "             ^Compilation Failed"
     ]
    },
    {
     "ename": "",
     "evalue": "",
     "output_type": "error",
     "traceback": [
      "Compilation Failed"
     ]
    }
   ],
   "source": [
    "balanceDF.schema\n",
    "balanceDF.printSchema"
   ]
  },
  {
   "cell_type": "markdown",
   "metadata": {},
   "source": [
    "Con explode generamos una columna con una fila por cada elemento del array"
   ]
  },
  {
   "cell_type": "markdown",
   "metadata": {},
   "source": [
    "Guardar dataframe en un .csv"
   ]
  },
  {
   "cell_type": "code",
   "execution_count": 7,
   "metadata": {},
   "outputs": [
    {
     "data": {
      "text/plain": [
       "\u001b[36mfamiliasEnergiaDF\u001b[39m: \u001b[32mDataFrame\u001b[39m = [data: struct<attributes: struct<description: string, last-update: string ... 1 more field>, id: string ... 2 more fields>, included: array<struct<attributes:struct<content:array<struct<attributes:struct<color:string,composite:boolean,description:string,last-update:string,magnitude:string,title:string,total:double,type:string,values:array<struct<datetime:string,percentage:double,value:double>>>,groupId:string,id:string,type:string>>,description:string,last-update:string,magnitude:string,title:string>,id:string,type:string>> ... 1 more field]\n",
       "\u001b[36mtiposEnergiaDF\u001b[39m: \u001b[32mDataFrame\u001b[39m = [data: struct<attributes: struct<description: string, last-update: string ... 1 more field>, id: string ... 2 more fields>, included: array<struct<attributes:struct<content:array<struct<attributes:struct<color:string,composite:boolean,description:string,last-update:string,magnitude:string,title:string,total:double,type:string,values:array<struct<datetime:string,percentage:double,value:double>>>,groupId:string,id:string,type:string>>,description:string,last-update:string,magnitude:string,title:string>,id:string,type:string>> ... 2 more fields]\n",
       "\u001b[36mvaloresEnergiaDF\u001b[39m: \u001b[32mDataFrame\u001b[39m = [data: struct<attributes: struct<description: string, last-update: string ... 1 more field>, id: string ... 2 more fields>, included: array<struct<attributes:struct<content:array<struct<attributes:struct<color:string,composite:boolean,description:string,last-update:string,magnitude:string,title:string,total:double,type:string,values:array<struct<datetime:string,percentage:double,value:double>>>,groupId:string,id:string,type:string>>,description:string,last-update:string,magnitude:string,title:string>,id:string,type:string>> ... 3 more fields]"
      ]
     },
     "execution_count": 7,
     "metadata": {},
     "output_type": "execute_result"
    }
   ],
   "source": [
    "val familiasEnergiaDF = balanceDF.withColumn(\"FamiliasEnergia\", explode($\"included\"))\n",
    "val tiposEnergiaDF = familiasEnergiaDF.withColumn(\"TiposEnergia\", explode($\"FamiliasEnergia.attributes.content\"))\n",
    "val valoresEnergiaDF = tiposEnergiaDF.withColumn(\"Valores\", explode($\"TiposEnergia.attributes.values\"))"
   ]
  },
  {
   "cell_type": "code",
   "execution_count": 8,
   "metadata": {},
   "outputs": [
    {
     "data": {
      "text/plain": [
       "\u001b[36mvaloresEnergia\u001b[39m: \u001b[32mDataFrame\u001b[39m = [FamiliaEnergia: string, TipoEnergia: string ... 3 more fields]"
      ]
     },
     "execution_count": 8,
     "metadata": {},
     "output_type": "execute_result"
    }
   ],
   "source": [
    "val valoresEnergia = valoresEnergiaDF.select(\n",
    "    $\"FamiliasEnergia.type\".as(\"FamiliaEnergia\"),\n",
    "    $\"TiposEnergia.type\".as(\"TipoEnergia\"),\n",
    "    $\"Valores.*\"\n",
    ")\n"
   ]
  },
  {
   "cell_type": "code",
   "execution_count": 9,
   "metadata": {},
   "outputs": [
    {
     "data": {
      "text/plain": [
       "\u001b[36mvaloresEnergiaConFecha\u001b[39m: \u001b[32mDataFrame\u001b[39m = [FamiliaEnergia: string, TipoEnergia: string ... 3 more fields]"
      ]
     },
     "execution_count": 9,
     "metadata": {},
     "output_type": "execute_result"
    }
   ],
   "source": [
    "val valoresEnergiaConFecha = valoresEnergia.withColumn(\"Fecha\", to_date($\"datetime\")).drop(\"datetime\")"
   ]
  },
  {
   "cell_type": "code",
   "execution_count": 10,
   "metadata": {},
   "outputs": [
    {
     "data": {
      "text/plain": [
       "\u001b[36mvaloresHidraulica\u001b[39m: \u001b[32mDataset\u001b[39m[\u001b[32mRow\u001b[39m] = [FamiliaEnergia: string, TipoEnergia: string ... 3 more fields]\n",
       "\u001b[36mvaloresSolar\u001b[39m: \u001b[32mDataset\u001b[39m[\u001b[32mRow\u001b[39m] = [FamiliaEnergia: string, TipoEnergia: string ... 3 more fields]\n",
       "\u001b[36mvaloresNuclear\u001b[39m: \u001b[32mDataset\u001b[39m[\u001b[32mRow\u001b[39m] = [FamiliaEnergia: string, TipoEnergia: string ... 3 more fields]\n",
       "\u001b[36mvaloresCarbon\u001b[39m: \u001b[32mDataset\u001b[39m[\u001b[32mRow\u001b[39m] = [FamiliaEnergia: string, TipoEnergia: string ... 3 more fields]\n",
       "\u001b[36mvaloresGas\u001b[39m: \u001b[32mDataset\u001b[39m[\u001b[32mRow\u001b[39m] = [FamiliaEnergia: string, TipoEnergia: string ... 3 more fields]"
      ]
     },
     "execution_count": 10,
     "metadata": {},
     "output_type": "execute_result"
    }
   ],
   "source": [
    "val valoresHidraulica = valoresEnergiaConFecha.filter($\"TipoEnergia\" === \"Hidráulica\")\n",
    "val valoresSolar = valoresEnergiaConFecha.filter($\"TipoEnergia\" === \"Solar fotovoltaica\")\n",
    "val valoresNuclear = valoresEnergiaConFecha.filter($\"TipoEnergia\" === \"Nuclear\")\n",
    "val valoresCarbon = valoresEnergiaConFecha.filter($\"TipoEnergia\" === \"Carbón\")\n",
    "val valoresGas = valoresEnergiaConFecha.filter($\"TipoEnergia\" === \"Ciclo combinado\")"
   ]
  },
  {
   "cell_type": "code",
   "execution_count": 11,
   "metadata": {},
   "outputs": [
    {
     "data": {
      "text/plain": [
       "\u001b[36mres10\u001b[39m: \u001b[32mStructType\u001b[39m = \u001b[33mStructType\u001b[39m(\n",
       "  \u001b[33mStructField\u001b[39m(\u001b[32m\"FamiliaEnergia\"\u001b[39m, StringType, true, {}),\n",
       "  \u001b[33mStructField\u001b[39m(\u001b[32m\"TipoEnergia\"\u001b[39m, StringType, true, {}),\n",
       "  \u001b[33mStructField\u001b[39m(\u001b[32m\"percentage\"\u001b[39m, DoubleType, true, {}),\n",
       "  \u001b[33mStructField\u001b[39m(\u001b[32m\"value\"\u001b[39m, DoubleType, true, {}),\n",
       "  \u001b[33mStructField\u001b[39m(\u001b[32m\"Fecha\"\u001b[39m, DateType, true, {})\n",
       ")"
      ]
     },
     "execution_count": 11,
     "metadata": {},
     "output_type": "execute_result"
    }
   ],
   "source": [
    "valoresEnergiaConFecha.schema"
   ]
  },
  {
   "cell_type": "code",
   "execution_count": 12,
   "metadata": {},
   "outputs": [
    {
     "data": {
      "text/html": [
       "<div>\n",
       "  <span style=\"float: left;\">show at cmd11.sc:1</span>\n",
       "</div>\n"
      ]
     },
     "metadata": {},
     "output_type": "display_data"
    },
    {
     "data": {
      "text/html": [
       "<div class=\"progress\">\n",
       "  <div class=\"progress-bar\" role=\"progressbar\" style=\"background-color: blue; width: 100%; word-wrap: normal; white-space: nowrap; text-align: center; color: white\" aria-valuenow=\"100\" aria-valuemin=\"0\" aria-valuemax=\"100\">\n",
       "    1 / 1\n",
       "  </div>\n",
       "  <div class=\"progress-bar\" role=\"progressbar\" style=\"background-color: red; width: 0%\" aria-valuenow=\"0\" aria-valuemin=\"0\" aria-valuemax=\"100\"></div>\n",
       "</div>\n"
      ]
     },
     "metadata": {},
     "output_type": "display_data"
    },
    {
     "name": "stdout",
     "output_type": "stream",
     "text": [
      "+--------------+-----------+-------------------+-----------+----------+\n",
      "|FamiliaEnergia|TipoEnergia|         percentage|      value|     Fecha|\n",
      "+--------------+-----------+-------------------+-----------+----------+\n",
      "|  No-Renovable|    Nuclear|0.49309305118625113|5086763.589|2023-01-01|\n",
      "|  No-Renovable|    Nuclear| 0.3882659291256707|4597959.716|2023-02-01|\n",
      "|  No-Renovable|    Nuclear| 0.4484863613020177|5102291.068|2023-03-01|\n",
      "|  No-Renovable|    Nuclear| 0.4437513485853026|4567269.056|2023-04-01|\n",
      "|  No-Renovable|    Nuclear|0.37791174266675187|3741768.391|2023-05-01|\n",
      "|  No-Renovable|    Nuclear| 0.3486310616228004|4008721.126|2023-06-01|\n",
      "|  No-Renovable|    Nuclear|0.40169713676631574|5123133.915|2023-07-01|\n",
      "|  No-Renovable|    Nuclear|0.39481050921417277|5008274.547|2023-08-01|\n",
      "|  No-Renovable|    Nuclear|  0.375223954077131|4546818.519|2023-09-01|\n",
      "|  No-Renovable|    Nuclear|0.35630211068419565|3741507.112|2023-10-01|\n",
      "|  No-Renovable|    Nuclear|0.42962133134992614|3761317.407|2023-11-01|\n",
      "|  No-Renovable|    Nuclear| 0.4763333062514586|  4990078.5|2023-12-01|\n",
      "|  No-Renovable|    Nuclear|0.45234905374896894|5160801.337|2024-01-01|\n",
      "|  No-Renovable|    Nuclear|0.49450005569874406|4509593.725|2024-02-01|\n",
      "|  No-Renovable|    Nuclear| 0.4319973249903916|3470800.356|2024-03-01|\n",
      "|  No-Renovable|    Nuclear| 0.4658091161077739|3501947.828|2024-04-01|\n",
      "|  No-Renovable|    Nuclear|0.43523770373823933|3512206.774|2024-05-01|\n",
      "+--------------+-----------+-------------------+-----------+----------+\n",
      "\n"
     ]
    }
   ],
   "source": [
    "valoresNuclear.show()"
   ]
  },
  {
   "cell_type": "markdown",
   "metadata": {},
   "source": [
    "# PRUEBA A REPRESNETAR DATOS EN GRAFICOS"
   ]
  },
  {
   "cell_type": "code",
   "execution_count": 13,
   "metadata": {},
   "outputs": [
    {
     "name": "stderr",
     "output_type": "stream",
     "text": [
      "Downloading https://repo1.maven.org/maven2/org/plotly-scala/plotly-almond_2.12/0.7.1/plotly-almond_2.12-0.7.1.pom\n",
      "Downloaded https://repo1.maven.org/maven2/org/plotly-scala/plotly-almond_2.12/0.7.1/plotly-almond_2.12-0.7.1.pom\n",
      "Downloading https://repo1.maven.org/maven2/org/plotly-scala/plotly-core_2.12/0.7.1/plotly-core_2.12-0.7.1.pom\n",
      "Downloading https://repo1.maven.org/maven2/org/plotly-scala/plotly-render_2.12/0.7.1/plotly-render_2.12-0.7.1.pom\n",
      "Downloaded https://repo1.maven.org/maven2/org/plotly-scala/plotly-core_2.12/0.7.1/plotly-core_2.12-0.7.1.pom\n",
      "Downloaded https://repo1.maven.org/maven2/org/plotly-scala/plotly-render_2.12/0.7.1/plotly-render_2.12-0.7.1.pom\n",
      "Downloading https://repo1.maven.org/maven2/org/webjars/bower/plotly.js/1.41.3/plotly.js-1.41.3.pom\n",
      "Downloaded https://repo1.maven.org/maven2/org/webjars/bower/plotly.js/1.41.3/plotly.js-1.41.3.pom\n",
      "Downloading https://repo1.maven.org/maven2/org/plotly-scala/plotly-render_2.12/0.7.1/plotly-render_2.12-0.7.1.jar\n",
      "Downloading https://repo1.maven.org/maven2/org/webjars/bower/plotly.js/1.41.3/plotly.js-1.41.3.jar\n",
      "Downloading https://repo1.maven.org/maven2/org/plotly-scala/plotly-core_2.12/0.7.1/plotly-core_2.12-0.7.1.jar\n",
      "Downloading https://repo1.maven.org/maven2/org/plotly-scala/plotly-render_2.12/0.7.1/plotly-render_2.12-0.7.1-sources.jar\n",
      "Downloading https://repo1.maven.org/maven2/org/plotly-scala/plotly-core_2.12/0.7.1/plotly-core_2.12-0.7.1-sources.jar\n",
      "Downloading https://repo1.maven.org/maven2/org/webjars/bower/plotly.js/1.41.3/plotly.js-1.41.3-sources.jar\n",
      "Downloaded https://repo1.maven.org/maven2/org/plotly-scala/plotly-render_2.12/0.7.1/plotly-render_2.12-0.7.1-sources.jar\n",
      "Downloading https://repo1.maven.org/maven2/org/plotly-scala/plotly-almond_2.12/0.7.1/plotly-almond_2.12-0.7.1.jar\n",
      "Downloaded https://repo1.maven.org/maven2/org/webjars/bower/plotly.js/1.41.3/plotly.js-1.41.3-sources.jar\n",
      "Downloading https://repo1.maven.org/maven2/org/plotly-scala/plotly-almond_2.12/0.7.1/plotly-almond_2.12-0.7.1-sources.jar\n",
      "Downloaded https://repo1.maven.org/maven2/org/plotly-scala/plotly-almond_2.12/0.7.1/plotly-almond_2.12-0.7.1.jar\n",
      "Downloaded https://repo1.maven.org/maven2/org/plotly-scala/plotly-almond_2.12/0.7.1/plotly-almond_2.12-0.7.1-sources.jar\n",
      "Downloaded https://repo1.maven.org/maven2/org/plotly-scala/plotly-core_2.12/0.7.1/plotly-core_2.12-0.7.1-sources.jar\n",
      "Downloaded https://repo1.maven.org/maven2/org/plotly-scala/plotly-core_2.12/0.7.1/plotly-core_2.12-0.7.1.jar\n",
      "Downloaded https://repo1.maven.org/maven2/org/plotly-scala/plotly-render_2.12/0.7.1/plotly-render_2.12-0.7.1.jar\n",
      "Downloaded https://repo1.maven.org/maven2/org/webjars/bower/plotly.js/1.41.3/plotly.js-1.41.3.jar\n"
     ]
    },
    {
     "data": {
      "text/html": [
       "<div>\n",
       "  <span style=\"float: left;\">collect at cmd12.sc:6</span>\n",
       "</div>\n"
      ]
     },
     "metadata": {},
     "output_type": "display_data"
    },
    {
     "data": {
      "text/html": [
       "<div class=\"progress\">\n",
       "  <div class=\"progress-bar\" role=\"progressbar\" style=\"background-color: blue; width: 100%; word-wrap: normal; white-space: nowrap; text-align: center; color: white\" aria-valuenow=\"100\" aria-valuemin=\"0\" aria-valuemax=\"100\">\n",
       "    1 / 1\n",
       "  </div>\n",
       "  <div class=\"progress-bar\" role=\"progressbar\" style=\"background-color: red; width: 0%\" aria-valuenow=\"0\" aria-valuemin=\"0\" aria-valuemax=\"100\"></div>\n",
       "</div>\n"
      ]
     },
     "metadata": {},
     "output_type": "display_data"
    },
    {
     "data": {
      "text/html": [
       "<div>\n",
       "  <span style=\"float: left;\">collect at cmd12.sc:6</span>\n",
       "</div>\n"
      ]
     },
     "metadata": {},
     "output_type": "display_data"
    },
    {
     "data": {
      "text/html": [
       "<div class=\"progress\">\n",
       "  <div class=\"progress-bar\" role=\"progressbar\" style=\"background-color: blue; width: 100%; word-wrap: normal; white-space: nowrap; text-align: center; color: white\" aria-valuenow=\"100\" aria-valuemin=\"0\" aria-valuemax=\"100\">\n",
       "    64 / 64\n",
       "  </div>\n",
       "  <div class=\"progress-bar\" role=\"progressbar\" style=\"background-color: red; width: 0%\" aria-valuenow=\"0\" aria-valuemin=\"0\" aria-valuemax=\"100\"></div>\n",
       "</div>\n"
      ]
     },
     "metadata": {},
     "output_type": "display_data"
    },
    {
     "data": {
      "text/html": [
       "<div>\n",
       "  <span style=\"float: left;\">collect at cmd12.sc:7</span>\n",
       "</div>\n"
      ]
     },
     "metadata": {},
     "output_type": "display_data"
    },
    {
     "data": {
      "text/html": [
       "<div class=\"progress\">\n",
       "  <div class=\"progress-bar\" role=\"progressbar\" style=\"background-color: blue; width: 100%; word-wrap: normal; white-space: nowrap; text-align: center; color: white\" aria-valuenow=\"100\" aria-valuemin=\"0\" aria-valuemax=\"100\">\n",
       "    1 / 1\n",
       "  </div>\n",
       "  <div class=\"progress-bar\" role=\"progressbar\" style=\"background-color: red; width: 0%\" aria-valuenow=\"0\" aria-valuemin=\"0\" aria-valuemax=\"100\"></div>\n",
       "</div>\n"
      ]
     },
     "metadata": {},
     "output_type": "display_data"
    },
    {
     "data": {
      "text/html": [
       "<div>\n",
       "  <span style=\"float: left;\">collect at cmd12.sc:7</span>\n",
       "</div>\n"
      ]
     },
     "metadata": {},
     "output_type": "display_data"
    },
    {
     "data": {
      "text/html": [
       "<div class=\"progress\">\n",
       "  <div class=\"progress-bar\" role=\"progressbar\" style=\"background-color: blue; width: 100%; word-wrap: normal; white-space: nowrap; text-align: center; color: white\" aria-valuenow=\"100\" aria-valuemin=\"0\" aria-valuemax=\"100\">\n",
       "    64 / 64\n",
       "  </div>\n",
       "  <div class=\"progress-bar\" role=\"progressbar\" style=\"background-color: red; width: 0%\" aria-valuenow=\"0\" aria-valuemin=\"0\" aria-valuemax=\"100\"></div>\n",
       "</div>\n"
      ]
     },
     "metadata": {},
     "output_type": "display_data"
    },
    {
     "data": {
      "text/html": [
       "\n",
       "      <script type=\"text/javascript\">\n",
       "        require.config({\n",
       "  paths: {\n",
       "    d3: 'https://cdnjs.cloudflare.com/ajax/libs/d3/3.5.17/d3.min',\n",
       "    plotly: 'https://cdn.plot.ly/plotly-1.41.3.min',\n",
       "    jquery: 'https://code.jquery.com/jquery-3.3.1.min'\n",
       "  },\n",
       "\n",
       "  shim: {\n",
       "    plotly: {\n",
       "      deps: ['d3', 'jquery'],\n",
       "      exports: 'plotly'\n",
       "    }\n",
       "  }\n",
       "});\n",
       "        \n",
       "\n",
       "        require(['plotly'], function(Plotly) {\n",
       "          window.Plotly = Plotly;\n",
       "        });\n",
       "      </script>\n",
       "    "
      ]
     },
     "metadata": {},
     "output_type": "display_data"
    },
    {
     "data": {
      "application/vnd.plotly.v1+json": {
       "data": [
        {
         "type": "bar",
         "x": [
          "No-Renovable",
          "Renovable",
          "Demanda"
         ],
         "y": [
          353331792.9920001,
          401647813.02599996,
          315182985.485
         ]
        }
       ],
       "layout": {
        "autosize": true,
        "xaxis": {
         "autorange": true,
         "range": [
          -0.5,
          2.5
         ],
         "type": "category"
        },
        "yaxis": {
         "autorange": true,
         "range": [
          0,
          422787171.60631573
         ],
         "type": "linear"
        }
       }
      },
      "image/png": "[encoded data removed]",
      "text/html": [
       "<div class=\"chart\" id=\"plot-2b3b3309-9448-4c5c-b501-ca37c2bb8ede\"></div>\n",
       "<script>require(['plotly'], function(Plotly) {\n",
       "  (function () {\n",
       "  var data0 = {\"x\":[\"No-Renovable\",\"Renovable\",\"Demanda\"],\"y\":[3.533317929920001E8,4.0164781302599996E8,3.15182985485E8],\"type\":\"bar\"};\n",
       "\n",
       "  var data = [data0];\n",
       "  var layout = {};\n",
       "\n",
       "  Plotly.plot('plot-2b3b3309-9448-4c5c-b501-ca37c2bb8ede', data, layout);\n",
       "})();\n",
       "});\n",
       "      </script>\n",
       "           "
      ]
     },
     "metadata": {},
     "output_type": "display_data"
    },
    {
     "data": {
      "text/plain": [
       "\u001b[32mimport \u001b[39m\u001b[36m$ivy.$                                      \n",
       "\u001b[39m\n",
       "\u001b[32mimport \u001b[39m\u001b[36mplotly._, plotly.element._, plotly.layout._, plotly.Almond._\n",
       "//repl.pprinter() = repl.pprinter().copy(defaultHeight = 3)\n",
       "\n",
       "\u001b[39m\n",
       "\u001b[36msumValoresPorFamilia\u001b[39m: \u001b[32mDataFrame\u001b[39m = [FamiliaEnergia: string, TotalValue: double]\n",
       "\u001b[36mFamiliaEnergia\u001b[39m: \u001b[32mSeq\u001b[39m[\u001b[32mString\u001b[39m] = \u001b[33mWrappedArray\u001b[39m(\n",
       "  \u001b[32m\"No-Renovable\"\u001b[39m,\n",
       "  \u001b[32m\"Renovable\"\u001b[39m,\n",
       "  \u001b[32m\"Demanda\"\u001b[39m\n",
       ")\n",
       "\u001b[36mTotalValue\u001b[39m: \u001b[32mSeq\u001b[39m[\u001b[32mDouble\u001b[39m] = \u001b[33mWrappedArray\u001b[39m(\n",
       "  \u001b[32m3.533317929920001E8\u001b[39m,\n",
       "  \u001b[32m4.0164781302599996E8\u001b[39m,\n",
       "  \u001b[32m3.15182985485E8\u001b[39m\n",
       ")\n",
       "\u001b[36mdata\u001b[39m: \u001b[32mSeq\u001b[39m[\u001b[32mBar\u001b[39m] = \u001b[33mList\u001b[39m(\n",
       "  \u001b[33mBar\u001b[39m(\n",
       "    \u001b[33mStrings\u001b[39m(\u001b[33mWrappedArray\u001b[39m(\u001b[32m\"No-Renovable\"\u001b[39m, \u001b[32m\"Renovable\"\u001b[39m, \u001b[32m\"Demanda\"\u001b[39m)),\n",
       "    \u001b[33mDoubles\u001b[39m(\n",
       "      \u001b[33mWrappedArray\u001b[39m(\u001b[32m3.533317929920001E8\u001b[39m, \u001b[32m4.0164781302599996E8\u001b[39m, \u001b[32m3.15182985485E8\u001b[39m)\n",
       "    ),\n",
       "    \u001b[32mNone\u001b[39m,\n",
       "    \u001b[32mNone\u001b[39m,\n",
       "    \u001b[32mNone\u001b[39m,\n",
       "    \u001b[32mNone\u001b[39m,\n",
       "    \u001b[32mNone\u001b[39m,\n",
       "    \u001b[32mNone\u001b[39m,\n",
       "    \u001b[32mNone\u001b[39m,\n",
       "    \u001b[32mNone\u001b[39m,\n",
       "    \u001b[32mNone\u001b[39m,\n",
       "    \u001b[32mNone\u001b[39m,\n",
       "    \u001b[32mNone\u001b[39m,\n",
       "    \u001b[32mNone\u001b[39m,\n",
       "    \u001b[32mNone\u001b[39m\n",
       "  )\n",
       ")\n",
       "\u001b[36mres12_6\u001b[39m: \u001b[32mString\u001b[39m = \u001b[32m\"plot-2b3b3309-9448-4c5c-b501-ca37c2bb8ede\"\u001b[39m"
      ]
     },
     "execution_count": 13,
     "metadata": {},
     "output_type": "execute_result"
    }
   ],
   "source": [
    "import $ivy.`org.plotly-scala::plotly-almond:0.7.1`\n",
    "import plotly._, plotly.element._, plotly.layout._, plotly.Almond._\n",
    "//repl.pprinter() = repl.pprinter().copy(defaultHeight = 3)\n",
    "\n",
    "val sumValoresPorFamilia = valoresEnergiaConFecha.groupBy($\"FamiliaEnergia\").agg(sum(\"value\").as(\"TotalValue\"))\n",
    "val FamiliaEnergia = sumValoresPorFamilia.select($\"FamiliaEnergia\").as[String].collect.toSeq\n",
    "val TotalValue = sumValoresPorFamilia.select($\"TotalValue\").as[Double].collect.toSeq\n",
    "\n",
    "val data = Seq(\n",
    "  Bar(\n",
    "    FamiliaEnergia,\n",
    "    TotalValue\n",
    "  )\n",
    ")\n",
    "\n",
    "plot(data)"
   ]
  },
  {
   "cell_type": "code",
   "execution_count": 14,
   "metadata": {},
   "outputs": [
    {
     "data": {
      "text/html": [
       "<div>\n",
       "  <span style=\"float: left;\">collect at cmd13.sc:1</span>\n",
       "</div>\n"
      ]
     },
     "metadata": {},
     "output_type": "display_data"
    },
    {
     "data": {
      "text/html": [
       "<div class=\"progress\">\n",
       "  <div class=\"progress-bar\" role=\"progressbar\" style=\"background-color: blue; width: 100%; word-wrap: normal; white-space: nowrap; text-align: center; color: white\" aria-valuenow=\"100\" aria-valuemin=\"0\" aria-valuemax=\"100\">\n",
       "    1 / 1\n",
       "  </div>\n",
       "  <div class=\"progress-bar\" role=\"progressbar\" style=\"background-color: red; width: 0%\" aria-valuenow=\"0\" aria-valuemin=\"0\" aria-valuemax=\"100\"></div>\n",
       "</div>\n"
      ]
     },
     "metadata": {},
     "output_type": "display_data"
    },
    {
     "data": {
      "text/html": [
       "<div>\n",
       "  <span style=\"float: left;\">collect at cmd13.sc:2</span>\n",
       "</div>\n"
      ]
     },
     "metadata": {},
     "output_type": "display_data"
    },
    {
     "data": {
      "text/html": [
       "<div class=\"progress\">\n",
       "  <div class=\"progress-bar\" role=\"progressbar\" style=\"background-color: blue; width: 100%; word-wrap: normal; white-space: nowrap; text-align: center; color: white\" aria-valuenow=\"100\" aria-valuemin=\"0\" aria-valuemax=\"100\">\n",
       "    1 / 1\n",
       "  </div>\n",
       "  <div class=\"progress-bar\" role=\"progressbar\" style=\"background-color: red; width: 0%\" aria-valuenow=\"0\" aria-valuemin=\"0\" aria-valuemax=\"100\"></div>\n",
       "</div>\n"
      ]
     },
     "metadata": {},
     "output_type": "display_data"
    },
    {
     "data": {
      "text/html": [
       "<div>\n",
       "  <span style=\"float: left;\">collect at cmd13.sc:3</span>\n",
       "</div>\n"
      ]
     },
     "metadata": {},
     "output_type": "display_data"
    },
    {
     "data": {
      "text/html": [
       "<div class=\"progress\">\n",
       "  <div class=\"progress-bar\" role=\"progressbar\" style=\"background-color: blue; width: 100%; word-wrap: normal; white-space: nowrap; text-align: center; color: white\" aria-valuenow=\"100\" aria-valuemin=\"0\" aria-valuemax=\"100\">\n",
       "    1 / 1\n",
       "  </div>\n",
       "  <div class=\"progress-bar\" role=\"progressbar\" style=\"background-color: red; width: 0%\" aria-valuenow=\"0\" aria-valuemin=\"0\" aria-valuemax=\"100\"></div>\n",
       "</div>\n"
      ]
     },
     "metadata": {},
     "output_type": "display_data"
    },
    {
     "data": {
      "text/html": [
       "<div>\n",
       "  <span style=\"float: left;\">collect at cmd13.sc:4</span>\n",
       "</div>\n"
      ]
     },
     "metadata": {},
     "output_type": "display_data"
    },
    {
     "data": {
      "text/html": [
       "<div class=\"progress\">\n",
       "  <div class=\"progress-bar\" role=\"progressbar\" style=\"background-color: blue; width: 100%; word-wrap: normal; white-space: nowrap; text-align: center; color: white\" aria-valuenow=\"100\" aria-valuemin=\"0\" aria-valuemax=\"100\">\n",
       "    1 / 1\n",
       "  </div>\n",
       "  <div class=\"progress-bar\" role=\"progressbar\" style=\"background-color: red; width: 0%\" aria-valuenow=\"0\" aria-valuemin=\"0\" aria-valuemax=\"100\"></div>\n",
       "</div>\n"
      ]
     },
     "metadata": {},
     "output_type": "display_data"
    },
    {
     "data": {
      "text/html": [
       "<div>\n",
       "  <span style=\"float: left;\">collect at cmd13.sc:5</span>\n",
       "</div>\n"
      ]
     },
     "metadata": {},
     "output_type": "display_data"
    },
    {
     "data": {
      "text/html": [
       "<div class=\"progress\">\n",
       "  <div class=\"progress-bar\" role=\"progressbar\" style=\"background-color: blue; width: 100%; word-wrap: normal; white-space: nowrap; text-align: center; color: white\" aria-valuenow=\"100\" aria-valuemin=\"0\" aria-valuemax=\"100\">\n",
       "    1 / 1\n",
       "  </div>\n",
       "  <div class=\"progress-bar\" role=\"progressbar\" style=\"background-color: red; width: 0%\" aria-valuenow=\"0\" aria-valuemin=\"0\" aria-valuemax=\"100\"></div>\n",
       "</div>\n"
      ]
     },
     "metadata": {},
     "output_type": "display_data"
    },
    {
     "data": {
      "text/html": [
       "<div>\n",
       "  <span style=\"float: left;\">collect at cmd13.sc:6</span>\n",
       "</div>\n"
      ]
     },
     "metadata": {},
     "output_type": "display_data"
    },
    {
     "data": {
      "text/html": [
       "<div class=\"progress\">\n",
       "  <div class=\"progress-bar\" role=\"progressbar\" style=\"background-color: blue; width: 100%; word-wrap: normal; white-space: nowrap; text-align: center; color: white\" aria-valuenow=\"100\" aria-valuemin=\"0\" aria-valuemax=\"100\">\n",
       "    1 / 1\n",
       "  </div>\n",
       "  <div class=\"progress-bar\" role=\"progressbar\" style=\"background-color: red; width: 0%\" aria-valuenow=\"0\" aria-valuemin=\"0\" aria-valuemax=\"100\"></div>\n",
       "</div>\n"
      ]
     },
     "metadata": {},
     "output_type": "display_data"
    },
    {
     "data": {
      "text/html": [
       "<div>\n",
       "  <span style=\"float: left;\">collect at cmd13.sc:7</span>\n",
       "</div>\n"
      ]
     },
     "metadata": {},
     "output_type": "display_data"
    },
    {
     "data": {
      "text/html": [
       "<div class=\"progress\">\n",
       "  <div class=\"progress-bar\" role=\"progressbar\" style=\"background-color: blue; width: 100%; word-wrap: normal; white-space: nowrap; text-align: center; color: white\" aria-valuenow=\"100\" aria-valuemin=\"0\" aria-valuemax=\"100\">\n",
       "    1 / 1\n",
       "  </div>\n",
       "  <div class=\"progress-bar\" role=\"progressbar\" style=\"background-color: red; width: 0%\" aria-valuenow=\"0\" aria-valuemin=\"0\" aria-valuemax=\"100\"></div>\n",
       "</div>\n"
      ]
     },
     "metadata": {},
     "output_type": "display_data"
    },
    {
     "data": {
      "text/html": [
       "<div>\n",
       "  <span style=\"float: left;\">collect at cmd13.sc:8</span>\n",
       "</div>\n"
      ]
     },
     "metadata": {},
     "output_type": "display_data"
    },
    {
     "data": {
      "text/html": [
       "<div class=\"progress\">\n",
       "  <div class=\"progress-bar\" role=\"progressbar\" style=\"background-color: blue; width: 100%; word-wrap: normal; white-space: nowrap; text-align: center; color: white\" aria-valuenow=\"100\" aria-valuemin=\"0\" aria-valuemax=\"100\">\n",
       "    1 / 1\n",
       "  </div>\n",
       "  <div class=\"progress-bar\" role=\"progressbar\" style=\"background-color: red; width: 0%\" aria-valuenow=\"0\" aria-valuemin=\"0\" aria-valuemax=\"100\"></div>\n",
       "</div>\n"
      ]
     },
     "metadata": {},
     "output_type": "display_data"
    },
    {
     "data": {
      "text/html": [
       "<div>\n",
       "  <span style=\"float: left;\">collect at cmd13.sc:9</span>\n",
       "</div>\n"
      ]
     },
     "metadata": {},
     "output_type": "display_data"
    },
    {
     "data": {
      "text/html": [
       "<div class=\"progress\">\n",
       "  <div class=\"progress-bar\" role=\"progressbar\" style=\"background-color: blue; width: 100%; word-wrap: normal; white-space: nowrap; text-align: center; color: white\" aria-valuenow=\"100\" aria-valuemin=\"0\" aria-valuemax=\"100\">\n",
       "    1 / 1\n",
       "  </div>\n",
       "  <div class=\"progress-bar\" role=\"progressbar\" style=\"background-color: red; width: 0%\" aria-valuenow=\"0\" aria-valuemin=\"0\" aria-valuemax=\"100\"></div>\n",
       "</div>\n"
      ]
     },
     "metadata": {},
     "output_type": "display_data"
    },
    {
     "data": {
      "text/html": [
       "<div>\n",
       "  <span style=\"float: left;\">collect at cmd13.sc:10</span>\n",
       "</div>\n"
      ]
     },
     "metadata": {},
     "output_type": "display_data"
    },
    {
     "data": {
      "text/html": [
       "<div class=\"progress\">\n",
       "  <div class=\"progress-bar\" role=\"progressbar\" style=\"background-color: blue; width: 100%; word-wrap: normal; white-space: nowrap; text-align: center; color: white\" aria-valuenow=\"100\" aria-valuemin=\"0\" aria-valuemax=\"100\">\n",
       "    1 / 1\n",
       "  </div>\n",
       "  <div class=\"progress-bar\" role=\"progressbar\" style=\"background-color: red; width: 0%\" aria-valuenow=\"0\" aria-valuemin=\"0\" aria-valuemax=\"100\"></div>\n",
       "</div>\n"
      ]
     },
     "metadata": {},
     "output_type": "display_data"
    },
    {
     "data": {
      "application/vnd.plotly.v1+json": {
       "data": [
        {
         "name": "Hidraulica",
         "type": "scatter",
         "x": [
          "2023-01-01",
          "2023-02-01",
          "2023-03-01",
          "2023-04-01",
          "2023-05-01",
          "2023-06-01",
          "2023-07-01",
          "2023-08-01",
          "2023-09-01",
          "2023-10-01",
          "2023-11-01",
          "2023-12-01",
          "2024-01-01",
          "2024-02-01",
          "2024-03-01",
          "2024-04-01",
          "2024-05-01"
         ],
         "y": [
          3859362.995,
          2462733.917,
          2044472.686,
          1533648.466,
          1392479.121,
          1920006.486,
          1308841.169,
          981141.097,
          932569.994,
          1456377.369,
          3453969.43,
          3984079.747,
          3900610.947,
          2983501.95,
          4666072.453,
          4028823.077,
          2915084.875
         ]
        },
        {
         "name": "Solar",
         "type": "scatter",
         "x": [
          "2023-01-01",
          "2023-02-01",
          "2023-03-01",
          "2023-04-01",
          "2023-05-01",
          "2023-06-01",
          "2023-07-01",
          "2023-08-01",
          "2023-09-01",
          "2023-10-01",
          "2023-11-01",
          "2023-12-01",
          "2024-01-01",
          "2024-02-01",
          "2024-03-01",
          "2024-04-01",
          "2024-05-01"
         ],
         "y": [
          1744409.448,
          2151530.691,
          3097262.296,
          3784527.46,
          3874702.485,
          3869501.913,
          4574423.98,
          4470421.94,
          3367586.764,
          2649786.461,
          2011184.144,
          1876351.661,
          1928410.294,
          2602939.21,
          3065891.495,
          4019544.773,
          5103936.242
         ]
        },
        {
         "name": "Nuclear",
         "type": "scatter",
         "x": [
          "2023-01-01",
          "2023-02-01",
          "2023-03-01",
          "2023-04-01",
          "2023-05-01",
          "2023-06-01",
          "2023-07-01",
          "2023-08-01",
          "2023-09-01",
          "2023-10-01",
          "2023-11-01",
          "2023-12-01",
          "2024-01-01",
          "2024-02-01",
          "2024-03-01",
          "2024-04-01",
          "2024-05-01"
         ],
         "y": [
          5086763.589,
          4597959.716,
          5102291.068,
          4567269.056,
          3741768.391,
          4008721.126,
          5123133.915,
          5008274.547,
          4546818.519,
          3741507.112,
          3761317.407,
          4990078.5,
          5160801.337,
          4509593.725,
          3470800.356,
          3501947.828,
          3512206.774
         ]
        },
        {
         "name": "Carbón",
         "type": "scatter",
         "x": [
          "2023-01-01",
          "2023-02-01",
          "2023-03-01",
          "2023-04-01",
          "2023-05-01",
          "2023-06-01",
          "2023-07-01",
          "2023-08-01",
          "2023-09-01",
          "2023-10-01",
          "2023-11-01",
          "2023-12-01",
          "2024-01-01",
          "2024-02-01",
          "2024-03-01",
          "2024-04-01",
          "2024-05-01"
         ],
         "y": [
          295484.046,
          407401.986,
          423067.694,
          248946.281,
          239072.728,
          300829.502,
          332920.033,
          415009.408,
          400694.775,
          372653.847,
          220612.321,
          211787.511,
          268145.835,
          206174.855,
          208948.852,
          214603.581,
          231861.495
         ]
        },
        {
         "name": "Gas",
         "type": "scatter",
         "x": [
          "2023-01-01",
          "2023-02-01",
          "2023-03-01",
          "2023-04-01",
          "2023-05-01",
          "2023-06-01",
          "2023-07-01",
          "2023-08-01",
          "2023-09-01",
          "2023-10-01",
          "2023-11-01",
          "2023-12-01",
          "2024-01-01",
          "2024-02-01",
          "2024-03-01",
          "2024-04-01",
          "2024-05-01"
         ],
         "y": [
          2708507.873,
          4367513.452,
          3114385.281,
          2874863.111,
          3333273.991,
          4673613.381,
          4950496.446,
          4999430.404,
          4866768.68,
          4086735.898,
          2882239.454,
          3192573.679,
          3350993.884,
          2083486.852,
          2177780.701,
          2015755.293,
          1954449.643
         ]
        }
       ],
       "layout": {
        "autosize": true,
        "xaxis": {
         "autorange": true,
         "range": [
          "2022-12-02 13:32:14.4641",
          "2024-05-30 10:27:45.5359"
         ],
         "type": "date"
        },
        "yaxis": {
         "autorange": true,
         "range": [
          -156743.6452738853,
          5523719.8372738855
         ],
         "type": "linear"
        }
       }
      },
      "image/png": "[encoded data removed]",
      "text/html": [
       "<div class=\"chart\" id=\"plot-336d92e2-19f3-4b93-9291-d4408e4d4e06\"></div>\n",
       "<script>require(['plotly'], function(Plotly) {\n",
       "  (function () {\n",
       "  var data0 = {\"x\":[\"2023-01-01\",\"2023-02-01\",\"2023-03-01\",\"2023-04-01\",\"2023-05-01\",\"2023-06-01\",\"2023-07-01\",\"2023-08-01\",\"2023-09-01\",\"2023-10-01\",\"2023-11-01\",\"2023-12-01\",\"2024-01-01\",\"2024-02-01\",\"2024-03-01\",\"2024-04-01\",\"2024-05-01\"],\"name\":\"Hidraulica\",\"y\":[3859362.995,2462733.917,2044472.686,1533648.466,1392479.121,1920006.486,1308841.169,981141.097,932569.994,1456377.369,3453969.43,3984079.747,3900610.947,2983501.95,4666072.453,4028823.077,2915084.875],\"type\":\"scatter\"};\n",
       "  var data1 = {\"x\":[\"2023-01-01\",\"2023-02-01\",\"2023-03-01\",\"2023-04-01\",\"2023-05-01\",\"2023-06-01\",\"2023-07-01\",\"2023-08-01\",\"2023-09-01\",\"2023-10-01\",\"2023-11-01\",\"2023-12-01\",\"2024-01-01\",\"2024-02-01\",\"2024-03-01\",\"2024-04-01\",\"2024-05-01\"],\"name\":\"Solar\",\"y\":[1744409.448,2151530.691,3097262.296,3784527.46,3874702.485,3869501.913,4574423.98,4470421.94,3367586.764,2649786.461,2011184.144,1876351.661,1928410.294,2602939.21,3065891.495,4019544.773,5103936.242],\"type\":\"scatter\"};\n",
       "  var data2 = {\"x\":[\"2023-01-01\",\"2023-02-01\",\"2023-03-01\",\"2023-04-01\",\"2023-05-01\",\"2023-06-01\",\"2023-07-01\",\"2023-08-01\",\"2023-09-01\",\"2023-10-01\",\"2023-11-01\",\"2023-12-01\",\"2024-01-01\",\"2024-02-01\",\"2024-03-01\",\"2024-04-01\",\"2024-05-01\"],\"name\":\"Nuclear\",\"y\":[5086763.589,4597959.716,5102291.068,4567269.056,3741768.391,4008721.126,5123133.915,5008274.547,4546818.519,3741507.112,3761317.407,4990078.5,5160801.337,4509593.725,3470800.356,3501947.828,3512206.774],\"type\":\"scatter\"};\n",
       "  var data3 = {\"x\":[\"2023-01-01\",\"2023-02-01\",\"2023-03-01\",\"2023-04-01\",\"2023-05-01\",\"2023-06-01\",\"2023-07-01\",\"2023-08-01\",\"2023-09-01\",\"2023-10-01\",\"2023-11-01\",\"2023-12-01\",\"2024-01-01\",\"2024-02-01\",\"2024-03-01\",\"2024-04-01\",\"2024-05-01\"],\"name\":\"Carbón\",\"y\":[295484.046,407401.986,423067.694,248946.281,239072.728,300829.502,332920.033,415009.408,400694.775,372653.847,220612.321,211787.511,268145.835,206174.855,208948.852,214603.581,231861.495],\"type\":\"scatter\"};\n",
       "  var data4 = {\"x\":[\"2023-01-01\",\"2023-02-01\",\"2023-03-01\",\"2023-04-01\",\"2023-05-01\",\"2023-06-01\",\"2023-07-01\",\"2023-08-01\",\"2023-09-01\",\"2023-10-01\",\"2023-11-01\",\"2023-12-01\",\"2024-01-01\",\"2024-02-01\",\"2024-03-01\",\"2024-04-01\",\"2024-05-01\"],\"name\":\"Gas\",\"y\":[2708507.873,4367513.452,3114385.281,2874863.111,3333273.991,4673613.381,4950496.446,4999430.404,4866768.68,4086735.898,2882239.454,3192573.679,3350993.884,2083486.852,2177780.701,2015755.293,1954449.643],\"type\":\"scatter\"};\n",
       "\n",
       "  var data = [data0, data1, data2, data3, data4];\n",
       "  var layout = {};\n",
       "\n",
       "  Plotly.plot('plot-336d92e2-19f3-4b93-9291-d4408e4d4e06', data, layout);\n",
       "})();\n",
       "});\n",
       "      </script>\n",
       "           "
      ]
     },
     "metadata": {},
     "output_type": "display_data"
    },
    {
     "data": {
      "text/plain": [
       "\u001b[36mfechaHidraulica\u001b[39m: \u001b[32mSeq\u001b[39m[\u001b[32mString\u001b[39m] = \u001b[33mWrappedArray\u001b[39m(\n",
       "  \u001b[32m\"2023-01-01\"\u001b[39m,\n",
       "  \u001b[32m\"2023-02-01\"\u001b[39m,\n",
       "  \u001b[32m\"2023-03-01\"\u001b[39m,\n",
       "  \u001b[32m\"2023-04-01\"\u001b[39m,\n",
       "  \u001b[32m\"2023-05-01\"\u001b[39m,\n",
       "  \u001b[32m\"2023-06-01\"\u001b[39m,\n",
       "  \u001b[32m\"2023-07-01\"\u001b[39m,\n",
       "  \u001b[32m\"2023-08-01\"\u001b[39m,\n",
       "  \u001b[32m\"2023-09-01\"\u001b[39m,\n",
       "  \u001b[32m\"2023-10-01\"\u001b[39m,\n",
       "  \u001b[32m\"2023-11-01\"\u001b[39m,\n",
       "  \u001b[32m\"2023-12-01\"\u001b[39m,\n",
       "  \u001b[32m\"2024-01-01\"\u001b[39m,\n",
       "  \u001b[32m\"2024-02-01\"\u001b[39m,\n",
       "  \u001b[32m\"2024-03-01\"\u001b[39m,\n",
       "  \u001b[32m\"2024-04-01\"\u001b[39m,\n",
       "  \u001b[32m\"2024-05-01\"\u001b[39m\n",
       ")\n",
       "\u001b[36mvalorHidraulica\u001b[39m: \u001b[32mSeq\u001b[39m[\u001b[32mDouble\u001b[39m] = \u001b[33mWrappedArray\u001b[39m(\n",
       "  \u001b[32m3859362.995\u001b[39m,\n",
       "  \u001b[32m2462733.917\u001b[39m,\n",
       "  \u001b[32m2044472.686\u001b[39m,\n",
       "  \u001b[32m1533648.466\u001b[39m,\n",
       "  \u001b[32m1392479.121\u001b[39m,\n",
       "  \u001b[32m1920006.486\u001b[39m,\n",
       "  \u001b[32m1308841.169\u001b[39m,\n",
       "  \u001b[32m981141.097\u001b[39m,\n",
       "  \u001b[32m932569.994\u001b[39m,\n",
       "  \u001b[32m1456377.369\u001b[39m,\n",
       "  \u001b[32m3453969.43\u001b[39m,\n",
       "  \u001b[32m3984079.747\u001b[39m,\n",
       "  \u001b[32m3900610.947\u001b[39m,\n",
       "  \u001b[32m2983501.95\u001b[39m,\n",
       "  \u001b[32m4666072.453\u001b[39m,\n",
       "  \u001b[32m4028823.077\u001b[39m,\n",
       "  \u001b[32m2915084.875\u001b[39m\n",
       ")\n",
       "\u001b[36mfechaSolar\u001b[39m: \u001b[32mSeq\u001b[39m[\u001b[32mString\u001b[39m] = \u001b[33mWrappedArray\u001b[39m(\n",
       "  \u001b[32m\"2023-01-01\"\u001b[39m,\n",
       "  \u001b[32m\"2023-02-01\"\u001b[39m,\n",
       "  \u001b[32m\"2023-03-01\"\u001b[39m,\n",
       "  \u001b[32m\"2023-04-01\"\u001b[39m,\n",
       "  \u001b[32m\"2023-05-01\"\u001b[39m,\n",
       "  \u001b[32m\"2023-06-01\"\u001b[39m,\n",
       "  \u001b[32m\"2023-07-01\"\u001b[39m,\n",
       "  \u001b[32m\"2023-08-01\"\u001b[39m,\n",
       "  \u001b[32m\"2023-09-01\"\u001b[39m,\n",
       "  \u001b[32m\"2023-10-01\"\u001b[39m,\n",
       "  \u001b[32m\"2023-11-01\"\u001b[39m,\n",
       "  \u001b[32m\"2023-12-01\"\u001b[39m,\n",
       "  \u001b[32m\"2024-01-01\"\u001b[39m,\n",
       "  \u001b[32m\"2024-02-01\"\u001b[39m,\n",
       "  \u001b[32m\"2024-03-01\"\u001b[39m,\n",
       "  \u001b[32m\"2024-04-01\"\u001b[39m,\n",
       "  \u001b[32m\"2024-05-01\"\u001b[39m\n",
       ")\n",
       "\u001b[36mvalorSolar\u001b[39m: \u001b[32mSeq\u001b[39m[\u001b[32mDouble\u001b[39m] = \u001b[33mWrappedArray\u001b[39m(\n",
       "  \u001b[32m1744409.448\u001b[39m,\n",
       "  \u001b[32m2151530.691\u001b[39m,\n",
       "  \u001b[32m3097262.296\u001b[39m,\n",
       "  \u001b[32m3784527.46\u001b[39m,\n",
       "  \u001b[32m3874702.485\u001b[39m,\n",
       "  \u001b[32m3869501.913\u001b[39m,\n",
       "  \u001b[32m4574423.98\u001b[39m,\n",
       "  \u001b[32m4470421.94\u001b[39m,\n",
       "  \u001b[32m3367586.764\u001b[39m,\n",
       "  \u001b[32m2649786.461\u001b[39m,\n",
       "  \u001b[32m2011184.144\u001b[39m,\n",
       "  \u001b[32m1876351.661\u001b[39m,\n",
       "  \u001b[32m1928410.294\u001b[39m,\n",
       "  \u001b[32m2602939.21\u001b[39m,\n",
       "  \u001b[32m3065891.495\u001b[39m,\n",
       "  \u001b[32m4019544.773\u001b[39m,\n",
       "  \u001b[32m5103936.242\u001b[39m\n",
       ")\n",
       "\u001b[36mfechaNuclear\u001b[39m: \u001b[32mSeq\u001b[39m[\u001b[32mString\u001b[39m] = \u001b[33mWrappedArray\u001b[39m(\n",
       "  \u001b[32m\"2023-01-01\"\u001b[39m,\n",
       "  \u001b[32m\"2023-02-01\"\u001b[39m,\n",
       "  \u001b[32m\"2023-03-01\"\u001b[39m,\n",
       "  \u001b[32m\"2023-04-01\"\u001b[39m,\n",
       "  \u001b[32m\"2023-05-01\"\u001b[39m,\n",
       "  \u001b[32m\"2023-06-01\"\u001b[39m,\n",
       "  \u001b[32m\"2023-07-01\"\u001b[39m,\n",
       "  \u001b[32m\"2023-08-01\"\u001b[39m,\n",
       "  \u001b[32m\"2023-09-01\"\u001b[39m,\n",
       "  \u001b[32m\"2023-10-01\"\u001b[39m,\n",
       "  \u001b[32m\"2023-11-01\"\u001b[39m,\n",
       "  \u001b[32m\"2023-12-01\"\u001b[39m,\n",
       "  \u001b[32m\"2024-01-01\"\u001b[39m,\n",
       "  \u001b[32m\"2024-02-01\"\u001b[39m,\n",
       "  \u001b[32m\"2024-03-01\"\u001b[39m,\n",
       "  \u001b[32m\"2024-04-01\"\u001b[39m,\n",
       "  \u001b[32m\"2024-05-01\"\u001b[39m\n",
       ")\n",
       "\u001b[36mvalorNuclear\u001b[39m: \u001b[32mSeq\u001b[39m[\u001b[32mDouble\u001b[39m] = \u001b[33mWrappedArray\u001b[39m(\n",
       "  \u001b[32m5086763.589\u001b[39m,\n",
       "  \u001b[32m4597959.716\u001b[39m,\n",
       "  \u001b[32m5102291.068\u001b[39m,\n",
       "  \u001b[32m4567269.056\u001b[39m,\n",
       "  \u001b[32m3741768.391\u001b[39m,\n",
       "  \u001b[32m4008721.126\u001b[39m,\n",
       "  \u001b[32m5123133.915\u001b[39m,\n",
       "  \u001b[32m5008274.547\u001b[39m,\n",
       "  \u001b[32m4546818.519\u001b[39m,\n",
       "  \u001b[32m3741507.112\u001b[39m,\n",
       "  \u001b[32m3761317.407\u001b[39m,\n",
       "  \u001b[32m4990078.5\u001b[39m,\n",
       "  \u001b[32m5160801.337\u001b[39m,\n",
       "  \u001b[32m4509593.725\u001b[39m,\n",
       "  \u001b[32m3470800.356\u001b[39m,\n",
       "  \u001b[32m3501947.828\u001b[39m,\n",
       "  \u001b[32m3512206.774\u001b[39m\n",
       ")\n",
       "\u001b[36mfechaCarbon\u001b[39m: \u001b[32mSeq\u001b[39m[\u001b[32mString\u001b[39m] = \u001b[33mWrappedArray\u001b[39m(\n",
       "  \u001b[32m\"2023-01-01\"\u001b[39m,\n",
       "  \u001b[32m\"2023-02-01\"\u001b[39m,\n",
       "  \u001b[32m\"2023-03-01\"\u001b[39m,\n",
       "  \u001b[32m\"2023-04-01\"\u001b[39m,\n",
       "  \u001b[32m\"2023-05-01\"\u001b[39m,\n",
       "  \u001b[32m\"2023-06-01\"\u001b[39m,\n",
       "  \u001b[32m\"2023-07-01\"\u001b[39m,\n",
       "  \u001b[32m\"2023-08-01\"\u001b[39m,\n",
       "  \u001b[32m\"2023-09-01\"\u001b[39m,\n",
       "  \u001b[32m\"2023-10-01\"\u001b[39m,\n",
       "  \u001b[32m\"2023-11-01\"\u001b[39m,\n",
       "  \u001b[32m\"2023-12-01\"\u001b[39m,\n",
       "  \u001b[32m\"2024-01-01\"\u001b[39m,\n",
       "  \u001b[32m\"2024-02-01\"\u001b[39m,\n",
       "  \u001b[32m\"2024-03-01\"\u001b[39m,\n",
       "  \u001b[32m\"2024-04-01\"\u001b[39m,\n",
       "  \u001b[32m\"2024-05-01\"\u001b[39m\n",
       ")\n",
       "\u001b[36mvalorCarbon\u001b[39m: \u001b[32mSeq\u001b[39m[\u001b[32mDouble\u001b[39m] = \u001b[33mWrappedArray\u001b[39m(\n",
       "  \u001b[32m295484.046\u001b[39m,\n",
       "  \u001b[32m407401.986\u001b[39m,\n",
       "  \u001b[32m423067.694\u001b[39m,\n",
       "  \u001b[32m248946.281\u001b[39m,\n",
       "  \u001b[32m239072.728\u001b[39m,\n",
       "  \u001b[32m300829.502\u001b[39m,\n",
       "  \u001b[32m332920.033\u001b[39m,\n",
       "  \u001b[32m415009.408\u001b[39m,\n",
       "  \u001b[32m400694.775\u001b[39m,\n",
       "  \u001b[32m372653.847\u001b[39m,\n",
       "  \u001b[32m220612.321\u001b[39m,\n",
       "  \u001b[32m211787.511\u001b[39m,\n",
       "  \u001b[32m268145.835\u001b[39m,\n",
       "  \u001b[32m206174.855\u001b[39m,\n",
       "  \u001b[32m208948.852\u001b[39m,\n",
       "  \u001b[32m214603.581\u001b[39m,\n",
       "  \u001b[32m231861.495\u001b[39m\n",
       ")\n",
       "\u001b[36mfechaGas\u001b[39m: \u001b[32mSeq\u001b[39m[\u001b[32mString\u001b[39m] = \u001b[33mWrappedArray\u001b[39m(\n",
       "  \u001b[32m\"2023-01-01\"\u001b[39m,\n",
       "  \u001b[32m\"2023-02-01\"\u001b[39m,\n",
       "  \u001b[32m\"2023-03-01\"\u001b[39m,\n",
       "  \u001b[32m\"2023-04-01\"\u001b[39m,\n",
       "  \u001b[32m\"2023-05-01\"\u001b[39m,\n",
       "  \u001b[32m\"2023-06-01\"\u001b[39m,\n",
       "  \u001b[32m\"2023-07-01\"\u001b[39m,\n",
       "  \u001b[32m\"2023-08-01\"\u001b[39m,\n",
       "  \u001b[32m\"2023-09-01\"\u001b[39m,\n",
       "  \u001b[32m\"2023-10-01\"\u001b[39m,\n",
       "  \u001b[32m\"2023-11-01\"\u001b[39m,\n",
       "  \u001b[32m\"2023-12-01\"\u001b[39m,\n",
       "  \u001b[32m\"2024-01-01\"\u001b[39m,\n",
       "  \u001b[32m\"2024-02-01\"\u001b[39m,\n",
       "  \u001b[32m\"2024-03-01\"\u001b[39m,\n",
       "  \u001b[32m\"2024-04-01\"\u001b[39m,\n",
       "  \u001b[32m\"2024-05-01\"\u001b[39m\n",
       ")\n",
       "\u001b[36mvalorGas\u001b[39m: \u001b[32mSeq\u001b[39m[\u001b[32mDouble\u001b[39m] = \u001b[33mWrappedArray\u001b[39m(\n",
       "  \u001b[32m2708507.873\u001b[39m,\n",
       "  \u001b[32m4367513.452\u001b[39m,\n",
       "  \u001b[32m3114385.281\u001b[39m,\n",
       "  \u001b[32m2874863.111\u001b[39m,\n",
       "  \u001b[32m3333273.991\u001b[39m,\n",
       "  \u001b[32m4673613.381\u001b[39m,\n",
       "  \u001b[32m4950496.446\u001b[39m,\n",
       "  \u001b[32m4999430.404\u001b[39m,\n",
       "  \u001b[32m4866768.68\u001b[39m,\n",
       "  \u001b[32m4086735.898\u001b[39m,\n",
       "  \u001b[32m2882239.454\u001b[39m,\n",
       "  \u001b[32m3192573.679\u001b[39m,\n",
       "  \u001b[32m3350993.884\u001b[39m,\n",
       "  \u001b[32m2083486.852\u001b[39m,\n",
       "  \u001b[32m2177780.701\u001b[39m,\n",
       "  \u001b[32m2015755.293\u001b[39m,\n",
       "  \u001b[32m1954449.643\u001b[39m\n",
       ")\n",
       "\u001b[36mHidraulica\u001b[39m: \u001b[32mScatter\u001b[39m = \u001b[33mScatter\u001b[39m(\n",
       "  \u001b[33mSome\u001b[39m(\n",
       "    \u001b[33mStrings\u001b[39m(\n",
       "      \u001b[33mWrappedArray\u001b[39m(\n",
       "        \u001b[32m\"2023-01-01\"\u001b[39m,\n",
       "        \u001b[32m\"2023-02-01\"\u001b[39m,\n",
       "        \u001b[32m\"2023-03-01\"\u001b[39m,\n",
       "        \u001b[32m\"2023-04-01\"\u001b[39m,\n",
       "        \u001b[32m\"2023-05-01\"\u001b[39m,\n",
       "        \u001b[32m\"2023-06-01\"\u001b[39m,\n",
       "        \u001b[32m\"2023-07-01\"\u001b[39m,\n",
       "        \u001b[32m\"2023-08-01\"\u001b[39m,\n",
       "        \u001b[32m\"2023-09-01\"\u001b[39m,\n",
       "        \u001b[32m\"2023-10-01\"\u001b[39m,\n",
       "        \u001b[32m\"2023-11-01\"\u001b[39m,\n",
       "        \u001b[32m\"2023-12-01\"\u001b[39m,\n",
       "        \u001b[32m\"2024-01-01\"\u001b[39m,\n",
       "        \u001b[32m\"2024-02-01\"\u001b[39m,\n",
       "        \u001b[32m\"2024-03-01\"\u001b[39m,\n",
       "        \u001b[32m\"2024-04-01\"\u001b[39m,\n",
       "        \u001b[32m\"2024-05-01\"\u001b[39m\n",
       "      )\n",
       "    )\n",
       "  ),\n",
       "  \u001b[33mSome\u001b[39m(\n",
       "    \u001b[33mDoubles\u001b[39m(\n",
       "      \u001b[33mWrappedArray\u001b[39m(\n",
       "        \u001b[32m3859362.995\u001b[39m,\n",
       "        \u001b[32m2462733.917\u001b[39m,\n",
       "        \u001b[32m2044472.686\u001b[39m,\n",
       "        \u001b[32m1533648.466\u001b[39m,\n",
       "        \u001b[32m1392479.121\u001b[39m,\n",
       "        \u001b[32m1920006.486\u001b[39m,\n",
       "        \u001b[32m1308841.169\u001b[39m,\n",
       "        \u001b[32m981141.097\u001b[39m,\n",
       "        \u001b[32m932569.994\u001b[39m,\n",
       "        \u001b[32m1456377.369\u001b[39m,\n",
       "        \u001b[32m3453969.43\u001b[39m,\n",
       "        \u001b[32m3984079.747\u001b[39m,\n",
       "...\n",
       "\u001b[36mSolar\u001b[39m: \u001b[32mScatter\u001b[39m = \u001b[33mScatter\u001b[39m(\n",
       "  \u001b[33mSome\u001b[39m(\n",
       "    \u001b[33mStrings\u001b[39m(\n",
       "      \u001b[33mWrappedArray\u001b[39m(\n",
       "        \u001b[32m\"2023-01-01\"\u001b[39m,\n",
       "        \u001b[32m\"2023-02-01\"\u001b[39m,\n",
       "        \u001b[32m\"2023-03-01\"\u001b[39m,\n",
       "        \u001b[32m\"2023-04-01\"\u001b[39m,\n",
       "        \u001b[32m\"2023-05-01\"\u001b[39m,\n",
       "        \u001b[32m\"2023-06-01\"\u001b[39m,\n",
       "        \u001b[32m\"2023-07-01\"\u001b[39m,\n",
       "        \u001b[32m\"2023-08-01\"\u001b[39m,\n",
       "        \u001b[32m\"2023-09-01\"\u001b[39m,\n",
       "        \u001b[32m\"2023-10-01\"\u001b[39m,\n",
       "        \u001b[32m\"2023-11-01\"\u001b[39m,\n",
       "        \u001b[32m\"2023-12-01\"\u001b[39m,\n",
       "        \u001b[32m\"2024-01-01\"\u001b[39m,\n",
       "        \u001b[32m\"2024-02-01\"\u001b[39m,\n",
       "        \u001b[32m\"2024-03-01\"\u001b[39m,\n",
       "        \u001b[32m\"2024-04-01\"\u001b[39m,\n",
       "        \u001b[32m\"2024-05-01\"\u001b[39m\n",
       "      )\n",
       "    )\n",
       "  ),\n",
       "  \u001b[33mSome\u001b[39m(\n",
       "    \u001b[33mDoubles\u001b[39m(\n",
       "      \u001b[33mWrappedArray\u001b[39m(\n",
       "        \u001b[32m1744409.448\u001b[39m,\n",
       "        \u001b[32m2151530.691\u001b[39m,\n",
       "        \u001b[32m3097262.296\u001b[39m,\n",
       "        \u001b[32m3784527.46\u001b[39m,\n",
       "        \u001b[32m3874702.485\u001b[39m,\n",
       "        \u001b[32m3869501.913\u001b[39m,\n",
       "        \u001b[32m4574423.98\u001b[39m,\n",
       "        \u001b[32m4470421.94\u001b[39m,\n",
       "        \u001b[32m3367586.764\u001b[39m,\n",
       "        \u001b[32m2649786.461\u001b[39m,\n",
       "        \u001b[32m2011184.144\u001b[39m,\n",
       "        \u001b[32m1876351.661\u001b[39m,\n",
       "...\n",
       "\u001b[36mNuclear\u001b[39m: \u001b[32mScatter\u001b[39m = \u001b[33mScatter\u001b[39m(\n",
       "  \u001b[33mSome\u001b[39m(\n",
       "    \u001b[33mStrings\u001b[39m(\n",
       "      \u001b[33mWrappedArray\u001b[39m(\n",
       "        \u001b[32m\"2023-01-01\"\u001b[39m,\n",
       "        \u001b[32m\"2023-02-01\"\u001b[39m,\n",
       "        \u001b[32m\"2023-03-01\"\u001b[39m,\n",
       "        \u001b[32m\"2023-04-01\"\u001b[39m,\n",
       "        \u001b[32m\"2023-05-01\"\u001b[39m,\n",
       "        \u001b[32m\"2023-06-01\"\u001b[39m,\n",
       "        \u001b[32m\"2023-07-01\"\u001b[39m,\n",
       "        \u001b[32m\"2023-08-01\"\u001b[39m,\n",
       "        \u001b[32m\"2023-09-01\"\u001b[39m,\n",
       "        \u001b[32m\"2023-10-01\"\u001b[39m,\n",
       "        \u001b[32m\"2023-11-01\"\u001b[39m,\n",
       "        \u001b[32m\"2023-12-01\"\u001b[39m,\n",
       "        \u001b[32m\"2024-01-01\"\u001b[39m,\n",
       "        \u001b[32m\"2024-02-01\"\u001b[39m,\n",
       "        \u001b[32m\"2024-03-01\"\u001b[39m,\n",
       "        \u001b[32m\"2024-04-01\"\u001b[39m,\n",
       "        \u001b[32m\"2024-05-01\"\u001b[39m\n",
       "      )\n",
       "    )\n",
       "  ),\n",
       "  \u001b[33mSome\u001b[39m(\n",
       "    \u001b[33mDoubles\u001b[39m(\n",
       "      \u001b[33mWrappedArray\u001b[39m(\n",
       "        \u001b[32m5086763.589\u001b[39m,\n",
       "        \u001b[32m4597959.716\u001b[39m,\n",
       "        \u001b[32m5102291.068\u001b[39m,\n",
       "        \u001b[32m4567269.056\u001b[39m,\n",
       "        \u001b[32m3741768.391\u001b[39m,\n",
       "        \u001b[32m4008721.126\u001b[39m,\n",
       "        \u001b[32m5123133.915\u001b[39m,\n",
       "        \u001b[32m5008274.547\u001b[39m,\n",
       "        \u001b[32m4546818.519\u001b[39m,\n",
       "        \u001b[32m3741507.112\u001b[39m,\n",
       "        \u001b[32m3761317.407\u001b[39m,\n",
       "        \u001b[32m4990078.5\u001b[39m,\n",
       "...\n",
       "\u001b[36mCarbon\u001b[39m: \u001b[32mScatter\u001b[39m = \u001b[33mScatter\u001b[39m(\n",
       "  \u001b[33mSome\u001b[39m(\n",
       "    \u001b[33mStrings\u001b[39m(\n",
       "      \u001b[33mWrappedArray\u001b[39m(\n",
       "        \u001b[32m\"2023-01-01\"\u001b[39m,\n",
       "        \u001b[32m\"2023-02-01\"\u001b[39m,\n",
       "        \u001b[32m\"2023-03-01\"\u001b[39m,\n",
       "        \u001b[32m\"2023-04-01\"\u001b[39m,\n",
       "        \u001b[32m\"2023-05-01\"\u001b[39m,\n",
       "        \u001b[32m\"2023-06-01\"\u001b[39m,\n",
       "        \u001b[32m\"2023-07-01\"\u001b[39m,\n",
       "        \u001b[32m\"2023-08-01\"\u001b[39m,\n",
       "        \u001b[32m\"2023-09-01\"\u001b[39m,\n",
       "        \u001b[32m\"2023-10-01\"\u001b[39m,\n",
       "        \u001b[32m\"2023-11-01\"\u001b[39m,\n",
       "        \u001b[32m\"2023-12-01\"\u001b[39m,\n",
       "        \u001b[32m\"2024-01-01\"\u001b[39m,\n",
       "        \u001b[32m\"2024-02-01\"\u001b[39m,\n",
       "        \u001b[32m\"2024-03-01\"\u001b[39m,\n",
       "        \u001b[32m\"2024-04-01\"\u001b[39m,\n",
       "        \u001b[32m\"2024-05-01\"\u001b[39m\n",
       "      )\n",
       "    )\n",
       "  ),\n",
       "  \u001b[33mSome\u001b[39m(\n",
       "    \u001b[33mDoubles\u001b[39m(\n",
       "      \u001b[33mWrappedArray\u001b[39m(\n",
       "        \u001b[32m295484.046\u001b[39m,\n",
       "        \u001b[32m407401.986\u001b[39m,\n",
       "        \u001b[32m423067.694\u001b[39m,\n",
       "        \u001b[32m248946.281\u001b[39m,\n",
       "        \u001b[32m239072.728\u001b[39m,\n",
       "        \u001b[32m300829.502\u001b[39m,\n",
       "        \u001b[32m332920.033\u001b[39m,\n",
       "        \u001b[32m415009.408\u001b[39m,\n",
       "        \u001b[32m400694.775\u001b[39m,\n",
       "        \u001b[32m372653.847\u001b[39m,\n",
       "        \u001b[32m220612.321\u001b[39m,\n",
       "        \u001b[32m211787.511\u001b[39m,\n",
       "...\n",
       "\u001b[36mGas\u001b[39m: \u001b[32mScatter\u001b[39m = \u001b[33mScatter\u001b[39m(\n",
       "  \u001b[33mSome\u001b[39m(\n",
       "    \u001b[33mStrings\u001b[39m(\n",
       "      \u001b[33mWrappedArray\u001b[39m(\n",
       "        \u001b[32m\"2023-01-01\"\u001b[39m,\n",
       "        \u001b[32m\"2023-02-01\"\u001b[39m,\n",
       "        \u001b[32m\"2023-03-01\"\u001b[39m,\n",
       "        \u001b[32m\"2023-04-01\"\u001b[39m,\n",
       "        \u001b[32m\"2023-05-01\"\u001b[39m,\n",
       "        \u001b[32m\"2023-06-01\"\u001b[39m,\n",
       "        \u001b[32m\"2023-07-01\"\u001b[39m,\n",
       "        \u001b[32m\"2023-08-01\"\u001b[39m,\n",
       "        \u001b[32m\"2023-09-01\"\u001b[39m,\n",
       "        \u001b[32m\"2023-10-01\"\u001b[39m,\n",
       "        \u001b[32m\"2023-11-01\"\u001b[39m,\n",
       "        \u001b[32m\"2023-12-01\"\u001b[39m,\n",
       "        \u001b[32m\"2024-01-01\"\u001b[39m,\n",
       "        \u001b[32m\"2024-02-01\"\u001b[39m,\n",
       "        \u001b[32m\"2024-03-01\"\u001b[39m,\n",
       "        \u001b[32m\"2024-04-01\"\u001b[39m,\n",
       "        \u001b[32m\"2024-05-01\"\u001b[39m\n",
       "      )\n",
       "    )\n",
       "  ),\n",
       "  \u001b[33mSome\u001b[39m(\n",
       "    \u001b[33mDoubles\u001b[39m(\n",
       "      \u001b[33mWrappedArray\u001b[39m(\n",
       "        \u001b[32m2708507.873\u001b[39m,\n",
       "        \u001b[32m4367513.452\u001b[39m,\n",
       "        \u001b[32m3114385.281\u001b[39m,\n",
       "        \u001b[32m2874863.111\u001b[39m,\n",
       "        \u001b[32m3333273.991\u001b[39m,\n",
       "        \u001b[32m4673613.381\u001b[39m,\n",
       "        \u001b[32m4950496.446\u001b[39m,\n",
       "        \u001b[32m4999430.404\u001b[39m,\n",
       "        \u001b[32m4866768.68\u001b[39m,\n",
       "        \u001b[32m4086735.898\u001b[39m,\n",
       "        \u001b[32m2882239.454\u001b[39m,\n",
       "        \u001b[32m3192573.679\u001b[39m,\n",
       "...\n",
       "\u001b[36mdata\u001b[39m: \u001b[32mSeq\u001b[39m[\u001b[32mScatter\u001b[39m] = \u001b[33mList\u001b[39m(\n",
       "  \u001b[33mScatter\u001b[39m(\n",
       "    \u001b[33mSome\u001b[39m(\n",
       "      \u001b[33mStrings\u001b[39m(\n",
       "        \u001b[33mWrappedArray\u001b[39m(\n",
       "          \u001b[32m\"2023-01-01\"\u001b[39m,\n",
       "          \u001b[32m\"2023-02-01\"\u001b[39m,\n",
       "          \u001b[32m\"2023-03-01\"\u001b[39m,\n",
       "          \u001b[32m\"2023-04-01\"\u001b[39m,\n",
       "          \u001b[32m\"2023-05-01\"\u001b[39m,\n",
       "          \u001b[32m\"2023-06-01\"\u001b[39m,\n",
       "          \u001b[32m\"2023-07-01\"\u001b[39m,\n",
       "          \u001b[32m\"2023-08-01\"\u001b[39m,\n",
       "          \u001b[32m\"2023-09-01\"\u001b[39m,\n",
       "          \u001b[32m\"2023-10-01\"\u001b[39m,\n",
       "          \u001b[32m\"2023-11-01\"\u001b[39m,\n",
       "          \u001b[32m\"2023-12-01\"\u001b[39m,\n",
       "          \u001b[32m\"2024-01-01\"\u001b[39m,\n",
       "          \u001b[32m\"2024-02-01\"\u001b[39m,\n",
       "          \u001b[32m\"2024-03-01\"\u001b[39m,\n",
       "          \u001b[32m\"2024-04-01\"\u001b[39m,\n",
       "          \u001b[32m\"2024-05-01\"\u001b[39m\n",
       "        )\n",
       "      )\n",
       "    ),\n",
       "    \u001b[33mSome\u001b[39m(\n",
       "      \u001b[33mDoubles\u001b[39m(\n",
       "        \u001b[33mWrappedArray\u001b[39m(\n",
       "          \u001b[32m3859362.995\u001b[39m,\n",
       "          \u001b[32m2462733.917\u001b[39m,\n",
       "          \u001b[32m2044472.686\u001b[39m,\n",
       "          \u001b[32m1533648.466\u001b[39m,\n",
       "          \u001b[32m1392479.121\u001b[39m,\n",
       "          \u001b[32m1920006.486\u001b[39m,\n",
       "          \u001b[32m1308841.169\u001b[39m,\n",
       "          \u001b[32m981141.097\u001b[39m,\n",
       "          \u001b[32m932569.994\u001b[39m,\n",
       "          \u001b[32m1456377.369\u001b[39m,\n",
       "          \u001b[32m3453969.43\u001b[39m,\n",
       "...\n",
       "\u001b[36mres13_16\u001b[39m: \u001b[32mString\u001b[39m = \u001b[32m\"plot-336d92e2-19f3-4b93-9291-d4408e4d4e06\"\u001b[39m"
      ]
     },
     "execution_count": 14,
     "metadata": {},
     "output_type": "execute_result"
    }
   ],
   "source": [
    "val fechaHidraulica = valoresHidraulica.select($\"Fecha\").as[String].collect.toSeq\n",
    "val valorHidraulica = valoresHidraulica.select($\"value\").as[Double].collect.toSeq\n",
    "val fechaSolar = valoresSolar.select($\"Fecha\").as[String].collect.toSeq\n",
    "val valorSolar = valoresSolar.select($\"value\").as[Double].collect.toSeq\n",
    "val fechaNuclear = valoresNuclear.select($\"Fecha\").as[String].collect.toSeq\n",
    "val valorNuclear = valoresNuclear.select($\"value\").as[Double].collect.toSeq\n",
    "val fechaCarbon = valoresCarbon.select($\"Fecha\").as[String].collect.toSeq\n",
    "val valorCarbon = valoresCarbon.select($\"value\").as[Double].collect.toSeq\n",
    "val fechaGas = valoresGas.select($\"Fecha\").as[String].collect.toSeq\n",
    "val valorGas = valoresGas.select($\"value\").as[Double].collect.toSeq\n",
    "\n",
    "val Hidraulica = Scatter(\n",
    "    fechaHidraulica,\n",
    "    valorHidraulica,\n",
    "    name = \"Hidraulica\"\n",
    ")\n",
    "val Solar = Scatter(\n",
    "    fechaSolar,\n",
    "    valorSolar,\n",
    "    name = \"Solar\"\n",
    ")\n",
    "\n",
    "val Nuclear = Scatter(\n",
    "    fechaNuclear,\n",
    "    valorNuclear,\n",
    "    name = \"Nuclear\"\n",
    ")\n",
    "val Carbon = Scatter(\n",
    "    fechaCarbon, \n",
    "    valorCarbon,\n",
    "    name = \"Carbón\"\n",
    ")\n",
    "val Gas = Scatter(\n",
    "    fechaGas,\n",
    "    valorGas,\n",
    "    name = \"Gas\"\n",
    ")\n",
    "val data = Seq(Hidraulica,Solar, Nuclear, Carbon, Gas)\n",
    "plot(data)"
   ]
  },
  {
   "cell_type": "code",
   "execution_count": null,
   "metadata": {},
   "outputs": [],
   "source": []
  },
  {
   "cell_type": "code",
   "execution_count": null,
   "metadata": {},
   "outputs": [],
   "source": []
  }
 ],
 "metadata": {
  "kernelspec": {
   "display_name": "Scala 2.12",
   "language": "scala",
   "name": "scala212"
  },
  "language_info": {
   "codemirror_mode": "text/x-scala",
   "file_extension": ".scala",
   "mimetype": "text/x-scala",
   "name": "scala",
   "nbconvert_exporter": "script",
   "version": "2.12.10"
  }
 },
 "nbformat": 4,
 "nbformat_minor": 4
}
