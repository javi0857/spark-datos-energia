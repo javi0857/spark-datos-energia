{
 "cells": [
  {
   "cell_type": "code",
   "execution_count": 1,
   "metadata": {},
   "outputs": [
    {
     "data": {
      "text/plain": [
       "\u001b[32mimport \u001b[39m\u001b[36m$ivy.$                                  \n",
       "\n",
       "\n",
       "\u001b[39m\n",
       "\u001b[32mimport \u001b[39m\u001b[36morg.apache.spark.sql._\n",
       "\u001b[39m\n",
       "\u001b[32mimport \u001b[39m\u001b[36morg.apache.spark.sql.functions._\n",
       "\n",
       "\n",
       "//Reducir numero logs\n",
       "\u001b[39m\n",
       "\u001b[32mimport \u001b[39m\u001b[36morg.apache.log4j.{Level, Logger}\n",
       "\u001b[39m\n",
       "\u001b[32mimport \u001b[39m\u001b[36m$ivy.$                                                                        \n",
       "\u001b[39m\n",
       "\u001b[32mimport \u001b[39m\u001b[36msttp.client.quick.{quickRequest, UriContext, backend}\n",
       "\u001b[39m\n",
       "\u001b[32mimport \u001b[39m\u001b[36msttp.client.asynchttpclient.monix._\n",
       "\n",
       "\n",
       "//Sttp para realizar request\n",
       "\u001b[39m\n",
       "\u001b[32mimport \u001b[39m\u001b[36m$ivy.$                                                                        \n",
       "\u001b[39m\n",
       "\u001b[32mimport \u001b[39m\u001b[36msttp.client.quick.{quickRequest, UriContext, backend}\n",
       "\u001b[39m\n",
       "\u001b[32mimport \u001b[39m\u001b[36msttp.client.asynchttpclient.monix._\n",
       "\u001b[39m\n",
       "\u001b[32mimport \u001b[39m\u001b[36msttp.client.basicRequest\n",
       "\n",
       "//For adding extra dependenies\n",
       "\u001b[39m\n",
       "\u001b[32mimport \u001b[39m\u001b[36m$ivy.$                               \n",
       "\n",
       "//Plotly\n",
       "\u001b[39m\n",
       "\u001b[32mimport \u001b[39m\u001b[36m$ivy.$                                      \n",
       "\u001b[39m\n",
       "\u001b[32mimport \u001b[39m\u001b[36mplotly._, plotly.element._, plotly.layout._, plotly.Almond._\u001b[39m"
      ]
     },
     "execution_count": 1,
     "metadata": {},
     "output_type": "execute_result"
    }
   ],
   "source": [
    "import $ivy.`org.apache.spark::spark-sql:2.4.3`\n",
    "\n",
    "\n",
    "import org.apache.spark.sql._\n",
    "import org.apache.spark.sql.functions._\n",
    "\n",
    "\n",
    "//Reducir numero logs\n",
    "import org.apache.log4j.{Level, Logger}\n",
    "Logger.getLogger(\"org\").setLevel(Level.OFF)\n",
    "\n",
    "\n",
    "//Circe para trabajar con JSON\n",
    "import $ivy.`com.softwaremill.sttp.client::async-http-client-backend-monix:2.0.0-RC2`\n",
    "import sttp.client.quick.{quickRequest, UriContext, backend}\n",
    "import sttp.client.asynchttpclient.monix._\n",
    "\n",
    "\n",
    "//Sttp para realizar request\n",
    "import $ivy.`com.softwaremill.sttp.client::async-http-client-backend-monix:2.0.0-RC2`\n",
    "import sttp.client.quick.{quickRequest, UriContext, backend}\n",
    "import sttp.client.asynchttpclient.monix._\n",
    "import sttp.client.basicRequest\n",
    "\n",
    "//For adding extra dependenies\n",
    "import $ivy.`org.typelevel::cats-core:1.6.0`\n",
    "\n",
    "//Plotly\n",
    "import $ivy.`org.plotly-scala::plotly-almond:0.7.1`\n",
    "import plotly._, plotly.element._, plotly.layout._, plotly.Almond._"
   ]
  },
  {
   "cell_type": "code",
   "execution_count": 2,
   "metadata": {},
   "outputs": [
    {
     "name": "stdout",
     "output_type": "stream",
     "text": [
      "Loading spark-stubs\n",
      "Getting spark JARs\n",
      "Creating SparkSession\n"
     ]
    },
    {
     "name": "stderr",
     "output_type": "stream",
     "text": [
      "Using Spark's default log4j profile: org/apache/spark/log4j-defaults.properties\n"
     ]
    },
    {
     "data": {
      "text/html": [
       "<a href=\"http://bf6db785e391:4040\">Spark UI</a>"
      ]
     },
     "metadata": {},
     "output_type": "display_data"
    },
    {
     "data": {
      "text/plain": [
       "\u001b[36mspark\u001b[39m: \u001b[32mSparkSession\u001b[39m = org.apache.spark.sql.SparkSession@6b3ba862\n",
       "\u001b[32mimport \u001b[39m\u001b[36mspark.implicits._\n",
       "\n",
       "//Crear URL\n",
       "\u001b[39m\n",
       "defined \u001b[32mfunction\u001b[39m \u001b[36mcreateUri\u001b[39m\n",
       "defined \u001b[32mfunction\u001b[39m \u001b[36mgetDataApi\u001b[39m\n",
       "defined \u001b[32mfunction\u001b[39m \u001b[36mresponseToDF\u001b[39m"
      ]
     },
     "execution_count": 2,
     "metadata": {},
     "output_type": "execute_result"
    }
   ],
   "source": [
    "//Iniciamos session de Spark\n",
    "val spark = {\n",
    "  NotebookSparkSession.builder()\n",
    "     .master(\"local[*]\")\n",
    "    .config(\"spark.executor.instances\", \"4\") // Número de ejecutores\n",
    "    .config(\"spark.executor.memory\", \"4g\") // Memoria por ejecutor\n",
    "    .config(\"spark.executor.cores\", \"2\") // Núcleos por ejecutor\n",
    "    .config(\"spark.driver.memory\", \"4g\") // Memoria del driver\n",
    "    .config(\"spark.sql.shuffle.partitions\", \"8\") // Número de particiones para operaciones de shuffle\n",
    "    .getOrCreate()\n",
    "}\n",
    "import spark.implicits._\n",
    "\n",
    "//Crear URL\n",
    "def createUri(category: String, widget: String, start_date: String, end_date: String, time_trunc: String, lang: String, \n",
    "              geo_trunc: String = \"\", geo_limit: String = \"\", geo_ids: String = \"\"): String = {\n",
    "  val baseUrl = s\"https://apidatos.ree.es/$lang/datos/$category/$widget\"\n",
    "  \n",
    "  // Crear un mapa con los parámetros obligatorios y opcionales\n",
    "  val params = Map(\n",
    "    \"start_date\" -> start_date,\n",
    "    \"end_date\" -> end_date,\n",
    "    \"time_trunc\" -> time_trunc,\n",
    "    \"geo_trunc\" -> geo_trunc,\n",
    "    \"geo_limit\" -> geo_limit,\n",
    "    \"geo_ids\" -> geo_ids\n",
    "  ).filter { case (_, v) => v.nonEmpty } // Filtrar los parámetros que no están vacíos\n",
    "\n",
    "  //Especifico el orden concreto de los paramtros ya que, Scala map no te garantiza el orden\n",
    "  val orderedKeys = Seq(\"start_date\", \"end_date\", \"time_trunc\", \"geo_trunc\", \"geo_limit\", \"geo_ids\")\n",
    "\n",
    "  // Unir los parámetros en una cadena\n",
    "  val queryString = orderedKeys.flatMap(key => params.get(key).map(value => s\"$key=$value\")).mkString(\"&\")\n",
    "  \n",
    "  s\"$baseUrl?$queryString\"\n",
    "}\n",
    "\n",
    "//Lanzar llamada y obtener guardar datos\n",
    "def getDataApi(apiUrl: String): Either[String, String] = {\n",
    " \n",
    "    val newRequest = basicRequest.get(uri\"$apiUrl\")\n",
    "    val response = newRequest.send()\n",
    "  \n",
    "  response.body match {\n",
    "    case Right(body) => \n",
    "      Right(body)\n",
    "      \n",
    "    case Left(error) => \n",
    "      Left(s\"Error fetching data: $error\")\n",
    "  }\n",
    "}\n",
    "\n",
    "// Transformar response a DataFrame\n",
    "def responseToDF(response: Either[String, String]): DataFrame = {\n",
    "    response match {\n",
    "    case Right(body) => \n",
    "        val rdd = spark.sparkContext.parallelize(Seq(body))\n",
    "        spark.read.json(rdd)\n",
    "    case Left(error) => \n",
    "        println(error)\n",
    "        spark.emptyDataFrame\n",
    "    }\n",
    "}\n"
   ]
  },
  {
   "cell_type": "code",
   "execution_count": 3,
   "metadata": {},
   "outputs": [
    {
     "data": {
      "text/plain": [
       "defined \u001b[32mfunction\u001b[39m \u001b[36mtransformDataFrame\u001b[39m"
      ]
     },
     "execution_count": 3,
     "metadata": {},
     "output_type": "execute_result"
    }
   ],
   "source": [
    "def transformDataFrame(df: DataFrame): DataFrame = {\n",
    "    // Definir los tipos de energía de bajas emisiones\n",
    "    val bajasEmisiones = Seq(\n",
    "    \"Solar fotovoltaica\", \n",
    "    \"Solar térmica\", \n",
    "    \"Nuclear\", \n",
    "    \"Hidroeólica\", \n",
    "    \"Eólica\", \n",
    "    \"Generación renovable\", \n",
    "    \"Otras renovables\",\n",
    "    \"Hidráulica\", \n",
    "    \"Residuos renovables\"\n",
    "  )\n",
    "    //Crear modelo desanidado\n",
    "   df.withColumn(\"FamilyGroup\", explode($\"included\"))\n",
    "    .withColumn(\"TypeGroup\", explode($\"FamilyGroup.attributes.content\"))\n",
    "    .withColumn(\"Values\", explode($\"TypeGroup.attributes.values\"))\n",
    "    .select(\n",
    "      $\"FamilyGroup.type\".as(\"Familia\"),\n",
    "      $\"TypeGroup.type\".as(\"Tipo\"),\n",
    "      $\"Values.datetime\".as(\"FechaCompleta\"), \n",
    "      $\"Values.percentage\".as(\"Porcentaje\"),\n",
    "      $\"Values.value\".as(\"Valor\")\n",
    "    )\n",
    "    .withColumn(\"FechaCompleta\", $\"FechaCompleta\".cast(\"timestamp\"))\n",
    "    .withColumn(\"Dia\", to_date($\"FechaCompleta\"))\n",
    "    .withColumn(\"Hora\", date_format($\"FechaCompleta\", \"HH:mm:ss\"))\n",
    "    .withColumn(\"BajasEmisiones\", $\"Tipo\".isin(bajasEmisiones: _*))\n",
    "}"
   ]
  },
  {
   "cell_type": "code",
   "execution_count": 4,
   "metadata": {},
   "outputs": [
    {
     "data": {
      "text/plain": [
       "\u001b[36mcategory\u001b[39m: \u001b[32mString\u001b[39m = \u001b[32m\"balance\"\u001b[39m\n",
       "\u001b[36mwidget\u001b[39m: \u001b[32mString\u001b[39m = \u001b[32m\"balance-electrico\"\u001b[39m\n",
       "\u001b[36mtime_trunc\u001b[39m: \u001b[32mString\u001b[39m = \u001b[32m\"day\"\u001b[39m\n",
       "\u001b[36mlang\u001b[39m: \u001b[32mString\u001b[39m = \u001b[32m\"es\"\u001b[39m\n",
       "\u001b[36mgeo_trunc\u001b[39m: \u001b[32mString\u001b[39m = \u001b[32m\"electric_system\"\u001b[39m\n",
       "\u001b[36mgeo_limit\u001b[39m: \u001b[32mString\u001b[39m = \u001b[32m\"ccaa\"\u001b[39m\n",
       "\u001b[36mgeo_ids\u001b[39m: \u001b[32mString\u001b[39m = \u001b[32m\"11\"\u001b[39m\n",
       "\u001b[36mrango\u001b[39m: \u001b[32mcollection\u001b[39m.\u001b[32mimmutable\u001b[39m.\u001b[32mIndexedSeq\u001b[39m[(\u001b[32mString\u001b[39m, \u001b[32mString\u001b[39m)] = \u001b[33mVector\u001b[39m(\n",
       "  (\u001b[32m\"2024-01-01T00:00\"\u001b[39m, \u001b[32m\"2024-12-31T23:59\"\u001b[39m)\n",
       ")\n",
       "\u001b[36murisRango\u001b[39m: \u001b[32mcollection\u001b[39m.\u001b[32mimmutable\u001b[39m.\u001b[32mIndexedSeq\u001b[39m[\u001b[32mString\u001b[39m] = \u001b[33mVector\u001b[39m(\n",
       "  \u001b[32m\"https://apidatos.ree.es/es/datos/balance/balance-electrico?start_date=2024-01-01T00:00&end_date=2024-12-31T23:59&time_trunc=day&geo_trunc=electric_system&geo_limit=ccaa&geo_ids=11\"\u001b[39m\n",
       ")"
      ]
     },
     "execution_count": 4,
     "metadata": {},
     "output_type": "execute_result"
    }
   ],
   "source": [
    "val category = \"balance\"\n",
    "val widget = \"balance-electrico\"\n",
    "val time_trunc = \"day\"\n",
    "val lang = \"es\"\n",
    "val geo_trunc = \"electric_system\"\n",
    "val geo_limit = \"ccaa\"\n",
    "val geo_ids = \"11\"\n",
    "\n",
    "val rango = (2024 to 2024).map( year => (year + \"-01-01T00:00\", year + \"-12-31T23:59\"))\n",
    "val urisRango = rango.map {\n",
    "    case (inicio, fin) => createUri(category, widget, inicio, fin, time_trunc,lang,geo_trunc, geo_limit, geo_ids)\n",
    "    }"
   ]
  },
  {
   "cell_type": "code",
   "execution_count": 5,
   "metadata": {},
   "outputs": [
    {
     "data": {
      "text/plain": [
       "\u001b[36mlistBalanceJson\u001b[39m: \u001b[32mcollection\u001b[39m.\u001b[32mimmutable\u001b[39m.\u001b[32mIndexedSeq\u001b[39m[\u001b[32mEither\u001b[39m[\u001b[32mString\u001b[39m, \u001b[32mString\u001b[39m]] = \u001b[33mVector\u001b[39m(\n",
       "  \u001b[33mRight\u001b[39m(\n",
       "    \u001b[32m\"{\\\"data\\\":{\\\"type\\\":\\\"Balance de energ\\\\u00eda el\\\\u00e9ctrica\\\",\\\"id\\\":\\\"bal1\\\",\\\"attributes\\\":{\\\"title\\\":\\\"Balance de energ\\\\u00eda el\\\\u00e9ctrica\\\",\\\"last-update\\\":\\\"2024-09-09T13:37:13.000+02:00\\\",\\\"description\\\":\\\"Balance el\\\\u00e9ctrico: asignaci\\\\u00f3n de unidades de producci\\\\u00f3n seg\\\\u00fan combustible principal. La producci\\\\u00f3n neta de las instalaciones no renovables e hidr\\\\u00e1ulicas UGH tiene descontados los consumos propios de las instalaciones. En dichos tipos de producci\\\\u00f3n una generaci\\\\u00f3n negativa indica que la electricidad horaria consumida para los usos de las plantas excede la producci\\\\u00f3n horaria de las instalaciones.\\\"},\\\"meta\\\":{\\\"cache-control\\\":{\\\"cache\\\":\\\"HIT\\\",\\\"expireAt\\\":\\\"2024-10-25T10:07:22\\\"}}},\\\"included\\\":[{\\\"type\\\":\\\"Renovable\\\",\\\"id\\\":\\\"Renovable\\\",\\\"attributes\\\":{\\\"title\\\":\\\"Renovable\\\",\\\"last-update\\\":\\\"2024-05-21T16:53:06.000+02:00\\\",\\\"description\\\":null,\\\"magnitude\\\":null,\\\"content\\\":[{\\\"type\\\":\\\"Hidr\\\\u00e1ulica\\\",\\\"id\\\":\\\"10330\\\",\\\"groupId\\\":\\\"Renovable\\\",\\\"attributes\\\":{\\\"title\\\":\\\"Hidr\\\\u00e1ulica\\\",\\\"description\\\":\\\"10288\\\",\\\"color\\\":\\\"#0090d1\\\",\\\"type\\\":\\\"distinct\\\",\\\"magnitude\\\":null,\\\"composite\\\":false,\\\"last-update\\\":\\\"2024-05-21T16:53:06.000+02:00\\\",\\\"values\\\":[{\\\"value\\\":163548.995,\\\"percentage\\\":0.47926434045300637,\\\"datetime\\\":\\\"2024-01-01T00:00:00.000+01:00\\\"},{\\\"value\\\":119757.218,\\\"percentage\\\":0.42068413541212324,\\\"datetime\\\":\\\"2024-02-01T00:00:00.000+01:00\\\"},{\\\"value\\\":287692.014,\\\"percentage\\\":0.6810408965758138,\\\"datetime\\\":\\\"2024-03-01T00:00:00.000+01:00\\\"},{\\\"value\\\":140873.339,\\\"percentage\\\":0.5554509002091387,\\\"datetime\\\":\\\"2024-04-01T00:00:00.000+02:00\\\"},{\\\"value\\\":123607.549,\\\"percentage\\\":0.512909768714395,\\\"datetime\\\":\\\"2024-05-01T00:00:00.000+02:00\\\"}],\\\"total\\\":835479.115}},{\\\"type\\\":\\\"E\\\\u00f3lica\\\",\\\"id\\\":\\\"10333\\\",\\\"groupId\\\":\\\"Renovable\\\",\\\"attributes\\\":{\\\"title\\\":\\\"E\\\\u00f3lica\\\",\\\"description\\\":\\\"10291\\\",\\\"color\\\":\\\"#6fb114\\\",\\\"type\\\":\\\"distinct\\\",\\\"magnitude\\\":null,\\\"composite\\\":false,\\\"last-update\\\":\\\"2024-05-21T16:53:07.000+02:00\\\",\\\"values\\\":[{\\\"value\\\":157341.825,\\\"percentage\\\":0.4610748356130061,\\\"datetime\\\":\\\"2024-01-01T00:00:00.000+01:00\\\"},{\\\"value\\\":148367.778,\\\"percentage\\\":0.5211875447119008,\\\"datetime\\\":\\\"2024-02-01T00:00:00.000+01:00\\\"},{\\\"value\\\":114064.288,\\\"percentage\\\":0.27001946938576415,\\\"datetime\\\":\\\"2024-03-01T00:00:00.000+01:00\\\"},{\\\"value\\\":97389.46,\\\"percentage\\\":0.3839978778942828,\\\"datetime\\\":\\\"2024-04-01T00:00:00.000+02:00\\\"},{\\\"value\\\":106670.855,\\\"percentage\\\":0.44263092350950806,\\\"datetime\\\":\\\"2024-05-01T00:00:00.000+02:00\\\"}],\\\"total\\\":623834.206}},{\\\"type\\\":\\\"Solar fotovoltaica\\\",\\\"id\\\":\\\"1707\\\",\\\"groupId\\\":\\\"Renovable\\\",\\\"attributes\\\":{\\\"title\\\":\\\"Solar fotovoltaica\\\",\\\"description\\\":\\\"1458\\\",\\\"color\\\":\\\"#e48500\\\",\\\"type\\\":\\\"distinct\\\",\\\"magnitude\\\":null,\\\"composite\\\":false,\\\"last-update\\\":\\\"2024-08-22T11:56:47.000+02:00\\\",\\\"values\\\":[{\\\"value\\\":25.902,\\\"percentage\\\":\u001b[39m..."
      ]
     },
     "execution_count": 5,
     "metadata": {},
     "output_type": "execute_result"
    }
   ],
   "source": [
    "val listBalanceJson = urisRango.map(getDataApi(_))"
   ]
  },
  {
   "cell_type": "code",
   "execution_count": 6,
   "metadata": {},
   "outputs": [
    {
     "data": {
      "text/html": [
       "<script>\n",
       "var comm = Jupyter.notebook.kernel.comm_manager.new_comm('cancel-stage-2bae85a3-59f5-40dd-9044-b58584ac9485', {});\n",
       "\n",
       "function cancelStage(stageId) {\n",
       "  console.log('Cancelling stage ' + stageId);\n",
       "  comm.send({ 'stageId': stageId });\n",
       "}\n",
       "</script>\n",
       "          "
      ]
     },
     "metadata": {},
     "output_type": "display_data"
    },
    {
     "data": {
      "text/html": [
       "<div>\n",
       "  <span style=\"float: left;\">json at cmd1.sc:57</span>\n",
       "</div>\n"
      ]
     },
     "metadata": {},
     "output_type": "display_data"
    },
    {
     "data": {
      "text/html": [
       "<div class=\"progress\">\n",
       "  <div class=\"progress-bar\" role=\"progressbar\" style=\"background-color: blue; width: 100%; word-wrap: normal; white-space: nowrap; text-align: center; color: white\" aria-valuenow=\"100\" aria-valuemin=\"0\" aria-valuemax=\"100\">\n",
       "    16 / 16\n",
       "  </div>\n",
       "  <div class=\"progress-bar\" role=\"progressbar\" style=\"background-color: red; width: 0%\" aria-valuenow=\"0\" aria-valuemin=\"0\" aria-valuemax=\"100\"></div>\n",
       "</div>\n"
      ]
     },
     "metadata": {},
     "output_type": "display_data"
    },
    {
     "data": {
      "text/plain": [
       "\u001b[36mlistModelsBalance\u001b[39m: \u001b[32mcollection\u001b[39m.\u001b[32mimmutable\u001b[39m.\u001b[32mIndexedSeq\u001b[39m[\u001b[32mDataFrame\u001b[39m] = \u001b[33mVector\u001b[39m(\n",
       "  [Familia: string, Tipo: string ... 6 more fields]\n",
       ")\n",
       "\u001b[36mmodelBalanceAsturias\u001b[39m: \u001b[32mDataFrame\u001b[39m = [Familia: string, Tipo: string ... 6 more fields]"
      ]
     },
     "execution_count": 6,
     "metadata": {},
     "output_type": "execute_result"
    }
   ],
   "source": [
    "val listModelsBalance = listBalanceJson.map{\n",
    "    json => transformDataFrame(responseToDF(json))\n",
    "}\n",
    "val modelBalanceAsturias = listModelsBalance.reduce(_ union _)"
   ]
  },
  {
   "cell_type": "code",
   "execution_count": 7,
   "metadata": {},
   "outputs": [
    {
     "data": {
      "text/html": [
       "<div>\n",
       "  <span style=\"float: left;\">show at cmd6.sc:1</span>\n",
       "</div>\n"
      ]
     },
     "metadata": {},
     "output_type": "display_data"
    },
    {
     "data": {
      "text/html": [
       "<div class=\"progress\">\n",
       "  <div class=\"progress-bar\" role=\"progressbar\" style=\"background-color: blue; width: 100%; word-wrap: normal; white-space: nowrap; text-align: center; color: white\" aria-valuenow=\"100\" aria-valuemin=\"0\" aria-valuemax=\"100\">\n",
       "    1 / 1\n",
       "  </div>\n",
       "  <div class=\"progress-bar\" role=\"progressbar\" style=\"background-color: red; width: 0%\" aria-valuenow=\"0\" aria-valuemin=\"0\" aria-valuemax=\"100\"></div>\n",
       "</div>\n"
      ]
     },
     "metadata": {},
     "output_type": "display_data"
    },
    {
     "data": {
      "text/html": [
       "<div>\n",
       "  <span style=\"float: left;\">show at cmd6.sc:1</span>\n",
       "</div>\n"
      ]
     },
     "metadata": {},
     "output_type": "display_data"
    },
    {
     "data": {
      "text/html": [
       "<div class=\"progress\">\n",
       "  <div class=\"progress-bar\" role=\"progressbar\" style=\"background-color: blue; width: 100%; word-wrap: normal; white-space: nowrap; text-align: center; color: white\" aria-valuenow=\"100\" aria-valuemin=\"0\" aria-valuemax=\"100\">\n",
       "    4 / 4\n",
       "  </div>\n",
       "  <div class=\"progress-bar\" role=\"progressbar\" style=\"background-color: red; width: 0%\" aria-valuenow=\"0\" aria-valuemin=\"0\" aria-valuemax=\"100\"></div>\n",
       "</div>\n"
      ]
     },
     "metadata": {},
     "output_type": "display_data"
    },
    {
     "data": {
      "text/html": [
       "<div>\n",
       "  <span style=\"float: left;\">show at cmd6.sc:1</span>\n",
       "</div>\n"
      ]
     },
     "metadata": {},
     "output_type": "display_data"
    },
    {
     "data": {
      "text/html": [
       "<div class=\"progress\">\n",
       "  <div class=\"progress-bar\" role=\"progressbar\" style=\"background-color: blue; width: 100%; word-wrap: normal; white-space: nowrap; text-align: center; color: white\" aria-valuenow=\"100\" aria-valuemin=\"0\" aria-valuemax=\"100\">\n",
       "    11 / 11\n",
       "  </div>\n",
       "  <div class=\"progress-bar\" role=\"progressbar\" style=\"background-color: red; width: 0%\" aria-valuenow=\"0\" aria-valuemin=\"0\" aria-valuemax=\"100\"></div>\n",
       "</div>\n"
      ]
     },
     "metadata": {},
     "output_type": "display_data"
    },
    {
     "name": "stdout",
     "output_type": "stream",
     "text": [
      "+---------+------------------+-------------------+--------------------+----------+----------+--------+--------------+\n",
      "|  Familia|              Tipo|      FechaCompleta|          Porcentaje|     Valor|       Dia|    Hora|BajasEmisiones|\n",
      "+---------+------------------+-------------------+--------------------+----------+----------+--------+--------------+\n",
      "|Renovable|        Hidráulica|2023-12-31 23:00:00| 0.47926434045300637|163548.995|2023-12-31|23:00:00|          true|\n",
      "|Renovable|        Hidráulica|2024-01-31 23:00:00| 0.42068413541212324|119757.218|2024-01-31|23:00:00|          true|\n",
      "|Renovable|        Hidráulica|2024-02-29 23:00:00|  0.6810408965758138|287692.014|2024-02-29|23:00:00|          true|\n",
      "|Renovable|        Hidráulica|2024-03-31 22:00:00|  0.5554509002091387|140873.339|2024-03-31|22:00:00|          true|\n",
      "|Renovable|        Hidráulica|2024-04-30 22:00:00|   0.512909768714395|123607.549|2024-04-30|22:00:00|          true|\n",
      "|Renovable|            Eólica|2023-12-31 23:00:00|  0.4610748356130061|157341.825|2023-12-31|23:00:00|          true|\n",
      "|Renovable|            Eólica|2024-01-31 23:00:00|  0.5211875447119008|148367.778|2024-01-31|23:00:00|          true|\n",
      "|Renovable|            Eólica|2024-02-29 23:00:00| 0.27001946938576415|114064.288|2024-02-29|23:00:00|          true|\n",
      "|Renovable|            Eólica|2024-03-31 22:00:00|  0.3839978778942828|  97389.46|2024-03-31|22:00:00|          true|\n",
      "|Renovable|            Eólica|2024-04-30 22:00:00| 0.44263092350950806|106670.855|2024-04-30|22:00:00|          true|\n",
      "|Renovable|Solar fotovoltaica|2023-12-31 23:00:00| 7.59032786866943E-5|    25.902|2023-12-31|23:00:00|          true|\n",
      "|Renovable|Solar fotovoltaica|2024-01-31 23:00:00|1.104532277107789...|    31.443|2024-01-31|23:00:00|          true|\n",
      "|Renovable|Solar fotovoltaica|2024-02-29 23:00:00|1.250361406147266...|    52.819|2024-02-29|23:00:00|          true|\n",
      "|Renovable|Solar fotovoltaica|2024-03-31 22:00:00|2.589939877206821E-4|    65.686|2024-03-31|22:00:00|          true|\n",
      "|Renovable|Solar fotovoltaica|2024-04-30 22:00:00|2.647797210319699E-4|     63.81|2024-04-30|22:00:00|          true|\n",
      "|Renovable|  Otras renovables|2023-12-31 23:00:00| 0.05958492065530088| 20333.359|2023-12-31|23:00:00|          true|\n",
      "|Renovable|  Otras renovables|2024-01-31 23:00:00| 0.05801786664826517| 16516.093|2024-01-31|23:00:00|          true|\n",
      "|Renovable|  Otras renovables|2024-02-29 23:00:00| 0.04881459789780724| 20620.744|2024-02-29|23:00:00|          true|\n",
      "|Renovable|  Otras renovables|2024-03-31 22:00:00|0.060292227908857916| 15291.302|2024-03-31|22:00:00|          true|\n",
      "|Renovable|  Otras renovables|2024-04-30 22:00:00|0.044194528055065026| 10650.562|2024-04-30|22:00:00|          true|\n",
      "+---------+------------------+-------------------+--------------------+----------+----------+--------+--------------+\n",
      "only showing top 20 rows\n",
      "\n"
     ]
    }
   ],
   "source": [
    "modelBalanceAsturias.show()"
   ]
  },
  {
   "cell_type": "code",
   "execution_count": 8,
   "metadata": {},
   "outputs": [
    {
     "data": {
      "text/plain": [
       "defined \u001b[32mfunction\u001b[39m \u001b[36mAnalisisEnergiasAnual\u001b[39m"
      ]
     },
     "execution_count": 8,
     "metadata": {},
     "output_type": "execute_result"
    }
   ],
   "source": [
    "def AnalisisEnergiasAnual(listaEnergias: Seq[String], dataFrameBalance: DataFrame): Unit = {\n",
    "  // Agrupar y calcular la media para datos renovables\n",
    "  def calcularMediaMensual(df: DataFrame, tipo: String): DataFrame = {\n",
    "    df.filter(col(\"Tipo\") === tipo) \n",
    "      .filter(date_format(col(\"FechaCompleta\"), \"yyyy\") === \"2024\")\n",
    "      .groupBy(date_format(col(\"FechaCompleta\"), \"MM\").as(\"Mes\"))\n",
    "      .agg(sum(\"Valor\").as(\"ValorPromedio\"))\n",
    "      .orderBy(\"Mes\")\n",
    "  }\n",
    "\n",
    "  val valores = listaEnergias.map(tipoEnergia => calcularMediaMensual(dataFrameBalance, tipoEnergia))\n",
    "  val fechas = valores.head.select(\"Mes\").as[String].collect.toSeq\n",
    "  val seqValores = valores.map(valor => valor.select(\"ValorPromedio\").as[Double].collect.toSeq)\n",
    "\n",
    "  val traces = listaEnergias.zip(seqValores).map { case (nombre, seqValor) =>\n",
    "    Scatter(fechas, seqValor, name = nombre)\n",
    "  }\n",
    "\n",
    "  val data = traces\n",
    "  plot(data)\n",
    "}\n",
    "\n"
   ]
  },
  {
   "cell_type": "code",
   "execution_count": 9,
   "metadata": {},
   "outputs": [
    {
     "data": {
      "text/html": [
       "<div>\n",
       "  <span style=\"float: left;\">collect at cmd7.sc:12</span>\n",
       "</div>\n"
      ]
     },
     "metadata": {},
     "output_type": "display_data"
    },
    {
     "data": {
      "text/html": [
       "<div class=\"progress\">\n",
       "  <div class=\"progress-bar\" role=\"progressbar\" style=\"background-color: blue; width: 100%; word-wrap: normal; white-space: nowrap; text-align: center; color: white\" aria-valuenow=\"100\" aria-valuemin=\"0\" aria-valuemax=\"100\">\n",
       "    16 / 16\n",
       "  </div>\n",
       "  <div class=\"progress-bar\" role=\"progressbar\" style=\"background-color: red; width: 0%\" aria-valuenow=\"0\" aria-valuemin=\"0\" aria-valuemax=\"100\"></div>\n",
       "</div>\n"
      ]
     },
     "metadata": {},
     "output_type": "display_data"
    },
    {
     "data": {
      "text/html": [
       "<div>\n",
       "  <span style=\"float: left;\">collect at cmd7.sc:12</span>\n",
       "</div>\n"
      ]
     },
     "metadata": {},
     "output_type": "display_data"
    },
    {
     "data": {
      "text/html": [
       "<div class=\"progress\">\n",
       "  <div class=\"progress-bar\" role=\"progressbar\" style=\"background-color: blue; width: 100%; word-wrap: normal; white-space: nowrap; text-align: center; color: white\" aria-valuenow=\"100\" aria-valuemin=\"0\" aria-valuemax=\"100\">\n",
       "    8 / 8\n",
       "  </div>\n",
       "  <div class=\"progress-bar\" role=\"progressbar\" style=\"background-color: red; width: 0%\" aria-valuenow=\"0\" aria-valuemin=\"0\" aria-valuemax=\"100\"></div>\n",
       "</div>\n"
      ]
     },
     "metadata": {},
     "output_type": "display_data"
    },
    {
     "data": {
      "text/html": [
       "<div>\n",
       "  <span style=\"float: left;\">collect at cmd7.sc:12</span>\n",
       "</div>\n"
      ]
     },
     "metadata": {},
     "output_type": "display_data"
    },
    {
     "data": {
      "text/html": [
       "<div class=\"progress\">\n",
       "  <div class=\"progress-bar\" role=\"progressbar\" style=\"background-color: blue; width: 100%; word-wrap: normal; white-space: nowrap; text-align: center; color: white\" aria-valuenow=\"100\" aria-valuemin=\"0\" aria-valuemax=\"100\">\n",
       "    8 / 8\n",
       "  </div>\n",
       "  <div class=\"progress-bar\" role=\"progressbar\" style=\"background-color: red; width: 0%\" aria-valuenow=\"0\" aria-valuemin=\"0\" aria-valuemax=\"100\"></div>\n",
       "</div>\n"
      ]
     },
     "metadata": {},
     "output_type": "display_data"
    },
    {
     "data": {
      "text/html": [
       "<div>\n",
       "  <span style=\"float: left;\">collect at cmd7.sc:12</span>\n",
       "</div>\n"
      ]
     },
     "metadata": {},
     "output_type": "display_data"
    },
    {
     "data": {
      "text/html": [
       "<div class=\"progress\">\n",
       "  <div class=\"progress-bar\" role=\"progressbar\" style=\"background-color: blue; width: 100%; word-wrap: normal; white-space: nowrap; text-align: center; color: white\" aria-valuenow=\"100\" aria-valuemin=\"0\" aria-valuemax=\"100\">\n",
       "    4 / 4\n",
       "  </div>\n",
       "  <div class=\"progress-bar\" role=\"progressbar\" style=\"background-color: red; width: 0%\" aria-valuenow=\"0\" aria-valuemin=\"0\" aria-valuemax=\"100\"></div>\n",
       "</div>\n"
      ]
     },
     "metadata": {},
     "output_type": "display_data"
    },
    {
     "data": {
      "text/html": [
       "<div>\n",
       "  <span style=\"float: left;\">collect at cmd7.sc:13</span>\n",
       "</div>\n"
      ]
     },
     "metadata": {},
     "output_type": "display_data"
    },
    {
     "data": {
      "text/html": [
       "<div class=\"progress\">\n",
       "  <div class=\"progress-bar\" role=\"progressbar\" style=\"background-color: blue; width: 100%; word-wrap: normal; white-space: nowrap; text-align: center; color: white\" aria-valuenow=\"100\" aria-valuemin=\"0\" aria-valuemax=\"100\">\n",
       "    16 / 16\n",
       "  </div>\n",
       "  <div class=\"progress-bar\" role=\"progressbar\" style=\"background-color: red; width: 0%\" aria-valuenow=\"0\" aria-valuemin=\"0\" aria-valuemax=\"100\"></div>\n",
       "</div>\n"
      ]
     },
     "metadata": {},
     "output_type": "display_data"
    },
    {
     "data": {
      "text/html": [
       "<div>\n",
       "  <span style=\"float: left;\">collect at cmd7.sc:13</span>\n",
       "</div>\n"
      ]
     },
     "metadata": {},
     "output_type": "display_data"
    },
    {
     "data": {
      "text/html": [
       "<div class=\"progress\">\n",
       "  <div class=\"progress-bar\" role=\"progressbar\" style=\"background-color: blue; width: 100%; word-wrap: normal; white-space: nowrap; text-align: center; color: white\" aria-valuenow=\"100\" aria-valuemin=\"0\" aria-valuemax=\"100\">\n",
       "    8 / 8\n",
       "  </div>\n",
       "  <div class=\"progress-bar\" role=\"progressbar\" style=\"background-color: red; width: 0%\" aria-valuenow=\"0\" aria-valuemin=\"0\" aria-valuemax=\"100\"></div>\n",
       "</div>\n"
      ]
     },
     "metadata": {},
     "output_type": "display_data"
    },
    {
     "data": {
      "text/html": [
       "<div>\n",
       "  <span style=\"float: left;\">collect at cmd7.sc:13</span>\n",
       "</div>\n"
      ]
     },
     "metadata": {},
     "output_type": "display_data"
    },
    {
     "data": {
      "text/html": [
       "<div class=\"progress\">\n",
       "  <div class=\"progress-bar\" role=\"progressbar\" style=\"background-color: blue; width: 100%; word-wrap: normal; white-space: nowrap; text-align: center; color: white\" aria-valuenow=\"100\" aria-valuemin=\"0\" aria-valuemax=\"100\">\n",
       "    8 / 8\n",
       "  </div>\n",
       "  <div class=\"progress-bar\" role=\"progressbar\" style=\"background-color: red; width: 0%\" aria-valuenow=\"0\" aria-valuemin=\"0\" aria-valuemax=\"100\"></div>\n",
       "</div>\n"
      ]
     },
     "metadata": {},
     "output_type": "display_data"
    },
    {
     "data": {
      "text/html": [
       "<div>\n",
       "  <span style=\"float: left;\">collect at cmd7.sc:13</span>\n",
       "</div>\n"
      ]
     },
     "metadata": {},
     "output_type": "display_data"
    },
    {
     "data": {
      "text/html": [
       "<div class=\"progress\">\n",
       "  <div class=\"progress-bar\" role=\"progressbar\" style=\"background-color: blue; width: 100%; word-wrap: normal; white-space: nowrap; text-align: center; color: white\" aria-valuenow=\"100\" aria-valuemin=\"0\" aria-valuemax=\"100\">\n",
       "    4 / 4\n",
       "  </div>\n",
       "  <div class=\"progress-bar\" role=\"progressbar\" style=\"background-color: red; width: 0%\" aria-valuenow=\"0\" aria-valuemin=\"0\" aria-valuemax=\"100\"></div>\n",
       "</div>\n"
      ]
     },
     "metadata": {},
     "output_type": "display_data"
    },
    {
     "data": {
      "text/html": [
       "<div>\n",
       "  <span style=\"float: left;\">collect at cmd7.sc:13</span>\n",
       "</div>\n"
      ]
     },
     "metadata": {},
     "output_type": "display_data"
    },
    {
     "data": {
      "text/html": [
       "<div class=\"progress\">\n",
       "  <div class=\"progress-bar\" role=\"progressbar\" style=\"background-color: blue; width: 100%; word-wrap: normal; white-space: nowrap; text-align: center; color: white\" aria-valuenow=\"100\" aria-valuemin=\"0\" aria-valuemax=\"100\">\n",
       "    16 / 16\n",
       "  </div>\n",
       "  <div class=\"progress-bar\" role=\"progressbar\" style=\"background-color: red; width: 0%\" aria-valuenow=\"0\" aria-valuemin=\"0\" aria-valuemax=\"100\"></div>\n",
       "</div>\n"
      ]
     },
     "metadata": {},
     "output_type": "display_data"
    },
    {
     "data": {
      "text/html": [
       "<div>\n",
       "  <span style=\"float: left;\">collect at cmd7.sc:13</span>\n",
       "</div>\n"
      ]
     },
     "metadata": {},
     "output_type": "display_data"
    },
    {
     "data": {
      "text/html": [
       "<div class=\"progress\">\n",
       "  <div class=\"progress-bar\" role=\"progressbar\" style=\"background-color: blue; width: 100%; word-wrap: normal; white-space: nowrap; text-align: center; color: white\" aria-valuenow=\"100\" aria-valuemin=\"0\" aria-valuemax=\"100\">\n",
       "    8 / 8\n",
       "  </div>\n",
       "  <div class=\"progress-bar\" role=\"progressbar\" style=\"background-color: red; width: 0%\" aria-valuenow=\"0\" aria-valuemin=\"0\" aria-valuemax=\"100\"></div>\n",
       "</div>\n"
      ]
     },
     "metadata": {},
     "output_type": "display_data"
    },
    {
     "data": {
      "text/html": [
       "<div>\n",
       "  <span style=\"float: left;\">collect at cmd7.sc:13</span>\n",
       "</div>\n"
      ]
     },
     "metadata": {},
     "output_type": "display_data"
    },
    {
     "data": {
      "text/html": [
       "<div class=\"progress\">\n",
       "  <div class=\"progress-bar\" role=\"progressbar\" style=\"background-color: blue; width: 100%; word-wrap: normal; white-space: nowrap; text-align: center; color: white\" aria-valuenow=\"100\" aria-valuemin=\"0\" aria-valuemax=\"100\">\n",
       "    8 / 8\n",
       "  </div>\n",
       "  <div class=\"progress-bar\" role=\"progressbar\" style=\"background-color: red; width: 0%\" aria-valuenow=\"0\" aria-valuemin=\"0\" aria-valuemax=\"100\"></div>\n",
       "</div>\n"
      ]
     },
     "metadata": {},
     "output_type": "display_data"
    },
    {
     "data": {
      "text/html": [
       "<div>\n",
       "  <span style=\"float: left;\">collect at cmd7.sc:13</span>\n",
       "</div>\n"
      ]
     },
     "metadata": {},
     "output_type": "display_data"
    },
    {
     "data": {
      "text/html": [
       "<div class=\"progress\">\n",
       "  <div class=\"progress-bar\" role=\"progressbar\" style=\"background-color: blue; width: 100%; word-wrap: normal; white-space: nowrap; text-align: center; color: white\" aria-valuenow=\"100\" aria-valuemin=\"0\" aria-valuemax=\"100\">\n",
       "    4 / 4\n",
       "  </div>\n",
       "  <div class=\"progress-bar\" role=\"progressbar\" style=\"background-color: red; width: 0%\" aria-valuenow=\"0\" aria-valuemin=\"0\" aria-valuemax=\"100\"></div>\n",
       "</div>\n"
      ]
     },
     "metadata": {},
     "output_type": "display_data"
    },
    {
     "data": {
      "text/html": [
       "<div>\n",
       "  <span style=\"float: left;\">collect at cmd7.sc:13</span>\n",
       "</div>\n"
      ]
     },
     "metadata": {},
     "output_type": "display_data"
    },
    {
     "data": {
      "text/html": [
       "<div class=\"progress\">\n",
       "  <div class=\"progress-bar\" role=\"progressbar\" style=\"background-color: blue; width: 100%; word-wrap: normal; white-space: nowrap; text-align: center; color: white\" aria-valuenow=\"100\" aria-valuemin=\"0\" aria-valuemax=\"100\">\n",
       "    16 / 16\n",
       "  </div>\n",
       "  <div class=\"progress-bar\" role=\"progressbar\" style=\"background-color: red; width: 0%\" aria-valuenow=\"0\" aria-valuemin=\"0\" aria-valuemax=\"100\"></div>\n",
       "</div>\n"
      ]
     },
     "metadata": {},
     "output_type": "display_data"
    },
    {
     "data": {
      "text/html": [
       "<div>\n",
       "  <span style=\"float: left;\">collect at cmd7.sc:13</span>\n",
       "</div>\n"
      ]
     },
     "metadata": {},
     "output_type": "display_data"
    },
    {
     "data": {
      "text/html": [
       "<div class=\"progress\">\n",
       "  <div class=\"progress-bar\" role=\"progressbar\" style=\"background-color: blue; width: 100%; word-wrap: normal; white-space: nowrap; text-align: center; color: white\" aria-valuenow=\"100\" aria-valuemin=\"0\" aria-valuemax=\"100\">\n",
       "    8 / 8\n",
       "  </div>\n",
       "  <div class=\"progress-bar\" role=\"progressbar\" style=\"background-color: red; width: 0%\" aria-valuenow=\"0\" aria-valuemin=\"0\" aria-valuemax=\"100\"></div>\n",
       "</div>\n"
      ]
     },
     "metadata": {},
     "output_type": "display_data"
    },
    {
     "data": {
      "text/html": [
       "<div>\n",
       "  <span style=\"float: left;\">collect at cmd7.sc:13</span>\n",
       "</div>\n"
      ]
     },
     "metadata": {},
     "output_type": "display_data"
    },
    {
     "data": {
      "text/html": [
       "<div class=\"progress\">\n",
       "  <div class=\"progress-bar\" role=\"progressbar\" style=\"background-color: blue; width: 100%; word-wrap: normal; white-space: nowrap; text-align: center; color: white\" aria-valuenow=\"100\" aria-valuemin=\"0\" aria-valuemax=\"100\">\n",
       "    8 / 8\n",
       "  </div>\n",
       "  <div class=\"progress-bar\" role=\"progressbar\" style=\"background-color: red; width: 0%\" aria-valuenow=\"0\" aria-valuemin=\"0\" aria-valuemax=\"100\"></div>\n",
       "</div>\n"
      ]
     },
     "metadata": {},
     "output_type": "display_data"
    },
    {
     "data": {
      "text/html": [
       "<div>\n",
       "  <span style=\"float: left;\">collect at cmd7.sc:13</span>\n",
       "</div>\n"
      ]
     },
     "metadata": {},
     "output_type": "display_data"
    },
    {
     "data": {
      "text/html": [
       "<div class=\"progress\">\n",
       "  <div class=\"progress-bar\" role=\"progressbar\" style=\"background-color: blue; width: 100%; word-wrap: normal; white-space: nowrap; text-align: center; color: white\" aria-valuenow=\"100\" aria-valuemin=\"0\" aria-valuemax=\"100\">\n",
       "    1 / 1\n",
       "  </div>\n",
       "  <div class=\"progress-bar\" role=\"progressbar\" style=\"background-color: red; width: 0%\" aria-valuenow=\"0\" aria-valuemin=\"0\" aria-valuemax=\"100\"></div>\n",
       "</div>\n"
      ]
     },
     "metadata": {},
     "output_type": "display_data"
    },
    {
     "data": {
      "text/html": [
       "<div>\n",
       "  <span style=\"float: left;\">collect at cmd7.sc:13</span>\n",
       "</div>\n"
      ]
     },
     "metadata": {},
     "output_type": "display_data"
    },
    {
     "data": {
      "text/html": [
       "<div class=\"progress\">\n",
       "  <div class=\"progress-bar\" role=\"progressbar\" style=\"background-color: blue; width: 100%; word-wrap: normal; white-space: nowrap; text-align: center; color: white\" aria-valuenow=\"100\" aria-valuemin=\"0\" aria-valuemax=\"100\">\n",
       "    16 / 16\n",
       "  </div>\n",
       "  <div class=\"progress-bar\" role=\"progressbar\" style=\"background-color: red; width: 0%\" aria-valuenow=\"0\" aria-valuemin=\"0\" aria-valuemax=\"100\"></div>\n",
       "</div>\n"
      ]
     },
     "metadata": {},
     "output_type": "display_data"
    },
    {
     "data": {
      "text/html": [
       "<div>\n",
       "  <span style=\"float: left;\">collect at cmd7.sc:13</span>\n",
       "</div>\n"
      ]
     },
     "metadata": {},
     "output_type": "display_data"
    },
    {
     "data": {
      "text/html": [
       "<div class=\"progress\">\n",
       "  <div class=\"progress-bar\" role=\"progressbar\" style=\"background-color: blue; width: 100%; word-wrap: normal; white-space: nowrap; text-align: center; color: white\" aria-valuenow=\"100\" aria-valuemin=\"0\" aria-valuemax=\"100\">\n",
       "    8 / 8\n",
       "  </div>\n",
       "  <div class=\"progress-bar\" role=\"progressbar\" style=\"background-color: red; width: 0%\" aria-valuenow=\"0\" aria-valuemin=\"0\" aria-valuemax=\"100\"></div>\n",
       "</div>\n"
      ]
     },
     "metadata": {},
     "output_type": "display_data"
    },
    {
     "data": {
      "text/html": [
       "<div>\n",
       "  <span style=\"float: left;\">collect at cmd7.sc:13</span>\n",
       "</div>\n"
      ]
     },
     "metadata": {},
     "output_type": "display_data"
    },
    {
     "data": {
      "text/html": [
       "<div class=\"progress\">\n",
       "  <div class=\"progress-bar\" role=\"progressbar\" style=\"background-color: blue; width: 100%; word-wrap: normal; white-space: nowrap; text-align: center; color: white\" aria-valuenow=\"100\" aria-valuemin=\"0\" aria-valuemax=\"100\">\n",
       "    8 / 8\n",
       "  </div>\n",
       "  <div class=\"progress-bar\" role=\"progressbar\" style=\"background-color: red; width: 0%\" aria-valuenow=\"0\" aria-valuemin=\"0\" aria-valuemax=\"100\"></div>\n",
       "</div>\n"
      ]
     },
     "metadata": {},
     "output_type": "display_data"
    },
    {
     "data": {
      "text/html": [
       "<div>\n",
       "  <span style=\"float: left;\">collect at cmd7.sc:13</span>\n",
       "</div>\n"
      ]
     },
     "metadata": {},
     "output_type": "display_data"
    },
    {
     "data": {
      "text/html": [
       "<div class=\"progress\">\n",
       "  <div class=\"progress-bar\" role=\"progressbar\" style=\"background-color: blue; width: 100%; word-wrap: normal; white-space: nowrap; text-align: center; color: white\" aria-valuenow=\"100\" aria-valuemin=\"0\" aria-valuemax=\"100\">\n",
       "    4 / 4\n",
       "  </div>\n",
       "  <div class=\"progress-bar\" role=\"progressbar\" style=\"background-color: red; width: 0%\" aria-valuenow=\"0\" aria-valuemin=\"0\" aria-valuemax=\"100\"></div>\n",
       "</div>\n"
      ]
     },
     "metadata": {},
     "output_type": "display_data"
    },
    {
     "data": {
      "text/html": [
       "<div>\n",
       "  <span style=\"float: left;\">collect at cmd7.sc:13</span>\n",
       "</div>\n"
      ]
     },
     "metadata": {},
     "output_type": "display_data"
    },
    {
     "data": {
      "text/html": [
       "<div class=\"progress\">\n",
       "  <div class=\"progress-bar\" role=\"progressbar\" style=\"background-color: blue; width: 100%; word-wrap: normal; white-space: nowrap; text-align: center; color: white\" aria-valuenow=\"100\" aria-valuemin=\"0\" aria-valuemax=\"100\">\n",
       "    16 / 16\n",
       "  </div>\n",
       "  <div class=\"progress-bar\" role=\"progressbar\" style=\"background-color: red; width: 0%\" aria-valuenow=\"0\" aria-valuemin=\"0\" aria-valuemax=\"100\"></div>\n",
       "</div>\n"
      ]
     },
     "metadata": {},
     "output_type": "display_data"
    },
    {
     "data": {
      "text/html": [
       "<div>\n",
       "  <span style=\"float: left;\">collect at cmd7.sc:13</span>\n",
       "</div>\n"
      ]
     },
     "metadata": {},
     "output_type": "display_data"
    },
    {
     "data": {
      "text/html": [
       "<div class=\"progress\">\n",
       "  <div class=\"progress-bar\" role=\"progressbar\" style=\"background-color: blue; width: 100%; word-wrap: normal; white-space: nowrap; text-align: center; color: white\" aria-valuenow=\"100\" aria-valuemin=\"0\" aria-valuemax=\"100\">\n",
       "    8 / 8\n",
       "  </div>\n",
       "  <div class=\"progress-bar\" role=\"progressbar\" style=\"background-color: red; width: 0%\" aria-valuenow=\"0\" aria-valuemin=\"0\" aria-valuemax=\"100\"></div>\n",
       "</div>\n"
      ]
     },
     "metadata": {},
     "output_type": "display_data"
    },
    {
     "data": {
      "text/html": [
       "<div>\n",
       "  <span style=\"float: left;\">collect at cmd7.sc:13</span>\n",
       "</div>\n"
      ]
     },
     "metadata": {},
     "output_type": "display_data"
    },
    {
     "data": {
      "text/html": [
       "<div class=\"progress\">\n",
       "  <div class=\"progress-bar\" role=\"progressbar\" style=\"background-color: blue; width: 100%; word-wrap: normal; white-space: nowrap; text-align: center; color: white\" aria-valuenow=\"100\" aria-valuemin=\"0\" aria-valuemax=\"100\">\n",
       "    8 / 8\n",
       "  </div>\n",
       "  <div class=\"progress-bar\" role=\"progressbar\" style=\"background-color: red; width: 0%\" aria-valuenow=\"0\" aria-valuemin=\"0\" aria-valuemax=\"100\"></div>\n",
       "</div>\n"
      ]
     },
     "metadata": {},
     "output_type": "display_data"
    },
    {
     "data": {
      "text/html": [
       "<div>\n",
       "  <span style=\"float: left;\">collect at cmd7.sc:13</span>\n",
       "</div>\n"
      ]
     },
     "metadata": {},
     "output_type": "display_data"
    },
    {
     "data": {
      "text/html": [
       "<div class=\"progress\">\n",
       "  <div class=\"progress-bar\" role=\"progressbar\" style=\"background-color: blue; width: 100%; word-wrap: normal; white-space: nowrap; text-align: center; color: white\" aria-valuenow=\"100\" aria-valuemin=\"0\" aria-valuemax=\"100\">\n",
       "    4 / 4\n",
       "  </div>\n",
       "  <div class=\"progress-bar\" role=\"progressbar\" style=\"background-color: red; width: 0%\" aria-valuenow=\"0\" aria-valuemin=\"0\" aria-valuemax=\"100\"></div>\n",
       "</div>\n"
      ]
     },
     "metadata": {},
     "output_type": "display_data"
    },
    {
     "data": {
      "text/html": [
       "<div>\n",
       "  <span style=\"float: left;\">collect at cmd7.sc:13</span>\n",
       "</div>\n"
      ]
     },
     "metadata": {},
     "output_type": "display_data"
    },
    {
     "data": {
      "text/html": [
       "<div class=\"progress\">\n",
       "  <div class=\"progress-bar\" role=\"progressbar\" style=\"background-color: blue; width: 100%; word-wrap: normal; white-space: nowrap; text-align: center; color: white\" aria-valuenow=\"100\" aria-valuemin=\"0\" aria-valuemax=\"100\">\n",
       "    16 / 16\n",
       "  </div>\n",
       "  <div class=\"progress-bar\" role=\"progressbar\" style=\"background-color: red; width: 0%\" aria-valuenow=\"0\" aria-valuemin=\"0\" aria-valuemax=\"100\"></div>\n",
       "</div>\n"
      ]
     },
     "metadata": {},
     "output_type": "display_data"
    },
    {
     "data": {
      "text/html": [
       "<div>\n",
       "  <span style=\"float: left;\">collect at cmd7.sc:13</span>\n",
       "</div>\n"
      ]
     },
     "metadata": {},
     "output_type": "display_data"
    },
    {
     "data": {
      "text/html": [
       "<div class=\"progress\">\n",
       "  <div class=\"progress-bar\" role=\"progressbar\" style=\"background-color: blue; width: 100%; word-wrap: normal; white-space: nowrap; text-align: center; color: white\" aria-valuenow=\"100\" aria-valuemin=\"0\" aria-valuemax=\"100\">\n",
       "    8 / 8\n",
       "  </div>\n",
       "  <div class=\"progress-bar\" role=\"progressbar\" style=\"background-color: red; width: 0%\" aria-valuenow=\"0\" aria-valuemin=\"0\" aria-valuemax=\"100\"></div>\n",
       "</div>\n"
      ]
     },
     "metadata": {},
     "output_type": "display_data"
    },
    {
     "data": {
      "text/html": [
       "<div>\n",
       "  <span style=\"float: left;\">collect at cmd7.sc:13</span>\n",
       "</div>\n"
      ]
     },
     "metadata": {},
     "output_type": "display_data"
    },
    {
     "data": {
      "text/html": [
       "<div class=\"progress\">\n",
       "  <div class=\"progress-bar\" role=\"progressbar\" style=\"background-color: blue; width: 100%; word-wrap: normal; white-space: nowrap; text-align: center; color: white\" aria-valuenow=\"100\" aria-valuemin=\"0\" aria-valuemax=\"100\">\n",
       "    8 / 8\n",
       "  </div>\n",
       "  <div class=\"progress-bar\" role=\"progressbar\" style=\"background-color: red; width: 0%\" aria-valuenow=\"0\" aria-valuemin=\"0\" aria-valuemax=\"100\"></div>\n",
       "</div>\n"
      ]
     },
     "metadata": {},
     "output_type": "display_data"
    },
    {
     "data": {
      "text/html": [
       "<div>\n",
       "  <span style=\"float: left;\">collect at cmd7.sc:13</span>\n",
       "</div>\n"
      ]
     },
     "metadata": {},
     "output_type": "display_data"
    },
    {
     "data": {
      "text/html": [
       "<div class=\"progress\">\n",
       "  <div class=\"progress-bar\" role=\"progressbar\" style=\"background-color: blue; width: 100%; word-wrap: normal; white-space: nowrap; text-align: center; color: white\" aria-valuenow=\"100\" aria-valuemin=\"0\" aria-valuemax=\"100\">\n",
       "    4 / 4\n",
       "  </div>\n",
       "  <div class=\"progress-bar\" role=\"progressbar\" style=\"background-color: red; width: 0%\" aria-valuenow=\"0\" aria-valuemin=\"0\" aria-valuemax=\"100\"></div>\n",
       "</div>\n"
      ]
     },
     "metadata": {},
     "output_type": "display_data"
    },
    {
     "data": {
      "text/html": [
       "\n",
       "      <script type=\"text/javascript\">\n",
       "        require.config({\n",
       "  paths: {\n",
       "    d3: 'https://cdnjs.cloudflare.com/ajax/libs/d3/3.5.17/d3.min',\n",
       "    plotly: 'https://cdn.plot.ly/plotly-1.41.3.min',\n",
       "    jquery: 'https://code.jquery.com/jquery-3.3.1.min'\n",
       "  },\n",
       "\n",
       "  shim: {\n",
       "    plotly: {\n",
       "      deps: ['d3', 'jquery'],\n",
       "      exports: 'plotly'\n",
       "    }\n",
       "  }\n",
       "});\n",
       "        \n",
       "\n",
       "        require(['plotly'], function(Plotly) {\n",
       "          window.Plotly = Plotly;\n",
       "        });\n",
       "      </script>\n",
       "    "
      ]
     },
     "metadata": {},
     "output_type": "display_data"
    },
    {
     "data": {
      "application/vnd.plotly.v1+json": {
       "data": [
        {
         "name": "Hidráulica",
         "type": "scatter",
         "x": [
          "01",
          "02",
          "03",
          "04"
         ],
         "y": [
          119757.218,
          287692.014,
          140873.339,
          123607.549
         ]
        },
        {
         "name": "Solar fotovoltaica",
         "type": "scatter",
         "x": [
          "01",
          "02",
          "03",
          "04"
         ],
         "y": [
          31.443,
          52.819,
          65.686,
          63.81
         ]
        },
        {
         "name": "Nuclear",
         "type": "scatter",
         "x": [
          "01",
          "02",
          "03",
          "04"
         ],
         "y": []
        },
        {
         "name": "Eólica",
         "type": "scatter",
         "x": [
          "01",
          "02",
          "03",
          "04"
         ],
         "y": [
          148367.778,
          114064.288,
          97389.46,
          106670.855
         ]
        },
        {
         "name": "Ciclo combinado",
         "type": "scatter",
         "x": [
          "01",
          "02",
          "03",
          "04"
         ],
         "y": [
          58331.089,
          53924.655,
          32614.041,
          45351.049
         ]
        },
        {
         "name": "Carbón",
         "type": "scatter",
         "x": [
          "01",
          "02",
          "03",
          "04"
         ],
         "y": [
          205753.262,
          210834.039,
          216569.44,
          210887.503
         ]
        }
       ],
       "layout": {
        "autosize": true,
        "xaxis": {
         "autorange": true,
         "range": [
          0.81752655538695,
          4.18247344461305
         ],
         "type": "linear"
        },
        "yaxis": {
         "autorange": true,
         "range": [
          -21039.235767515926,
          308762.69276751595
         ],
         "type": "linear"
        }
       }
      },
      "image/png": "[encoded data removed]",
      "text/html": [
       "<div class=\"chart\" id=\"plot-49dc0da1-c280-44b0-b378-7a43df8d0a74\"></div>\n",
       "<script>require(['plotly'], function(Plotly) {\n",
       "  (function () {\n",
       "  var data0 = {\"x\":[\"01\",\"02\",\"03\",\"04\"],\"name\":\"Hidráulica\",\"y\":[119757.218,287692.014,140873.339,123607.549],\"type\":\"scatter\"};\n",
       "  var data1 = {\"x\":[\"01\",\"02\",\"03\",\"04\"],\"name\":\"Solar fotovoltaica\",\"y\":[31.443,52.819,65.686,63.81],\"type\":\"scatter\"};\n",
       "  var data2 = {\"x\":[\"01\",\"02\",\"03\",\"04\"],\"name\":\"Nuclear\",\"y\":[],\"type\":\"scatter\"};\n",
       "  var data3 = {\"x\":[\"01\",\"02\",\"03\",\"04\"],\"name\":\"Eólica\",\"y\":[148367.778,114064.288,97389.46,106670.855],\"type\":\"scatter\"};\n",
       "  var data4 = {\"x\":[\"01\",\"02\",\"03\",\"04\"],\"name\":\"Ciclo combinado\",\"y\":[58331.089,53924.655,32614.041,45351.049],\"type\":\"scatter\"};\n",
       "  var data5 = {\"x\":[\"01\",\"02\",\"03\",\"04\"],\"name\":\"Carbón\",\"y\":[205753.262,210834.039,216569.44,210887.503],\"type\":\"scatter\"};\n",
       "\n",
       "  var data = [data0, data1, data2, data3, data4, data5];\n",
       "  var layout = {};\n",
       "\n",
       "  Plotly.plot('plot-49dc0da1-c280-44b0-b378-7a43df8d0a74', data, layout);\n",
       "})();\n",
       "});\n",
       "      </script>\n",
       "           "
      ]
     },
     "metadata": {},
     "output_type": "display_data"
    },
    {
     "data": {
      "text/plain": [
       "\u001b[36mEnergiasParaAnalizar\u001b[39m: \u001b[32mSeq\u001b[39m[\u001b[32mString\u001b[39m] = \u001b[33mList\u001b[39m(\n",
       "  \u001b[32m\"Hidr\\u00e1ulica\"\u001b[39m,\n",
       "  \u001b[32m\"Solar fotovoltaica\"\u001b[39m,\n",
       "  \u001b[32m\"Nuclear\"\u001b[39m,\n",
       "  \u001b[32m\"E\\u00f3lica\"\u001b[39m,\n",
       "  \u001b[32m\"Ciclo combinado\"\u001b[39m,\n",
       "  \u001b[32m\"Carb\\u00f3n\"\u001b[39m\n",
       ")"
      ]
     },
     "execution_count": 9,
     "metadata": {},
     "output_type": "execute_result"
    }
   ],
   "source": [
    "val EnergiasParaAnalizar = Seq( \"Hidráulica\",\"Solar fotovoltaica\",\"Nuclear\", \"Eólica\", \"Ciclo combinado\", \"Carbón\")\n",
    "AnalisisEnergiasAnual(EnergiasParaAnalizar, modelBalanceAsturias)"
   ]
  },
  {
   "cell_type": "code",
   "execution_count": 10,
   "metadata": {},
   "outputs": [
    {
     "data": {
      "text/plain": [
       "defined \u001b[32mfunction\u001b[39m \u001b[36mcrearDataFramePorRango\u001b[39m"
      ]
     },
     "execution_count": 10,
     "metadata": {},
     "output_type": "execute_result"
    }
   ],
   "source": [
    "def crearDataFramePorRango(rango: Range, category: String, widget: String, time_trunc: String, lang: String, \n",
    "                           geo_trunc: String = \"\", geo_limit: String = \"\", geo_ids: String = \"\"): DataFrame = {\n",
    "  // Crear el rango de fechas basado en los años proporcionados\n",
    "  val rangoFechas = rango.map(year => (year + \"-01-01T00:00\", year + \"-12-31T23:59\"))\n",
    "\n",
    "  // Crear las URIs para cada rango de fechas\n",
    "  val uris = rangoFechas.map {\n",
    "    case (inicio, fin) => createUri(category, widget, inicio, fin, time_trunc, lang, geo_trunc, geo_limit, geo_ids)\n",
    "\n",
    "  }\n",
    "\n",
    "  // Obtener los datos de la API para cada URI\n",
    "  val listBalanceJson = uris.map(getDataApi(_))\n",
    "\n",
    "  // Transformar los JSON en DataFrames\n",
    "  val listModelsBalance = listBalanceJson.map { json =>\n",
    "    transformDataFrame(responseToDF(json))\n",
    "  }\n",
    "\n",
    "  // Unir todos los DataFrames en uno solo\n",
    "  val finalDataFrame = listModelsBalance.reduce(_ union _)\n",
    "\n",
    "  finalDataFrame // Retorna el DataFrame\n",
    "}"
   ]
  },
  {
   "cell_type": "code",
   "execution_count": 11,
   "metadata": {},
   "outputs": [
    {
     "data": {
      "text/html": [
       "<div>\n",
       "  <span style=\"float: left;\">json at cmd1.sc:57</span>\n",
       "</div>\n"
      ]
     },
     "metadata": {},
     "output_type": "display_data"
    },
    {
     "data": {
      "text/html": [
       "<div class=\"progress\">\n",
       "  <div class=\"progress-bar\" role=\"progressbar\" style=\"background-color: blue; width: 100%; word-wrap: normal; white-space: nowrap; text-align: center; color: white\" aria-valuenow=\"100\" aria-valuemin=\"0\" aria-valuemax=\"100\">\n",
       "    16 / 16\n",
       "  </div>\n",
       "  <div class=\"progress-bar\" role=\"progressbar\" style=\"background-color: red; width: 0%\" aria-valuenow=\"0\" aria-valuemin=\"0\" aria-valuemax=\"100\"></div>\n",
       "</div>\n"
      ]
     },
     "metadata": {},
     "output_type": "display_data"
    },
    {
     "data": {
      "text/html": [
       "<div>\n",
       "  <span style=\"float: left;\">json at cmd1.sc:57</span>\n",
       "</div>\n"
      ]
     },
     "metadata": {},
     "output_type": "display_data"
    },
    {
     "data": {
      "text/html": [
       "<div class=\"progress\">\n",
       "  <div class=\"progress-bar\" role=\"progressbar\" style=\"background-color: blue; width: 100%; word-wrap: normal; white-space: nowrap; text-align: center; color: white\" aria-valuenow=\"100\" aria-valuemin=\"0\" aria-valuemax=\"100\">\n",
       "    16 / 16\n",
       "  </div>\n",
       "  <div class=\"progress-bar\" role=\"progressbar\" style=\"background-color: red; width: 0%\" aria-valuenow=\"0\" aria-valuemin=\"0\" aria-valuemax=\"100\"></div>\n",
       "</div>\n"
      ]
     },
     "metadata": {},
     "output_type": "display_data"
    },
    {
     "data": {
      "text/html": [
       "<div>\n",
       "  <span style=\"float: left;\">json at cmd1.sc:57</span>\n",
       "</div>\n"
      ]
     },
     "metadata": {},
     "output_type": "display_data"
    },
    {
     "data": {
      "text/html": [
       "<div class=\"progress\">\n",
       "  <div class=\"progress-bar\" role=\"progressbar\" style=\"background-color: blue; width: 100%; word-wrap: normal; white-space: nowrap; text-align: center; color: white\" aria-valuenow=\"100\" aria-valuemin=\"0\" aria-valuemax=\"100\">\n",
       "    16 / 16\n",
       "  </div>\n",
       "  <div class=\"progress-bar\" role=\"progressbar\" style=\"background-color: red; width: 0%\" aria-valuenow=\"0\" aria-valuemin=\"0\" aria-valuemax=\"100\"></div>\n",
       "</div>\n"
      ]
     },
     "metadata": {},
     "output_type": "display_data"
    },
    {
     "data": {
      "text/html": [
       "<div>\n",
       "  <span style=\"float: left;\">json at cmd1.sc:57</span>\n",
       "</div>\n"
      ]
     },
     "metadata": {},
     "output_type": "display_data"
    },
    {
     "data": {
      "text/html": [
       "<div class=\"progress\">\n",
       "  <div class=\"progress-bar\" role=\"progressbar\" style=\"background-color: blue; width: 100%; word-wrap: normal; white-space: nowrap; text-align: center; color: white\" aria-valuenow=\"100\" aria-valuemin=\"0\" aria-valuemax=\"100\">\n",
       "    16 / 16\n",
       "  </div>\n",
       "  <div class=\"progress-bar\" role=\"progressbar\" style=\"background-color: red; width: 0%\" aria-valuenow=\"0\" aria-valuemin=\"0\" aria-valuemax=\"100\"></div>\n",
       "</div>\n"
      ]
     },
     "metadata": {},
     "output_type": "display_data"
    },
    {
     "data": {
      "text/html": [
       "<div>\n",
       "  <span style=\"float: left;\">json at cmd1.sc:57</span>\n",
       "</div>\n"
      ]
     },
     "metadata": {},
     "output_type": "display_data"
    },
    {
     "data": {
      "text/html": [
       "<div class=\"progress\">\n",
       "  <div class=\"progress-bar\" role=\"progressbar\" style=\"background-color: blue; width: 100%; word-wrap: normal; white-space: nowrap; text-align: center; color: white\" aria-valuenow=\"100\" aria-valuemin=\"0\" aria-valuemax=\"100\">\n",
       "    16 / 16\n",
       "  </div>\n",
       "  <div class=\"progress-bar\" role=\"progressbar\" style=\"background-color: red; width: 0%\" aria-valuenow=\"0\" aria-valuemin=\"0\" aria-valuemax=\"100\"></div>\n",
       "</div>\n"
      ]
     },
     "metadata": {},
     "output_type": "display_data"
    },
    {
     "data": {
      "text/html": [
       "<div>\n",
       "  <span style=\"float: left;\">json at cmd1.sc:57</span>\n",
       "</div>\n"
      ]
     },
     "metadata": {},
     "output_type": "display_data"
    },
    {
     "data": {
      "text/html": [
       "<div class=\"progress\">\n",
       "  <div class=\"progress-bar\" role=\"progressbar\" style=\"background-color: blue; width: 100%; word-wrap: normal; white-space: nowrap; text-align: center; color: white\" aria-valuenow=\"100\" aria-valuemin=\"0\" aria-valuemax=\"100\">\n",
       "    16 / 16\n",
       "  </div>\n",
       "  <div class=\"progress-bar\" role=\"progressbar\" style=\"background-color: red; width: 0%\" aria-valuenow=\"0\" aria-valuemin=\"0\" aria-valuemax=\"100\"></div>\n",
       "</div>\n"
      ]
     },
     "metadata": {},
     "output_type": "display_data"
    },
    {
     "data": {
      "text/html": [
       "<div>\n",
       "  <span style=\"float: left;\">json at cmd1.sc:57</span>\n",
       "</div>\n"
      ]
     },
     "metadata": {},
     "output_type": "display_data"
    },
    {
     "data": {
      "text/html": [
       "<div class=\"progress\">\n",
       "  <div class=\"progress-bar\" role=\"progressbar\" style=\"background-color: blue; width: 100%; word-wrap: normal; white-space: nowrap; text-align: center; color: white\" aria-valuenow=\"100\" aria-valuemin=\"0\" aria-valuemax=\"100\">\n",
       "    16 / 16\n",
       "  </div>\n",
       "  <div class=\"progress-bar\" role=\"progressbar\" style=\"background-color: red; width: 0%\" aria-valuenow=\"0\" aria-valuemin=\"0\" aria-valuemax=\"100\"></div>\n",
       "</div>\n"
      ]
     },
     "metadata": {},
     "output_type": "display_data"
    },
    {
     "data": {
      "text/html": [
       "<div>\n",
       "  <span style=\"float: left;\">json at cmd1.sc:57</span>\n",
       "</div>\n"
      ]
     },
     "metadata": {},
     "output_type": "display_data"
    },
    {
     "data": {
      "text/html": [
       "<div class=\"progress\">\n",
       "  <div class=\"progress-bar\" role=\"progressbar\" style=\"background-color: blue; width: 100%; word-wrap: normal; white-space: nowrap; text-align: center; color: white\" aria-valuenow=\"100\" aria-valuemin=\"0\" aria-valuemax=\"100\">\n",
       "    16 / 16\n",
       "  </div>\n",
       "  <div class=\"progress-bar\" role=\"progressbar\" style=\"background-color: red; width: 0%\" aria-valuenow=\"0\" aria-valuemin=\"0\" aria-valuemax=\"100\"></div>\n",
       "</div>\n"
      ]
     },
     "metadata": {},
     "output_type": "display_data"
    },
    {
     "data": {
      "text/html": [
       "<div>\n",
       "  <span style=\"float: left;\">json at cmd1.sc:57</span>\n",
       "</div>\n"
      ]
     },
     "metadata": {},
     "output_type": "display_data"
    },
    {
     "data": {
      "text/html": [
       "<div class=\"progress\">\n",
       "  <div class=\"progress-bar\" role=\"progressbar\" style=\"background-color: blue; width: 100%; word-wrap: normal; white-space: nowrap; text-align: center; color: white\" aria-valuenow=\"100\" aria-valuemin=\"0\" aria-valuemax=\"100\">\n",
       "    16 / 16\n",
       "  </div>\n",
       "  <div class=\"progress-bar\" role=\"progressbar\" style=\"background-color: red; width: 0%\" aria-valuenow=\"0\" aria-valuemin=\"0\" aria-valuemax=\"100\"></div>\n",
       "</div>\n"
      ]
     },
     "metadata": {},
     "output_type": "display_data"
    },
    {
     "data": {
      "text/plain": [
       "\u001b[36mcategory\u001b[39m: \u001b[32mString\u001b[39m = \u001b[32m\"balance\"\u001b[39m\n",
       "\u001b[36mwidget\u001b[39m: \u001b[32mString\u001b[39m = \u001b[32m\"balance-electrico\"\u001b[39m\n",
       "\u001b[36mtime_trunc\u001b[39m: \u001b[32mString\u001b[39m = \u001b[32m\"day\"\u001b[39m\n",
       "\u001b[36mlang\u001b[39m: \u001b[32mString\u001b[39m = \u001b[32m\"es\"\u001b[39m\n",
       "\u001b[36mgeo_trunc\u001b[39m: \u001b[32mString\u001b[39m = \u001b[32m\"electric_system\"\u001b[39m\n",
       "\u001b[36mgeo_limit\u001b[39m: \u001b[32mString\u001b[39m = \u001b[32m\"ccaa\"\u001b[39m\n",
       "\u001b[36mgeo_ids\u001b[39m: \u001b[32mString\u001b[39m = \u001b[32m\"11\"\u001b[39m\n",
       "\u001b[36mrango\u001b[39m: \u001b[32mRange\u001b[39m.\u001b[32mInclusive\u001b[39m = \u001b[33mRange.Inclusive\u001b[39m(\n",
       "  \u001b[32m2016\u001b[39m,\n",
       "  \u001b[32m2017\u001b[39m,\n",
       "  \u001b[32m2018\u001b[39m,\n",
       "  \u001b[32m2019\u001b[39m,\n",
       "  \u001b[32m2020\u001b[39m,\n",
       "  \u001b[32m2021\u001b[39m,\n",
       "  \u001b[32m2022\u001b[39m,\n",
       "  \u001b[32m2023\u001b[39m,\n",
       "  \u001b[32m2024\u001b[39m\n",
       ")\n",
       "\u001b[36mbalanceAsturias16_24\u001b[39m: \u001b[32mDataFrame\u001b[39m = [Familia: string, Tipo: string ... 6 more fields]"
      ]
     },
     "execution_count": 11,
     "metadata": {},
     "output_type": "execute_result"
    }
   ],
   "source": [
    "val category = \"balance\"\n",
    "val widget = \"balance-electrico\"\n",
    "val time_trunc = \"day\"\n",
    "val lang = \"es\"\n",
    "val geo_trunc = \"electric_system\"\n",
    "val geo_limit = \"ccaa\"\n",
    "val geo_ids = \"11\"\n",
    "val rango = 2016 to 2024\n",
    "val balanceAsturias16_24 = crearDataFramePorRango(rango, category, widget, time_trunc, lang, geo_trunc, geo_limit, geo_ids)"
   ]
  },
  {
   "cell_type": "code",
   "execution_count": 12,
   "metadata": {},
   "outputs": [
    {
     "data": {
      "text/html": [
       "<div>\n",
       "  <span style=\"float: left;\">head at cmd11.sc:11</span>\n",
       "</div>\n"
      ]
     },
     "metadata": {},
     "output_type": "display_data"
    },
    {
     "data": {
      "text/html": [
       "<div class=\"progress\">\n",
       "  <div class=\"progress-bar\" role=\"progressbar\" style=\"background-color: blue; width: 100%; word-wrap: normal; white-space: nowrap; text-align: center; color: white\" aria-valuenow=\"100\" aria-valuemin=\"0\" aria-valuemax=\"100\">\n",
       "    144 / 144\n",
       "  </div>\n",
       "  <div class=\"progress-bar\" role=\"progressbar\" style=\"background-color: red; width: 0%\" aria-valuenow=\"0\" aria-valuemin=\"0\" aria-valuemax=\"100\"></div>\n",
       "</div>\n"
      ]
     },
     "metadata": {},
     "output_type": "display_data"
    },
    {
     "data": {
      "text/html": [
       "<div>\n",
       "  <span style=\"float: left;\">head at cmd11.sc:11</span>\n",
       "</div>\n"
      ]
     },
     "metadata": {},
     "output_type": "display_data"
    },
    {
     "data": {
      "text/html": [
       "<div class=\"progress\">\n",
       "  <div class=\"progress-bar\" role=\"progressbar\" style=\"background-color: blue; width: 100%; word-wrap: normal; white-space: nowrap; text-align: center; color: white\" aria-valuenow=\"100\" aria-valuemin=\"0\" aria-valuemax=\"100\">\n",
       "    8 / 8\n",
       "  </div>\n",
       "  <div class=\"progress-bar\" role=\"progressbar\" style=\"background-color: red; width: 0%\" aria-valuenow=\"0\" aria-valuemin=\"0\" aria-valuemax=\"100\"></div>\n",
       "</div>\n"
      ]
     },
     "metadata": {},
     "output_type": "display_data"
    },
    {
     "data": {
      "text/html": [
       "<div>\n",
       "  <span style=\"float: left;\">head at cmd11.sc:12</span>\n",
       "</div>\n"
      ]
     },
     "metadata": {},
     "output_type": "display_data"
    },
    {
     "data": {
      "text/html": [
       "<div class=\"progress\">\n",
       "  <div class=\"progress-bar\" role=\"progressbar\" style=\"background-color: blue; width: 100%; word-wrap: normal; white-space: nowrap; text-align: center; color: white\" aria-valuenow=\"100\" aria-valuemin=\"0\" aria-valuemax=\"100\">\n",
       "    144 / 144\n",
       "  </div>\n",
       "  <div class=\"progress-bar\" role=\"progressbar\" style=\"background-color: red; width: 0%\" aria-valuenow=\"0\" aria-valuemin=\"0\" aria-valuemax=\"100\"></div>\n",
       "</div>\n"
      ]
     },
     "metadata": {},
     "output_type": "display_data"
    },
    {
     "data": {
      "text/html": [
       "<div>\n",
       "  <span style=\"float: left;\">head at cmd11.sc:12</span>\n",
       "</div>\n"
      ]
     },
     "metadata": {},
     "output_type": "display_data"
    },
    {
     "data": {
      "text/html": [
       "<div class=\"progress\">\n",
       "  <div class=\"progress-bar\" role=\"progressbar\" style=\"background-color: blue; width: 100%; word-wrap: normal; white-space: nowrap; text-align: center; color: white\" aria-valuenow=\"100\" aria-valuemin=\"0\" aria-valuemax=\"100\">\n",
       "    8 / 8\n",
       "  </div>\n",
       "  <div class=\"progress-bar\" role=\"progressbar\" style=\"background-color: red; width: 0%\" aria-valuenow=\"0\" aria-valuemin=\"0\" aria-valuemax=\"100\"></div>\n",
       "</div>\n"
      ]
     },
     "metadata": {},
     "output_type": "display_data"
    },
    {
     "data": {
      "application/vnd.plotly.v1+json": {
       "data": [
        {
         "type": "bar",
         "x": [
          "Carbón",
          "Hidráulica",
          "Eólica",
          "Ciclo combinado",
          "Otras renovables",
          "Turbinación bombeo",
          "Cogeneración"
         ],
         "y": [
          844044.244,
          671930.12,
          466492.381,
          190220.834,
          63078.700999999994,
          36246.422999999995,
          15999.313
         ]
        }
       ],
       "layout": {
        "autosize": true,
        "xaxis": {
         "autorange": true,
         "range": [
          -0.5,
          6.5
         ],
         "type": "category"
        },
        "yaxis": {
         "autorange": true,
         "range": [
          0,
          888467.6252631579
         ],
         "type": "linear"
        }
       }
      },
      "image/png": "[encoded data removed]",
      "text/html": [
       "<div class=\"chart\" id=\"plot-5f55a2b1-ca2c-451f-9c3a-06554c49c891\"></div>\n",
       "<script>require(['plotly'], function(Plotly) {\n",
       "  (function () {\n",
       "  var data0 = {\"x\":[\"Carbón\",\"Hidráulica\",\"Eólica\",\"Ciclo combinado\",\"Otras renovables\",\"Turbinación bombeo\",\"Cogeneración\"],\"y\":[844044.244,671930.12,466492.381,190220.834,63078.700999999994,36246.422999999995,15999.313],\"type\":\"bar\"};\n",
       "\n",
       "  var data = [data0];\n",
       "  var layout = {};\n",
       "\n",
       "  Plotly.plot('plot-5f55a2b1-ca2c-451f-9c3a-06554c49c891', data, layout);\n",
       "})();\n",
       "});\n",
       "      </script>\n",
       "           "
      ]
     },
     "metadata": {},
     "output_type": "display_data"
    },
    {
     "data": {
      "text/plain": [
       "defined \u001b[32mfunction\u001b[39m \u001b[36mtop5anual\u001b[39m\n",
       "\u001b[36mres11_1\u001b[39m: \u001b[32mString\u001b[39m = \u001b[32m\"plot-5f55a2b1-ca2c-451f-9c3a-06554c49c891\"\u001b[39m"
      ]
     },
     "execution_count": 12,
     "metadata": {},
     "output_type": "execute_result"
    }
   ],
   "source": [
    "def top5anual (Año: Int) = {\n",
    "val energiasOrdenadas= balanceAsturias16_24\n",
    "    .filter(date_format(col(\"FechaCompleta\"),\"yyyy\") === Año) //Año\n",
    "    .filter(col(\"Familia\") =!= \"Demanda\")\n",
    "    .filter(!col(\"Tipo\").isin(\"Generación renovable\", \"Generación no renovable\"))\n",
    "    .groupBy($\"Tipo\")\n",
    "    //.groupBy(date_format(col(\"FechaCompleta\"), \"yyyy-MM\").as(\"Mes\"))\n",
    "    .agg(sum(\"Valor\").as[Double].as(\"ValorTotal\"))\n",
    "    .orderBy($\"ValorTotal\".desc)\n",
    "\n",
    "val seqValores = energiasOrdenadas.select($\"ValorTotal\").as[Double].head(7).toSeq\n",
    "val seqTipo = energiasOrdenadas.select($\"Tipo\").as[String].head(7).toSeq\n",
    "val data = Seq(Bar(\n",
    "    seqTipo,\n",
    "    seqValores,\n",
    "))\n",
    "\n",
    "plot(data)\n",
    "}\n",
    "top5anual(2024)"
   ]
  },
  {
   "cell_type": "code",
   "execution_count": 13,
   "metadata": {},
   "outputs": [
    {
     "data": {
      "text/html": [
       "<div>\n",
       "  <span style=\"float: left;\">collect at cmd12.sc:12</span>\n",
       "</div>\n"
      ]
     },
     "metadata": {},
     "output_type": "display_data"
    },
    {
     "data": {
      "text/html": [
       "<div class=\"progress\">\n",
       "  <div class=\"progress-bar\" role=\"progressbar\" style=\"background-color: blue; width: 100%; word-wrap: normal; white-space: nowrap; text-align: center; color: white\" aria-valuenow=\"100\" aria-valuemin=\"0\" aria-valuemax=\"100\">\n",
       "    144 / 144\n",
       "  </div>\n",
       "  <div class=\"progress-bar\" role=\"progressbar\" style=\"background-color: red; width: 0%\" aria-valuenow=\"0\" aria-valuemin=\"0\" aria-valuemax=\"100\"></div>\n",
       "</div>\n"
      ]
     },
     "metadata": {},
     "output_type": "display_data"
    },
    {
     "data": {
      "text/html": [
       "<div>\n",
       "  <span style=\"float: left;\">collect at cmd12.sc:12</span>\n",
       "</div>\n"
      ]
     },
     "metadata": {},
     "output_type": "display_data"
    },
    {
     "data": {
      "text/html": [
       "<div class=\"progress\">\n",
       "  <div class=\"progress-bar\" role=\"progressbar\" style=\"background-color: blue; width: 100%; word-wrap: normal; white-space: nowrap; text-align: center; color: white\" aria-valuenow=\"100\" aria-valuemin=\"0\" aria-valuemax=\"100\">\n",
       "    8 / 8\n",
       "  </div>\n",
       "  <div class=\"progress-bar\" role=\"progressbar\" style=\"background-color: red; width: 0%\" aria-valuenow=\"0\" aria-valuemin=\"0\" aria-valuemax=\"100\"></div>\n",
       "</div>\n"
      ]
     },
     "metadata": {},
     "output_type": "display_data"
    },
    {
     "data": {
      "text/html": [
       "<div>\n",
       "  <span style=\"float: left;\">collect at cmd12.sc:12</span>\n",
       "</div>\n"
      ]
     },
     "metadata": {},
     "output_type": "display_data"
    },
    {
     "data": {
      "text/html": [
       "<div class=\"progress\">\n",
       "  <div class=\"progress-bar\" role=\"progressbar\" style=\"background-color: blue; width: 100%; word-wrap: normal; white-space: nowrap; text-align: center; color: white\" aria-valuenow=\"100\" aria-valuemin=\"0\" aria-valuemax=\"100\">\n",
       "    8 / 8\n",
       "  </div>\n",
       "  <div class=\"progress-bar\" role=\"progressbar\" style=\"background-color: red; width: 0%\" aria-valuenow=\"0\" aria-valuemin=\"0\" aria-valuemax=\"100\"></div>\n",
       "</div>\n"
      ]
     },
     "metadata": {},
     "output_type": "display_data"
    },
    {
     "data": {
      "text/html": [
       "<div>\n",
       "  <span style=\"float: left;\">collect at cmd12.sc:12</span>\n",
       "</div>\n"
      ]
     },
     "metadata": {},
     "output_type": "display_data"
    },
    {
     "data": {
      "text/html": [
       "<div class=\"progress\">\n",
       "  <div class=\"progress-bar\" role=\"progressbar\" style=\"background-color: blue; width: 100%; word-wrap: normal; white-space: nowrap; text-align: center; color: white\" aria-valuenow=\"100\" aria-valuemin=\"0\" aria-valuemax=\"100\">\n",
       "    8 / 8\n",
       "  </div>\n",
       "  <div class=\"progress-bar\" role=\"progressbar\" style=\"background-color: red; width: 0%\" aria-valuenow=\"0\" aria-valuemin=\"0\" aria-valuemax=\"100\"></div>\n",
       "</div>\n"
      ]
     },
     "metadata": {},
     "output_type": "display_data"
    },
    {
     "data": {
      "text/html": [
       "<div>\n",
       "  <span style=\"float: left;\">collect at cmd12.sc:13</span>\n",
       "</div>\n"
      ]
     },
     "metadata": {},
     "output_type": "display_data"
    },
    {
     "data": {
      "text/html": [
       "<div class=\"progress\">\n",
       "  <div class=\"progress-bar\" role=\"progressbar\" style=\"background-color: blue; width: 100%; word-wrap: normal; white-space: nowrap; text-align: center; color: white\" aria-valuenow=\"100\" aria-valuemin=\"0\" aria-valuemax=\"100\">\n",
       "    144 / 144\n",
       "  </div>\n",
       "  <div class=\"progress-bar\" role=\"progressbar\" style=\"background-color: red; width: 0%\" aria-valuenow=\"0\" aria-valuemin=\"0\" aria-valuemax=\"100\"></div>\n",
       "</div>\n"
      ]
     },
     "metadata": {},
     "output_type": "display_data"
    },
    {
     "data": {
      "text/html": [
       "<div>\n",
       "  <span style=\"float: left;\">collect at cmd12.sc:13</span>\n",
       "</div>\n"
      ]
     },
     "metadata": {},
     "output_type": "display_data"
    },
    {
     "data": {
      "text/html": [
       "<div class=\"progress\">\n",
       "  <div class=\"progress-bar\" role=\"progressbar\" style=\"background-color: blue; width: 100%; word-wrap: normal; white-space: nowrap; text-align: center; color: white\" aria-valuenow=\"100\" aria-valuemin=\"0\" aria-valuemax=\"100\">\n",
       "    8 / 8\n",
       "  </div>\n",
       "  <div class=\"progress-bar\" role=\"progressbar\" style=\"background-color: red; width: 0%\" aria-valuenow=\"0\" aria-valuemin=\"0\" aria-valuemax=\"100\"></div>\n",
       "</div>\n"
      ]
     },
     "metadata": {},
     "output_type": "display_data"
    },
    {
     "data": {
      "text/html": [
       "<div>\n",
       "  <span style=\"float: left;\">collect at cmd12.sc:13</span>\n",
       "</div>\n"
      ]
     },
     "metadata": {},
     "output_type": "display_data"
    },
    {
     "data": {
      "text/html": [
       "<div class=\"progress\">\n",
       "  <div class=\"progress-bar\" role=\"progressbar\" style=\"background-color: blue; width: 100%; word-wrap: normal; white-space: nowrap; text-align: center; color: white\" aria-valuenow=\"100\" aria-valuemin=\"0\" aria-valuemax=\"100\">\n",
       "    8 / 8\n",
       "  </div>\n",
       "  <div class=\"progress-bar\" role=\"progressbar\" style=\"background-color: red; width: 0%\" aria-valuenow=\"0\" aria-valuemin=\"0\" aria-valuemax=\"100\"></div>\n",
       "</div>\n"
      ]
     },
     "metadata": {},
     "output_type": "display_data"
    },
    {
     "data": {
      "text/html": [
       "<div>\n",
       "  <span style=\"float: left;\">collect at cmd12.sc:13</span>\n",
       "</div>\n"
      ]
     },
     "metadata": {},
     "output_type": "display_data"
    },
    {
     "data": {
      "text/html": [
       "<div class=\"progress\">\n",
       "  <div class=\"progress-bar\" role=\"progressbar\" style=\"background-color: blue; width: 100%; word-wrap: normal; white-space: nowrap; text-align: center; color: white\" aria-valuenow=\"100\" aria-valuemin=\"0\" aria-valuemax=\"100\">\n",
       "    8 / 8\n",
       "  </div>\n",
       "  <div class=\"progress-bar\" role=\"progressbar\" style=\"background-color: red; width: 0%\" aria-valuenow=\"0\" aria-valuemin=\"0\" aria-valuemax=\"100\"></div>\n",
       "</div>\n"
      ]
     },
     "metadata": {},
     "output_type": "display_data"
    },
    {
     "data": {
      "text/html": [
       "<div>\n",
       "  <span style=\"float: left;\">collect at cmd12.sc:13</span>\n",
       "</div>\n"
      ]
     },
     "metadata": {},
     "output_type": "display_data"
    },
    {
     "data": {
      "text/html": [
       "<div class=\"progress\">\n",
       "  <div class=\"progress-bar\" role=\"progressbar\" style=\"background-color: blue; width: 100%; word-wrap: normal; white-space: nowrap; text-align: center; color: white\" aria-valuenow=\"100\" aria-valuemin=\"0\" aria-valuemax=\"100\">\n",
       "    144 / 144\n",
       "  </div>\n",
       "  <div class=\"progress-bar\" role=\"progressbar\" style=\"background-color: red; width: 0%\" aria-valuenow=\"0\" aria-valuemin=\"0\" aria-valuemax=\"100\"></div>\n",
       "</div>\n"
      ]
     },
     "metadata": {},
     "output_type": "display_data"
    },
    {
     "data": {
      "text/html": [
       "<div>\n",
       "  <span style=\"float: left;\">collect at cmd12.sc:13</span>\n",
       "</div>\n"
      ]
     },
     "metadata": {},
     "output_type": "display_data"
    },
    {
     "data": {
      "text/html": [
       "<div class=\"progress\">\n",
       "  <div class=\"progress-bar\" role=\"progressbar\" style=\"background-color: blue; width: 100%; word-wrap: normal; white-space: nowrap; text-align: center; color: white\" aria-valuenow=\"100\" aria-valuemin=\"0\" aria-valuemax=\"100\">\n",
       "    8 / 8\n",
       "  </div>\n",
       "  <div class=\"progress-bar\" role=\"progressbar\" style=\"background-color: red; width: 0%\" aria-valuenow=\"0\" aria-valuemin=\"0\" aria-valuemax=\"100\"></div>\n",
       "</div>\n"
      ]
     },
     "metadata": {},
     "output_type": "display_data"
    },
    {
     "data": {
      "text/html": [
       "<div>\n",
       "  <span style=\"float: left;\">collect at cmd12.sc:13</span>\n",
       "</div>\n"
      ]
     },
     "metadata": {},
     "output_type": "display_data"
    },
    {
     "data": {
      "text/html": [
       "<div class=\"progress\">\n",
       "  <div class=\"progress-bar\" role=\"progressbar\" style=\"background-color: blue; width: 100%; word-wrap: normal; white-space: nowrap; text-align: center; color: white\" aria-valuenow=\"100\" aria-valuemin=\"0\" aria-valuemax=\"100\">\n",
       "    8 / 8\n",
       "  </div>\n",
       "  <div class=\"progress-bar\" role=\"progressbar\" style=\"background-color: red; width: 0%\" aria-valuenow=\"0\" aria-valuemin=\"0\" aria-valuemax=\"100\"></div>\n",
       "</div>\n"
      ]
     },
     "metadata": {},
     "output_type": "display_data"
    },
    {
     "data": {
      "text/html": [
       "<div>\n",
       "  <span style=\"float: left;\">collect at cmd12.sc:13</span>\n",
       "</div>\n"
      ]
     },
     "metadata": {},
     "output_type": "display_data"
    },
    {
     "data": {
      "text/html": [
       "<div class=\"progress\">\n",
       "  <div class=\"progress-bar\" role=\"progressbar\" style=\"background-color: blue; width: 100%; word-wrap: normal; white-space: nowrap; text-align: center; color: white\" aria-valuenow=\"100\" aria-valuemin=\"0\" aria-valuemax=\"100\">\n",
       "    8 / 8\n",
       "  </div>\n",
       "  <div class=\"progress-bar\" role=\"progressbar\" style=\"background-color: red; width: 0%\" aria-valuenow=\"0\" aria-valuemin=\"0\" aria-valuemax=\"100\"></div>\n",
       "</div>\n"
      ]
     },
     "metadata": {},
     "output_type": "display_data"
    },
    {
     "data": {
      "application/vnd.plotly.v1+json": {
       "data": [
        {
         "name": "Carbón",
         "type": "scatter",
         "x": [
          "2015-12",
          "2016-01",
          "2016-02",
          "2016-03",
          "2016-04",
          "2016-05",
          "2016-06",
          "2016-07",
          "2016-08",
          "2016-09",
          "2016-10",
          "2016-11",
          "2016-12",
          "2017-01",
          "2017-02",
          "2017-03",
          "2017-04",
          "2017-05",
          "2017-06",
          "2017-07",
          "2017-08",
          "2017-09",
          "2017-10",
          "2017-11",
          "2017-12",
          "2018-01",
          "2018-02",
          "2018-03",
          "2018-04",
          "2018-05",
          "2018-06",
          "2018-07",
          "2018-08",
          "2018-09",
          "2018-10",
          "2018-11",
          "2018-12",
          "2019-01",
          "2019-02",
          "2019-03",
          "2019-04",
          "2019-05",
          "2019-06",
          "2019-07",
          "2019-08",
          "2019-09",
          "2019-10",
          "2019-11",
          "2019-12",
          "2020-01",
          "2020-02",
          "2020-03",
          "2020-04",
          "2020-05",
          "2020-06",
          "2020-07",
          "2020-08",
          "2020-09",
          "2020-10",
          "2020-11",
          "2020-12",
          "2021-01",
          "2021-02",
          "2021-03",
          "2021-04",
          "2021-05",
          "2021-06",
          "2021-07",
          "2021-08",
          "2021-09",
          "2021-10",
          "2021-11",
          "2021-12",
          "2022-01",
          "2022-02",
          "2022-03",
          "2022-04",
          "2022-05",
          "2022-06",
          "2022-07",
          "2022-08",
          "2022-09",
          "2022-10",
          "2022-11",
          "2022-12",
          "2023-01",
          "2023-02",
          "2023-03",
          "2023-04",
          "2023-05",
          "2023-06",
          "2023-07",
          "2023-08",
          "2023-09",
          "2023-10",
          "2023-11",
          "2023-12",
          "2024-01",
          "2024-02",
          "2024-03",
          "2024-04"
         ],
         "y": [
          608822.048,
          490673.909,
          486509.03,
          233360.558,
          191977.083,
          478210.673,
          836342.752,
          770813.623,
          896258.59,
          507572.269,
          827558.484,
          1225030.574,
          1208958.454,
          847978.537,
          500796.906,
          446884.431,
          955046.49,
          1057581.957,
          975476.861,
          580838.041,
          655955.268,
          848349.218,
          1133367.728,
          877991.825,
          604167.966,
          522392.421,
          346252.772,
          369849.909,
          496226.738,
          500693.443,
          672685.919,
          836449.236,
          900001.222,
          667332.068,
          890561.911,
          678296.759,
          735444.129,
          416792.144,
          321048.113,
          258142.788,
          303264.19,
          268530.859,
          240114.178,
          222837.176,
          198379.762,
          204056.898,
          228640.048,
          148175.473,
          424169.729,
          410668.809,
          219382.301,
          167364.739,
          152338.546,
          203979.664,
          229766.522,
          226163.891,
          185050.573,
          167848.73,
          235973.657,
          204407.203,
          355768.253,
          185045.251,
          251391.8,
          278777.69,
          275136.082,
          325852.897,
          294038.47,
          328526.734,
          485712.504,
          429933.747,
          527520.039,
          576453.101,
          545731.641,
          471871.506,
          499582.715,
          410506.816,
          279726.143,
          456889.135,
          546365.143,
          573001.331,
          382389.84,
          322896.9,
          233032.39,
          380402.615,
          236892.329,
          265761.743,
          254224.835,
          205147.307,
          232501.168,
          284209.651,
          237655.448,
          249672.262,
          243448.654,
          289370.899,
          224774.326,
          215193.364,
          223877.037,
          205753.262,
          210834.039,
          216569.44,
          210887.503
         ]
        },
        {
         "name": "Generación renovable",
         "type": "scatter",
         "x": [
          "2015-12",
          "2016-01",
          "2016-02",
          "2016-03",
          "2016-04",
          "2016-05",
          "2016-06",
          "2016-07",
          "2016-08",
          "2016-09",
          "2016-10",
          "2016-11",
          "2016-12",
          "2017-01",
          "2017-02",
          "2017-03",
          "2017-04",
          "2017-05",
          "2017-06",
          "2017-07",
          "2017-08",
          "2017-09",
          "2017-10",
          "2017-11",
          "2017-12",
          "2018-01",
          "2018-02",
          "2018-03",
          "2018-04",
          "2018-05",
          "2018-06",
          "2018-07",
          "2018-08",
          "2018-09",
          "2018-10",
          "2018-11",
          "2018-12",
          "2019-01",
          "2019-02",
          "2019-03",
          "2019-04",
          "2019-05",
          "2019-06",
          "2019-07",
          "2019-08",
          "2019-09",
          "2019-10",
          "2019-11",
          "2019-12",
          "2020-01",
          "2020-02",
          "2020-03",
          "2020-04",
          "2020-05",
          "2020-06",
          "2020-07",
          "2020-08",
          "2020-09",
          "2020-10",
          "2020-11",
          "2020-12",
          "2021-01",
          "2021-02",
          "2021-03",
          "2021-04",
          "2021-05",
          "2021-06",
          "2021-07",
          "2021-08",
          "2021-09",
          "2021-10",
          "2021-11",
          "2021-12",
          "2022-01",
          "2022-02",
          "2022-03",
          "2022-04",
          "2022-05",
          "2022-06",
          "2022-07",
          "2022-08",
          "2022-09",
          "2022-10",
          "2022-11",
          "2022-12",
          "2023-01",
          "2023-02",
          "2023-03",
          "2023-04",
          "2023-05",
          "2023-06",
          "2023-07",
          "2023-08",
          "2023-09",
          "2023-10",
          "2023-11",
          "2023-12",
          "2024-01",
          "2024-02",
          "2024-03",
          "2024-04"
         ],
         "y": [
          444968.94700000004,
          458266.99799999996,
          541611.069,
          400407.341,
          287539.055,
          182931.775,
          114662.69199999998,
          123423.043,
          105356.64,
          108138.857,
          202341.37600000002,
          134107.81300000002,
          187219.06799999997,
          280344.02300000004,
          285197.456,
          180706.09900000002,
          156666.969,
          111506.46399999999,
          106564.26500000001,
          102758.044,
          131664.477,
          119604.559,
          148140.97799999997,
          364574.788,
          407600.30000000005,
          417550.193,
          553806.412,
          452507.26200000005,
          276749.052,
          258647.208,
          175354.82,
          132753.229,
          118565.36300000001,
          178485.36899999998,
          308098.72500000003,
          319247.263,
          329782.655,
          345067.654,
          287714.01499999996,
          273142.51900000003,
          213825.909,
          135484.841,
          132217.392,
          106111.93299999999,
          169505.791,
          200742.718,
          578225.626,
          586422.486,
          354514.32800000004,
          287123.55700000003,
          320705.644,
          234591.64099999997,
          227896.089,
          165060.91100000002,
          111607.043,
          106840.736,
          127335.58499999999,
          300118.555,
          194112.63799999998,
          487619.33400000003,
          444140.591,
          505932.54600000003,
          286304.246,
          190587.80899999998,
          222106.47900000002,
          193555.62600000002,
          143453.15600000002,
          130948.867,
          132830.434,
          189507.355,
          264947.80700000003,
          537766.784,
          290958.328,
          177994.80599999998,
          264919.549,
          247485.656,
          189242.843,
          154427.90399999998,
          143492.411,
          140968.18,
          138852.425,
          217331.46399999998,
          325972.701,
          307676.096,
          516185.71800000005,
          278821.488,
          359341.70200000005,
          193127.36299999998,
          173789.315,
          126107.29900000001,
          93165.995,
          112638.10700000002,
          145232.96999999997,
          285204.689,
          470445.85599999997,
          383535.045,
          341250.081,
          284672.532,
          422429.86500000005,
          253619.78699999998,
          240992.77599999998
         ]
        }
       ],
       "layout": {
        "autosize": true,
        "xaxis": {
         "autorange": true,
         "range": [
          "2015-12-01",
          "2024-04-01"
         ],
         "type": "date"
        },
        "yaxis": {
         "autorange": true,
         "range": [
          30284.629500000003,
          1287911.9395
         ],
         "type": "linear"
        }
       }
      },
      "image/png": "[encoded data removed]",
      "text/html": [
       "<div class=\"chart\" id=\"plot-74edf0ab-53f7-4cca-9a86-9f023690e89d\"></div>\n",
       "<script>require(['plotly'], function(Plotly) {\n",
       "  (function () {\n",
       "  var data0 = {\"x\":[\"2015-12\",\"2016-01\",\"2016-02\",\"2016-03\",\"2016-04\",\"2016-05\",\"2016-06\",\"2016-07\",\"2016-08\",\"2016-09\",\"2016-10\",\"2016-11\",\"2016-12\",\"2017-01\",\"2017-02\",\"2017-03\",\"2017-04\",\"2017-05\",\"2017-06\",\"2017-07\",\"2017-08\",\"2017-09\",\"2017-10\",\"2017-11\",\"2017-12\",\"2018-01\",\"2018-02\",\"2018-03\",\"2018-04\",\"2018-05\",\"2018-06\",\"2018-07\",\"2018-08\",\"2018-09\",\"2018-10\",\"2018-11\",\"2018-12\",\"2019-01\",\"2019-02\",\"2019-03\",\"2019-04\",\"2019-05\",\"2019-06\",\"2019-07\",\"2019-08\",\"2019-09\",\"2019-10\",\"2019-11\",\"2019-12\",\"2020-01\",\"2020-02\",\"2020-03\",\"2020-04\",\"2020-05\",\"2020-06\",\"2020-07\",\"2020-08\",\"2020-09\",\"2020-10\",\"2020-11\",\"2020-12\",\"2021-01\",\"2021-02\",\"2021-03\",\"2021-04\",\"2021-05\",\"2021-06\",\"2021-07\",\"2021-08\",\"2021-09\",\"2021-10\",\"2021-11\",\"2021-12\",\"2022-01\",\"2022-02\",\"2022-03\",\"2022-04\",\"2022-05\",\"2022-06\",\"2022-07\",\"2022-08\",\"2022-09\",\"2022-10\",\"2022-11\",\"2022-12\",\"2023-01\",\"2023-02\",\"2023-03\",\"2023-04\",\"2023-05\",\"2023-06\",\"2023-07\",\"2023-08\",\"2023-09\",\"2023-10\",\"2023-11\",\"2023-12\",\"2024-01\",\"2024-02\",\"2024-03\",\"2024-04\"],\"name\":\"Carbón\",\"y\":[608822.048,490673.909,486509.03,233360.558,191977.083,478210.673,836342.752,770813.623,896258.59,507572.269,827558.484,1225030.574,1208958.454,847978.537,500796.906,446884.431,955046.49,1057581.957,975476.861,580838.041,655955.268,848349.218,1133367.728,877991.825,604167.966,522392.421,346252.772,369849.909,496226.738,500693.443,672685.919,836449.236,900001.222,667332.068,890561.911,678296.759,735444.129,416792.144,321048.113,258142.788,303264.19,268530.859,240114.178,222837.176,198379.762,204056.898,228640.048,148175.473,424169.729,410668.809,219382.301,167364.739,152338.546,203979.664,229766.522,226163.891,185050.573,167848.73,235973.657,204407.203,355768.253,185045.251,251391.8,278777.69,275136.082,325852.897,294038.47,328526.734,485712.504,429933.747,527520.039,576453.101,545731.641,471871.506,499582.715,410506.816,279726.143,456889.135,546365.143,573001.331,382389.84,322896.9,233032.39,380402.615,236892.329,265761.743,254224.835,205147.307,232501.168,284209.651,237655.448,249672.262,243448.654,289370.899,224774.326,215193.364,223877.037,205753.262,210834.039,216569.44,210887.503],\"type\":\"scatter\"};\n",
       "  var data1 = {\"x\":[\"2015-12\",\"2016-01\",\"2016-02\",\"2016-03\",\"2016-04\",\"2016-05\",\"2016-06\",\"2016-07\",\"2016-08\",\"2016-09\",\"2016-10\",\"2016-11\",\"2016-12\",\"2017-01\",\"2017-02\",\"2017-03\",\"2017-04\",\"2017-05\",\"2017-06\",\"2017-07\",\"2017-08\",\"2017-09\",\"2017-10\",\"2017-11\",\"2017-12\",\"2018-01\",\"2018-02\",\"2018-03\",\"2018-04\",\"2018-05\",\"2018-06\",\"2018-07\",\"2018-08\",\"2018-09\",\"2018-10\",\"2018-11\",\"2018-12\",\"2019-01\",\"2019-02\",\"2019-03\",\"2019-04\",\"2019-05\",\"2019-06\",\"2019-07\",\"2019-08\",\"2019-09\",\"2019-10\",\"2019-11\",\"2019-12\",\"2020-01\",\"2020-02\",\"2020-03\",\"2020-04\",\"2020-05\",\"2020-06\",\"2020-07\",\"2020-08\",\"2020-09\",\"2020-10\",\"2020-11\",\"2020-12\",\"2021-01\",\"2021-02\",\"2021-03\",\"2021-04\",\"2021-05\",\"2021-06\",\"2021-07\",\"2021-08\",\"2021-09\",\"2021-10\",\"2021-11\",\"2021-12\",\"2022-01\",\"2022-02\",\"2022-03\",\"2022-04\",\"2022-05\",\"2022-06\",\"2022-07\",\"2022-08\",\"2022-09\",\"2022-10\",\"2022-11\",\"2022-12\",\"2023-01\",\"2023-02\",\"2023-03\",\"2023-04\",\"2023-05\",\"2023-06\",\"2023-07\",\"2023-08\",\"2023-09\",\"2023-10\",\"2023-11\",\"2023-12\",\"2024-01\",\"2024-02\",\"2024-03\",\"2024-04\"],\"name\":\"Generación renovable\",\"y\":[444968.94700000004,458266.99799999996,541611.069,400407.341,287539.055,182931.775,114662.69199999998,123423.043,105356.64,108138.857,202341.37600000002,134107.81300000002,187219.06799999997,280344.02300000004,285197.456,180706.09900000002,156666.969,111506.46399999999,106564.26500000001,102758.044,131664.477,119604.559,148140.97799999997,364574.788,407600.30000000005,417550.193,553806.412,452507.26200000005,276749.052,258647.208,175354.82,132753.229,118565.36300000001,178485.36899999998,308098.72500000003,319247.263,329782.655,345067.654,287714.01499999996,273142.51900000003,213825.909,135484.841,132217.392,106111.93299999999,169505.791,200742.718,578225.626,586422.486,354514.32800000004,287123.55700000003,320705.644,234591.64099999997,227896.089,165060.91100000002,111607.043,106840.736,127335.58499999999,300118.555,194112.63799999998,487619.33400000003,444140.591,505932.54600000003,286304.246,190587.80899999998,222106.47900000002,193555.62600000002,143453.15600000002,130948.867,132830.434,189507.355,264947.80700000003,537766.784,290958.328,177994.80599999998,264919.549,247485.656,189242.843,154427.90399999998,143492.411,140968.18,138852.425,217331.46399999998,325972.701,307676.096,516185.71800000005,278821.488,359341.70200000005,193127.36299999998,173789.315,126107.29900000001,93165.995,112638.10700000002,145232.96999999997,285204.689,470445.85599999997,383535.045,341250.081,284672.532,422429.86500000005,253619.78699999998,240992.77599999998],\"type\":\"scatter\"};\n",
       "\n",
       "  var data = [data0, data1];\n",
       "  var layout = {};\n",
       "\n",
       "  Plotly.plot('plot-74edf0ab-53f7-4cca-9a86-9f023690e89d', data, layout);\n",
       "})();\n",
       "});\n",
       "      </script>\n",
       "           "
      ]
     },
     "metadata": {},
     "output_type": "display_data"
    },
    {
     "data": {
      "text/plain": [
       "defined \u001b[32mfunction\u001b[39m \u001b[36mAnalisisEnergiasMensual\u001b[39m\n",
       "\u001b[36mEnergiasParaAnalizar\u001b[39m: \u001b[32mSeq\u001b[39m[\u001b[32mString\u001b[39m] = \u001b[33mList\u001b[39m(\n",
       "  \u001b[32m\"Carb\\u00f3n\"\u001b[39m,\n",
       "  \u001b[32m\"Generaci\\u00f3n renovable\"\u001b[39m\n",
       ")"
      ]
     },
     "execution_count": 13,
     "metadata": {},
     "output_type": "execute_result"
    }
   ],
   "source": [
    "def AnalisisEnergiasMensual(listaEnergias: Seq[String], df: DataFrame, año: String): Unit = {\n",
    "  val dataFrameBalance = df.filter(date_format(col(\"FechaCompleta\"),\"yyyy\") === año) //Elegimos año\n",
    "  // Agrupar y calcular la media para datos renovables\n",
    "  def calcularMediaMensual(df1: DataFrame, tipo: String): DataFrame = {\n",
    "    df1.filter(col(\"Tipo\") === tipo)\n",
    "      .groupBy(date_format(col(\"FechaCompleta\"), \"yyyy-MM\").as(\"Mes\"))\n",
    "      .agg(avg(\"Valor\").as(\"ValorPromedio\"))\n",
    "      .orderBy(\"Mes\")\n",
    "  }\n",
    "\n",
    "  val valores = listaEnergias.map(tipoEnergia => calcularMediaMensual(df, tipoEnergia))\n",
    "  val seqFechas = valores.head.select(\"Mes\").as[String].collect.toSeq\n",
    "  val seqValores = valores.map(valor => valor.select(\"ValorPromedio\").as[Double].collect.toSeq)\n",
    "\n",
    "  val traces = listaEnergias.zip(seqValores).map { case (nombre, seqValor) =>\n",
    "    Scatter(seqFechas, seqValor, name = nombre)\n",
    "  }\n",
    "\n",
    "  val data = traces\n",
    "  plot(data)\n",
    "}\n",
    "\n",
    "val EnergiasParaAnalizar = Seq(\"Carbón\",\"Generación renovable\")\n",
    "\n",
    "AnalisisEnergiasMensual(EnergiasParaAnalizar, balanceAsturias16_24, \"2024\")"
   ]
  },
  {
   "cell_type": "code",
   "execution_count": null,
   "metadata": {},
   "outputs": [
    {
     "data": {
      "text/html": [
       "<div>\n",
       "  <span style=\"float: left; word-wrap: normal; white-space: nowrap; text-align: center\">collect at cmd13.sc:1</span>\n",
       "  <span style=\"float: right; word-wrap: normal; white-space: nowrap; text-align: center\"><a href=\"#\" onclick=\"cancelStage(67);\">(kill)</a></span>\n",
       "</div>\n",
       "<br>\n"
      ]
     },
     "metadata": {},
     "output_type": "display_data"
    },
    {
     "data": {
      "text/html": [
       "<div class=\"progress\">\n",
       "  <div class=\"progress-bar\" role=\"progressbar\" style=\"background-color: blue; width: 69%; word-wrap: normal; white-space: nowrap; text-align: center; color: white\" aria-valuenow=\"69\" aria-valuemin=\"0\" aria-valuemax=\"100\">\n",
       "    99 + 17 / 144\n",
       "  </div>\n",
       "  <div class=\"progress-bar\" role=\"progressbar\" style=\"background-color: red; width: 12%\" aria-valuenow=\"12\" aria-valuemin=\"0\" aria-valuemax=\"100\"></div>\n",
       "</div>\n"
      ]
     },
     "metadata": {},
     "output_type": "display_data"
    }
   ],
   "source": [
    "balanceAsturias16_24.select(\"Tipo\").distinct.collect\n"
   ]
  },
  {
   "cell_type": "code",
   "execution_count": 21,
   "metadata": {},
   "outputs": [
    {
     "data": {
      "text/plain": [
       "defined \u001b[32mfunction\u001b[39m \u001b[36mimprimirPorcentajeEnergia\u001b[39m"
      ]
     },
     "execution_count": 21,
     "metadata": {},
     "output_type": "execute_result"
    }
   ],
   "source": [
    "def imprimirPorcentajeEnergia(df: DataFrame, año: String): Unit = {\n",
    "    val dfFiltrado = df.filter(date_format(col(\"FechaCompleta\"), \"yyyy\") === año)  \n",
    "\n",
    "// Calcular la suma de energías renovables en ese año\n",
    "    val totalRenovables = dfFiltrado\n",
    "    .filter(col(\"Tipo\") === \"Generación renovable\")\n",
    "    .agg(sum(\"Valor\"))\n",
    "    .as[Double]\n",
    "    .first()\n",
    "    \n",
    "  // Calcular la suma de energías no renovables en ese año\n",
    "    val totalNoRenovables = dfFiltrado\n",
    "    .filter(col(\"Tipo\") === \"Generación no renovable\")\n",
    "    .agg(sum(\"Valor\"))\n",
    "    .as[Double]\n",
    "    .first()\n",
    "    \n",
    "    val totalEnergia = dfFiltrado\n",
    "    .filter(col(\"Tipo\") === \"Demanda en b.c.\")\n",
    "    .agg(sum(\"Valor\"))\n",
    "    .as[Double]\n",
    "    .first()\n",
    "\n",
    "    val totalConsumoBombeo = dfFiltrado\n",
    "    .filter(col(\"Tipo\") === \"Consumos en bombeo\")\n",
    "    .agg(sum(\"Valor\"))\n",
    "    .as[Double]\n",
    "    .first()\n",
    "\n",
    "    val totalSaldoIntercambios = dfFiltrado\n",
    "    .filter(col(\"Tipo\") === \"Saldo de intercambios\")\n",
    "    .agg(sum(\"Valor\"))\n",
    "    .as[Double]\n",
    "    .first()\n",
    " \n",
    "    val totalMasBombeo = (totalEnergia - totalConsumoBombeo )\n",
    "    // Evitar división por cero\n",
    "    if (totalMasBombeo != 0) {\n",
    "        // Calcular los porcentajes\n",
    "        val porcentajeRenovables = totalRenovables / totalMasBombeo * 100\n",
    "        val porcentajeNoRenovables = totalNoRenovables / totalMasBombeo * 100\n",
    "        val porcentajeSaldoIntercambios = totalSaldoIntercambios / totalMasBombeo * 100\n",
    "\n",
    "        // Imprimir los resultados\n",
    "        println(f\"Porcentaje de energía renovable en $año: $porcentajeRenovables%.2f%%\")\n",
    "        println(f\"Porcentaje de energía no renovable en $año: $porcentajeNoRenovables%.2f%%\")\n",
    "        println(f\"Porcentaje de saldo de intercambios en $año: $porcentajeSaldoIntercambios%.2f%%\")\n",
    "  } else {\n",
    "    println(s\"No se puede calcular el porcentaje para el año $año debido a que el total de energía disponible es 0.\")\n",
    "  }\n",
    "    \n",
    "}"
   ]
  },
  {
   "cell_type": "code",
   "execution_count": null,
   "metadata": {},
   "outputs": [
    {
     "data": {
      "text/html": [
       "<div>\n",
       "  <span style=\"float: left;\">first at cmd20.sc:8</span>\n",
       "</div>\n"
      ]
     },
     "metadata": {},
     "output_type": "display_data"
    },
    {
     "data": {
      "text/html": [
       "<div class=\"progress\">\n",
       "  <div class=\"progress-bar\" role=\"progressbar\" style=\"background-color: blue; width: 100%; word-wrap: normal; white-space: nowrap; text-align: center; color: white\" aria-valuenow=\"100\" aria-valuemin=\"0\" aria-valuemax=\"100\">\n",
       "    144 / 144\n",
       "  </div>\n",
       "  <div class=\"progress-bar\" role=\"progressbar\" style=\"background-color: red; width: 0%\" aria-valuenow=\"0\" aria-valuemin=\"0\" aria-valuemax=\"100\"></div>\n",
       "</div>\n"
      ]
     },
     "metadata": {},
     "output_type": "display_data"
    },
    {
     "data": {
      "text/html": [
       "<div>\n",
       "  <span style=\"float: left;\">first at cmd20.sc:8</span>\n",
       "</div>\n"
      ]
     },
     "metadata": {},
     "output_type": "display_data"
    },
    {
     "data": {
      "text/html": [
       "<div class=\"progress\">\n",
       "  <div class=\"progress-bar\" role=\"progressbar\" style=\"background-color: blue; width: 100%; word-wrap: normal; white-space: nowrap; text-align: center; color: white\" aria-valuenow=\"100\" aria-valuemin=\"0\" aria-valuemax=\"100\">\n",
       "    1 / 1\n",
       "  </div>\n",
       "  <div class=\"progress-bar\" role=\"progressbar\" style=\"background-color: red; width: 0%\" aria-valuenow=\"0\" aria-valuemin=\"0\" aria-valuemax=\"100\"></div>\n",
       "</div>\n"
      ]
     },
     "metadata": {},
     "output_type": "display_data"
    },
    {
     "data": {
      "text/html": [
       "<div>\n",
       "  <span style=\"float: left; word-wrap: normal; white-space: nowrap; text-align: center\">first at cmd20.sc:15</span>\n",
       "  <span style=\"float: right; word-wrap: normal; white-space: nowrap; text-align: center\"><a href=\"#\" onclick=\"cancelStage(98);\">(kill)</a></span>\n",
       "</div>\n",
       "<br>\n"
      ]
     },
     "metadata": {},
     "output_type": "display_data"
    },
    {
     "data": {
      "text/html": [
       "<div class=\"progress\">\n",
       "  <div class=\"progress-bar\" role=\"progressbar\" style=\"background-color: blue; width: 3%; word-wrap: normal; white-space: nowrap; text-align: center; color: white\" aria-valuenow=\"3\" aria-valuemin=\"0\" aria-valuemax=\"100\">\n",
       "    4 + 17 / 144\n",
       "  </div>\n",
       "  <div class=\"progress-bar\" role=\"progressbar\" style=\"background-color: red; width: 12%\" aria-valuenow=\"12\" aria-valuemin=\"0\" aria-valuemax=\"100\"></div>\n",
       "</div>\n"
      ]
     },
     "metadata": {},
     "output_type": "display_data"
    }
   ],
   "source": [
    "imprimirPorcentajeEnergia(balanceAsturias16_24, \"2021\")"
   ]
  },
  {
   "cell_type": "code",
   "execution_count": null,
   "metadata": {},
   "outputs": [],
   "source": []
  }
 ],
 "metadata": {
  "kernelspec": {
   "display_name": "Scala 2.12",
   "language": "scala",
   "name": "scala212"
  },
  "language_info": {
   "codemirror_mode": "text/x-scala",
   "file_extension": ".scala",
   "mimetype": "text/x-scala",
   "name": "scala",
   "nbconvert_exporter": "script",
   "version": "2.12.10"
  }
 },
 "nbformat": 4,
 "nbformat_minor": 4
}
