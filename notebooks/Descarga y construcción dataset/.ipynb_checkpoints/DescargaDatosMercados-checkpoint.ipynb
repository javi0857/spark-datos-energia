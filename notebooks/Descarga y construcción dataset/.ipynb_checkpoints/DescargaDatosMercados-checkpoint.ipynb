{
 "cells": [
  {
   "cell_type": "code",
   "execution_count": 1,
   "metadata": {},
   "outputs": [
    {
     "data": {
      "text/plain": [
       "\u001b[32mimport \u001b[39m\u001b[36m$ivy.$                                  \n",
       "\n",
       "\n",
       "\u001b[39m\n",
       "\u001b[32mimport \u001b[39m\u001b[36morg.apache.spark.sql._\n",
       "\u001b[39m\n",
       "\u001b[32mimport \u001b[39m\u001b[36morg.apache.spark.sql.functions._\n",
       "\n",
       "\n",
       "//Reducir numero logs\n",
       "\u001b[39m\n",
       "\u001b[32mimport \u001b[39m\u001b[36morg.apache.log4j.{Level, Logger}\n",
       "\u001b[39m\n",
       "\u001b[32mimport \u001b[39m\u001b[36m$ivy.$                                                                        \n",
       "\u001b[39m\n",
       "\u001b[32mimport \u001b[39m\u001b[36msttp.client.quick.{quickRequest, UriContext, backend}\n",
       "\u001b[39m\n",
       "\u001b[32mimport \u001b[39m\u001b[36msttp.client.asynchttpclient.monix._\n",
       "\n",
       "\n",
       "//Sttp para realizar request\n",
       "\u001b[39m\n",
       "\u001b[32mimport \u001b[39m\u001b[36m$ivy.$                                                                        \n",
       "\u001b[39m\n",
       "\u001b[32mimport \u001b[39m\u001b[36msttp.client.quick.{quickRequest, UriContext, backend}\n",
       "\u001b[39m\n",
       "\u001b[32mimport \u001b[39m\u001b[36msttp.client.asynchttpclient.monix._\n",
       "\u001b[39m\n",
       "\u001b[32mimport \u001b[39m\u001b[36msttp.client.basicRequest\n",
       "\n",
       "//For adding extra dependenies\n",
       "\u001b[39m\n",
       "\u001b[32mimport \u001b[39m\u001b[36m$ivy.$                               \n",
       "\n",
       "//Plotly\n",
       "\u001b[39m\n",
       "\u001b[32mimport \u001b[39m\u001b[36m$ivy.$                                      \n",
       "\u001b[39m\n",
       "\u001b[32mimport \u001b[39m\u001b[36mplotly._, plotly.element._, plotly.layout._, plotly.Almond._\u001b[39m"
      ]
     },
     "execution_count": 1,
     "metadata": {},
     "output_type": "execute_result"
    }
   ],
   "source": [
    "import $ivy.`org.apache.spark::spark-sql:2.4.3`\n",
    "\n",
    "\n",
    "import org.apache.spark.sql._\n",
    "import org.apache.spark.sql.functions._\n",
    "\n",
    "\n",
    "//Reducir numero logs\n",
    "import org.apache.log4j.{Level, Logger}\n",
    "Logger.getLogger(\"org\").setLevel(Level.OFF)\n",
    "\n",
    "\n",
    "//Circe para trabajar con JSON\n",
    "import $ivy.`com.softwaremill.sttp.client::async-http-client-backend-monix:2.0.0-RC2`\n",
    "import sttp.client.quick.{quickRequest, UriContext, backend}\n",
    "import sttp.client.asynchttpclient.monix._\n",
    "\n",
    "\n",
    "//Sttp para realizar request\n",
    "import $ivy.`com.softwaremill.sttp.client::async-http-client-backend-monix:2.0.0-RC2`\n",
    "import sttp.client.quick.{quickRequest, UriContext, backend}\n",
    "import sttp.client.asynchttpclient.monix._\n",
    "import sttp.client.basicRequest\n",
    "\n",
    "//For adding extra dependenies\n",
    "import $ivy.`org.typelevel::cats-core:1.6.0`\n",
    "\n",
    "//Plotly\n",
    "import $ivy.`org.plotly-scala::plotly-almond:0.7.1`\n",
    "import plotly._, plotly.element._, plotly.layout._, plotly.Almond._"
   ]
  },
  {
   "cell_type": "code",
   "execution_count": 2,
   "metadata": {},
   "outputs": [
    {
     "name": "stdout",
     "output_type": "stream",
     "text": [
      "Loading spark-stubs\n",
      "Getting spark JARs\n",
      "Creating SparkSession\n"
     ]
    },
    {
     "name": "stderr",
     "output_type": "stream",
     "text": [
      "Using Spark's default log4j profile: org/apache/spark/log4j-defaults.properties\n"
     ]
    },
    {
     "data": {
      "text/html": [
       "<a href=\"http://bdb2897c97e3:4041\">Spark UI</a>"
      ]
     },
     "metadata": {},
     "output_type": "display_data"
    },
    {
     "data": {
      "text/plain": [
       "\u001b[36mspark\u001b[39m: \u001b[32mSparkSession\u001b[39m = org.apache.spark.sql.SparkSession@56c36a9d\n",
       "\u001b[32mimport \u001b[39m\u001b[36mspark.implicits._\n",
       "\u001b[39m"
      ]
     },
     "execution_count": 2,
     "metadata": {},
     "output_type": "execute_result"
    }
   ],
   "source": [
    "//Iniciamos session de Spark\n",
    "val spark = {\n",
    "  NotebookSparkSession.builder()\n",
    "    .master(\"local[*]\")\n",
    "    .getOrCreate()\n",
    "}\n",
    "import spark.implicits._\n"
   ]
  },
  {
   "cell_type": "code",
   "execution_count": 3,
   "metadata": {},
   "outputs": [
    {
     "data": {
      "text/plain": [
       "defined \u001b[32mfunction\u001b[39m \u001b[36mcreateUri\u001b[39m\n",
       "defined \u001b[32mfunction\u001b[39m \u001b[36mgetDataApi\u001b[39m\n",
       "defined \u001b[32mfunction\u001b[39m \u001b[36mresponseToDF\u001b[39m"
      ]
     },
     "execution_count": 3,
     "metadata": {},
     "output_type": "execute_result"
    }
   ],
   "source": [
    "//Crear URL\n",
    "def createUri(category: String, widget: String, start_date: String, end_date: String, time_trunc: String, lang: String, \n",
    "              geo_trunc: String = \"\", geo_limit: String = \"\", geo_ids: String = \"\"): String = {\n",
    "  val baseUrl = s\"https://apidatos.ree.es/$lang/datos/$category/$widget\"\n",
    "  \n",
    "// Crear un mapa con los parámetros obligatorios y opcionales\n",
    "  val params = Map(\n",
    "    \"start_date\" -> start_date,\n",
    "    \"end_date\" -> end_date,\n",
    "    \"time_trunc\" -> time_trunc,\n",
    "    \"geo_trunc\" -> geo_trunc,\n",
    "    \"geo_limit\" -> geo_limit,\n",
    "    \"geo_ids\" -> geo_ids\n",
    "  ).filter { case (_, v) => v.nonEmpty } // Filtrar los parámetros que no están vacíos\n",
    "\n",
    "//Especifico el orden concreto de los paramtros ya que, Scala map no te garantiza el orden\n",
    "  val orderedKeys = Seq(\"start_date\", \"end_date\", \"time_trunc\", \"geo_trunc\", \"geo_limit\", \"geo_ids\")\n",
    "\n",
    "// Unir los parámetros en una cadena\n",
    "  val queryString = orderedKeys.flatMap(key => params.get(key).map(value => s\"$key=$value\")).mkString(\"&\")\n",
    "  \n",
    "  s\"$baseUrl?$queryString\"\n",
    "}\n",
    "\n",
    "//Lanzar llamada y obtener guardar datos\n",
    "def getDataApi(apiUrl: String): Either[String, String] = {\n",
    " \n",
    "    val newRequest = basicRequest.get(uri\"$apiUrl\")\n",
    "    val response = newRequest.send()\n",
    "  \n",
    "  response.body match {\n",
    "    case Right(body) => \n",
    "      Right(body)\n",
    "      \n",
    "    case Left(error) => \n",
    "      Left(s\"Error fetching data: $error\")\n",
    "  }\n",
    "}\n",
    "\n",
    "// Transformar response a DataFrame\n",
    "def responseToDF(response: Either[String, String]): DataFrame = {\n",
    "    response match {\n",
    "    case Right(body) => \n",
    "        val rdd = spark.sparkContext.parallelize(Seq(body))\n",
    "        spark.read.json(rdd)\n",
    "    case Left(error) => \n",
    "        println(error)\n",
    "        spark.emptyDataFrame\n",
    "    }\n",
    "}\n"
   ]
  },
  {
   "cell_type": "markdown",
   "metadata": {},
   "source": [
    "### Definición metodo de descarga dinámica\n",
    "\n",
    "Para el método de creación de URIs en este caso hacemos una modificación ya que la poder tener información por horas el rango máximo de respuesta de REDataApi es mensual."
   ]
  },
  {
   "cell_type": "code",
   "execution_count": 4,
   "metadata": {},
   "outputs": [
    {
     "data": {
      "text/plain": [
       "\u001b[32mimport \u001b[39m\u001b[36mjava.time.format.DateTimeFormatter\n",
       "\u001b[39m\n",
       "\u001b[32mimport \u001b[39m\u001b[36mjava.time.LocalDate\n",
       "\n",
       "\u001b[39m\n",
       "\u001b[36mcategory\u001b[39m: \u001b[32mString\u001b[39m = \u001b[32m\"mercados\"\u001b[39m\n",
       "\u001b[36mwidget\u001b[39m: \u001b[32mString\u001b[39m = \u001b[32m\"precios-mercados-tiempo-real\"\u001b[39m\n",
       "\u001b[36mtime_trunc\u001b[39m: \u001b[32mString\u001b[39m = \u001b[32m\"hour\"\u001b[39m\n",
       "\u001b[36mlang\u001b[39m: \u001b[32mString\u001b[39m = \u001b[32m\"es\"\u001b[39m\n",
       "\u001b[36mstartYear\u001b[39m: \u001b[32mInt\u001b[39m = \u001b[32m2024\u001b[39m\n",
       "\u001b[36mendYear\u001b[39m: \u001b[32mInt\u001b[39m = \u001b[32m2024\u001b[39m\n",
       "defined \u001b[32mfunction\u001b[39m \u001b[36mcrearRango\u001b[39m\n",
       "\u001b[36murisMercados\u001b[39m: \u001b[32mSeq\u001b[39m[\u001b[32mString\u001b[39m] = \u001b[33mVector\u001b[39m(\n",
       "  \u001b[32m\"https://apidatos.ree.es/es/datos/mercados/precios-mercados-tiempo-real?start_date=2024-01-01T00:00&end_date=2024-01-31T23:59&time_trunc=hour\"\u001b[39m,\n",
       "  \u001b[32m\"https://apidatos.ree.es/es/datos/mercados/precios-mercados-tiempo-real?start_date=2024-02-01T00:00&end_date=2024-02-29T23:59&time_trunc=hour\"\u001b[39m,\n",
       "  \u001b[32m\"https://apidatos.ree.es/es/datos/mercados/precios-mercados-tiempo-real?start_date=2024-03-01T00:00&end_date=2024-03-31T23:59&time_trunc=hour\"\u001b[39m,\n",
       "  \u001b[32m\"https://apidatos.ree.es/es/datos/mercados/precios-mercados-tiempo-real?start_date=2024-04-01T00:00&end_date=2024-04-30T23:59&time_trunc=hour\"\u001b[39m,\n",
       "  \u001b[32m\"https://apidatos.ree.es/es/datos/mercados/precios-mercados-tiempo-real?start_date=2024-05-01T00:00&end_date=2024-05-31T23:59&time_trunc=hour\"\u001b[39m,\n",
       "  \u001b[32m\"https://apidatos.ree.es/es/datos/mercados/precios-mercados-tiempo-real?start_date=2024-06-01T00:00&end_date=2024-06-30T23:59&time_trunc=hour\"\u001b[39m,\n",
       "  \u001b[32m\"https://apidatos.ree.es/es/datos/mercados/precios-mercados-tiempo-real?start_date=2024-07-01T00:00&end_date=2024-07-31T23:59&time_trunc=hour\"\u001b[39m,\n",
       "  \u001b[32m\"https://apidatos.ree.es/es/datos/mercados/precios-mercados-tiempo-real?start_date=2024-08-01T00:00&end_date=2024-08-31T23:59&time_trunc=hour\"\u001b[39m,\n",
       "  \u001b[32m\"https://apidatos.ree.es/es/datos/mercados/precios-mercados-tiempo-real?start_date=2024-09-01T00:00&end_date=2024-09-30T23:59&time_trunc=hour\"\u001b[39m,\n",
       "  \u001b[32m\"https://apidatos.ree.es/es/datos/mercados/precios-mercados-tiempo-real?start_date=2024-10-01T00:00&end_date=2024-10-31T23:59&time_trunc=hour\"\u001b[39m,\n",
       "  \u001b[32m\"https://apidatos.ree.es/es/datos/mercados/precios-mercados-tiempo-real?start_date=2024-11-01T00:00&end_date=2024-11-30T23:59&time_trunc=hour\"\u001b[39m,\n",
       "  \u001b[32m\"https://apidatos.ree.es/es/datos/mercados/precios-mercados-tiempo-real?start_date=2024-12-01T00:00&end_date=2024-12-31T23:59&time_trunc=hour\"\u001b[39m\n",
       ")"
      ]
     },
     "execution_count": 4,
     "metadata": {},
     "output_type": "execute_result"
    }
   ],
   "source": [
    "import java.time.format.DateTimeFormatter\n",
    "import java.time.LocalDate\n",
    "\n",
    "val category = \"mercados\"\n",
    "val widget = \"precios-mercados-tiempo-real\"\n",
    "val time_trunc = \"hour\"\n",
    "val lang = \"es\"\n",
    "\n",
    "val startYear = 2024\n",
    "val endYear = 2024\n",
    "\n",
    "def crearRango(primerAño: Int, ultimoAño: Int): Seq[String]  = {\n",
    "val rango = for {\n",
    "  year <- primerAño to ultimoAño\n",
    "  month <- 1 to 12\n",
    "} yield {\n",
    "  val init = LocalDate.of(year, month, 1).toString + \"T00:00\"\n",
    "  val end = LocalDate.of(year, month, 1).plusMonths(1).minusDays(1).toString + \"T23:59\"\n",
    "  (init, end)\n",
    "}\n",
    "\n",
    "rango.map {\n",
    "    case (init, end) => createUri(category, widget, init, end, time_trunc,lang)\n",
    "    }\n",
    "}\n",
    "val urisMercados = crearRango(startYear,endYear)"
   ]
  },
  {
   "cell_type": "code",
   "execution_count": 5,
   "metadata": {},
   "outputs": [
    {
     "data": {
      "text/plain": [
       "\u001b[36mres4\u001b[39m: \u001b[32mInt\u001b[39m = \u001b[32m12\u001b[39m"
      ]
     },
     "execution_count": 5,
     "metadata": {},
     "output_type": "execute_result"
    }
   ],
   "source": [
    "urisMercados.length"
   ]
  },
  {
   "cell_type": "code",
   "execution_count": 6,
   "metadata": {},
   "outputs": [
    {
     "data": {
      "text/plain": [
       "\u001b[36mlistMercadosJson\u001b[39m: \u001b[32mSeq\u001b[39m[\u001b[32mEither\u001b[39m[\u001b[32mString\u001b[39m, \u001b[32mString\u001b[39m]] = \u001b[33mVector\u001b[39m(\n",
       "  \u001b[33mRight\u001b[39m(\n",
       "    \u001b[32m\"{\\\"data\\\":{\\\"type\\\":\\\"Precios mercado peninsular en tiempo real\\\",\\\"id\\\":\\\"mer13\\\",\\\"attributes\\\":{\\\"title\\\":\\\"Precios mercado peninsular en tiempo real\\\",\\\"last-update\\\":\\\"2024-01-30T20:46:11.000+01:00\\\",\\\"description\\\":null},\\\"meta\\\":{\\\"cache-control\\\":{\\\"cache\\\":\\\"MISS\\\"}}},\\\"included\\\":[{\\\"type\\\":\\\"PVPC (\\\\u20ac\\\\/MWh)\\\",\\\"id\\\":\\\"1001\\\",\\\"groupId\\\":null,\\\"attributes\\\":{\\\"title\\\":\\\"PVPC (\\\\u20ac\\\\/MWh)\\\",\\\"description\\\":null,\\\"color\\\":\\\"#ffcf09\\\",\\\"type\\\":null,\\\"magnitude\\\":\\\"price\\\",\\\"composite\\\":false,\\\"last-update\\\":\\\"2024-01-30T20:46:11.000+01:00\\\",\\\"values\\\":[{\\\"value\\\":123.83,\\\"percentage\\\":0.6616264159008335,\\\"datetime\\\":\\\"2024-01-01T00:00:00.000+01:00\\\"},{\\\"value\\\":111.11,\\\"percentage\\\":0.6892679900744417,\\\"datetime\\\":\\\"2024-01-01T01:00:00.000+01:00\\\"},{\\\"value\\\":110.77,\\\"percentage\\\":0.6998799519807923,\\\"datetime\\\":\\\"2024-01-01T02:00:00.000+01:00\\\"},{\\\"value\\\":109.28,\\\"percentage\\\":0.7152768687000917,\\\"datetime\\\":\\\"2024-01-01T03:00:00.000+01:00\\\"},{\\\"value\\\":110.16,\\\"percentage\\\":0.7216035634743875,\\\"datetime\\\":\\\"2024-01-01T04:00:00.000+01:00\\\"},{\\\"value\\\":111.47,\\\"percentage\\\":0.7259051836415733,\\\"datetime\\\":\\\"2024-01-01T05:00:00.000+01:00\\\"},{\\\"value\\\":109.95,\\\"percentage\\\":0.7212200721548049,\\\"datetime\\\":\\\"2024-01-01T06:00:00.000+01:00\\\"},{\\\"value\\\":106.89,\\\"percentage\\\":0.715078940326465,\\\"datetime\\\":\\\"2024-01-01T07:00:00.000+01:00\\\"},{\\\"value\\\":107.31,\\\"percentage\\\":0.7121714892487391,\\\"datetime\\\":\\\"2024-01-01T08:00:00.000+01:00\\\"},{\\\"value\\\":103.25,\\\"percentage\\\":0.7094269616600247,\\\"datetime\\\":\\\"2024-01-01T09:00:00.000+01:00\\\"},{\\\"value\\\":76.42,\\\"percentage\\\":0.7535002957996451,\\\"datetime\\\":\\\"2024-01-01T10:00:00.000+01:00\\\"},{\\\"value\\\":47.6,\\\"percentage\\\":0.9242718446601942,\\\"datetime\\\":\\\"2024-01-01T11:00:00.000+01:00\\\"},{\\\"value\\\":46.4,\\\"percentage\\\":0.9354838709677419,\\\"datetime\\\":\\\"2024-01-01T12:00:00.000+01:00\\\"},{\\\"value\\\":44.73,\\\"percentage\\\":0.9559734986108143,\\\"datetime\\\":\\\"2024-01-01T13:00:00.000+01:00\\\"},{\\\"value\\\":44.17,\\\"percentage\\\":0.9623093681917212,\\\"datetime\\\":\\\"2024-01-01T14:00:00.000+01:00\\\"},{\\\"value\\\":51.29,\\\"percentage\\\":0.899666725135941,\\\"datetime\\\":\\\"2024-01-01T15:00:00.000+01:00\\\"},{\\\"value\\\":68.26,\\\"percentage\\\":0.7868587896253603,\\\"datetime\\\":\\\"2024-01-01T16:00:00.000+01:00\\\"},{\\\"value\\\":88.6,\\\"percentage\\\":0.7054140127388535,\\\"datetime\\\":\\\"2024-01-01T17:00:00.000+01:00\\\"},{\\\"value\\\":96.15,\\\"percentage\\\":0.6693351896971806,\\\"datetime\\\":\\\"2024-01-01T18:00:00.000+01:00\\\"},{\\\"value\\\":103.34,\\\"percentage\\\":0.6527698818773293,\\\"datetime\\\":\\\"2024-01-01T19:00:00.000+01:00\\\"},{\\\"value\\\":110.1,\\\"percentage\\\":0.643859649122807,\\\"datetime\\\":\\\"2024-01-01T20:00:00.000+01:00\\\"},{\\\"value\\\":110.04,\\\"percentage\\\":0.6471418489767113,\\\"datetime\\\":\\\"2024-01-01T21:00:00.000+01:00\\\"},{\\\"value\\\":94.09,\\\"percentage\\\":0.664524330814323,\\\"datetime\\\":\\\"2024-01-01T22:00:00.000+01:00\\\"},{\\\"value\\\":88.48,\\\"percentage\\\":0.6776441755380257,\\\"datetime\\\":\\\"2024-01-01T23:00:00.000+01:00\\\"},\u001b[39m..."
      ]
     },
     "execution_count": 6,
     "metadata": {},
     "output_type": "execute_result"
    }
   ],
   "source": [
    "val listMercadosJson = urisMercados.map(getDataApi(_))"
   ]
  },
  {
   "cell_type": "code",
   "execution_count": 7,
   "metadata": {},
   "outputs": [
    {
     "data": {
      "text/plain": [
       "\u001b[36msuccessfulResponses\u001b[39m: \u001b[32mSeq\u001b[39m[\u001b[32mString\u001b[39m] = \u001b[33mVector\u001b[39m(\n",
       "  \u001b[32m\"{\\\"data\\\":{\\\"type\\\":\\\"Precios mercado peninsular en tiempo real\\\",\\\"id\\\":\\\"mer13\\\",\\\"attributes\\\":{\\\"title\\\":\\\"Precios mercado peninsular en tiempo real\\\",\\\"last-update\\\":\\\"2024-01-30T20:46:11.000+01:00\\\",\\\"description\\\":null},\\\"meta\\\":{\\\"cache-control\\\":{\\\"cache\\\":\\\"MISS\\\"}}},\\\"included\\\":[{\\\"type\\\":\\\"PVPC (\\\\u20ac\\\\/MWh)\\\",\\\"id\\\":\\\"1001\\\",\\\"groupId\\\":null,\\\"attributes\\\":{\\\"title\\\":\\\"PVPC (\\\\u20ac\\\\/MWh)\\\",\\\"description\\\":null,\\\"color\\\":\\\"#ffcf09\\\",\\\"type\\\":null,\\\"magnitude\\\":\\\"price\\\",\\\"composite\\\":false,\\\"last-update\\\":\\\"2024-01-30T20:46:11.000+01:00\\\",\\\"values\\\":[{\\\"value\\\":123.83,\\\"percentage\\\":0.6616264159008335,\\\"datetime\\\":\\\"2024-01-01T00:00:00.000+01:00\\\"},{\\\"value\\\":111.11,\\\"percentage\\\":0.6892679900744417,\\\"datetime\\\":\\\"2024-01-01T01:00:00.000+01:00\\\"},{\\\"value\\\":110.77,\\\"percentage\\\":0.6998799519807923,\\\"datetime\\\":\\\"2024-01-01T02:00:00.000+01:00\\\"},{\\\"value\\\":109.28,\\\"percentage\\\":0.7152768687000917,\\\"datetime\\\":\\\"2024-01-01T03:00:00.000+01:00\\\"},{\\\"value\\\":110.16,\\\"percentage\\\":0.7216035634743875,\\\"datetime\\\":\\\"2024-01-01T04:00:00.000+01:00\\\"},{\\\"value\\\":111.47,\\\"percentage\\\":0.7259051836415733,\\\"datetime\\\":\\\"2024-01-01T05:00:00.000+01:00\\\"},{\\\"value\\\":109.95,\\\"percentage\\\":0.7212200721548049,\\\"datetime\\\":\\\"2024-01-01T06:00:00.000+01:00\\\"},{\\\"value\\\":106.89,\\\"percentage\\\":0.715078940326465,\\\"datetime\\\":\\\"2024-01-01T07:00:00.000+01:00\\\"},{\\\"value\\\":107.31,\\\"percentage\\\":0.7121714892487391,\\\"datetime\\\":\\\"2024-01-01T08:00:00.000+01:00\\\"},{\\\"value\\\":103.25,\\\"percentage\\\":0.7094269616600247,\\\"datetime\\\":\\\"2024-01-01T09:00:00.000+01:00\\\"},{\\\"value\\\":76.42,\\\"percentage\\\":0.7535002957996451,\\\"datetime\\\":\\\"2024-01-01T10:00:00.000+01:00\\\"},{\\\"value\\\":47.6,\\\"percentage\\\":0.9242718446601942,\\\"datetime\\\":\\\"2024-01-01T11:00:00.000+01:00\\\"},{\\\"value\\\":46.4,\\\"percentage\\\":0.9354838709677419,\\\"datetime\\\":\\\"2024-01-01T12:00:00.000+01:00\\\"},{\\\"value\\\":44.73,\\\"percentage\\\":0.9559734986108143,\\\"datetime\\\":\\\"2024-01-01T13:00:00.000+01:00\\\"},{\\\"value\\\":44.17,\\\"percentage\\\":0.9623093681917212,\\\"datetime\\\":\\\"2024-01-01T14:00:00.000+01:00\\\"},{\\\"value\\\":51.29,\\\"percentage\\\":0.899666725135941,\\\"datetime\\\":\\\"2024-01-01T15:00:00.000+01:00\\\"},{\\\"value\\\":68.26,\\\"percentage\\\":0.7868587896253603,\\\"datetime\\\":\\\"2024-01-01T16:00:00.000+01:00\\\"},{\\\"value\\\":88.6,\\\"percentage\\\":0.7054140127388535,\\\"datetime\\\":\\\"2024-01-01T17:00:00.000+01:00\\\"},{\\\"value\\\":96.15,\\\"percentage\\\":0.6693351896971806,\\\"datetime\\\":\\\"2024-01-01T18:00:00.000+01:00\\\"},{\\\"value\\\":103.34,\\\"percentage\\\":0.6527698818773293,\\\"datetime\\\":\\\"2024-01-01T19:00:00.000+01:00\\\"},{\\\"value\\\":110.1,\\\"percentage\\\":0.643859649122807,\\\"datetime\\\":\\\"2024-01-01T20:00:00.000+01:00\\\"},{\\\"value\\\":110.04,\\\"percentage\\\":0.6471418489767113,\\\"datetime\\\":\\\"2024-01-01T21:00:00.000+01:00\\\"},{\\\"value\\\":94.09,\\\"percentage\\\":0.664524330814323,\\\"datetime\\\":\\\"2024-01-01T22:00:00.000+01:00\\\"},{\\\"value\\\":88.48,\\\"percentage\\\":0.6776441755380257,\\\"datetime\\\":\\\"2024-01-01T23:00:00.000+01:00\\\"},{\\\"value\\\":91.46,\\\"percentage\\\":0.7075661457527465,\\\"datetime\\\":\\\"2024-01-02T00:00\u001b[39m..."
      ]
     },
     "execution_count": 7,
     "metadata": {},
     "output_type": "execute_result"
    }
   ],
   "source": [
    "// Filtrar solo las respuestas exitosas (Right)\n",
    "val successfulResponses = listMercadosJson.collect { case Right(body) => body }"
   ]
  },
  {
   "cell_type": "code",
   "execution_count": 8,
   "metadata": {},
   "outputs": [
    {
     "data": {
      "text/plain": [
       "\u001b[36mres7\u001b[39m: \u001b[32mInt\u001b[39m = \u001b[32m10\u001b[39m"
      ]
     },
     "execution_count": 8,
     "metadata": {},
     "output_type": "execute_result"
    }
   ],
   "source": [
    "successfulResponses.length"
   ]
  },
  {
   "cell_type": "code",
   "execution_count": 9,
   "metadata": {},
   "outputs": [
    {
     "data": {
      "text/plain": [
       "defined \u001b[32mfunction\u001b[39m \u001b[36mtransformDataFrame\u001b[39m"
      ]
     },
     "execution_count": 9,
     "metadata": {},
     "output_type": "execute_result"
    }
   ],
   "source": [
    "def transformDataFrame(df: DataFrame): DataFrame = {\n",
    "    // Definir los tipos de energía de bajas emisiones\n",
    "    val transformedDF = df\n",
    "        .withColumn(\"included\", explode($\"included\"))\n",
    "        .withColumn(\"TipoMercado\", $\"included.type\")\n",
    "        .withColumn(\"Values\", explode($\"included.attributes.values\"))\n",
    "        .select(\n",
    "            $\"Values.datetime\".cast(\"timestamp\").as(\"Fecha\"),\n",
    "            $\"TipoMercado\",\n",
    "            $\"Values.value\".as(\"Valor\"),\n",
    "            $\"Values.percentage\".as(\"Porcentaje\")\n",
    "        )\n",
    "    //Agrupar y pivotar el dataframe\n",
    "    transformedDF\n",
    "    .groupBy(\"Fecha\")\n",
    "    .pivot(\"TipoMercado\")\n",
    "    .agg(\n",
    "            sum(\"Valor\").as(\"Valor\"),\n",
    "            sum(\"Porcentaje\").as(\"Porcentaje\")\n",
    "        )\n",
    "    .withColumnRenamed(\"PVPC (€/MWh)_Valor\", \"Valor_PVPC\")\n",
    "    .withColumnRenamed(\"PVPC (€/MWh)_Porcentaje\", \"Porcentaje_PVPC\")\n",
    "    .withColumnRenamed(\"Precio mercado spot (€/MWh)_Valor\", \"Valor_Mercado_Spot\")\n",
    "    .withColumnRenamed(\"Precio mercado spot (€/MWh)_Porcentaje\", \"Porcentaje_Mercado_Spot\")\n",
    "}"
   ]
  },
  {
   "cell_type": "code",
   "execution_count": 10,
   "metadata": {},
   "outputs": [
    {
     "data": {
      "text/html": [
       "<script>\n",
       "var comm = Jupyter.notebook.kernel.comm_manager.new_comm('cancel-stage-e3052ea4-aa77-4833-ac55-7e1f327035a5', {});\n",
       "\n",
       "function cancelStage(stageId) {\n",
       "  console.log('Cancelling stage ' + stageId);\n",
       "  comm.send({ 'stageId': stageId });\n",
       "}\n",
       "</script>\n",
       "          "
      ]
     },
     "metadata": {},
     "output_type": "display_data"
    },
    {
     "data": {
      "text/html": [
       "<div>\n",
       "  <span style=\"float: left;\">json at cmd2.sc:44</span>\n",
       "</div>\n"
      ]
     },
     "metadata": {},
     "output_type": "display_data"
    },
    {
     "data": {
      "text/html": [
       "<div class=\"progress\">\n",
       "  <div class=\"progress-bar\" role=\"progressbar\" style=\"background-color: blue; width: 100%; word-wrap: normal; white-space: nowrap; text-align: center; color: white\" aria-valuenow=\"100\" aria-valuemin=\"0\" aria-valuemax=\"100\">\n",
       "    16 / 16\n",
       "  </div>\n",
       "  <div class=\"progress-bar\" role=\"progressbar\" style=\"background-color: red; width: 0%\" aria-valuenow=\"0\" aria-valuemin=\"0\" aria-valuemax=\"100\"></div>\n",
       "</div>\n"
      ]
     },
     "metadata": {},
     "output_type": "display_data"
    },
    {
     "data": {
      "text/html": [
       "<div>\n",
       "  <span style=\"float: left;\">json at cmd2.sc:44</span>\n",
       "</div>\n"
      ]
     },
     "metadata": {},
     "output_type": "display_data"
    },
    {
     "data": {
      "text/html": [
       "<div class=\"progress\">\n",
       "  <div class=\"progress-bar\" role=\"progressbar\" style=\"background-color: blue; width: 100%; word-wrap: normal; white-space: nowrap; text-align: center; color: white\" aria-valuenow=\"100\" aria-valuemin=\"0\" aria-valuemax=\"100\">\n",
       "    16 / 16\n",
       "  </div>\n",
       "  <div class=\"progress-bar\" role=\"progressbar\" style=\"background-color: red; width: 0%\" aria-valuenow=\"0\" aria-valuemin=\"0\" aria-valuemax=\"100\"></div>\n",
       "</div>\n"
      ]
     },
     "metadata": {},
     "output_type": "display_data"
    },
    {
     "data": {
      "text/html": [
       "<div>\n",
       "  <span style=\"float: left;\">json at cmd2.sc:44</span>\n",
       "</div>\n"
      ]
     },
     "metadata": {},
     "output_type": "display_data"
    },
    {
     "data": {
      "text/html": [
       "<div class=\"progress\">\n",
       "  <div class=\"progress-bar\" role=\"progressbar\" style=\"background-color: blue; width: 100%; word-wrap: normal; white-space: nowrap; text-align: center; color: white\" aria-valuenow=\"100\" aria-valuemin=\"0\" aria-valuemax=\"100\">\n",
       "    16 / 16\n",
       "  </div>\n",
       "  <div class=\"progress-bar\" role=\"progressbar\" style=\"background-color: red; width: 0%\" aria-valuenow=\"0\" aria-valuemin=\"0\" aria-valuemax=\"100\"></div>\n",
       "</div>\n"
      ]
     },
     "metadata": {},
     "output_type": "display_data"
    },
    {
     "data": {
      "text/html": [
       "<div>\n",
       "  <span style=\"float: left;\">json at cmd2.sc:44</span>\n",
       "</div>\n"
      ]
     },
     "metadata": {},
     "output_type": "display_data"
    },
    {
     "data": {
      "text/html": [
       "<div class=\"progress\">\n",
       "  <div class=\"progress-bar\" role=\"progressbar\" style=\"background-color: blue; width: 100%; word-wrap: normal; white-space: nowrap; text-align: center; color: white\" aria-valuenow=\"100\" aria-valuemin=\"0\" aria-valuemax=\"100\">\n",
       "    16 / 16\n",
       "  </div>\n",
       "  <div class=\"progress-bar\" role=\"progressbar\" style=\"background-color: red; width: 0%\" aria-valuenow=\"0\" aria-valuemin=\"0\" aria-valuemax=\"100\"></div>\n",
       "</div>\n"
      ]
     },
     "metadata": {},
     "output_type": "display_data"
    },
    {
     "data": {
      "text/html": [
       "<div>\n",
       "  <span style=\"float: left;\">json at cmd2.sc:44</span>\n",
       "</div>\n"
      ]
     },
     "metadata": {},
     "output_type": "display_data"
    },
    {
     "data": {
      "text/html": [
       "<div class=\"progress\">\n",
       "  <div class=\"progress-bar\" role=\"progressbar\" style=\"background-color: blue; width: 100%; word-wrap: normal; white-space: nowrap; text-align: center; color: white\" aria-valuenow=\"100\" aria-valuemin=\"0\" aria-valuemax=\"100\">\n",
       "    16 / 16\n",
       "  </div>\n",
       "  <div class=\"progress-bar\" role=\"progressbar\" style=\"background-color: red; width: 0%\" aria-valuenow=\"0\" aria-valuemin=\"0\" aria-valuemax=\"100\"></div>\n",
       "</div>\n"
      ]
     },
     "metadata": {},
     "output_type": "display_data"
    },
    {
     "data": {
      "text/html": [
       "<div>\n",
       "  <span style=\"float: left;\">json at cmd2.sc:44</span>\n",
       "</div>\n"
      ]
     },
     "metadata": {},
     "output_type": "display_data"
    },
    {
     "data": {
      "text/html": [
       "<div class=\"progress\">\n",
       "  <div class=\"progress-bar\" role=\"progressbar\" style=\"background-color: blue; width: 100%; word-wrap: normal; white-space: nowrap; text-align: center; color: white\" aria-valuenow=\"100\" aria-valuemin=\"0\" aria-valuemax=\"100\">\n",
       "    16 / 16\n",
       "  </div>\n",
       "  <div class=\"progress-bar\" role=\"progressbar\" style=\"background-color: red; width: 0%\" aria-valuenow=\"0\" aria-valuemin=\"0\" aria-valuemax=\"100\"></div>\n",
       "</div>\n"
      ]
     },
     "metadata": {},
     "output_type": "display_data"
    },
    {
     "data": {
      "text/html": [
       "<div>\n",
       "  <span style=\"float: left;\">json at cmd2.sc:44</span>\n",
       "</div>\n"
      ]
     },
     "metadata": {},
     "output_type": "display_data"
    },
    {
     "data": {
      "text/html": [
       "<div class=\"progress\">\n",
       "  <div class=\"progress-bar\" role=\"progressbar\" style=\"background-color: blue; width: 100%; word-wrap: normal; white-space: nowrap; text-align: center; color: white\" aria-valuenow=\"100\" aria-valuemin=\"0\" aria-valuemax=\"100\">\n",
       "    16 / 16\n",
       "  </div>\n",
       "  <div class=\"progress-bar\" role=\"progressbar\" style=\"background-color: red; width: 0%\" aria-valuenow=\"0\" aria-valuemin=\"0\" aria-valuemax=\"100\"></div>\n",
       "</div>\n"
      ]
     },
     "metadata": {},
     "output_type": "display_data"
    },
    {
     "data": {
      "text/html": [
       "<div>\n",
       "  <span style=\"float: left;\">json at cmd2.sc:44</span>\n",
       "</div>\n"
      ]
     },
     "metadata": {},
     "output_type": "display_data"
    },
    {
     "data": {
      "text/html": [
       "<div class=\"progress\">\n",
       "  <div class=\"progress-bar\" role=\"progressbar\" style=\"background-color: blue; width: 100%; word-wrap: normal; white-space: nowrap; text-align: center; color: white\" aria-valuenow=\"100\" aria-valuemin=\"0\" aria-valuemax=\"100\">\n",
       "    16 / 16\n",
       "  </div>\n",
       "  <div class=\"progress-bar\" role=\"progressbar\" style=\"background-color: red; width: 0%\" aria-valuenow=\"0\" aria-valuemin=\"0\" aria-valuemax=\"100\"></div>\n",
       "</div>\n"
      ]
     },
     "metadata": {},
     "output_type": "display_data"
    },
    {
     "data": {
      "text/html": [
       "<div>\n",
       "  <span style=\"float: left;\">json at cmd2.sc:44</span>\n",
       "</div>\n"
      ]
     },
     "metadata": {},
     "output_type": "display_data"
    },
    {
     "data": {
      "text/html": [
       "<div class=\"progress\">\n",
       "  <div class=\"progress-bar\" role=\"progressbar\" style=\"background-color: blue; width: 100%; word-wrap: normal; white-space: nowrap; text-align: center; color: white\" aria-valuenow=\"100\" aria-valuemin=\"0\" aria-valuemax=\"100\">\n",
       "    16 / 16\n",
       "  </div>\n",
       "  <div class=\"progress-bar\" role=\"progressbar\" style=\"background-color: red; width: 0%\" aria-valuenow=\"0\" aria-valuemin=\"0\" aria-valuemax=\"100\"></div>\n",
       "</div>\n"
      ]
     },
     "metadata": {},
     "output_type": "display_data"
    },
    {
     "data": {
      "text/html": [
       "<div>\n",
       "  <span style=\"float: left;\">json at cmd2.sc:44</span>\n",
       "</div>\n"
      ]
     },
     "metadata": {},
     "output_type": "display_data"
    },
    {
     "data": {
      "text/html": [
       "<div class=\"progress\">\n",
       "  <div class=\"progress-bar\" role=\"progressbar\" style=\"background-color: blue; width: 100%; word-wrap: normal; white-space: nowrap; text-align: center; color: white\" aria-valuenow=\"100\" aria-valuemin=\"0\" aria-valuemax=\"100\">\n",
       "    16 / 16\n",
       "  </div>\n",
       "  <div class=\"progress-bar\" role=\"progressbar\" style=\"background-color: red; width: 0%\" aria-valuenow=\"0\" aria-valuemin=\"0\" aria-valuemax=\"100\"></div>\n",
       "</div>\n"
      ]
     },
     "metadata": {},
     "output_type": "display_data"
    },
    {
     "data": {
      "text/plain": [
       "\u001b[36mlistModelsMercados\u001b[39m: \u001b[32mSeq\u001b[39m[\u001b[32mDataFrame\u001b[39m] = \u001b[33mVector\u001b[39m(\n",
       "  [data: struct<attributes: struct<description: string, last-update: string ... 1 more field>, id: string ... 2 more fields>, included: array<struct<attributes:struct<color:string,composite:boolean,description:string,last-update:string,magnitude:string,title:string,type:string,values:array<struct<datetime:string,percentage:double,value:double>>>,groupId:string,id:string,type:string>>],\n",
       "  [data: struct<attributes: struct<description: string, last-update: string ... 1 more field>, id: string ... 2 more fields>, included: array<struct<attributes:struct<color:string,composite:boolean,description:string,last-update:string,magnitude:string,title:string,type:string,values:array<struct<datetime:string,percentage:double,value:double>>>,groupId:string,id:string,type:string>>],\n",
       "  [data: struct<attributes: struct<description: string, last-update: string ... 1 more field>, id: string ... 2 more fields>, included: array<struct<attributes:struct<color:string,composite:boolean,description:string,last-update:string,magnitude:string,title:string,type:string,values:array<struct<datetime:string,percentage:double,value:double>>>,groupId:string,id:string,type:string>>],\n",
       "  [data: struct<attributes: struct<description: string, last-update: string ... 1 more field>, id: string ... 2 more fields>, included: array<struct<attributes:struct<color:string,composite:boolean,description:string,last-update:string,magnitude:string,title:string,type:string,values:array<struct<datetime:string,percentage:double,value:double>>>,groupId:string,id:string,type:string>>],\n",
       "  [data: struct<attributes: struct<description: string, last-update: string ... 1 more field>, id: string ... 2 more fields>, included: array<struct<attributes:struct<color:string,composite:boolean,description:string,last-update:string,magnitude:string,title:string,type:string,values:array<struct<datetime:string,percentage:double,value:double>>>,groupId:string,id:string,type:string>>],\n",
       "  [data: struct<attributes: struct<description: string, last-update: string ... 1 more field>, id: string ... 2 more fields>, included: array<struct<attributes:struct<color:string,composite:boolean,description:string,last-update:string,magnitude:string,title:string,type:string,values:array<struct<datetime:string,percentage:double,value:double>>>,groupId:string,id:string,type:string>>],\n",
       "  [data: struct<attributes: struct<description: string, last-update: string ... 1 more field>, id: string ... 2 more fields>, included: array<struct<attributes:struct<color:string,composite:boolean,description:string,last-update:string,magnitude:string,title:string,type:string,values:array<struct<datetime:string,percentage:double,value:double>>>,groupId:string,id:string,type:string>>],\n",
       "  [data: struct<attributes: struct<description: string, last-update: string ... 1 more field>, id: string ... 2 more fields>, included: array<struct<attributes:struct<color:string,composite:boolean,description:string,last-update:string,magn..."
      ]
     },
     "execution_count": 10,
     "metadata": {},
     "output_type": "execute_result"
    }
   ],
   "source": [
    "val listModelsMercados = successfulResponses.map{\n",
    "    json => responseToDF(Right(json))\n",
    "}"
   ]
  },
  {
   "cell_type": "code",
   "execution_count": 11,
   "metadata": {},
   "outputs": [
    {
     "data": {
      "text/plain": [
       "\u001b[36mmercadoEnero24\u001b[39m: \u001b[32mDataFrame\u001b[39m = [data: struct<attributes: struct<description: string, last-update: string ... 1 more field>, id: string ... 2 more fields>, included: array<struct<attributes:struct<color:string,composite:boolean,description:string,last-update:string,magnitude:string,title:string,type:string,values:array<struct<datetime:string,percentage:double,value:double>>>,groupId:string,id:string,type:string>>]"
      ]
     },
     "execution_count": 11,
     "metadata": {},
     "output_type": "execute_result"
    }
   ],
   "source": [
    "val mercadoEnero24 = listModelsMercados.head\n"
   ]
  },
  {
   "cell_type": "code",
   "execution_count": 12,
   "metadata": {},
   "outputs": [
    {
     "name": "stdout",
     "output_type": "stream",
     "text": [
      "root\n",
      " |-- data: struct (nullable = true)\n",
      " |    |-- attributes: struct (nullable = true)\n",
      " |    |    |-- description: string (nullable = true)\n",
      " |    |    |-- last-update: string (nullable = true)\n",
      " |    |    |-- title: string (nullable = true)\n",
      " |    |-- id: string (nullable = true)\n",
      " |    |-- meta: struct (nullable = true)\n",
      " |    |    |-- cache-control: struct (nullable = true)\n",
      " |    |    |    |-- cache: string (nullable = true)\n",
      " |    |-- type: string (nullable = true)\n",
      " |-- included: array (nullable = true)\n",
      " |    |-- element: struct (containsNull = true)\n",
      " |    |    |-- attributes: struct (nullable = true)\n",
      " |    |    |    |-- color: string (nullable = true)\n",
      " |    |    |    |-- composite: boolean (nullable = true)\n",
      " |    |    |    |-- description: string (nullable = true)\n",
      " |    |    |    |-- last-update: string (nullable = true)\n",
      " |    |    |    |-- magnitude: string (nullable = true)\n",
      " |    |    |    |-- title: string (nullable = true)\n",
      " |    |    |    |-- type: string (nullable = true)\n",
      " |    |    |    |-- values: array (nullable = true)\n",
      " |    |    |    |    |-- element: struct (containsNull = true)\n",
      " |    |    |    |    |    |-- datetime: string (nullable = true)\n",
      " |    |    |    |    |    |-- percentage: double (nullable = true)\n",
      " |    |    |    |    |    |-- value: double (nullable = true)\n",
      " |    |    |-- groupId: string (nullable = true)\n",
      " |    |    |-- id: string (nullable = true)\n",
      " |    |    |-- type: string (nullable = true)\n",
      "\n"
     ]
    }
   ],
   "source": [
    "mercadoEnero24.printSchema"
   ]
  },
  {
   "cell_type": "code",
   "execution_count": 13,
   "metadata": {},
   "outputs": [
    {
     "data": {
      "text/html": [
       "<div>\n",
       "  <span style=\"float: left;\">pivot at cmd8.sc:16</span>\n",
       "</div>\n"
      ]
     },
     "metadata": {},
     "output_type": "display_data"
    },
    {
     "data": {
      "text/html": [
       "<div class=\"progress\">\n",
       "  <div class=\"progress-bar\" role=\"progressbar\" style=\"background-color: blue; width: 100%; word-wrap: normal; white-space: nowrap; text-align: center; color: white\" aria-valuenow=\"100\" aria-valuemin=\"0\" aria-valuemax=\"100\">\n",
       "    16 / 16\n",
       "  </div>\n",
       "  <div class=\"progress-bar\" role=\"progressbar\" style=\"background-color: red; width: 0%\" aria-valuenow=\"0\" aria-valuemin=\"0\" aria-valuemax=\"100\"></div>\n",
       "</div>\n"
      ]
     },
     "metadata": {},
     "output_type": "display_data"
    },
    {
     "data": {
      "text/html": [
       "<div>\n",
       "  <span style=\"float: left;\">pivot at cmd8.sc:16</span>\n",
       "</div>\n"
      ]
     },
     "metadata": {},
     "output_type": "display_data"
    },
    {
     "data": {
      "text/html": [
       "<div class=\"progress\">\n",
       "  <div class=\"progress-bar\" role=\"progressbar\" style=\"background-color: blue; width: 100%; word-wrap: normal; white-space: nowrap; text-align: center; color: white\" aria-valuenow=\"100\" aria-valuemin=\"0\" aria-valuemax=\"100\">\n",
       "    200 / 200\n",
       "  </div>\n",
       "  <div class=\"progress-bar\" role=\"progressbar\" style=\"background-color: red; width: 0%\" aria-valuenow=\"0\" aria-valuemin=\"0\" aria-valuemax=\"100\"></div>\n",
       "</div>\n"
      ]
     },
     "metadata": {},
     "output_type": "display_data"
    },
    {
     "data": {
      "text/html": [
       "<div>\n",
       "  <span style=\"float: left;\">pivot at cmd8.sc:16</span>\n",
       "</div>\n"
      ]
     },
     "metadata": {},
     "output_type": "display_data"
    },
    {
     "data": {
      "text/html": [
       "<div class=\"progress\">\n",
       "  <div class=\"progress-bar\" role=\"progressbar\" style=\"background-color: blue; width: 100%; word-wrap: normal; white-space: nowrap; text-align: center; color: white\" aria-valuenow=\"100\" aria-valuemin=\"0\" aria-valuemax=\"100\">\n",
       "    1 / 1\n",
       "  </div>\n",
       "  <div class=\"progress-bar\" role=\"progressbar\" style=\"background-color: red; width: 0%\" aria-valuenow=\"0\" aria-valuemin=\"0\" aria-valuemax=\"100\"></div>\n",
       "</div>\n"
      ]
     },
     "metadata": {},
     "output_type": "display_data"
    },
    {
     "data": {
      "text/plain": [
       "\u001b[36mmodelEnero24\u001b[39m: \u001b[32mDataFrame\u001b[39m = [Fecha: timestamp, Valor_PVPC: double ... 3 more fields]"
      ]
     },
     "execution_count": 13,
     "metadata": {},
     "output_type": "execute_result"
    }
   ],
   "source": [
    "val modelEnero24 = transformDataFrame(mercadoEnero24)"
   ]
  },
  {
   "cell_type": "code",
   "execution_count": null,
   "metadata": {},
   "outputs": [],
   "source": [
    "val model24 = listModelsMercados.map(df => transformDataFrame(df))"
   ]
  },
  {
   "cell_type": "code",
   "execution_count": null,
   "metadata": {},
   "outputs": [],
   "source": []
  },
  {
   "cell_type": "code",
   "execution_count": null,
   "metadata": {},
   "outputs": [],
   "source": [
    "modelMercados14_24\n",
    "    .orderBy(col(\"Fecha\"))\n",
    "    .write\n",
    "      .option(\"header\", \"true\")\n",
    "      .csv(\"data/modelosCsv/datasetMercados14-24.csv\")"
   ]
  },
  {
   "cell_type": "code",
   "execution_count": null,
   "metadata": {},
   "outputs": [],
   "source": [
    "modelMercados23_24.show()\n"
   ]
  },
  {
   "cell_type": "code",
   "execution_count": null,
   "metadata": {},
   "outputs": [],
   "source": []
  }
 ],
 "metadata": {
  "kernelspec": {
   "display_name": "Scala 2.12",
   "language": "scala",
   "name": "scala212"
  },
  "language_info": {
   "codemirror_mode": "text/x-scala",
   "file_extension": ".scala",
   "mimetype": "text/x-scala",
   "name": "scala",
   "nbconvert_exporter": "script",
   "version": "2.12.10"
  }
 },
 "nbformat": 4,
 "nbformat_minor": 4
}
