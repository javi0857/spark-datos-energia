{
 "cells": [
  {
   "cell_type": "markdown",
   "metadata": {},
   "source": [
    "## DESCARGA DATOS DE LA API\n",
    "### BALANCE ELECTRICO\n",
    "En este notebook programo las funciones necesarias para hacer una descarga de datos de la api de REData, hacer las transformaciones necesarias para la limpieza de los dataframes y guardar esta información en un fichero csv."
   ]
  },
  {
   "cell_type": "code",
   "execution_count": 1,
   "metadata": {},
   "outputs": [
    {
     "data": {
      "text/plain": [
       "\u001b[32mimport \u001b[39m\u001b[36m$ivy.$                                  \n",
       "\n",
       "\n",
       "\u001b[39m\n",
       "\u001b[32mimport \u001b[39m\u001b[36morg.apache.spark.sql._\n",
       "\u001b[39m\n",
       "\u001b[32mimport \u001b[39m\u001b[36morg.apache.spark.sql.functions._\n",
       "\n",
       "\n",
       "//Reducir numero logs\n",
       "\u001b[39m\n",
       "\u001b[32mimport \u001b[39m\u001b[36morg.apache.log4j.{Level, Logger}\n",
       "\u001b[39m\n",
       "\u001b[32mimport \u001b[39m\u001b[36m$ivy.$                                                                        \n",
       "\u001b[39m\n",
       "\u001b[32mimport \u001b[39m\u001b[36msttp.client.quick.{quickRequest, UriContext, backend}\n",
       "\u001b[39m\n",
       "\u001b[32mimport \u001b[39m\u001b[36msttp.client.asynchttpclient.monix._\n",
       "\n",
       "\n",
       "//Sttp para realizar request\n",
       "\u001b[39m\n",
       "\u001b[32mimport \u001b[39m\u001b[36m$ivy.$                                                                        \n",
       "\u001b[39m\n",
       "\u001b[32mimport \u001b[39m\u001b[36msttp.client.quick.{quickRequest, UriContext, backend}\n",
       "\u001b[39m\n",
       "\u001b[32mimport \u001b[39m\u001b[36msttp.client.asynchttpclient.monix._\n",
       "\u001b[39m\n",
       "\u001b[32mimport \u001b[39m\u001b[36msttp.client.basicRequest\n",
       "\n",
       "//For adding extra dependenies\n",
       "\u001b[39m\n",
       "\u001b[32mimport \u001b[39m\u001b[36m$ivy.$                               \n",
       "\n",
       "//Plotly\n",
       "\u001b[39m\n",
       "\u001b[32mimport \u001b[39m\u001b[36m$ivy.$                                      \n",
       "\u001b[39m\n",
       "\u001b[32mimport \u001b[39m\u001b[36mplotly._, plotly.element._, plotly.layout._, plotly.Almond._\u001b[39m"
      ]
     },
     "execution_count": 1,
     "metadata": {},
     "output_type": "execute_result"
    }
   ],
   "source": [
    "import $ivy.`org.apache.spark::spark-sql:2.4.3`\n",
    "\n",
    "\n",
    "import org.apache.spark.sql._\n",
    "import org.apache.spark.sql.functions._\n",
    "\n",
    "\n",
    "//Reducir numero logs\n",
    "import org.apache.log4j.{Level, Logger}\n",
    "Logger.getLogger(\"org\").setLevel(Level.OFF)\n",
    "\n",
    "\n",
    "//Circe para trabajar con JSON\n",
    "import $ivy.`com.softwaremill.sttp.client::async-http-client-backend-monix:2.0.0-RC2`\n",
    "import sttp.client.quick.{quickRequest, UriContext, backend}\n",
    "import sttp.client.asynchttpclient.monix._\n",
    "\n",
    "\n",
    "//Sttp para realizar request\n",
    "import $ivy.`com.softwaremill.sttp.client::async-http-client-backend-monix:2.0.0-RC2`\n",
    "import sttp.client.quick.{quickRequest, UriContext, backend}\n",
    "import sttp.client.asynchttpclient.monix._\n",
    "import sttp.client.basicRequest\n",
    "\n",
    "//For adding extra dependenies\n",
    "import $ivy.`org.typelevel::cats-core:1.6.0`\n",
    "\n",
    "//Plotly\n",
    "import $ivy.`org.plotly-scala::plotly-almond:0.7.1`\n",
    "import plotly._, plotly.element._, plotly.layout._, plotly.Almond._"
   ]
  },
  {
   "cell_type": "code",
   "execution_count": 2,
   "metadata": {},
   "outputs": [
    {
     "name": "stdout",
     "output_type": "stream",
     "text": [
      "Loading spark-stubs\n",
      "Getting spark JARs\n",
      "Creating SparkSession\n"
     ]
    },
    {
     "name": "stderr",
     "output_type": "stream",
     "text": [
      "Using Spark's default log4j profile: org/apache/spark/log4j-defaults.properties\n"
     ]
    },
    {
     "data": {
      "text/html": [
       "<a href=\"http://bf6db785e391:4040\">Spark UI</a>"
      ]
     },
     "metadata": {},
     "output_type": "display_data"
    },
    {
     "data": {
      "text/plain": [
       "\u001b[36mspark\u001b[39m: \u001b[32mSparkSession\u001b[39m = org.apache.spark.sql.SparkSession@5c453736"
      ]
     },
     "execution_count": 2,
     "metadata": {},
     "output_type": "execute_result"
    }
   ],
   "source": [
    "//Iniciamos session de Spark\n",
    "val spark = {\n",
    "  NotebookSparkSession.builder()\n",
    "    .master(\"local[*]\")\n",
    "    .getOrCreate()\n",
    "}"
   ]
  },
  {
   "cell_type": "markdown",
   "metadata": {},
   "source": [
    "#### Construcción URI\n",
    "\n",
    "La función createUri genera una URL a partir de los parámetros proporcionados, unos obligatorios y opcionales. Organiza estos en una cadena de consulta (queryString) y los añade a la URL base, que incluye la categoría y el widget deseado, para crear la URI completa con todos los parámetros de la solicitud."
   ]
  },
  {
   "cell_type": "code",
   "execution_count": 3,
   "metadata": {},
   "outputs": [
    {
     "data": {
      "text/plain": [
       "\u001b[32mimport \u001b[39m\u001b[36mspark.implicits._ \n",
       "\n",
       "//Crear URL\n",
       "\u001b[39m\n",
       "defined \u001b[32mfunction\u001b[39m \u001b[36mcreateUri\u001b[39m"
      ]
     },
     "execution_count": 3,
     "metadata": {},
     "output_type": "execute_result"
    }
   ],
   "source": [
    "import spark.implicits._ \n",
    "\n",
    "//Crear URL\n",
    "def createUri(category: String, widget: String, start_date: String, end_date: String, time_trunc: String, lang: String, \n",
    "              geo_trunc: String = \"\", geo_limit: String = \"\", geo_ids: String = \"\"): String = {\n",
    "    \n",
    "    val baseUrl = s\"https://apidatos.ree.es/$lang/datos/$category/$widget\"\n",
    "  \n",
    "    // Crear un mapa con los parámetros obligatorios y opcionales\n",
    "    val params = Map(\n",
    "        \"start_date\" -> start_date,\n",
    "        \"end_date\" -> end_date,\n",
    "        \"time_trunc\" -> time_trunc,\n",
    "        \"geo_trunc\" -> geo_trunc,\n",
    "        \"geo_limit\" -> geo_limit,\n",
    "        \"geo_ids\" -> geo_ids\n",
    "      ).filter { case (_, v) => v.nonEmpty } // Filtrar los parámetros que no están vacíos\n",
    "\n",
    "    //Especifico el orden concreto de los paramtros ya que, Scala map no te garantiza el orden\n",
    "    val orderedKeys = Seq(\"start_date\", \"end_date\", \"time_trunc\", \"geo_trunc\", \"geo_limit\", \"geo_ids\")\n",
    "\n",
    "    // Unir los parámetros en una cadena\n",
    "    val queryString = orderedKeys.flatMap(key => params.get(key).map(value => s\"$key=$value\")).mkString(\"&\")\n",
    "  \n",
    "  s\"$baseUrl?$queryString\"\n",
    "}"
   ]
  },
  {
   "cell_type": "code",
   "execution_count": 4,
   "metadata": {},
   "outputs": [
    {
     "data": {
      "text/plain": [
       "\u001b[36mcategory\u001b[39m: \u001b[32mString\u001b[39m = \u001b[32m\"balance\"\u001b[39m\n",
       "\u001b[36mwidget\u001b[39m: \u001b[32mString\u001b[39m = \u001b[32m\"balance-electrico\"\u001b[39m\n",
       "\u001b[36mtime_trunc\u001b[39m: \u001b[32mString\u001b[39m = \u001b[32m\"day\"\u001b[39m\n",
       "\u001b[36mlang\u001b[39m: \u001b[32mString\u001b[39m = \u001b[32m\"es\"\u001b[39m\n",
       "\u001b[36mgeo_trunc\u001b[39m: \u001b[32mString\u001b[39m = \u001b[32m\"electric_system\"\u001b[39m\n",
       "\u001b[36mgeo_limit\u001b[39m: \u001b[32mString\u001b[39m = \u001b[32m\"ccaa\"\u001b[39m\n",
       "\u001b[36mgeo_ids\u001b[39m: \u001b[32mString\u001b[39m = \u001b[32m\"13\"\u001b[39m\n",
       "\u001b[36mrango\u001b[39m: \u001b[32mcollection\u001b[39m.\u001b[32mimmutable\u001b[39m.\u001b[32mIndexedSeq\u001b[39m[(\u001b[32mString\u001b[39m, \u001b[32mString\u001b[39m)] = \u001b[33mVector\u001b[39m(\n",
       "  (\u001b[32m\"2011-01-01T00:00\"\u001b[39m, \u001b[32m\"2011-12-31T23:59\"\u001b[39m),\n",
       "  (\u001b[32m\"2012-01-01T00:00\"\u001b[39m, \u001b[32m\"2012-12-31T23:59\"\u001b[39m),\n",
       "  (\u001b[32m\"2013-01-01T00:00\"\u001b[39m, \u001b[32m\"2013-12-31T23:59\"\u001b[39m),\n",
       "  (\u001b[32m\"2014-01-01T00:00\"\u001b[39m, \u001b[32m\"2014-12-31T23:59\"\u001b[39m),\n",
       "  (\u001b[32m\"2015-01-01T00:00\"\u001b[39m, \u001b[32m\"2015-12-31T23:59\"\u001b[39m),\n",
       "  (\u001b[32m\"2016-01-01T00:00\"\u001b[39m, \u001b[32m\"2016-12-31T23:59\"\u001b[39m),\n",
       "  (\u001b[32m\"2017-01-01T00:00\"\u001b[39m, \u001b[32m\"2017-12-31T23:59\"\u001b[39m),\n",
       "  (\u001b[32m\"2018-01-01T00:00\"\u001b[39m, \u001b[32m\"2018-12-31T23:59\"\u001b[39m),\n",
       "  (\u001b[32m\"2019-01-01T00:00\"\u001b[39m, \u001b[32m\"2019-12-31T23:59\"\u001b[39m),\n",
       "  (\u001b[32m\"2020-01-01T00:00\"\u001b[39m, \u001b[32m\"2020-12-31T23:59\"\u001b[39m),\n",
       "  (\u001b[32m\"2021-01-01T00:00\"\u001b[39m, \u001b[32m\"2021-12-31T23:59\"\u001b[39m),\n",
       "  (\u001b[32m\"2022-01-01T00:00\"\u001b[39m, \u001b[32m\"2022-12-31T23:59\"\u001b[39m),\n",
       "  (\u001b[32m\"2023-01-01T00:00\"\u001b[39m, \u001b[32m\"2023-12-31T23:59\"\u001b[39m),\n",
       "  (\u001b[32m\"2024-01-01T00:00\"\u001b[39m, \u001b[32m\"2024-12-31T23:59\"\u001b[39m)\n",
       ")\n",
       "\u001b[36murisRango\u001b[39m: \u001b[32mcollection\u001b[39m.\u001b[32mimmutable\u001b[39m.\u001b[32mIndexedSeq\u001b[39m[\u001b[32mString\u001b[39m] = \u001b[33mVector\u001b[39m(\n",
       "  \u001b[32m\"https://apidatos.ree.es/es/datos/balance/balance-electrico?start_date=2011-01-01T00:00&end_date=2011-12-31T23:59&time_trunc=day\"\u001b[39m,\n",
       "  \u001b[32m\"https://apidatos.ree.es/es/datos/balance/balance-electrico?start_date=2012-01-01T00:00&end_date=2012-12-31T23:59&time_trunc=day\"\u001b[39m,\n",
       "  \u001b[32m\"https://apidatos.ree.es/es/datos/balance/balance-electrico?start_date=2013-01-01T00:00&end_date=2013-12-31T23:59&time_trunc=day\"\u001b[39m,\n",
       "  \u001b[32m\"https://apidatos.ree.es/es/datos/balance/balance-electrico?start_date=2014-01-01T00:00&end_date=2014-12-31T23:59&time_trunc=day\"\u001b[39m,\n",
       "  \u001b[32m\"https://apidatos.ree.es/es/datos/balance/balance-electrico?start_date=2015-01-01T00:00&end_date=2015-12-31T23:59&time_trunc=day\"\u001b[39m,\n",
       "  \u001b[32m\"https://apidatos.ree.es/es/datos/balance/balance-electrico?start_date=2016-01-01T00:00&end_date=2016-12-31T23:59&time_trunc=day\"\u001b[39m,\n",
       "  \u001b[32m\"https://apidatos.ree.es/es/datos/balance/balance-electrico?start_date=2017-01-01T00:00&end_date=2017-12-31T23:59&time_trunc=day\"\u001b[39m,\n",
       "  \u001b[32m\"https://apidatos.ree.es/es/datos/balance/balance-electrico?start_date=2018-01-01T00:00&end_date=2018-12-31T23:59&time_trunc=day\"\u001b[39m,\n",
       "  \u001b[32m\"https://apidatos.ree.es/es/datos/balance/balance-electrico?start_date=2019-01-01T00:00&end_date=2019-12-31T23:59&time_trunc=day\"\u001b[39m,\n",
       "  \u001b[32m\"https://apidatos.ree.es/es/datos/balance/balance-electrico?start_date=2020-01-01T00:00&end_date=2020-12-31T23:59&time_trunc=day\"\u001b[39m,\n",
       "  \u001b[32m\"https://apidatos.ree.es/es/datos/balance/balance-electrico?start_date=2021-01-01T00:00&end_date=2021-12-31T23:59&time_trunc=day\"\u001b[39m,\n",
       "  \u001b[32m\"https://apidatos.ree.es/es/datos/balance/balance-electrico?start_date=2022-01-01T00:00&end_date=2022-12-31T23:59&time_trunc=day\"\u001b[39m,\n",
       "  \u001b[32m\"https://apidatos.ree.es/es/datos/balance/balance-electrico?start_date=2023-01-01T00:00&end_date=2023-12-31T23:59&time_trunc=day\"\u001b[39m,\n",
       "  \u001b[32m\"https://apidatos.ree.es/es/datos/balance/balance-electrico?start_date=2024-01-01T00:00&end_date=2024-12-31T23:59&time_trunc=day\"\u001b[39m\n",
       ")"
      ]
     },
     "execution_count": 4,
     "metadata": {},
     "output_type": "execute_result"
    }
   ],
   "source": [
    "val category = \"balance\"\n",
    "val widget = \"balance-electrico\"\n",
    "val time_trunc = \"day\"\n",
    "val lang = \"es\"\n",
    "val geo_trunc = \"electric_system\"\n",
    "val geo_limit = \"ccaa\"\n",
    "val geo_ids = \"13\"\n",
    "\n",
    "val rango = (2011 to 2024).map( year => (year + \"-01-01T00:00\", year + \"-12-31T23:59\"))\n",
    "val urisRango = rango.map {\n",
    "    case (inicio, fin) => createUri(category, widget, inicio, fin, time_trunc,lang)\n",
    "}"
   ]
  },
  {
   "cell_type": "markdown",
   "metadata": {},
   "source": [
    "### Descarga datos\n",
    "\n",
    "La función **getDataApi** realiza una solicitud HTTP GET a la URL proporcionada (apiUrl) y devuelve la respuesta de la API. Utiliza la estructura Either para manejar posibles errores: si la solicitud es exitosa, retorna el contenido de la respuesta; en caso contrario, devuelve un mensaje de error.\n",
    "\n",
    "La función **responseToDF** convierte la respuesta de la API, contenida en un Either, en un DataFrame de Spark. Si la respuesta es exitosa (Right), el contenido se transforma en un DataFrame JSON. Si ocurre un error (Left), se imprime el mensaje de error y se retorna un DataFrame vacío."
   ]
  },
  {
   "cell_type": "code",
   "execution_count": 5,
   "metadata": {},
   "outputs": [
    {
     "data": {
      "text/plain": [
       "defined \u001b[32mfunction\u001b[39m \u001b[36mgetDataApi\u001b[39m\n",
       "defined \u001b[32mfunction\u001b[39m \u001b[36mresponseToDF\u001b[39m"
      ]
     },
     "execution_count": 5,
     "metadata": {},
     "output_type": "execute_result"
    }
   ],
   "source": [
    "//Lanzar llamada y obtener guardar datos\n",
    "def getDataApi(apiUrl: String): Either[String, String] = {\n",
    " \n",
    "    val newRequest = basicRequest.get(uri\"$apiUrl\")\n",
    "    val response = newRequest.send()\n",
    "  \n",
    "  response.body match {\n",
    "    case Right(body) => \n",
    "      Right(body)\n",
    "      \n",
    "    case Left(error) => \n",
    "      Left(s\"Error fetching data: $error\")\n",
    "  }\n",
    "}\n",
    "\n",
    "// Transformar response a DataFrame\n",
    "def responseToDF(response: Either[String, String]): DataFrame = {\n",
    "    response match {\n",
    "    case Right(body) => \n",
    "        val rdd = spark.sparkContext.parallelize(Seq(body))\n",
    "        spark.read.json(rdd)\n",
    "    case Left(error) => \n",
    "        println(error)\n",
    "        spark.emptyDataFrame\n",
    "    }\n",
    "}\n",
    "\n"
   ]
  },
  {
   "cell_type": "code",
   "execution_count": 6,
   "metadata": {},
   "outputs": [
    {
     "data": {
      "text/plain": [
       "\u001b[36mlistBalnaceJson\u001b[39m: \u001b[32mcollection\u001b[39m.\u001b[32mimmutable\u001b[39m.\u001b[32mIndexedSeq\u001b[39m[\u001b[32mEither\u001b[39m[\u001b[32mString\u001b[39m, \u001b[32mString\u001b[39m]] = \u001b[33mVector\u001b[39m(\n",
       "  \u001b[33mRight\u001b[39m(\n",
       "    \u001b[32m\"{\\\"data\\\":{\\\"type\\\":\\\"Balance de energ\\\\u00eda el\\\\u00e9ctrica\\\",\\\"id\\\":\\\"bal1\\\",\\\"attributes\\\":{\\\"title\\\":\\\"Balance de energ\\\\u00eda el\\\\u00e9ctrica\\\",\\\"last-update\\\":\\\"2019-06-12T15:32:24.000+02:00\\\",\\\"description\\\":\\\"Balance el\\\\u00e9ctrico: asignaci\\\\u00f3n de unidades de producci\\\\u00f3n seg\\\\u00fan combustible principal. La producci\\\\u00f3n neta de las instalaciones no renovables e hidr\\\\u00e1ulicas UGH tiene descontados los consumos propios de las instalaciones. En dichos tipos de producci\\\\u00f3n una generaci\\\\u00f3n negativa indica que la electricidad horaria consumida para los usos de las plantas excede la producci\\\\u00f3n horaria de las instalaciones.\\\"},\\\"meta\\\":{\\\"cache-control\\\":{\\\"cache\\\":\\\"HIT\\\",\\\"expireAt\\\":\\\"2024-10-25T12:45:18\\\"}}},\\\"included\\\":[{\\\"type\\\":\\\"Renovable\\\",\\\"id\\\":\\\"Renovable\\\",\\\"attributes\\\":{\\\"title\\\":\\\"Renovable\\\",\\\"last-update\\\":\\\"2019-06-12T15:32:24.000+02:00\\\",\\\"description\\\":null,\\\"magnitude\\\":null,\\\"content\\\":[{\\\"type\\\":\\\"Hidr\\\\u00e1ulica\\\",\\\"id\\\":\\\"10288\\\",\\\"groupId\\\":\\\"Renovable\\\",\\\"attributes\\\":{\\\"title\\\":\\\"Hidr\\\\u00e1ulica\\\",\\\"description\\\":\\\"10288\\\",\\\"color\\\":\\\"#0090d1\\\",\\\"type\\\":\\\"distinct\\\",\\\"magnitude\\\":null,\\\"composite\\\":false,\\\"last-update\\\":\\\"2019-06-12T15:32:24.000+02:00\\\",\\\"values\\\":[{\\\"value\\\":132922.642,\\\"percentage\\\":0.730243950800116,\\\"datetime\\\":\\\"2011-01-01T00:00:00.000+01:00\\\"},{\\\"value\\\":122475.16,\\\"percentage\\\":0.46094258667156873,\\\"datetime\\\":\\\"2011-01-02T00:00:00.000+01:00\\\"},{\\\"value\\\":146861.638,\\\"percentage\\\":0.5886483989680635,\\\"datetime\\\":\\\"2011-01-03T00:00:00.000+01:00\\\"},{\\\"value\\\":145876.053,\\\"percentage\\\":0.5383243444180309,\\\"datetime\\\":\\\"2011-01-04T00:00:00.000+01:00\\\"},{\\\"value\\\":158946.134,\\\"percentage\\\":0.4184631870402314,\\\"datetime\\\":\\\"2011-01-05T00:00:00.000+01:00\\\"},{\\\"value\\\":113777.357,\\\"percentage\\\":0.29923830274025337,\\\"datetime\\\":\\\"2011-01-06T00:00:00.000+01:00\\\"},{\\\"value\\\":152748.931,\\\"percentage\\\":0.36525049561820255,\\\"datetime\\\":\\\"2011-01-07T00:00:00.000+01:00\\\"},{\\\"value\\\":168621.592,\\\"percentage\\\":0.4063542916264002,\\\"datetime\\\":\\\"2011-01-08T00:00:00.000+01:00\\\"},{\\\"value\\\":204595.949,\\\"percentage\\\":0.6677969675088523,\\\"datetime\\\":\\\"2011-01-09T00:00:00.000+01:00\\\"},{\\\"value\\\":197918.309,\\\"percentage\\\":0.5292746178977729,\\\"datetime\\\":\\\"2011-01-10T00:00:00.000+01:00\\\"},{\\\"value\\\":185025.871,\\\"percentage\\\":0.4275335480085034,\\\"datetime\\\":\\\"2011-01-11T00:00:00.000+01:00\\\"},{\\\"value\\\":202143.83,\\\"percentage\\\":0.5432800330327566,\\\"datetime\\\":\\\"2011-01-12T00:00:00.000+01:00\\\"},{\\\"value\\\":201526.893,\\\"percentage\\\":0.6730856002135737,\\\"datetime\\\":\\\"2011-01-13T00:00:00.000+01:00\\\"},{\\\"value\\\":206585.314,\\\"percentage\\\":0.6907756515684157,\\\"datetime\\\":\\\"2011-01-14T00:00:00.000+01:00\\\"},{\\\"value\\\":193344.5,\\\"percentage\\\":0.6817837714911318,\\\"datetime\\\":\\\"2011-01-15T00:00:00.000+01:00\\\"},{\\\"value\\\":178296.178,\\\"percentage\\\":0.6001895144906728,\\\"datetime\\\":\\\"2011-01-16T00:00:00.000+01:00\\\"},{\\\"value\\\":194387.868,\\\"percentage\\\":0\u001b[39m..."
      ]
     },
     "execution_count": 6,
     "metadata": {},
     "output_type": "execute_result"
    }
   ],
   "source": [
    "val listBalanceJson = urisRango.map(getDataApi(_))"
   ]
  },
  {
   "cell_type": "markdown",
   "metadata": {},
   "source": [
    "### Trafomración datos\n",
    "\n",
    "La función **transformDataFrame** transforma el Dataframe optenido directamente de JSON en un formato más estructurado. \n",
    "Desanida los datos originales, extrayendo columnas relevantes como \"Familia\", \"Tipo\", \"FechaCompleta\", \"Porcentaje\" y \"Valor\". \n",
    "Luego, añade columnas adicionales para la fecha, hora y una etiqueta BajasEmisiones, que indica si el tipo de energía pertenece a un grupo de bajas emisiones previamente definido."
   ]
  },
  {
   "cell_type": "code",
   "execution_count": 8,
   "metadata": {},
   "outputs": [
    {
     "data": {
      "text/plain": [
       "defined \u001b[32mfunction\u001b[39m \u001b[36mtransformDataFrame\u001b[39m"
      ]
     },
     "execution_count": 8,
     "metadata": {},
     "output_type": "execute_result"
    }
   ],
   "source": [
    "def transformDataFrame(df: DataFrame): DataFrame = {\n",
    "    // Definir los tipos de energía de bajas emisiones\n",
    "    val bajasEmisiones = Seq(\n",
    "    \"Solar fotovoltaica\", \n",
    "    \"Solar térmica\", \n",
    "    \"Nuclear\", \n",
    "    \"Hidroeólica\", \n",
    "    \"Eólica\", \n",
    "    \"Generación renovable\", \n",
    "    \"Otras renovables\",\n",
    "    \"Hidráulica\", \n",
    "    \"Residuos renovables\"\n",
    "  )\n",
    "    //Crear modelo desanidado\n",
    "   df.withColumn(\"FamilyGroup\", explode($\"included\"))\n",
    "    .withColumn(\"TypeGroup\", explode($\"FamilyGroup.attributes.content\"))\n",
    "    .withColumn(\"Values\", explode($\"TypeGroup.attributes.values\"))\n",
    "    .select(\n",
    "      $\"FamilyGroup.type\".as(\"Familia\"),\n",
    "      $\"TypeGroup.type\".as(\"Tipo\"),\n",
    "      $\"Values.datetime\".as(\"FechaCompleta\"), \n",
    "      $\"Values.percentage\".as(\"Porcentaje\"),\n",
    "      $\"Values.value\".as(\"Valor\")\n",
    "    )\n",
    "    .withColumn(\"FechaCompleta\", $\"FechaCompleta\".cast(\"timestamp\"))\n",
    "    .withColumn(\"BajasEmisiones\", $\"Tipo\".isin(bajasEmisiones: _*))\n",
    "}"
   ]
  },
  {
   "cell_type": "code",
   "execution_count": 7,
   "metadata": {},
   "outputs": [
    {
     "data": {
      "text/html": [
       "<script>\n",
       "var comm = Jupyter.notebook.kernel.comm_manager.new_comm('cancel-stage-d769e4fc-f789-411e-a23c-acbb45f57842', {});\n",
       "\n",
       "function cancelStage(stageId) {\n",
       "  console.log('Cancelling stage ' + stageId);\n",
       "  comm.send({ 'stageId': stageId });\n",
       "}\n",
       "</script>\n",
       "          "
      ]
     },
     "metadata": {},
     "output_type": "display_data"
    },
    {
     "data": {
      "text/html": [
       "<div>\n",
       "  <span style=\"float: left;\">json at cmd1.sc:52</span>\n",
       "</div>\n"
      ]
     },
     "metadata": {},
     "output_type": "display_data"
    },
    {
     "data": {
      "text/html": [
       "<div class=\"progress\">\n",
       "  <div class=\"progress-bar\" role=\"progressbar\" style=\"background-color: blue; width: 100%; word-wrap: normal; white-space: nowrap; text-align: center; color: white\" aria-valuenow=\"100\" aria-valuemin=\"0\" aria-valuemax=\"100\">\n",
       "    16 / 16\n",
       "  </div>\n",
       "  <div class=\"progress-bar\" role=\"progressbar\" style=\"background-color: red; width: 0%\" aria-valuenow=\"0\" aria-valuemin=\"0\" aria-valuemax=\"100\"></div>\n",
       "</div>\n"
      ]
     },
     "metadata": {},
     "output_type": "display_data"
    },
    {
     "data": {
      "text/html": [
       "<div>\n",
       "  <span style=\"float: left;\">json at cmd1.sc:52</span>\n",
       "</div>\n"
      ]
     },
     "metadata": {},
     "output_type": "display_data"
    },
    {
     "data": {
      "text/html": [
       "<div class=\"progress\">\n",
       "  <div class=\"progress-bar\" role=\"progressbar\" style=\"background-color: blue; width: 100%; word-wrap: normal; white-space: nowrap; text-align: center; color: white\" aria-valuenow=\"100\" aria-valuemin=\"0\" aria-valuemax=\"100\">\n",
       "    16 / 16\n",
       "  </div>\n",
       "  <div class=\"progress-bar\" role=\"progressbar\" style=\"background-color: red; width: 0%\" aria-valuenow=\"0\" aria-valuemin=\"0\" aria-valuemax=\"100\"></div>\n",
       "</div>\n"
      ]
     },
     "metadata": {},
     "output_type": "display_data"
    },
    {
     "data": {
      "text/html": [
       "<div>\n",
       "  <span style=\"float: left;\">json at cmd1.sc:52</span>\n",
       "</div>\n"
      ]
     },
     "metadata": {},
     "output_type": "display_data"
    },
    {
     "data": {
      "text/html": [
       "<div class=\"progress\">\n",
       "  <div class=\"progress-bar\" role=\"progressbar\" style=\"background-color: blue; width: 100%; word-wrap: normal; white-space: nowrap; text-align: center; color: white\" aria-valuenow=\"100\" aria-valuemin=\"0\" aria-valuemax=\"100\">\n",
       "    16 / 16\n",
       "  </div>\n",
       "  <div class=\"progress-bar\" role=\"progressbar\" style=\"background-color: red; width: 0%\" aria-valuenow=\"0\" aria-valuemin=\"0\" aria-valuemax=\"100\"></div>\n",
       "</div>\n"
      ]
     },
     "metadata": {},
     "output_type": "display_data"
    },
    {
     "data": {
      "text/html": [
       "<div>\n",
       "  <span style=\"float: left;\">json at cmd1.sc:52</span>\n",
       "</div>\n"
      ]
     },
     "metadata": {},
     "output_type": "display_data"
    },
    {
     "data": {
      "text/html": [
       "<div class=\"progress\">\n",
       "  <div class=\"progress-bar\" role=\"progressbar\" style=\"background-color: blue; width: 100%; word-wrap: normal; white-space: nowrap; text-align: center; color: white\" aria-valuenow=\"100\" aria-valuemin=\"0\" aria-valuemax=\"100\">\n",
       "    16 / 16\n",
       "  </div>\n",
       "  <div class=\"progress-bar\" role=\"progressbar\" style=\"background-color: red; width: 0%\" aria-valuenow=\"0\" aria-valuemin=\"0\" aria-valuemax=\"100\"></div>\n",
       "</div>\n"
      ]
     },
     "metadata": {},
     "output_type": "display_data"
    },
    {
     "data": {
      "text/html": [
       "<div>\n",
       "  <span style=\"float: left;\">json at cmd1.sc:52</span>\n",
       "</div>\n"
      ]
     },
     "metadata": {},
     "output_type": "display_data"
    },
    {
     "data": {
      "text/html": [
       "<div class=\"progress\">\n",
       "  <div class=\"progress-bar\" role=\"progressbar\" style=\"background-color: blue; width: 100%; word-wrap: normal; white-space: nowrap; text-align: center; color: white\" aria-valuenow=\"100\" aria-valuemin=\"0\" aria-valuemax=\"100\">\n",
       "    16 / 16\n",
       "  </div>\n",
       "  <div class=\"progress-bar\" role=\"progressbar\" style=\"background-color: red; width: 0%\" aria-valuenow=\"0\" aria-valuemin=\"0\" aria-valuemax=\"100\"></div>\n",
       "</div>\n"
      ]
     },
     "metadata": {},
     "output_type": "display_data"
    },
    {
     "data": {
      "text/html": [
       "<div>\n",
       "  <span style=\"float: left;\">json at cmd1.sc:52</span>\n",
       "</div>\n"
      ]
     },
     "metadata": {},
     "output_type": "display_data"
    },
    {
     "data": {
      "text/html": [
       "<div class=\"progress\">\n",
       "  <div class=\"progress-bar\" role=\"progressbar\" style=\"background-color: blue; width: 100%; word-wrap: normal; white-space: nowrap; text-align: center; color: white\" aria-valuenow=\"100\" aria-valuemin=\"0\" aria-valuemax=\"100\">\n",
       "    16 / 16\n",
       "  </div>\n",
       "  <div class=\"progress-bar\" role=\"progressbar\" style=\"background-color: red; width: 0%\" aria-valuenow=\"0\" aria-valuemin=\"0\" aria-valuemax=\"100\"></div>\n",
       "</div>\n"
      ]
     },
     "metadata": {},
     "output_type": "display_data"
    },
    {
     "data": {
      "text/html": [
       "<div>\n",
       "  <span style=\"float: left;\">json at cmd1.sc:52</span>\n",
       "</div>\n"
      ]
     },
     "metadata": {},
     "output_type": "display_data"
    },
    {
     "data": {
      "text/html": [
       "<div class=\"progress\">\n",
       "  <div class=\"progress-bar\" role=\"progressbar\" style=\"background-color: blue; width: 100%; word-wrap: normal; white-space: nowrap; text-align: center; color: white\" aria-valuenow=\"100\" aria-valuemin=\"0\" aria-valuemax=\"100\">\n",
       "    16 / 16\n",
       "  </div>\n",
       "  <div class=\"progress-bar\" role=\"progressbar\" style=\"background-color: red; width: 0%\" aria-valuenow=\"0\" aria-valuemin=\"0\" aria-valuemax=\"100\"></div>\n",
       "</div>\n"
      ]
     },
     "metadata": {},
     "output_type": "display_data"
    },
    {
     "data": {
      "text/html": [
       "<div>\n",
       "  <span style=\"float: left;\">json at cmd1.sc:52</span>\n",
       "</div>\n"
      ]
     },
     "metadata": {},
     "output_type": "display_data"
    },
    {
     "data": {
      "text/html": [
       "<div class=\"progress\">\n",
       "  <div class=\"progress-bar\" role=\"progressbar\" style=\"background-color: blue; width: 100%; word-wrap: normal; white-space: nowrap; text-align: center; color: white\" aria-valuenow=\"100\" aria-valuemin=\"0\" aria-valuemax=\"100\">\n",
       "    16 / 16\n",
       "  </div>\n",
       "  <div class=\"progress-bar\" role=\"progressbar\" style=\"background-color: red; width: 0%\" aria-valuenow=\"0\" aria-valuemin=\"0\" aria-valuemax=\"100\"></div>\n",
       "</div>\n"
      ]
     },
     "metadata": {},
     "output_type": "display_data"
    },
    {
     "data": {
      "text/html": [
       "<div>\n",
       "  <span style=\"float: left;\">json at cmd1.sc:52</span>\n",
       "</div>\n"
      ]
     },
     "metadata": {},
     "output_type": "display_data"
    },
    {
     "data": {
      "text/html": [
       "<div class=\"progress\">\n",
       "  <div class=\"progress-bar\" role=\"progressbar\" style=\"background-color: blue; width: 100%; word-wrap: normal; white-space: nowrap; text-align: center; color: white\" aria-valuenow=\"100\" aria-valuemin=\"0\" aria-valuemax=\"100\">\n",
       "    16 / 16\n",
       "  </div>\n",
       "  <div class=\"progress-bar\" role=\"progressbar\" style=\"background-color: red; width: 0%\" aria-valuenow=\"0\" aria-valuemin=\"0\" aria-valuemax=\"100\"></div>\n",
       "</div>\n"
      ]
     },
     "metadata": {},
     "output_type": "display_data"
    },
    {
     "data": {
      "text/html": [
       "<div>\n",
       "  <span style=\"float: left;\">json at cmd1.sc:52</span>\n",
       "</div>\n"
      ]
     },
     "metadata": {},
     "output_type": "display_data"
    },
    {
     "data": {
      "text/html": [
       "<div class=\"progress\">\n",
       "  <div class=\"progress-bar\" role=\"progressbar\" style=\"background-color: blue; width: 100%; word-wrap: normal; white-space: nowrap; text-align: center; color: white\" aria-valuenow=\"100\" aria-valuemin=\"0\" aria-valuemax=\"100\">\n",
       "    16 / 16\n",
       "  </div>\n",
       "  <div class=\"progress-bar\" role=\"progressbar\" style=\"background-color: red; width: 0%\" aria-valuenow=\"0\" aria-valuemin=\"0\" aria-valuemax=\"100\"></div>\n",
       "</div>\n"
      ]
     },
     "metadata": {},
     "output_type": "display_data"
    },
    {
     "data": {
      "text/html": [
       "<div>\n",
       "  <span style=\"float: left;\">json at cmd1.sc:52</span>\n",
       "</div>\n"
      ]
     },
     "metadata": {},
     "output_type": "display_data"
    },
    {
     "data": {
      "text/html": [
       "<div class=\"progress\">\n",
       "  <div class=\"progress-bar\" role=\"progressbar\" style=\"background-color: blue; width: 100%; word-wrap: normal; white-space: nowrap; text-align: center; color: white\" aria-valuenow=\"100\" aria-valuemin=\"0\" aria-valuemax=\"100\">\n",
       "    16 / 16\n",
       "  </div>\n",
       "  <div class=\"progress-bar\" role=\"progressbar\" style=\"background-color: red; width: 0%\" aria-valuenow=\"0\" aria-valuemin=\"0\" aria-valuemax=\"100\"></div>\n",
       "</div>\n"
      ]
     },
     "metadata": {},
     "output_type": "display_data"
    },
    {
     "data": {
      "text/html": [
       "<div>\n",
       "  <span style=\"float: left;\">json at cmd1.sc:52</span>\n",
       "</div>\n"
      ]
     },
     "metadata": {},
     "output_type": "display_data"
    },
    {
     "data": {
      "text/html": [
       "<div class=\"progress\">\n",
       "  <div class=\"progress-bar\" role=\"progressbar\" style=\"background-color: blue; width: 100%; word-wrap: normal; white-space: nowrap; text-align: center; color: white\" aria-valuenow=\"100\" aria-valuemin=\"0\" aria-valuemax=\"100\">\n",
       "    16 / 16\n",
       "  </div>\n",
       "  <div class=\"progress-bar\" role=\"progressbar\" style=\"background-color: red; width: 0%\" aria-valuenow=\"0\" aria-valuemin=\"0\" aria-valuemax=\"100\"></div>\n",
       "</div>\n"
      ]
     },
     "metadata": {},
     "output_type": "display_data"
    },
    {
     "data": {
      "text/html": [
       "<div>\n",
       "  <span style=\"float: left;\">json at cmd1.sc:52</span>\n",
       "</div>\n"
      ]
     },
     "metadata": {},
     "output_type": "display_data"
    },
    {
     "data": {
      "text/html": [
       "<div class=\"progress\">\n",
       "  <div class=\"progress-bar\" role=\"progressbar\" style=\"background-color: blue; width: 100%; word-wrap: normal; white-space: nowrap; text-align: center; color: white\" aria-valuenow=\"100\" aria-valuemin=\"0\" aria-valuemax=\"100\">\n",
       "    16 / 16\n",
       "  </div>\n",
       "  <div class=\"progress-bar\" role=\"progressbar\" style=\"background-color: red; width: 0%\" aria-valuenow=\"0\" aria-valuemin=\"0\" aria-valuemax=\"100\"></div>\n",
       "</div>\n"
      ]
     },
     "metadata": {},
     "output_type": "display_data"
    },
    {
     "data": {
      "text/html": [
       "<div>\n",
       "  <span style=\"float: left;\">json at cmd1.sc:52</span>\n",
       "</div>\n"
      ]
     },
     "metadata": {},
     "output_type": "display_data"
    },
    {
     "data": {
      "text/html": [
       "<div class=\"progress\">\n",
       "  <div class=\"progress-bar\" role=\"progressbar\" style=\"background-color: blue; width: 100%; word-wrap: normal; white-space: nowrap; text-align: center; color: white\" aria-valuenow=\"100\" aria-valuemin=\"0\" aria-valuemax=\"100\">\n",
       "    16 / 16\n",
       "  </div>\n",
       "  <div class=\"progress-bar\" role=\"progressbar\" style=\"background-color: red; width: 0%\" aria-valuenow=\"0\" aria-valuemin=\"0\" aria-valuemax=\"100\"></div>\n",
       "</div>\n"
      ]
     },
     "metadata": {},
     "output_type": "display_data"
    },
    {
     "data": {
      "text/plain": [
       "\u001b[36mlistModelsBalance\u001b[39m: \u001b[32mcollection\u001b[39m.\u001b[32mimmutable\u001b[39m.\u001b[32mIndexedSeq\u001b[39m[\u001b[32mDataFrame\u001b[39m] = \u001b[33mVector\u001b[39m(\n",
       "  [Familia: string, Tipo: string ... 6 more fields],\n",
       "  [Familia: string, Tipo: string ... 6 more fields],\n",
       "  [Familia: string, Tipo: string ... 6 more fields],\n",
       "  [Familia: string, Tipo: string ... 6 more fields],\n",
       "  [Familia: string, Tipo: string ... 6 more fields],\n",
       "  [Familia: string, Tipo: string ... 6 more fields],\n",
       "  [Familia: string, Tipo: string ... 6 more fields],\n",
       "  [Familia: string, Tipo: string ... 6 more fields],\n",
       "  [Familia: string, Tipo: string ... 6 more fields],\n",
       "  [Familia: string, Tipo: string ... 6 more fields],\n",
       "  [Familia: string, Tipo: string ... 6 more fields],\n",
       "  [Familia: string, Tipo: string ... 6 more fields],\n",
       "  [Familia: string, Tipo: string ... 6 more fields],\n",
       "  [Familia: string, Tipo: string ... 6 more fields]\n",
       ")\n",
       "\u001b[36mmodelBalance\u001b[39m: \u001b[32mDataFrame\u001b[39m = [Familia: string, Tipo: string ... 6 more fields]"
      ]
     },
     "execution_count": 7,
     "metadata": {},
     "output_type": "execute_result"
    }
   ],
   "source": [
    "val listModelsBalance = listBalnaceJson.map{\n",
    "    json => transformDataFrame(responseToDF(json))\n",
    "}\n",
    "val modelBalance = listModelsBalance.reduce(_ union _)"
   ]
  },
  {
   "cell_type": "code",
   "execution_count": 8,
   "metadata": {},
   "outputs": [
    {
     "ename": "",
     "evalue": "",
     "output_type": "error",
     "traceback": [
      "\u001b[31morg.apache.spark.sql.AnalysisException: path file:/home/jovyan/work/notebooks/data/modelosCsv/datasetTotalBalanceNacional11-24.csv already exists.;\u001b[39m\n  org.apache.spark.sql.execution.datasources.InsertIntoHadoopFsRelationCommand.run(\u001b[32mInsertIntoHadoopFsRelationCommand.scala\u001b[39m:\u001b[32m114\u001b[39m)\n  org.apache.spark.sql.execution.command.DataWritingCommandExec.sideEffectResult$lzycompute(\u001b[32mcommands.scala\u001b[39m:\u001b[32m104\u001b[39m)\n  org.apache.spark.sql.execution.command.DataWritingCommandExec.sideEffectResult(\u001b[32mcommands.scala\u001b[39m:\u001b[32m102\u001b[39m)\n  org.apache.spark.sql.execution.command.DataWritingCommandExec.doExecute(\u001b[32mcommands.scala\u001b[39m:\u001b[32m122\u001b[39m)\n  org.apache.spark.sql.execution.SparkPlan.$anonfun$execute$1(\u001b[32mSparkPlan.scala\u001b[39m:\u001b[32m131\u001b[39m)\n  org.apache.spark.sql.execution.SparkPlan.$anonfun$executeQuery$1(\u001b[32mSparkPlan.scala\u001b[39m:\u001b[32m155\u001b[39m)\n  org.apache.spark.rdd.RDDOperationScope$.withScope(\u001b[32mRDDOperationScope.scala\u001b[39m:\u001b[32m151\u001b[39m)\n  org.apache.spark.sql.execution.SparkPlan.executeQuery(\u001b[32mSparkPlan.scala\u001b[39m:\u001b[32m152\u001b[39m)\n  org.apache.spark.sql.execution.SparkPlan.execute(\u001b[32mSparkPlan.scala\u001b[39m:\u001b[32m127\u001b[39m)\n  org.apache.spark.sql.execution.QueryExecution.toRdd$lzycompute(\u001b[32mQueryExecution.scala\u001b[39m:\u001b[32m80\u001b[39m)\n  org.apache.spark.sql.execution.QueryExecution.toRdd(\u001b[32mQueryExecution.scala\u001b[39m:\u001b[32m80\u001b[39m)\n  org.apache.spark.sql.DataFrameWriter.$anonfun$runCommand$1(\u001b[32mDataFrameWriter.scala\u001b[39m:\u001b[32m676\u001b[39m)\n  org.apache.spark.sql.execution.SQLExecution$.$anonfun$withNewExecutionId$1(\u001b[32mSQLExecution.scala\u001b[39m:\u001b[32m78\u001b[39m)\n  org.apache.spark.sql.execution.SQLExecution$.withSQLConfPropagated(\u001b[32mSQLExecution.scala\u001b[39m:\u001b[32m125\u001b[39m)\n  org.apache.spark.sql.execution.SQLExecution$.withNewExecutionId(\u001b[32mSQLExecution.scala\u001b[39m:\u001b[32m73\u001b[39m)\n  org.apache.spark.sql.DataFrameWriter.runCommand(\u001b[32mDataFrameWriter.scala\u001b[39m:\u001b[32m676\u001b[39m)\n  org.apache.spark.sql.DataFrameWriter.saveToV1Source(\u001b[32mDataFrameWriter.scala\u001b[39m:\u001b[32m290\u001b[39m)\n  org.apache.spark.sql.DataFrameWriter.save(\u001b[32mDataFrameWriter.scala\u001b[39m:\u001b[32m271\u001b[39m)\n  org.apache.spark.sql.DataFrameWriter.save(\u001b[32mDataFrameWriter.scala\u001b[39m:\u001b[32m229\u001b[39m)\n  org.apache.spark.sql.DataFrameWriter.csv(\u001b[32mDataFrameWriter.scala\u001b[39m:\u001b[32m664\u001b[39m)\n  ammonite.$sess.cmd7$Helper.<init>(\u001b[32mcmd7.sc\u001b[39m:\u001b[32m3\u001b[39m)\n  ammonite.$sess.cmd7$.<init>(\u001b[32mcmd7.sc\u001b[39m:\u001b[32m7\u001b[39m)\n  ammonite.$sess.cmd7$.<clinit>(\u001b[32mcmd7.sc\u001b[39m:\u001b[32m-1\u001b[39m)"
     ]
    }
   ],
   "source": [
    "modelBalance.coalesce(1).write\n",
    "  .option(\"header\", \"true\")\n",
    "  .csv(\"data/modelosCsv/datasetTotalBalanceNacional11-24.csv\")"
   ]
  },
  {
   "cell_type": "code",
   "execution_count": 9,
   "metadata": {},
   "outputs": [
    {
     "data": {
      "text/html": [
       "<div>\n",
       "  <span style=\"float: left;\">show at cmd8.sc:1</span>\n",
       "</div>\n"
      ]
     },
     "metadata": {},
     "output_type": "display_data"
    },
    {
     "data": {
      "text/html": [
       "<div class=\"progress\">\n",
       "  <div class=\"progress-bar\" role=\"progressbar\" style=\"background-color: blue; width: 100%; word-wrap: normal; white-space: nowrap; text-align: center; color: white\" aria-valuenow=\"100\" aria-valuemin=\"0\" aria-valuemax=\"100\">\n",
       "    1 / 1\n",
       "  </div>\n",
       "  <div class=\"progress-bar\" role=\"progressbar\" style=\"background-color: red; width: 0%\" aria-valuenow=\"0\" aria-valuemin=\"0\" aria-valuemax=\"100\"></div>\n",
       "</div>\n"
      ]
     },
     "metadata": {},
     "output_type": "display_data"
    },
    {
     "data": {
      "text/html": [
       "<div>\n",
       "  <span style=\"float: left;\">show at cmd8.sc:1</span>\n",
       "</div>\n"
      ]
     },
     "metadata": {},
     "output_type": "display_data"
    },
    {
     "data": {
      "text/html": [
       "<div class=\"progress\">\n",
       "  <div class=\"progress-bar\" role=\"progressbar\" style=\"background-color: blue; width: 100%; word-wrap: normal; white-space: nowrap; text-align: center; color: white\" aria-valuenow=\"100\" aria-valuemin=\"0\" aria-valuemax=\"100\">\n",
       "    4 / 4\n",
       "  </div>\n",
       "  <div class=\"progress-bar\" role=\"progressbar\" style=\"background-color: red; width: 0%\" aria-valuenow=\"0\" aria-valuemin=\"0\" aria-valuemax=\"100\"></div>\n",
       "</div>\n"
      ]
     },
     "metadata": {},
     "output_type": "display_data"
    },
    {
     "data": {
      "text/html": [
       "<div>\n",
       "  <span style=\"float: left;\">show at cmd8.sc:1</span>\n",
       "</div>\n"
      ]
     },
     "metadata": {},
     "output_type": "display_data"
    },
    {
     "data": {
      "text/html": [
       "<div class=\"progress\">\n",
       "  <div class=\"progress-bar\" role=\"progressbar\" style=\"background-color: blue; width: 100%; word-wrap: normal; white-space: nowrap; text-align: center; color: white\" aria-valuenow=\"100\" aria-valuemin=\"0\" aria-valuemax=\"100\">\n",
       "    20 / 20\n",
       "  </div>\n",
       "  <div class=\"progress-bar\" role=\"progressbar\" style=\"background-color: red; width: 0%\" aria-valuenow=\"0\" aria-valuemin=\"0\" aria-valuemax=\"100\"></div>\n",
       "</div>\n"
      ]
     },
     "metadata": {},
     "output_type": "display_data"
    },
    {
     "name": "stdout",
     "output_type": "stream",
     "text": [
      "+---------+----------+-------------------+-------------------+----------+----------+--------+--------------+\n",
      "|  Familia|      Tipo|      FechaCompleta|         Porcentaje|     Valor|       Dia|    Hora|BajasEmisiones|\n",
      "+---------+----------+-------------------+-------------------+----------+----------+--------+--------------+\n",
      "|Renovable|Hidráulica|2010-12-31 23:00:00|  0.730243950800116|132922.642|2010-12-31|23:00:00|          true|\n",
      "|Renovable|Hidráulica|2011-01-01 23:00:00|0.46094258667156873| 122475.16|2011-01-01|23:00:00|          true|\n",
      "|Renovable|Hidráulica|2011-01-02 23:00:00| 0.5886483989680635|146861.638|2011-01-02|23:00:00|          true|\n",
      "|Renovable|Hidráulica|2011-01-03 23:00:00| 0.5383243444180309|145876.053|2011-01-03|23:00:00|          true|\n",
      "|Renovable|Hidráulica|2011-01-04 23:00:00| 0.4184631870402314|158946.134|2011-01-04|23:00:00|          true|\n",
      "|Renovable|Hidráulica|2011-01-05 23:00:00|0.29923830274025337|113777.357|2011-01-05|23:00:00|          true|\n",
      "|Renovable|Hidráulica|2011-01-06 23:00:00|0.36525049561820255|152748.931|2011-01-06|23:00:00|          true|\n",
      "|Renovable|Hidráulica|2011-01-07 23:00:00| 0.4063542916264002|168621.592|2011-01-07|23:00:00|          true|\n",
      "|Renovable|Hidráulica|2011-01-08 23:00:00| 0.6677969675088523|204595.949|2011-01-08|23:00:00|          true|\n",
      "|Renovable|Hidráulica|2011-01-09 23:00:00| 0.5292746178977729|197918.309|2011-01-09|23:00:00|          true|\n",
      "|Renovable|Hidráulica|2011-01-10 23:00:00| 0.4275335480085034|185025.871|2011-01-10|23:00:00|          true|\n",
      "|Renovable|Hidráulica|2011-01-11 23:00:00| 0.5432800330327566| 202143.83|2011-01-11|23:00:00|          true|\n",
      "|Renovable|Hidráulica|2011-01-12 23:00:00| 0.6730856002135737|201526.893|2011-01-12|23:00:00|          true|\n",
      "|Renovable|Hidráulica|2011-01-13 23:00:00| 0.6907756515684157|206585.314|2011-01-13|23:00:00|          true|\n",
      "|Renovable|Hidráulica|2011-01-14 23:00:00| 0.6817837714911318|  193344.5|2011-01-14|23:00:00|          true|\n",
      "|Renovable|Hidráulica|2011-01-15 23:00:00| 0.6001895144906728|178296.178|2011-01-15|23:00:00|          true|\n",
      "|Renovable|Hidráulica|2011-01-16 23:00:00|  0.721688334848794|194387.868|2011-01-16|23:00:00|          true|\n",
      "|Renovable|Hidráulica|2011-01-17 23:00:00| 0.7188238021297686|188743.329|2011-01-17|23:00:00|          true|\n",
      "|Renovable|Hidráulica|2011-01-18 23:00:00| 0.7127009066377713|177209.518|2011-01-18|23:00:00|          true|\n",
      "|Renovable|Hidráulica|2011-01-19 23:00:00| 0.5532415876036698| 170360.31|2011-01-19|23:00:00|          true|\n",
      "+---------+----------+-------------------+-------------------+----------+----------+--------+--------------+\n",
      "only showing top 20 rows\n",
      "\n"
     ]
    }
   ],
   "source": [
    "modelBalance.show()"
   ]
  },
  {
   "cell_type": "code",
   "execution_count": 11,
   "metadata": {},
   "outputs": [
    {
     "data": {
      "text/html": [
       "<div>\n",
       "  <span style=\"float: left;\">collect at cmd10.sc:1</span>\n",
       "</div>\n"
      ]
     },
     "metadata": {},
     "output_type": "display_data"
    },
    {
     "data": {
      "text/html": [
       "<div class=\"progress\">\n",
       "  <div class=\"progress-bar\" role=\"progressbar\" style=\"background-color: blue; width: 100%; word-wrap: normal; white-space: nowrap; text-align: center; color: white\" aria-valuenow=\"100\" aria-valuemin=\"0\" aria-valuemax=\"100\">\n",
       "    224 / 224\n",
       "  </div>\n",
       "  <div class=\"progress-bar\" role=\"progressbar\" style=\"background-color: red; width: 0%\" aria-valuenow=\"0\" aria-valuemin=\"0\" aria-valuemax=\"100\"></div>\n",
       "</div>\n"
      ]
     },
     "metadata": {},
     "output_type": "display_data"
    },
    {
     "data": {
      "text/html": [
       "<div>\n",
       "  <span style=\"float: left;\">collect at cmd10.sc:1</span>\n",
       "</div>\n"
      ]
     },
     "metadata": {},
     "output_type": "display_data"
    },
    {
     "data": {
      "text/html": [
       "<div class=\"progress\">\n",
       "  <div class=\"progress-bar\" role=\"progressbar\" style=\"background-color: blue; width: 100%; word-wrap: normal; white-space: nowrap; text-align: center; color: white\" aria-valuenow=\"100\" aria-valuemin=\"0\" aria-valuemax=\"100\">\n",
       "    200 / 200\n",
       "  </div>\n",
       "  <div class=\"progress-bar\" role=\"progressbar\" style=\"background-color: red; width: 0%\" aria-valuenow=\"0\" aria-valuemin=\"0\" aria-valuemax=\"100\"></div>\n",
       "</div>\n"
      ]
     },
     "metadata": {},
     "output_type": "display_data"
    },
    {
     "data": {
      "text/html": [
       "<div>\n",
       "  <span style=\"float: left;\">collect at cmd10.sc:1</span>\n",
       "</div>\n"
      ]
     },
     "metadata": {},
     "output_type": "display_data"
    },
    {
     "data": {
      "text/html": [
       "<div class=\"progress\">\n",
       "  <div class=\"progress-bar\" role=\"progressbar\" style=\"background-color: blue; width: 100%; word-wrap: normal; white-space: nowrap; text-align: center; color: white\" aria-valuenow=\"100\" aria-valuemin=\"0\" aria-valuemax=\"100\">\n",
       "    200 / 200\n",
       "  </div>\n",
       "  <div class=\"progress-bar\" role=\"progressbar\" style=\"background-color: red; width: 0%\" aria-valuenow=\"0\" aria-valuemin=\"0\" aria-valuemax=\"100\"></div>\n",
       "</div>\n"
      ]
     },
     "metadata": {},
     "output_type": "display_data"
    },
    {
     "data": {
      "text/html": [
       "<div>\n",
       "  <span style=\"float: left;\">collect at cmd10.sc:1</span>\n",
       "</div>\n"
      ]
     },
     "metadata": {},
     "output_type": "display_data"
    },
    {
     "data": {
      "text/html": [
       "<div class=\"progress\">\n",
       "  <div class=\"progress-bar\" role=\"progressbar\" style=\"background-color: blue; width: 100%; word-wrap: normal; white-space: nowrap; text-align: center; color: white\" aria-valuenow=\"100\" aria-valuemin=\"0\" aria-valuemax=\"100\">\n",
       "    15 / 15\n",
       "  </div>\n",
       "  <div class=\"progress-bar\" role=\"progressbar\" style=\"background-color: red; width: 0%\" aria-valuenow=\"0\" aria-valuemin=\"0\" aria-valuemax=\"100\"></div>\n",
       "</div>\n"
      ]
     },
     "metadata": {},
     "output_type": "display_data"
    },
    {
     "data": {
      "text/plain": [
       "\u001b[36mres10\u001b[39m: \u001b[32mArray\u001b[39m[\u001b[32mRow\u001b[39m] = \u001b[33mArray\u001b[39m(\n",
       "  [2010],\n",
       "  [2011],\n",
       "  [2012],\n",
       "  [2013],\n",
       "  [2014],\n",
       "  [2015],\n",
       "  [2016],\n",
       "  [2017],\n",
       "  [2018],\n",
       "  [2019],\n",
       "  [2020],\n",
       "  [2021],\n",
       "  [2022],\n",
       "  [2023],\n",
       "  [2024]\n",
       ")"
      ]
     },
     "execution_count": 11,
     "metadata": {},
     "output_type": "execute_result"
    }
   ],
   "source": [
    "años.collect()"
   ]
  },
  {
   "cell_type": "code",
   "execution_count": 19,
   "metadata": {},
   "outputs": [
    {
     "data": {
      "text/html": [
       "<div>\n",
       "  <span style=\"float: left;\">json at cmd18.sc:3</span>\n",
       "</div>\n"
      ]
     },
     "metadata": {},
     "output_type": "display_data"
    },
    {
     "data": {
      "text/html": [
       "<div class=\"progress\">\n",
       "  <div class=\"progress-bar\" role=\"progressbar\" style=\"background-color: blue; width: 100%; word-wrap: normal; white-space: nowrap; text-align: center; color: white\" aria-valuenow=\"100\" aria-valuemin=\"0\" aria-valuemax=\"100\">\n",
       "    16 / 16\n",
       "  </div>\n",
       "  <div class=\"progress-bar\" role=\"progressbar\" style=\"background-color: red; width: 0%\" aria-valuenow=\"0\" aria-valuemin=\"0\" aria-valuemax=\"100\"></div>\n",
       "</div>\n"
      ]
     },
     "metadata": {},
     "output_type": "display_data"
    },
    {
     "data": {
      "text/plain": [
       "\u001b[36mprueba\u001b[39m: \u001b[32mDataFrame\u001b[39m = [data: struct<attributes: struct<description: string, last-update: string ... 1 more field>, id: string ... 2 more fields>, included: array<struct<attributes:struct<content:array<struct<attributes:struct<color:string,composite:boolean,description:string,last-update:string,magnitude:string,title:string,total:double,type:string,values:array<struct<datetime:string,percentage:double,value:double>>>,groupId:string,id:string,type:string>>,description:string,last-update:string,magnitude:string,title:string>,id:string,type:string>>]\n",
       "defined \u001b[32mfunction\u001b[39m \u001b[36mresponseToDF\u001b[39m"
      ]
     },
     "execution_count": 19,
     "metadata": {},
     "output_type": "execute_result"
    }
   ],
   "source": [
    "val prueba = listBalnaceJson.head match {\n",
    "    case Right(body) => val primerjson = spark.sparkContext.parallelize(Seq(body))\n",
    "        spark.read.json(primerjson)\n",
    "    case Left(error) => \n",
    "        println(error)\n",
    "        spark.emptyDataFrame\n",
    "}\n",
    "\n",
    "def responseToDF(response: Either[String, String]): DataFrame = {\n",
    "    response match {\n",
    "    case Right(body) => \n",
    "        val rdd = spark.sparkContext.parallelize(Seq(body))\n",
    "        spark.read.json(rdd)\n",
    "    case Left(error) => \n",
    "        println(error)\n",
    "        spark.emptyDataFrame\n",
    "    }\n",
    "}"
   ]
  },
  {
   "cell_type": "code",
   "execution_count": 21,
   "metadata": {},
   "outputs": [
    {
     "name": "stdout",
     "output_type": "stream",
     "text": [
      "root\n",
      " |-- data: struct (nullable = true)\n",
      " |    |-- attributes: struct (nullable = true)\n",
      " |    |    |-- description: string (nullable = true)\n",
      " |    |    |-- last-update: string (nullable = true)\n",
      " |    |    |-- title: string (nullable = true)\n",
      " |    |-- id: string (nullable = true)\n",
      " |    |-- meta: struct (nullable = true)\n",
      " |    |    |-- cache-control: struct (nullable = true)\n",
      " |    |    |    |-- cache: string (nullable = true)\n",
      " |    |-- type: string (nullable = true)\n",
      " |-- included: array (nullable = true)\n",
      " |    |-- element: struct (containsNull = true)\n",
      " |    |    |-- attributes: struct (nullable = true)\n",
      " |    |    |    |-- content: array (nullable = true)\n",
      " |    |    |    |    |-- element: struct (containsNull = true)\n",
      " |    |    |    |    |    |-- attributes: struct (nullable = true)\n",
      " |    |    |    |    |    |    |-- color: string (nullable = true)\n",
      " |    |    |    |    |    |    |-- composite: boolean (nullable = true)\n",
      " |    |    |    |    |    |    |-- description: string (nullable = true)\n",
      " |    |    |    |    |    |    |-- last-update: string (nullable = true)\n",
      " |    |    |    |    |    |    |-- magnitude: string (nullable = true)\n",
      " |    |    |    |    |    |    |-- title: string (nullable = true)\n",
      " |    |    |    |    |    |    |-- total: double (nullable = true)\n",
      " |    |    |    |    |    |    |-- type: string (nullable = true)\n",
      " |    |    |    |    |    |    |-- values: array (nullable = true)\n",
      " |    |    |    |    |    |    |    |-- element: struct (containsNull = true)\n",
      " |    |    |    |    |    |    |    |    |-- datetime: string (nullable = true)\n",
      " |    |    |    |    |    |    |    |    |-- percentage: double (nullable = true)\n",
      " |    |    |    |    |    |    |    |    |-- value: double (nullable = true)\n",
      " |    |    |    |    |    |-- groupId: string (nullable = true)\n",
      " |    |    |    |    |    |-- id: string (nullable = true)\n",
      " |    |    |    |    |    |-- type: string (nullable = true)\n",
      " |    |    |    |-- description: string (nullable = true)\n",
      " |    |    |    |-- last-update: string (nullable = true)\n",
      " |    |    |    |-- magnitude: string (nullable = true)\n",
      " |    |    |    |-- title: string (nullable = true)\n",
      " |    |    |-- id: string (nullable = true)\n",
      " |    |    |-- type: string (nullable = true)\n",
      "\n"
     ]
    }
   ],
   "source": [
    "prueba.printSchema()"
   ]
  },
  {
   "cell_type": "code",
   "execution_count": null,
   "metadata": {},
   "outputs": [],
   "source": []
  }
 ],
 "metadata": {
  "kernelspec": {
   "display_name": "Scala 2.12",
   "language": "scala",
   "name": "scala212"
  },
  "language_info": {
   "codemirror_mode": "text/x-scala",
   "file_extension": ".scala",
   "mimetype": "text/x-scala",
   "name": "scala",
   "nbconvert_exporter": "script",
   "version": "2.12.10"
  }
 },
 "nbformat": 4,
 "nbformat_minor": 4
}
